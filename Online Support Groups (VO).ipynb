{
 "cells": [
  {
   "cell_type": "code",
   "execution_count": 0,
   "metadata": {
    "colab": {
     "base_uri": "https://localhost:8080/"
    },
    "colab_type": "code",
    "id": "9_D5FG0ztxTa",
    "outputId": "1878e509-65c5-4bf0-8419-523ed8a36683"
   },
   "outputs": [
    {
     "data": {
      "text/html": [
       "<div>\n",
       "<style scoped>\n",
       "    .dataframe tbody tr th:only-of-type {\n",
       "        vertical-align: middle;\n",
       "    }\n",
       "\n",
       "    .dataframe tbody tr th {\n",
       "        vertical-align: top;\n",
       "    }\n",
       "\n",
       "    .dataframe thead th {\n",
       "        text-align: right;\n",
       "    }\n",
       "</style>\n",
       "<table border=\"1\" class=\"dataframe\">\n",
       "  <thead>\n",
       "    <tr style=\"text-align: right;\">\n",
       "      <th></th>\n",
       "      <th>post_number</th>\n",
       "      <th>post_txt</th>\n",
       "      <th>groups</th>\n",
       "    </tr>\n",
       "  </thead>\n",
       "  <tbody>\n",
       "    <tr>\n",
       "      <th>0</th>\n",
       "      <td>621322</td>\n",
       "      <td>[year, old, revealed, weeks, ago, dad, loving, wonderful, husband, years, sexually, abusing, world, fallen, apart, many, weeks, therapy, iensive, investigations, become, clear]</td>\n",
       "      <td>Friends and Family of BPD</td>\n",
       "    </tr>\n",
       "    <tr>\n",
       "      <th>1</th>\n",
       "      <td>620965</td>\n",
       "      <td>[feel, trapped, helpless, husband, borderline, personality, disorder, well, lovely, caring, feeling, ill, emotionally, abuses, swears, blames, everything, tells, useless]</td>\n",
       "      <td>Friends and Family of BPD</td>\n",
       "    </tr>\n",
       "    <tr>\n",
       "      <th>2</th>\n",
       "      <td>618672</td>\n",
       "      <td>[ive, pretty, major, episode, bpd, husbamd, years, viole, years, really, caught, gaurd, injured, episodes, increased, borh, frequency, severity, past, couple, years, fee]</td>\n",
       "      <td>Friends and Family of BPD</td>\n",
       "    </tr>\n",
       "    <tr>\n",
       "      <th>3</th>\n",
       "      <td>603678</td>\n",
       "      <td>[told, might, post, group, supportni, believe, husband, bpd, talked, refuses, see, therapist, specifically, honest, going, therapist, see, know, tha]</td>\n",
       "      <td>Friends and Family of BPD</td>\n",
       "    </tr>\n",
       "    <tr>\n",
       "      <th>4</th>\n",
       "      <td>613714</td>\n",
       "      <td>[hi, new, middle, divorcing, husband, years, therapists, think, fits, io, bodnarcissistic, personality, make, long, story, short, issues, chemical, dependency, kicked, ho]</td>\n",
       "      <td>Friends and Family of BPD</td>\n",
       "    </tr>\n",
       "  </tbody>\n",
       "</table>\n",
       "</div>"
      ],
      "text/plain": [
       "   post_number  \\\n",
       "0       621322   \n",
       "1       620965   \n",
       "2       618672   \n",
       "3       603678   \n",
       "4       613714   \n",
       "\n",
       "                                                                                                                                                                           post_txt  \\\n",
       "0  [year, old, revealed, weeks, ago, dad, loving, wonderful, husband, years, sexually, abusing, world, fallen, apart, many, weeks, therapy, iensive, investigations, become, clear]   \n",
       "1        [feel, trapped, helpless, husband, borderline, personality, disorder, well, lovely, caring, feeling, ill, emotionally, abuses, swears, blames, everything, tells, useless]   \n",
       "2        [ive, pretty, major, episode, bpd, husbamd, years, viole, years, really, caught, gaurd, injured, episodes, increased, borh, frequency, severity, past, couple, years, fee]   \n",
       "3                             [told, might, post, group, supportni, believe, husband, bpd, talked, refuses, see, therapist, specifically, honest, going, therapist, see, know, tha]   \n",
       "4       [hi, new, middle, divorcing, husband, years, therapists, think, fits, io, bodnarcissistic, personality, make, long, story, short, issues, chemical, dependency, kicked, ho]   \n",
       "\n",
       "                       groups  \n",
       "0   Friends and Family of BPD  \n",
       "1   Friends and Family of BPD  \n",
       "2   Friends and Family of BPD  \n",
       "3   Friends and Family of BPD  \n",
       "4   Friends and Family of BPD  "
      ]
     },
     "execution_count": 1,
     "metadata": {
      "tags": []
     },
     "output_type": "execute_result"
    }
   ],
   "source": [
    "import pandas as pd\n",
    "pd.set_option('display.max_colwidth', 300)\n",
    "df = pd.read_pickle('sg_post_dfv5.pkl')\n",
    "df.head()"
   ]
  },
  {
   "cell_type": "code",
   "execution_count": 0,
   "metadata": {
    "colab": {
     "base_uri": "https://localhost:8080/"
    },
    "colab_type": "code",
    "id": "w-wfCbPwtxTu",
    "outputId": "10a48ab8-0ffa-46cb-8e80-42a5a71f24b5"
   },
   "outputs": [
    {
     "data": {
      "text/plain": [
       "33775"
      ]
     },
     "execution_count": 2,
     "metadata": {
      "tags": []
     },
     "output_type": "execute_result"
    }
   ],
   "source": [
    "len(df)"
   ]
  },
  {
   "cell_type": "code",
   "execution_count": 0,
   "metadata": {
    "colab": {
     "base_uri": "https://localhost:8080/"
    },
    "colab_type": "code",
    "id": "zleMejxStxT5",
    "outputId": "788b7ce7-edcd-4446-d2ed-95e73c252d45"
   },
   "outputs": [
    {
     "data": {
      "text/plain": [
       " Anxiety                            1541\n",
       " Depression                         1450\n",
       " Abuse                               428\n",
       " Borderline Personality Disorder     395\n",
       " Binge Eating                        340\n",
       " Alcohol                             332\n",
       " Divorce                             326\n",
       " Bipolar                             310\n",
       " Anorexia                            309\n",
       " Drug                                284\n",
       " ADHD                                283\n",
       " Herpes                              271\n",
       " Family                              254\n",
       " Relationship                        239\n",
       " Bulimia                             232\n",
       " Diabetes                            231\n",
       " Loneliness                          227\n",
       " Hodgkins Lymphoma                   227\n",
       " Anger Management                    224\n",
       " PTSD                                223\n",
       " Bisexuality                         221\n",
       " Back Pain                           220\n",
       " Gay and Lesbian                     218\n",
       " Acne                                216\n",
       " Menopause                           215\n",
       " Agoraphobia                         215\n",
       " Chronic Pain                        210\n",
       " Caregivers                          202\n",
       " Non Hodgkins Lymphoma               201\n",
       " Infertility                         200\n",
       "                                    ... \n",
       " High Cholesterol                     24\n",
       " Hives                                24\n",
       " Huntingtons Disease                  23\n",
       " Cystic Fibrosis                      22\n",
       " Medicare                             22\n",
       " Ecstasy                              21\n",
       " Heartburn                            21\n",
       " Morphine                             18\n",
       " Testicular Cancer                    12\n",
       " Naproxen                              6\n",
       " Valium                                5\n",
       " Social Security'                      2\n",
       " ADHD'                                 1\n",
       " Diverticulitis                        1\n",
       " Zoloft                                1\n",
       " Xanax                                 1\n",
       " Back Pain'                            1\n",
       " Percocet'                             1\n",
       " Cymbalta'                             1\n",
       " Obesity'                              1\n",
       " Gay and Lesbian'                      1\n",
       " Cerebral Palsy'                       1\n",
       " Erectile Dysfunction'                 1\n",
       " Ambien'                               1\n",
       " Dementia'                             1\n",
       " Bladder Cancer'                       1\n",
       " Anger Management'                     1\n",
       " Meth'                                 1\n",
       " Transgender'                          1\n",
       " Tinnitus'                             1\n",
       "Name: groups, Length: 248, dtype: int64"
      ]
     },
     "execution_count": 3,
     "metadata": {
      "tags": []
     },
     "output_type": "execute_result"
    }
   ],
   "source": [
    "df.groups.value_counts()"
   ]
  },
  {
   "cell_type": "code",
   "execution_count": 0,
   "metadata": {
    "colab": {
     "base_uri": "https://localhost:8080/"
    },
    "colab_type": "code",
    "id": "QXHU3mU1txUE",
    "outputId": "cec6877a-79ce-4776-8604-5736d1981527"
   },
   "outputs": [
    {
     "data": {
      "text/plain": [
       "array([' Friends and Family of BPD', ' Divorce',\n",
       "       ' Borderline Personality Disorder', ' Depression', ' Caregivers',\n",
       "       ' Transgender', ' Self Harm', ' Alcohol', ' ADHD',\n",
       "       ' Emotional Abuse', ' Teen', ' Gay and Lesbian', ' Relationship',\n",
       "       \" Transgender'\", ' Coming Out', ' Retirement', ' Anxiety',\n",
       "       ' Irritable Bowel Syndrome', ' Friends and Family of Sex Addicts',\n",
       "       ' Drug', ' Bulimia', ' Cocaine', ' Back Pain', ' Bipolar',\n",
       "       ' Marijuana', ' Abuse', ' Sexual Abuse', ' Acne',\n",
       "       ' Body Dysmorphic Disorder', ' Adderall', ' Moms', ' Anorexia',\n",
       "       ' Binge Eating', ' Ambien', ' Asperger Syndrome', ' Autism',\n",
       "       ' Loneliness', ' Anger Management', ' Family', ' Breast Cancer',\n",
       "       ' Brain Cancer', ' College', ' Bullying', ' Grief', ' Diabetes',\n",
       "       ' Birth Defects', ' Shopping Addiction', ' Obesity',\n",
       "       ' Eating Disorder', ' Parents', ' Dads', ' Narcissist',\n",
       "       ' Financial Problems', ' Career Changes', ' Hoarding',\n",
       "       ' Chronic Fatigue Syndrome', ' Food Allergy', ' Asthma', ' Vegan',\n",
       "       ' Crohns Disease', ' Friends and Family of Addicts',\n",
       "       ' Codependency', ' Chronic Pain', ' HPV', ' Bisexuality', ' PTSD',\n",
       "       ' Healthy Sex', ' Heart Disease', ' Heart Attack', ' Infertility',\n",
       "       ' Miscarriage', ' Infidelity', ' OCD', ' HOCD', ' Breastfeeding',\n",
       "       ' Pregnancy', ' Prescription Drug', ' Methadone',\n",
       "       ' Prostate Cancer', ' HIV', ' Online Dating', ' Jealousy',\n",
       "       ' Schizophrenia', ' Herpes', ' Paranoia', ' Hypothyroidism',\n",
       "       ' Panic Attack', ' Brain Injury', ' Sex Addiction', ' Singles',\n",
       "       ' Self Esteem', ' Single Parents', ' Smoking', ' Sleep Apnea',\n",
       "       ' Chantix', ' Stress', ' Suicide', ' Social Anxiety',\n",
       "       ' Weight Loss', ' Sugar Addiction', ' EDNOS', ' Hodgkins Lymphoma',\n",
       "       ' Non Hodgkins Lymphoma ', ' Single Moms', ' Military Family',\n",
       "       ' Single Dads', ' Suboxone', ' Arthritis', ' Migraine',\n",
       "       ' Bone Cancer', ' Anemia', ' COPD', ' Epilepsy', ' Menopause',\n",
       "       ' Fibromyalgia', ' Phobia', ' Lung Cancer', ' Chemotherapy',\n",
       "       ' Colon Cancer', ' Skin Cancer', ' Unemployment',\n",
       "       ' Internet Addiction', ' Alzheimers', ' Dementia', ' PMS',\n",
       "       ' Endometriosis', ' Personality Disorder',\n",
       "       ' Adoption and Fostering', ' Military', ' Parkinsons',\n",
       "       ' Psoriasis', ' Heartburn', ' Celiac Disease', ' Eczema',\n",
       "       ' Cerebral Palsy', ' Gambling', ' Cervical Cancer', ' Nutrition',\n",
       "       ' Insomnia', ' Stroke', ' Dizziness', ' Agoraphobia', ' Surgery',\n",
       "       ' Widow', ' Widower', ' PCOS', ' Trying To Conceive', ' Rosacea',\n",
       "       ' Hives', ' Heroin', ' Meth', ' Bladder Cancer',\n",
       "       \" Bladder Cancer'\", ' Liver Cancer', ' Colorectal Cancer',\n",
       "       ' Kidney Cancer', ' Cirrhosis', ' Ovarian Cancer',\n",
       "       ' Pancreatic Cancer', ' Oxycodone', ' Testicular Cancer',\n",
       "       ' Thyroid Cancer', ' Hepatitis C', ' Healthy Eating',\n",
       "       ' Cystic Fibrosis', ' High Blood Pressure', ' Hysterectomy',\n",
       "       ' Dyslexia', ' Osteoporosis', ' Caffeine', ' Hair Loss',\n",
       "       ' Pet Loss', ' Lyrica', ' Incest Survivors',\n",
       "       ' Premature Ovarian Failure', \" Ambien'\", ' Ativan', ' Adoption',\n",
       "       ' Skin Picking', ' Cymbalta', ' Klonopin', ' Lupus', ' Metformin',\n",
       "       ' Morphine', ' Naproxen', ' Neurontin', ' Multiple Sclerosis',\n",
       "       ' Seroquel', ' Trazodone', ' Valium', ' Wellbutrin', ' Paxil',\n",
       "       ' Percocet', ' Vicodin', ' Exercise Addiction', ' Shyness',\n",
       "       ' Learning Disability', ' Ecstasy', ' Rape', ' Trichotillomania',\n",
       "       \" Dementia'\", ' Narcolepsy', ' Lyme Disease', ' Hyperthyroidism',\n",
       "       ' Graves Disease', ' High Cholesterol', ' Carpal Tunnel Syndrome',\n",
       "       ' Erectile Dysfunction', ' Down Syndrome',\n",
       "       ' Post Partum Depression', ' Video Game Addiction', ' Bedwetting',\n",
       "       ' Stuttering', ' Kleptomania', ' Plastic Surgery', ' Burn',\n",
       "       ' Huntingtons Disease', ' Medicare', ' Medicaid', ' Vegetarian',\n",
       "       ' Tinnitus', ' Amputee', ' Shingles', ' Sciatica', ' Spina Bifida',\n",
       "       ' Seasonal Affective Disorder', ' Veterans', ' Social Security',\n",
       "       ' Sleep Walking', ' Siblings', ' Lymphedema', ' Xanax',\n",
       "       ' Scoliosis', ' Zoloft', \" Percocet'\", ' Sexual Harassment',\n",
       "       \" ADHD'\", \" Anger Management'\", ' Diverticulitis',\n",
       "       \" Gay and Lesbian'\", \" Back Pain'\", \" Cerebral Palsy'\", \" Meth'\",\n",
       "       \" Cymbalta'\", \" Erectile Dysfunction'\", \" Obesity'\", \" Tinnitus'\",\n",
       "       \" Social Security'\"], dtype=object)"
      ]
     },
     "execution_count": 4,
     "metadata": {
      "tags": []
     },
     "output_type": "execute_result"
    }
   ],
   "source": [
    "df.groups.unique()"
   ]
  },
  {
   "cell_type": "code",
   "execution_count": 0,
   "metadata": {
    "colab": {
     "base_uri": "https://localhost:8080/"
    },
    "colab_type": "code",
    "id": "H6QoNTrEtxUM",
    "outputId": "401a6e5f-34c6-4fc8-c071-fecfab94e745"
   },
   "outputs": [
    {
     "data": {
      "text/html": [
       "<div>\n",
       "<style scoped>\n",
       "    .dataframe tbody tr th:only-of-type {\n",
       "        vertical-align: middle;\n",
       "    }\n",
       "\n",
       "    .dataframe tbody tr th {\n",
       "        vertical-align: top;\n",
       "    }\n",
       "\n",
       "    .dataframe thead th {\n",
       "        text-align: right;\n",
       "    }\n",
       "</style>\n",
       "<table border=\"1\" class=\"dataframe\">\n",
       "  <thead>\n",
       "    <tr style=\"text-align: right;\">\n",
       "      <th></th>\n",
       "      <th>post_number</th>\n",
       "    </tr>\n",
       "  </thead>\n",
       "  <tbody>\n",
       "    <tr>\n",
       "      <th>count</th>\n",
       "      <td>33775.000000</td>\n",
       "    </tr>\n",
       "    <tr>\n",
       "      <th>mean</th>\n",
       "      <td>305960.379393</td>\n",
       "    </tr>\n",
       "    <tr>\n",
       "      <th>std</th>\n",
       "      <td>195227.126508</td>\n",
       "    </tr>\n",
       "    <tr>\n",
       "      <th>min</th>\n",
       "      <td>29422.000000</td>\n",
       "    </tr>\n",
       "    <tr>\n",
       "      <th>25%</th>\n",
       "      <td>130039.500000</td>\n",
       "    </tr>\n",
       "    <tr>\n",
       "      <th>50%</th>\n",
       "      <td>342845.000000</td>\n",
       "    </tr>\n",
       "    <tr>\n",
       "      <th>75%</th>\n",
       "      <td>419063.000000</td>\n",
       "    </tr>\n",
       "    <tr>\n",
       "      <th>max</th>\n",
       "      <td>622239.000000</td>\n",
       "    </tr>\n",
       "  </tbody>\n",
       "</table>\n",
       "</div>"
      ],
      "text/plain": [
       "         post_number\n",
       "count   33775.000000\n",
       "mean   305960.379393\n",
       "std    195227.126508\n",
       "min     29422.000000\n",
       "25%    130039.500000\n",
       "50%    342845.000000\n",
       "75%    419063.000000\n",
       "max    622239.000000"
      ]
     },
     "execution_count": 5,
     "metadata": {
      "tags": []
     },
     "output_type": "execute_result"
    }
   ],
   "source": [
    "df.describe()"
   ]
  },
  {
   "cell_type": "code",
   "execution_count": 0,
   "metadata": {
    "colab": {
     "base_uri": "https://localhost:8080/"
    },
    "colab_type": "code",
    "id": "zAlk3g25txUW",
    "outputId": "330e17ea-7f53-4144-f340-aa09e8e11e16"
   },
   "outputs": [
    {
     "data": {
      "text/html": [
       "<div>\n",
       "<style scoped>\n",
       "    .dataframe tbody tr th:only-of-type {\n",
       "        vertical-align: middle;\n",
       "    }\n",
       "\n",
       "    .dataframe tbody tr th {\n",
       "        vertical-align: top;\n",
       "    }\n",
       "\n",
       "    .dataframe thead th {\n",
       "        text-align: right;\n",
       "    }\n",
       "</style>\n",
       "<table border=\"1\" class=\"dataframe\">\n",
       "  <thead>\n",
       "    <tr style=\"text-align: right;\">\n",
       "      <th></th>\n",
       "      <th>post_number</th>\n",
       "    </tr>\n",
       "  </thead>\n",
       "  <tbody>\n",
       "    <tr>\n",
       "      <th>count</th>\n",
       "      <td>33775.000000</td>\n",
       "    </tr>\n",
       "    <tr>\n",
       "      <th>mean</th>\n",
       "      <td>305960.379393</td>\n",
       "    </tr>\n",
       "    <tr>\n",
       "      <th>std</th>\n",
       "      <td>195227.126508</td>\n",
       "    </tr>\n",
       "    <tr>\n",
       "      <th>min</th>\n",
       "      <td>29422.000000</td>\n",
       "    </tr>\n",
       "    <tr>\n",
       "      <th>25%</th>\n",
       "      <td>130039.500000</td>\n",
       "    </tr>\n",
       "    <tr>\n",
       "      <th>50%</th>\n",
       "      <td>342845.000000</td>\n",
       "    </tr>\n",
       "    <tr>\n",
       "      <th>75%</th>\n",
       "      <td>419063.000000</td>\n",
       "    </tr>\n",
       "    <tr>\n",
       "      <th>max</th>\n",
       "      <td>622239.000000</td>\n",
       "    </tr>\n",
       "  </tbody>\n",
       "</table>\n",
       "</div>"
      ],
      "text/plain": [
       "         post_number\n",
       "count   33775.000000\n",
       "mean   305960.379393\n",
       "std    195227.126508\n",
       "min     29422.000000\n",
       "25%    130039.500000\n",
       "50%    342845.000000\n",
       "75%    419063.000000\n",
       "max    622239.000000"
      ]
     },
     "execution_count": 6,
     "metadata": {
      "tags": []
     },
     "output_type": "execute_result"
    }
   ],
   "source": [
    "import numpy as np\n",
    "value_counts = df.groups.value_counts() # Specific column \n",
    "to_remove = value_counts[value_counts < 100].index\n",
    "df.groups.replace(to_remove, np.nan, inplace=True)\n",
    "df.describe()"
   ]
  },
  {
   "cell_type": "code",
   "execution_count": 0,
   "metadata": {
    "colab": {
     "base_uri": "https://localhost:8080/"
    },
    "colab_type": "code",
    "id": "JpxpRxjEtxUl",
    "outputId": "fe1de50f-c769-42ad-fe2b-dff035ffd7e7"
   },
   "outputs": [
    {
     "data": {
      "text/plain": [
       "post_number       0\n",
       "post_txt          0\n",
       "groups         4353\n",
       "dtype: int64"
      ]
     },
     "execution_count": 7,
     "metadata": {
      "tags": []
     },
     "output_type": "execute_result"
    }
   ],
   "source": [
    "df.isna().sum()"
   ]
  },
  {
   "cell_type": "code",
   "execution_count": 0,
   "metadata": {
    "colab": {
     "base_uri": "https://localhost:8080/"
    },
    "colab_type": "code",
    "id": "m1tvQGCktxU1",
    "outputId": "c295eeff-0a9c-44ac-9de9-365bb0b9f8cd"
   },
   "outputs": [
    {
     "data": {
      "text/html": [
       "<div>\n",
       "<style scoped>\n",
       "    .dataframe tbody tr th:only-of-type {\n",
       "        vertical-align: middle;\n",
       "    }\n",
       "\n",
       "    .dataframe tbody tr th {\n",
       "        vertical-align: top;\n",
       "    }\n",
       "\n",
       "    .dataframe thead th {\n",
       "        text-align: right;\n",
       "    }\n",
       "</style>\n",
       "<table border=\"1\" class=\"dataframe\">\n",
       "  <thead>\n",
       "    <tr style=\"text-align: right;\">\n",
       "      <th></th>\n",
       "      <th>post_number</th>\n",
       "    </tr>\n",
       "  </thead>\n",
       "  <tbody>\n",
       "    <tr>\n",
       "      <th>count</th>\n",
       "      <td>29422.000000</td>\n",
       "    </tr>\n",
       "    <tr>\n",
       "      <th>mean</th>\n",
       "      <td>307678.049589</td>\n",
       "    </tr>\n",
       "    <tr>\n",
       "      <th>std</th>\n",
       "      <td>198152.566133</td>\n",
       "    </tr>\n",
       "    <tr>\n",
       "      <th>min</th>\n",
       "      <td>29422.000000</td>\n",
       "    </tr>\n",
       "    <tr>\n",
       "      <th>25%</th>\n",
       "      <td>130000.500000</td>\n",
       "    </tr>\n",
       "    <tr>\n",
       "      <th>50%</th>\n",
       "      <td>351503.000000</td>\n",
       "    </tr>\n",
       "    <tr>\n",
       "      <th>75%</th>\n",
       "      <td>429310.750000</td>\n",
       "    </tr>\n",
       "    <tr>\n",
       "      <th>max</th>\n",
       "      <td>622239.000000</td>\n",
       "    </tr>\n",
       "  </tbody>\n",
       "</table>\n",
       "</div>"
      ],
      "text/plain": [
       "         post_number\n",
       "count   29422.000000\n",
       "mean   307678.049589\n",
       "std    198152.566133\n",
       "min     29422.000000\n",
       "25%    130000.500000\n",
       "50%    351503.000000\n",
       "75%    429310.750000\n",
       "max    622239.000000"
      ]
     },
     "execution_count": 8,
     "metadata": {
      "tags": []
     },
     "output_type": "execute_result"
    }
   ],
   "source": [
    "df = df.dropna()\n",
    "df.describe()"
   ]
  },
  {
   "cell_type": "code",
   "execution_count": 0,
   "metadata": {
    "colab": {
     "base_uri": "https://localhost:8080/"
    },
    "colab_type": "code",
    "id": "1ScwuYMytxVE",
    "outputId": "083542ce-9eea-471e-b876-45e859657a4f"
   },
   "outputs": [
    {
     "data": {
      "text/plain": [
       "0.05237577323091564"
      ]
     },
     "execution_count": 9,
     "metadata": {
      "tags": []
     },
     "output_type": "execute_result"
    }
   ],
   "source": [
    "1541/29422"
   ]
  },
  {
   "cell_type": "code",
   "execution_count": 0,
   "metadata": {
    "colab": {
     "base_uri": "https://localhost:8080/"
    },
    "colab_type": "code",
    "id": "CgEKUDK6txVN",
    "outputId": "754e4743-fc1a-4135-d628-eea038757837"
   },
   "outputs": [
    {
     "data": {
      "text/plain": [
       "array([' Friends and Family of BPD', ' Divorce',\n",
       "       ' Borderline Personality Disorder', ' Depression', ' Caregivers',\n",
       "       ' Self Harm', ' Alcohol', ' ADHD', ' Emotional Abuse',\n",
       "       ' Gay and Lesbian', ' Relationship', ' Coming Out', ' Anxiety',\n",
       "       ' Irritable Bowel Syndrome', ' Friends and Family of Sex Addicts',\n",
       "       ' Drug', ' Bulimia', ' Cocaine', ' Back Pain', ' Bipolar',\n",
       "       ' Marijuana', ' Abuse', ' Acne', ' Body Dysmorphic Disorder',\n",
       "       ' Adderall', ' Moms', ' Anorexia', ' Binge Eating', ' Ambien',\n",
       "       ' Asperger Syndrome', ' Autism', ' Loneliness',\n",
       "       ' Anger Management', ' Family', ' Breast Cancer', ' Brain Cancer',\n",
       "       ' College', ' Bullying', ' Grief', ' Diabetes',\n",
       "       ' Shopping Addiction', ' Obesity', ' Eating Disorder', ' Parents',\n",
       "       ' Dads', ' Narcissist', ' Financial Problems', ' Career Changes',\n",
       "       ' Hoarding', ' Chronic Fatigue Syndrome', ' Food Allergy',\n",
       "       ' Asthma', ' Vegan', ' Crohns Disease',\n",
       "       ' Friends and Family of Addicts', ' Codependency', ' Chronic Pain',\n",
       "       ' HPV', ' Bisexuality', ' PTSD', ' Healthy Sex', ' Heart Disease',\n",
       "       ' Heart Attack', ' Infertility', ' Miscarriage', ' Infidelity',\n",
       "       ' OCD', ' HOCD', ' Pregnancy', ' Prescription Drug', ' Methadone',\n",
       "       ' Prostate Cancer', ' HIV', ' Online Dating', ' Jealousy',\n",
       "       ' Schizophrenia', ' Herpes', ' Paranoia', ' Hypothyroidism',\n",
       "       ' Brain Injury', ' Sex Addiction', ' Self Esteem', ' Smoking',\n",
       "       ' Sleep Apnea', ' Chantix', ' Stress', ' Suicide', ' Weight Loss',\n",
       "       ' Sugar Addiction', ' Hodgkins Lymphoma',\n",
       "       ' Non Hodgkins Lymphoma ', ' Single Moms', ' Military Family',\n",
       "       ' Single Dads', ' Suboxone', ' Arthritis', ' Migraine', ' Anemia',\n",
       "       ' COPD', ' Epilepsy', ' Menopause', ' Fibromyalgia', ' Phobia',\n",
       "       ' Chemotherapy', ' Unemployment', ' Internet Addiction',\n",
       "       ' Alzheimers', ' Dementia', ' PMS', ' Endometriosis',\n",
       "       ' Personality Disorder', ' Adoption and Fostering', ' Parkinsons',\n",
       "       ' Psoriasis', ' Celiac Disease', ' Eczema', ' Cerebral Palsy',\n",
       "       ' Gambling', ' Insomnia', ' Stroke', ' Agoraphobia', ' Surgery',\n",
       "       ' Widow', ' Widower', ' PCOS', ' Trying To Conceive', ' Heroin',\n",
       "       ' Meth', ' Cirrhosis', ' Oxycodone', ' Hepatitis C',\n",
       "       ' Healthy Eating', ' High Blood Pressure', ' Hysterectomy',\n",
       "       ' Caffeine', ' Hair Loss', ' Pet Loss', ' Incest Survivors',\n",
       "       ' Premature Ovarian Failure', ' Skin Picking', ' Cymbalta',\n",
       "       ' Lupus', ' Multiple Sclerosis', ' Learning Disability',\n",
       "       ' Trichotillomania', ' Narcolepsy', ' Erectile Dysfunction',\n",
       "       ' Post Partum Depression', ' Bedwetting', ' Stuttering',\n",
       "       ' Kleptomania', ' Vegetarian', ' Tinnitus', ' Amputee',\n",
       "       ' Shingles', ' Sciatica', ' Spina Bifida', ' Lymphedema',\n",
       "       ' Scoliosis'], dtype=object)"
      ]
     },
     "execution_count": 10,
     "metadata": {
      "tags": []
     },
     "output_type": "execute_result"
    }
   ],
   "source": [
    "df.groups.unique()"
   ]
  },
  {
   "cell_type": "code",
   "execution_count": 0,
   "metadata": {
    "colab": {},
    "colab_type": "code",
    "id": "uW9knXNetxVZ"
   },
   "outputs": [],
   "source": [
    "df.groups = pd.core.strings.str_strip(df['groups'])"
   ]
  },
  {
   "cell_type": "code",
   "execution_count": 0,
   "metadata": {
    "colab": {
     "base_uri": "https://localhost:8080/"
    },
    "colab_type": "code",
    "id": "kw6fH6yHtxVf",
    "outputId": "79cc33dc-df1a-45b1-edc5-9bcf4fc6cf3d"
   },
   "outputs": [
    {
     "data": {
      "text/plain": [
       "array(['Friends and Family of BPD', 'Divorce',\n",
       "       'Borderline Personality Disorder', 'Depression', 'Caregivers',\n",
       "       'Self Harm', 'Alcohol', 'ADHD', 'Emotional Abuse',\n",
       "       'Gay and Lesbian', 'Relationship', 'Coming Out', 'Anxiety',\n",
       "       'Irritable Bowel Syndrome', 'Friends and Family of Sex Addicts',\n",
       "       'Drug', 'Bulimia', 'Cocaine', 'Back Pain', 'Bipolar', 'Marijuana',\n",
       "       'Abuse', 'Acne', 'Body Dysmorphic Disorder', 'Adderall', 'Moms',\n",
       "       'Anorexia', 'Binge Eating', 'Ambien', 'Asperger Syndrome',\n",
       "       'Autism', 'Loneliness', 'Anger Management', 'Family',\n",
       "       'Breast Cancer', 'Brain Cancer', 'College', 'Bullying', 'Grief',\n",
       "       'Diabetes', 'Shopping Addiction', 'Obesity', 'Eating Disorder',\n",
       "       'Parents', 'Dads', 'Narcissist', 'Financial Problems',\n",
       "       'Career Changes', 'Hoarding', 'Chronic Fatigue Syndrome',\n",
       "       'Food Allergy', 'Asthma', 'Vegan', 'Crohns Disease',\n",
       "       'Friends and Family of Addicts', 'Codependency', 'Chronic Pain',\n",
       "       'HPV', 'Bisexuality', 'PTSD', 'Healthy Sex', 'Heart Disease',\n",
       "       'Heart Attack', 'Infertility', 'Miscarriage', 'Infidelity', 'OCD',\n",
       "       'HOCD', 'Pregnancy', 'Prescription Drug', 'Methadone',\n",
       "       'Prostate Cancer', 'HIV', 'Online Dating', 'Jealousy',\n",
       "       'Schizophrenia', 'Herpes', 'Paranoia', 'Hypothyroidism',\n",
       "       'Brain Injury', 'Sex Addiction', 'Self Esteem', 'Smoking',\n",
       "       'Sleep Apnea', 'Chantix', 'Stress', 'Suicide', 'Weight Loss',\n",
       "       'Sugar Addiction', 'Hodgkins Lymphoma', 'Non Hodgkins Lymphoma',\n",
       "       'Single Moms', 'Military Family', 'Single Dads', 'Suboxone',\n",
       "       'Arthritis', 'Migraine', 'Anemia', 'COPD', 'Epilepsy', 'Menopause',\n",
       "       'Fibromyalgia', 'Phobia', 'Chemotherapy', 'Unemployment',\n",
       "       'Internet Addiction', 'Alzheimers', 'Dementia', 'PMS',\n",
       "       'Endometriosis', 'Personality Disorder', 'Adoption and Fostering',\n",
       "       'Parkinsons', 'Psoriasis', 'Celiac Disease', 'Eczema',\n",
       "       'Cerebral Palsy', 'Gambling', 'Insomnia', 'Stroke', 'Agoraphobia',\n",
       "       'Surgery', 'Widow', 'Widower', 'PCOS', 'Trying To Conceive',\n",
       "       'Heroin', 'Meth', 'Cirrhosis', 'Oxycodone', 'Hepatitis C',\n",
       "       'Healthy Eating', 'High Blood Pressure', 'Hysterectomy',\n",
       "       'Caffeine', 'Hair Loss', 'Pet Loss', 'Incest Survivors',\n",
       "       'Premature Ovarian Failure', 'Skin Picking', 'Cymbalta', 'Lupus',\n",
       "       'Multiple Sclerosis', 'Learning Disability', 'Trichotillomania',\n",
       "       'Narcolepsy', 'Erectile Dysfunction', 'Post Partum Depression',\n",
       "       'Bedwetting', 'Stuttering', 'Kleptomania', 'Vegetarian',\n",
       "       'Tinnitus', 'Amputee', 'Shingles', 'Sciatica', 'Spina Bifida',\n",
       "       'Lymphedema', 'Scoliosis'], dtype=object)"
      ]
     },
     "execution_count": 12,
     "metadata": {
      "tags": []
     },
     "output_type": "execute_result"
    }
   ],
   "source": [
    "df.groups.unique()"
   ]
  },
  {
   "cell_type": "code",
   "execution_count": 0,
   "metadata": {
    "colab": {},
    "colab_type": "code",
    "id": "tFfqjC5HtxVl"
   },
   "outputs": [],
   "source": [
    "def textify(lst):\n",
    "    return ' '.join(lst)"
   ]
  },
  {
   "cell_type": "code",
   "execution_count": 0,
   "metadata": {
    "colab": {
     "base_uri": "https://localhost:8080/"
    },
    "colab_type": "code",
    "id": "SVgljmj9txVr",
    "outputId": "472fd549-3236-4eec-ae36-bb47466fba66"
   },
   "outputs": [
    {
     "data": {
      "text/html": [
       "<div>\n",
       "<style scoped>\n",
       "    .dataframe tbody tr th:only-of-type {\n",
       "        vertical-align: middle;\n",
       "    }\n",
       "\n",
       "    .dataframe tbody tr th {\n",
       "        vertical-align: top;\n",
       "    }\n",
       "\n",
       "    .dataframe thead th {\n",
       "        text-align: right;\n",
       "    }\n",
       "</style>\n",
       "<table border=\"1\" class=\"dataframe\">\n",
       "  <thead>\n",
       "    <tr style=\"text-align: right;\">\n",
       "      <th></th>\n",
       "      <th>post_number</th>\n",
       "      <th>post_txt</th>\n",
       "      <th>groups</th>\n",
       "    </tr>\n",
       "  </thead>\n",
       "  <tbody>\n",
       "    <tr>\n",
       "      <th>0</th>\n",
       "      <td>621322</td>\n",
       "      <td>year old revealed weeks ago dad loving wonderful husband years sexually abusing world fallen apart many weeks therapy iensive investigations become clear</td>\n",
       "      <td>Friends and Family of BPD</td>\n",
       "    </tr>\n",
       "    <tr>\n",
       "      <th>1</th>\n",
       "      <td>620965</td>\n",
       "      <td>feel trapped helpless husband borderline personality disorder well lovely caring feeling ill emotionally abuses swears blames everything tells useless</td>\n",
       "      <td>Friends and Family of BPD</td>\n",
       "    </tr>\n",
       "    <tr>\n",
       "      <th>2</th>\n",
       "      <td>618672</td>\n",
       "      <td>ive pretty major episode bpd husbamd years viole years really caught gaurd injured episodes increased borh frequency severity past couple years fee</td>\n",
       "      <td>Friends and Family of BPD</td>\n",
       "    </tr>\n",
       "    <tr>\n",
       "      <th>3</th>\n",
       "      <td>603678</td>\n",
       "      <td>told might post group supportni believe husband bpd talked refuses see therapist specifically honest going therapist see know tha</td>\n",
       "      <td>Friends and Family of BPD</td>\n",
       "    </tr>\n",
       "    <tr>\n",
       "      <th>4</th>\n",
       "      <td>613714</td>\n",
       "      <td>hi new middle divorcing husband years therapists think fits io bodnarcissistic personality make long story short issues chemical dependency kicked ho</td>\n",
       "      <td>Friends and Family of BPD</td>\n",
       "    </tr>\n",
       "  </tbody>\n",
       "</table>\n",
       "</div>"
      ],
      "text/plain": [
       "   post_number  \\\n",
       "0       621322   \n",
       "1       620965   \n",
       "2       618672   \n",
       "3       603678   \n",
       "4       613714   \n",
       "\n",
       "                                                                                                                                                    post_txt  \\\n",
       "0  year old revealed weeks ago dad loving wonderful husband years sexually abusing world fallen apart many weeks therapy iensive investigations become clear   \n",
       "1     feel trapped helpless husband borderline personality disorder well lovely caring feeling ill emotionally abuses swears blames everything tells useless   \n",
       "2        ive pretty major episode bpd husbamd years viole years really caught gaurd injured episodes increased borh frequency severity past couple years fee   \n",
       "3                          told might post group supportni believe husband bpd talked refuses see therapist specifically honest going therapist see know tha   \n",
       "4      hi new middle divorcing husband years therapists think fits io bodnarcissistic personality make long story short issues chemical dependency kicked ho   \n",
       "\n",
       "                      groups  \n",
       "0  Friends and Family of BPD  \n",
       "1  Friends and Family of BPD  \n",
       "2  Friends and Family of BPD  \n",
       "3  Friends and Family of BPD  \n",
       "4  Friends and Family of BPD  "
      ]
     },
     "execution_count": 14,
     "metadata": {
      "tags": []
     },
     "output_type": "execute_result"
    }
   ],
   "source": [
    "df.post_txt = df.post_txt.apply(textify)\n",
    "df.head()"
   ]
  },
  {
   "cell_type": "code",
   "execution_count": 0,
   "metadata": {
    "colab": {
     "base_uri": "https://localhost:8080/"
    },
    "colab_type": "code",
    "id": "jIIOA5gztxV3",
    "outputId": "7741485e-e5b2-4452-b850-0ea4ba5f7185"
   },
   "outputs": [
    {
     "data": {
      "text/html": [
       "<div>\n",
       "<style scoped>\n",
       "    .dataframe tbody tr th:only-of-type {\n",
       "        vertical-align: middle;\n",
       "    }\n",
       "\n",
       "    .dataframe tbody tr th {\n",
       "        vertical-align: top;\n",
       "    }\n",
       "\n",
       "    .dataframe thead th {\n",
       "        text-align: right;\n",
       "    }\n",
       "</style>\n",
       "<table border=\"1\" class=\"dataframe\">\n",
       "  <thead>\n",
       "    <tr style=\"text-align: right;\">\n",
       "      <th></th>\n",
       "      <th>post_number</th>\n",
       "      <th>post_txt</th>\n",
       "      <th>groups</th>\n",
       "      <th>category_id</th>\n",
       "    </tr>\n",
       "  </thead>\n",
       "  <tbody>\n",
       "    <tr>\n",
       "      <th>0</th>\n",
       "      <td>621322</td>\n",
       "      <td>year old revealed weeks ago dad loving wonderful husband years sexually abusing world fallen apart many weeks therapy iensive investigations become clear</td>\n",
       "      <td>Friends and Family of BPD</td>\n",
       "      <td>0</td>\n",
       "    </tr>\n",
       "    <tr>\n",
       "      <th>1</th>\n",
       "      <td>620965</td>\n",
       "      <td>feel trapped helpless husband borderline personality disorder well lovely caring feeling ill emotionally abuses swears blames everything tells useless</td>\n",
       "      <td>Friends and Family of BPD</td>\n",
       "      <td>0</td>\n",
       "    </tr>\n",
       "    <tr>\n",
       "      <th>2</th>\n",
       "      <td>618672</td>\n",
       "      <td>ive pretty major episode bpd husbamd years viole years really caught gaurd injured episodes increased borh frequency severity past couple years fee</td>\n",
       "      <td>Friends and Family of BPD</td>\n",
       "      <td>0</td>\n",
       "    </tr>\n",
       "    <tr>\n",
       "      <th>3</th>\n",
       "      <td>603678</td>\n",
       "      <td>told might post group supportni believe husband bpd talked refuses see therapist specifically honest going therapist see know tha</td>\n",
       "      <td>Friends and Family of BPD</td>\n",
       "      <td>0</td>\n",
       "    </tr>\n",
       "    <tr>\n",
       "      <th>4</th>\n",
       "      <td>613714</td>\n",
       "      <td>hi new middle divorcing husband years therapists think fits io bodnarcissistic personality make long story short issues chemical dependency kicked ho</td>\n",
       "      <td>Friends and Family of BPD</td>\n",
       "      <td>0</td>\n",
       "    </tr>\n",
       "  </tbody>\n",
       "</table>\n",
       "</div>"
      ],
      "text/plain": [
       "   post_number  \\\n",
       "0       621322   \n",
       "1       620965   \n",
       "2       618672   \n",
       "3       603678   \n",
       "4       613714   \n",
       "\n",
       "                                                                                                                                                    post_txt  \\\n",
       "0  year old revealed weeks ago dad loving wonderful husband years sexually abusing world fallen apart many weeks therapy iensive investigations become clear   \n",
       "1     feel trapped helpless husband borderline personality disorder well lovely caring feeling ill emotionally abuses swears blames everything tells useless   \n",
       "2        ive pretty major episode bpd husbamd years viole years really caught gaurd injured episodes increased borh frequency severity past couple years fee   \n",
       "3                          told might post group supportni believe husband bpd talked refuses see therapist specifically honest going therapist see know tha   \n",
       "4      hi new middle divorcing husband years therapists think fits io bodnarcissistic personality make long story short issues chemical dependency kicked ho   \n",
       "\n",
       "                      groups  category_id  \n",
       "0  Friends and Family of BPD            0  \n",
       "1  Friends and Family of BPD            0  \n",
       "2  Friends and Family of BPD            0  \n",
       "3  Friends and Family of BPD            0  \n",
       "4  Friends and Family of BPD            0  "
      ]
     },
     "execution_count": 15,
     "metadata": {
      "tags": []
     },
     "output_type": "execute_result"
    }
   ],
   "source": [
    "df['category_id'] = df['groups'].factorize()[0]\n",
    "df.head()"
   ]
  },
  {
   "cell_type": "code",
   "execution_count": 0,
   "metadata": {
    "colab": {
     "base_uri": "https://localhost:8080/"
    },
    "colab_type": "code",
    "id": "Gt0T0mhTtxWA",
    "outputId": "01126661-1b85-46e0-df26-60fc3500854b"
   },
   "outputs": [
    {
     "data": {
      "text/html": [
       "<div>\n",
       "<style scoped>\n",
       "    .dataframe tbody tr th:only-of-type {\n",
       "        vertical-align: middle;\n",
       "    }\n",
       "\n",
       "    .dataframe tbody tr th {\n",
       "        vertical-align: top;\n",
       "    }\n",
       "\n",
       "    .dataframe thead th {\n",
       "        text-align: right;\n",
       "    }\n",
       "</style>\n",
       "<table border=\"1\" class=\"dataframe\">\n",
       "  <thead>\n",
       "    <tr style=\"text-align: right;\">\n",
       "      <th></th>\n",
       "      <th>post_number</th>\n",
       "      <th>post_txt</th>\n",
       "      <th>groups</th>\n",
       "      <th>category_id</th>\n",
       "    </tr>\n",
       "  </thead>\n",
       "  <tbody>\n",
       "    <tr>\n",
       "      <th>34405</th>\n",
       "      <td>50620</td>\n",
       "      <td>started feelings girls around age first kiss girl realized bi liked genders however feel like ca come cause pares disowned sister</td>\n",
       "      <td>Coming Out</td>\n",
       "      <td>11</td>\n",
       "    </tr>\n",
       "    <tr>\n",
       "      <th>34406</th>\n",
       "      <td>51724</td>\n",
       "      <td>years old threw gardien ship transfer mom dads sister aka au mom abusive thats moved latley depressed many things one gained wait ca seem</td>\n",
       "      <td>Coming Out</td>\n",
       "      <td>11</td>\n",
       "    </tr>\n",
       "    <tr>\n",
       "      <th>34407</th>\n",
       "      <td>55715</td>\n",
       "      <td>vegetarian mohs im vegan hard started days ago took peta pledge dairy never super importa diet anyway relatively easy eating vegan meals</td>\n",
       "      <td>Vegan</td>\n",
       "      <td>52</td>\n",
       "    </tr>\n",
       "    <tr>\n",
       "      <th>34408</th>\n",
       "      <td>55714</td>\n",
       "      <td>vegetarian mohs im vegan hard started days ago took peta pledge dairy never super importa diet anyway relatively easy eating vegan meals</td>\n",
       "      <td>Vegan</td>\n",
       "      <td>52</td>\n",
       "    </tr>\n",
       "    <tr>\n",
       "      <th>34409</th>\n",
       "      <td>56965</td>\n",
       "      <td>may year got staph infection right index finger mohs surgeries including skin graphs doctor able save hand lose finger scheduled date years old righthanded</td>\n",
       "      <td>Amputee</td>\n",
       "      <td>153</td>\n",
       "    </tr>\n",
       "  </tbody>\n",
       "</table>\n",
       "</div>"
      ],
      "text/plain": [
       "       post_number  \\\n",
       "34405        50620   \n",
       "34406        51724   \n",
       "34407        55715   \n",
       "34408        55714   \n",
       "34409        56965   \n",
       "\n",
       "                                                                                                                                                          post_txt  \\\n",
       "34405                            started feelings girls around age first kiss girl realized bi liked genders however feel like ca come cause pares disowned sister   \n",
       "34406                    years old threw gardien ship transfer mom dads sister aka au mom abusive thats moved latley depressed many things one gained wait ca seem   \n",
       "34407                     vegetarian mohs im vegan hard started days ago took peta pledge dairy never super importa diet anyway relatively easy eating vegan meals   \n",
       "34408                     vegetarian mohs im vegan hard started days ago took peta pledge dairy never super importa diet anyway relatively easy eating vegan meals   \n",
       "34409  may year got staph infection right index finger mohs surgeries including skin graphs doctor able save hand lose finger scheduled date years old righthanded   \n",
       "\n",
       "           groups  category_id  \n",
       "34405  Coming Out           11  \n",
       "34406  Coming Out           11  \n",
       "34407       Vegan           52  \n",
       "34408       Vegan           52  \n",
       "34409     Amputee          153  "
      ]
     },
     "execution_count": 16,
     "metadata": {
      "tags": []
     },
     "output_type": "execute_result"
    }
   ],
   "source": [
    "df.tail()"
   ]
  },
  {
   "cell_type": "code",
   "execution_count": 0,
   "metadata": {
    "colab": {},
    "colab_type": "code",
    "id": "xuWYGI6FtxWS"
   },
   "outputs": [],
   "source": [
    "from sklearn.model_selection import train_test_split\n",
    "X = df.post_txt\n",
    "y = df.category_id\n",
    "X_train, X_test, y_train, y_test = train_test_split(X, y, test_size=0.2, random_state=42)"
   ]
  },
  {
   "cell_type": "code",
   "execution_count": 0,
   "metadata": {
    "colab": {
     "base_uri": "https://localhost:8080/"
    },
    "colab_type": "code",
    "id": "xXmyS_O9txWZ",
    "outputId": "700f5a12-1ee0-455f-f42e-f6db538d8974"
   },
   "outputs": [
    {
     "name": "stdout",
     "output_type": "stream",
     "text": [
      "(23537,)\n",
      "(5885,)\n",
      "(23537,)\n",
      "(5885,)\n"
     ]
    }
   ],
   "source": [
    "print(X_train.shape)\n",
    "print(X_test.shape)\n",
    "print(y_train.shape)\n",
    "print(y_test.shape)"
   ]
  },
  {
   "cell_type": "code",
   "execution_count": 0,
   "metadata": {
    "colab": {
     "base_uri": "https://localhost:8080/"
    },
    "colab_type": "code",
    "id": "KBV5aS9gtxXF",
    "outputId": "7fdc9f1e-7097-4b28-f6b4-190cd1f13d7c"
   },
   "outputs": [
    {
     "data": {
      "text/plain": [
       "(23537, 29695)"
      ]
     },
     "execution_count": 19,
     "metadata": {
      "tags": []
     },
     "output_type": "execute_result"
    }
   ],
   "source": [
    "from sklearn.feature_extraction.text import CountVectorizer\n",
    "count_vect = CountVectorizer()\n",
    "X_train_counts = count_vect.fit_transform(X_train)\n",
    "X_train_counts.shape"
   ]
  },
  {
   "cell_type": "code",
   "execution_count": 0,
   "metadata": {
    "colab": {
     "base_uri": "https://localhost:8080/"
    },
    "colab_type": "code",
    "id": "jm_S8jQozlEx",
    "outputId": "3a737a11-b401-4be0-a915-ba9ad07e1b10"
   },
   "outputs": [
    {
     "data": {
      "text/plain": [
       "(23537, 29695)"
      ]
     },
     "execution_count": 20,
     "metadata": {
      "tags": []
     },
     "output_type": "execute_result"
    }
   ],
   "source": [
    "# TF-IDF: term-frequency times inverse document frequency\n",
    "from sklearn.feature_extraction.text import TfidfTransformer\n",
    "tfidf_transformer = TfidfTransformer()\n",
    "X_train_tfidf = tfidf_transformer.fit_transform(X_train_counts)\n",
    "X_train_tfidf.shape"
   ]
  },
  {
   "cell_type": "code",
   "execution_count": 0,
   "metadata": {
    "colab": {},
    "colab_type": "code",
    "id": "Nc9fBCfyzsye"
   },
   "outputs": [],
   "source": [
    "# Classifier using Naive Bayes\n",
    "from sklearn.naive_bayes import MultinomialNB\n",
    "clf = MultinomialNB().fit(X_train_tfidf, y_train)"
   ]
  },
  {
   "cell_type": "code",
   "execution_count": 0,
   "metadata": {
    "colab": {},
    "colab_type": "code",
    "id": "nwx6CNuV0KhL"
   },
   "outputs": [],
   "source": [
    "from sklearn.pipeline import Pipeline\n",
    "text_clf = Pipeline([('vect', CountVectorizer()),\n",
    "                      ('tfidf', TfidfTransformer()),\n",
    "                      ('clf', MultinomialNB()),\n",
    "])\n",
    "\n",
    "text_clf = text_clf.fit(X_train, y_train)"
   ]
  },
  {
   "cell_type": "code",
   "execution_count": 0,
   "metadata": {
    "colab": {
     "base_uri": "https://localhost:8080/"
    },
    "colab_type": "code",
    "id": "3qcjtLci0Zwe",
    "outputId": "b623f5b8-278c-46ae-f26c-d52f09fcf69b"
   },
   "outputs": [
    {
     "data": {
      "text/plain": [
       "0.06236193712829227"
      ]
     },
     "execution_count": 23,
     "metadata": {
      "tags": []
     },
     "output_type": "execute_result"
    }
   ],
   "source": [
    "import numpy as np\n",
    "predicted = text_clf.predict(X_test)\n",
    "np.mean(predicted == y_test)"
   ]
  },
  {
   "cell_type": "markdown",
   "metadata": {
    "colab_type": "text",
    "id": "V6gCI3_B3rPL"
   },
   "source": [
    "That's awful."
   ]
  },
  {
   "cell_type": "code",
   "execution_count": 0,
   "metadata": {
    "colab": {
     "base_uri": "https://localhost:8080/"
    },
    "colab_type": "code",
    "id": "3XrcFNSc2lN4",
    "outputId": "8133be9e-d787-4946-8e95-c2fd15a3e692"
   },
   "outputs": [
    {
     "name": "stderr",
     "output_type": "stream",
     "text": [
      "/usr/local/lib/python3.6/dist-packages/sklearn/linear_model/stochastic_gradient.py:183: FutureWarning: max_iter and tol parameters have been added in SGDClassifier in 0.19. If max_iter is set but tol is left unset, the default value for tol in 0.19 and 0.20 will be None (which is equivalent to -infinity, so it has no effect) but will change in 0.21 to 1e-3. Specify tol to silence this warning.\n",
      "  FutureWarning)\n"
     ]
    },
    {
     "data": {
      "text/plain": [
       "0.4118946474086661"
      ]
     },
     "execution_count": 24,
     "metadata": {
      "tags": []
     },
     "output_type": "execute_result"
    }
   ],
   "source": [
    "# support vector machine classifier\n",
    "from sklearn.linear_model import SGDClassifier\n",
    "\n",
    "text_clf_svm = Pipeline([('vect', CountVectorizer()),\n",
    "                      ('tfidf', TfidfTransformer()),\n",
    "                      ('clf-svm', SGDClassifier(loss='hinge', penalty='l2',\n",
    "                                            alpha=1e-3, max_iter=5, tol=None, random_state=42)),\n",
    "])\n",
    "\n",
    "_ = text_clf_svm.fit(X_train, y_train)\n",
    "\n",
    "predicted_svm = text_clf_svm.predict(X_test)\n",
    "np.mean(predicted_svm == y_test)"
   ]
  },
  {
   "cell_type": "markdown",
   "metadata": {
    "colab_type": "text",
    "id": "SlaI5S6x3vSi"
   },
   "source": [
    "That's a vast improvement."
   ]
  },
  {
   "cell_type": "code",
   "execution_count": 0,
   "metadata": {
    "colab": {},
    "colab_type": "code",
    "id": "xMykT0Ux4KUr"
   },
   "outputs": [],
   "source": [
    "# Tuning hyperparameters\n",
    "from sklearn.model_selection import GridSearchCV\n",
    "parameters = {'vect__ngram_range': [(1, 1), (1, 2)],\n",
    "               'tfidf__use_idf': (True, False),\n",
    "               'clf__alpha': (1e-2, 1e-3),\n",
    "}"
   ]
  },
  {
   "cell_type": "code",
   "execution_count": 26,
   "metadata": {
    "colab": {
     "base_uri": "https://localhost:8080/",
     "height": 146
    },
    "colab_type": "code",
    "id": "-s2vz5g_3Fs1",
    "outputId": "5089a921-74e9-4e5a-8063-8fa2cdc30b74"
   },
   "outputs": [
    {
     "name": "stderr",
     "output_type": "stream",
     "text": [
      "/usr/local/lib/python3.6/dist-packages/sklearn/model_selection/_split.py:2053: FutureWarning: You should specify a value for 'cv' instead of relying on the default value. The default value will change from 3 to 5 in version 0.22.\n",
      "  warnings.warn(CV_WARNING, FutureWarning)\n",
      "/usr/local/lib/python3.6/dist-packages/sklearn/externals/joblib/externals/loky/process_executor.py:706: UserWarning: A worker stopped while some jobs were given to the executor. This can be caused by a too short worker timeout or by a memory leak.\n",
      "  \"timeout or by a memory leak.\", UserWarning\n"
     ]
    },
    {
     "name": "stdout",
     "output_type": "stream",
     "text": [
      "CPU times: user 4.83 s, sys: 1.07 s, total: 5.9 s\n",
      "Wall time: 1min 3s\n"
     ]
    }
   ],
   "source": [
    "# Grid search with Naive Bayes\n",
    "%%time\n",
    "gs_clf = GridSearchCV(text_clf, parameters, n_jobs=-1)\n",
    "gs_clf = gs_clf.fit(X_train, y_train)"
   ]
  },
  {
   "cell_type": "code",
   "execution_count": 27,
   "metadata": {
    "colab": {
     "base_uri": "https://localhost:8080/",
     "height": 53
    },
    "colab_type": "code",
    "id": "Ev_Gyp-x4Blg",
    "outputId": "1f2efde4-94ce-46c9-be6d-1a3fb68df528"
   },
   "outputs": [
    {
     "name": "stdout",
     "output_type": "stream",
     "text": [
      "0.2657093087479288\n"
     ]
    },
    {
     "data": {
      "text/plain": [
       "{'clf__alpha': 0.001, 'tfidf__use_idf': True, 'vect__ngram_range': (1, 2)}"
      ]
     },
     "execution_count": 27,
     "metadata": {
      "tags": []
     },
     "output_type": "execute_result"
    }
   ],
   "source": [
    "print(gs_clf.best_score_)\n",
    "gs_clf.best_params_"
   ]
  },
  {
   "cell_type": "code",
   "execution_count": 28,
   "metadata": {
    "colab": {
     "base_uri": "https://localhost:8080/",
     "height": 146
    },
    "colab_type": "code",
    "id": "aQ1qv8fN4r41",
    "outputId": "b087b56d-35b6-4581-fa0e-41386e39fc5b"
   },
   "outputs": [
    {
     "name": "stderr",
     "output_type": "stream",
     "text": [
      "/usr/local/lib/python3.6/dist-packages/sklearn/model_selection/_split.py:2053: FutureWarning: You should specify a value for 'cv' instead of relying on the default value. The default value will change from 3 to 5 in version 0.22.\n",
      "  warnings.warn(CV_WARNING, FutureWarning)\n",
      "/usr/local/lib/python3.6/dist-packages/sklearn/linear_model/stochastic_gradient.py:183: FutureWarning: max_iter and tol parameters have been added in SGDClassifier in 0.19. If max_iter is set but tol is left unset, the default value for tol in 0.19 and 0.20 will be None (which is equivalent to -infinity, so it has no effect) but will change in 0.21 to 1e-3. Specify tol to silence this warning.\n",
      "  FutureWarning)\n"
     ]
    },
    {
     "name": "stdout",
     "output_type": "stream",
     "text": [
      "CPU times: user 7.14 s, sys: 108 ms, total: 7.25 s\n",
      "Wall time: 1min 20s\n"
     ]
    }
   ],
   "source": [
    "# Grid search with SVM classifier\n",
    "%%time\n",
    "parameters_svm = {'vect__ngram_range': [(1, 1), (1, 2)],\n",
    "               'tfidf__use_idf': (True, False),\n",
    "               'clf-svm__alpha': (1e-2, 1e-3),\n",
    "}\n",
    "gs_clf_svm = GridSearchCV(text_clf_svm, parameters_svm, n_jobs=-1)\n",
    "gs_clf_svm = gs_clf_svm.fit(X_train, y_train)"
   ]
  },
  {
   "cell_type": "code",
   "execution_count": 29,
   "metadata": {
    "colab": {
     "base_uri": "https://localhost:8080/",
     "height": 53
    },
    "colab_type": "code",
    "id": "-XETGnmk5Hvz",
    "outputId": "df61de12-1078-400c-ff14-c6e4bc2e29e1"
   },
   "outputs": [
    {
     "name": "stdout",
     "output_type": "stream",
     "text": [
      "0.40693376386115476\n"
     ]
    },
    {
     "data": {
      "text/plain": [
       "{'clf-svm__alpha': 0.001, 'tfidf__use_idf': True, 'vect__ngram_range': (1, 2)}"
      ]
     },
     "execution_count": 29,
     "metadata": {
      "tags": []
     },
     "output_type": "execute_result"
    }
   ],
   "source": [
    "print(gs_clf_svm.best_score_)\n",
    "gs_clf_svm.best_params_"
   ]
  },
  {
   "cell_type": "code",
   "execution_count": 30,
   "metadata": {
    "colab": {
     "base_uri": "https://localhost:8080/",
     "height": 90
    },
    "colab_type": "code",
    "id": "gtVNJtrS9XI_",
    "outputId": "e2a1f8bf-285c-41ab-bb92-cdb040f6ed3d"
   },
   "outputs": [
    {
     "name": "stdout",
     "output_type": "stream",
     "text": [
      "[nltk_data] Downloading package stopwords to /root/nltk_data...\n",
      "[nltk_data]   Package stopwords is already up-to-date!\n",
      "CPU times: user 8.28 s, sys: 35.2 ms, total: 8.32 s\n",
      "Wall time: 8.37 s\n"
     ]
    }
   ],
   "source": [
    "%%time\n",
    "import nltk\n",
    "nltk.download('stopwords')\n",
    "\n",
    "from nltk.stem.snowball import SnowballStemmer\n",
    "stemmer = SnowballStemmer(\"english\", ignore_stopwords=True)\n",
    "\n",
    "class StemmedCountVectorizer(CountVectorizer):\n",
    "    def build_analyzer(self):\n",
    "        analyzer = super(StemmedCountVectorizer, self).build_analyzer()\n",
    "        return lambda doc: ([stemmer.stem(w) for w in analyzer(doc)])\n",
    "\n",
    "stemmed_count_vect = StemmedCountVectorizer(stop_words='english')\n",
    "\n",
    "text_mnb_stemmed = Pipeline([('vect', stemmed_count_vect),\n",
    "                      ('tfidf', TfidfTransformer()),\n",
    "                      ('mnb', MultinomialNB(fit_prior=False)),\n",
    "])\n",
    "\n",
    "text_mnb_stemmed = text_mnb_stemmed.fit(X_train, y_train)\n",
    "\n",
    "predicted_mnb_stemmed = text_mnb_stemmed.predict(X_test)"
   ]
  },
  {
   "cell_type": "code",
   "execution_count": 31,
   "metadata": {
    "colab": {
     "base_uri": "https://localhost:8080/",
     "height": 35
    },
    "colab_type": "code",
    "id": "aS5CN9ue9wdD",
    "outputId": "939b225f-6f7e-4761-caea-16d38f96983a"
   },
   "outputs": [
    {
     "data": {
      "text/plain": [
       "0.1480033984706882"
      ]
     },
     "execution_count": 31,
     "metadata": {
      "tags": []
     },
     "output_type": "execute_result"
    }
   ],
   "source": [
    "np.mean(predicted_mnb_stemmed == y_test)"
   ]
  },
  {
   "cell_type": "code",
   "execution_count": 0,
   "metadata": {
    "colab": {},
    "colab_type": "code",
    "id": "K37rYmYtBfAR"
   },
   "outputs": [],
   "source": [
    "from sklearn.svm import LinearSVC\n",
    "from sklearn.linear_model import LogisticRegression\n",
    "from sklearn.ensemble import RandomForestClassifier\n",
    "from sklearn.neural_network import MLPClassifier\n",
    "from sklearn.model_selection import GridSearchCV\n",
    "from sklearn.model_selection import train_test_split\n",
    "import numpy as np\n",
    "from sklearn.feature_extraction.text import TfidfVectorizer\n",
    "from sklearn.pipeline import Pipeline"
   ]
  },
  {
   "cell_type": "code",
   "execution_count": 0,
   "metadata": {
    "colab": {},
    "colab_type": "code",
    "id": "U9PzsjFoCTkA"
   },
   "outputs": [],
   "source": [
    "vectorizers = [\n",
    "    TfidfVectorizer(stop_words='english',\n",
    "                    max_features=None),\n",
    "    CountVectorizer(stop_words='english',\n",
    "                   max_features=None)\n",
    "]\n",
    "\n",
    "classifiers = [\n",
    "    MultinomialNB(),\n",
    "    LinearSVC(),\n",
    "    LogisticRegression(),\n",
    "    RandomForestClassifier(),\n",
    "    SGDClassifier()\n",
    "]\n",
    "\n",
    "clf_names = [\n",
    "         \"Naive Bayes\",\n",
    "         \"Linear SVC\",\n",
    "         \"Logistic Regression\",\n",
    "         \"Random Forest\",\n",
    "        ]\n",
    "\n",
    "vect_names = [\n",
    "    \"TfidfVectorizer\",\n",
    "    \"CountVectorizer\"\n",
    "]\n",
    "\n",
    "clf_params = [\n",
    "              {'vect__ngram_range': [(1, 1), (1, 2)],\n",
    "              'clf__alpha': (1e-2, 1e-3)},\n",
    "              {'vect__ngram_range': [(1, 1), (1, 2)],\n",
    "              'clf__C': (np.logspace(-5, 1, 5))},\n",
    "              {'vect__ngram_range': [(1, 1), (1, 2)],\n",
    "              'clf__C': (np.logspace(-5, 1, 5))},\n",
    "              {'vect__ngram_range': [(1, 1), (1, 2)],\n",
    "              'clf__max_depth': (1, 2)},\n",
    "             ]"
   ]
  },
  {
   "cell_type": "code",
   "execution_count": 34,
   "metadata": {
    "colab": {
     "base_uri": "https://localhost:8080/",
     "height": 2871
    },
    "colab_type": "code",
    "id": "0x0B5t8gDVNH",
    "outputId": "8ff09d90-326b-48d3-8908-9bdf7c6abd12"
   },
   "outputs": [
    {
     "name": "stdout",
     "output_type": "stream",
     "text": [
      "CPU times: user 4 µs, sys: 0 ns, total: 4 µs\n",
      "Wall time: 7.39 µs\n",
      "Fitting 5 folds for each of 4 candidates, totalling 20 fits\n"
     ]
    },
    {
     "name": "stderr",
     "output_type": "stream",
     "text": [
      "[Parallel(n_jobs=-1)]: Using backend LokyBackend with 2 concurrent workers.\n",
      "[Parallel(n_jobs=-1)]: Done   1 tasks      | elapsed:    2.3s\n",
      "[Parallel(n_jobs=-1)]: Done   4 tasks      | elapsed:    4.7s\n",
      "/usr/local/lib/python3.6/dist-packages/sklearn/externals/joblib/externals/loky/process_executor.py:706: UserWarning: A worker stopped while some jobs were given to the executor. This can be caused by a too short worker timeout or by a memory leak.\n",
      "  \"timeout or by a memory leak.\", UserWarning\n",
      "[Parallel(n_jobs=-1)]: Done   9 tasks      | elapsed:   27.2s\n",
      "[Parallel(n_jobs=-1)]: Done  14 tasks      | elapsed:   36.0s\n",
      "[Parallel(n_jobs=-1)]: Done  20 out of  20 | elapsed:   59.5s remaining:    0.0s\n",
      "[Parallel(n_jobs=-1)]: Done  20 out of  20 | elapsed:   59.5s finished\n"
     ]
    },
    {
     "name": "stdout",
     "output_type": "stream",
     "text": [
      "\n",
      "Classifier: Naive Bayes\n",
      "Vectorizer: TfidfVectorizer\n",
      "Score: 0.2604\n",
      "Params: {'clf__alpha': 0.001, 'vect__ngram_range': (1, 2)}\n",
      "------------------------------\n",
      "            \n",
      "Fitting 5 folds for each of 4 candidates, totalling 20 fits\n"
     ]
    },
    {
     "name": "stderr",
     "output_type": "stream",
     "text": [
      "[Parallel(n_jobs=-1)]: Using backend LokyBackend with 2 concurrent workers.\n",
      "[Parallel(n_jobs=-1)]: Done   1 tasks      | elapsed:    2.3s\n",
      "[Parallel(n_jobs=-1)]: Done   4 tasks      | elapsed:    5.9s\n",
      "/usr/local/lib/python3.6/dist-packages/sklearn/externals/joblib/externals/loky/process_executor.py:706: UserWarning: A worker stopped while some jobs were given to the executor. This can be caused by a too short worker timeout or by a memory leak.\n",
      "  \"timeout or by a memory leak.\", UserWarning\n",
      "[Parallel(n_jobs=-1)]: Done   9 tasks      | elapsed:   25.9s\n",
      "[Parallel(n_jobs=-1)]: Done  14 tasks      | elapsed:   35.6s\n",
      "[Parallel(n_jobs=-1)]: Done  20 out of  20 | elapsed:   59.7s remaining:    0.0s\n",
      "[Parallel(n_jobs=-1)]: Done  20 out of  20 | elapsed:   59.7s finished\n"
     ]
    },
    {
     "name": "stdout",
     "output_type": "stream",
     "text": [
      "\n",
      "Classifier: Naive Bayes\n",
      "Vectorizer: CountVectorizer\n",
      "Score: 0.2617\n",
      "Params: {'clf__alpha': 0.01, 'vect__ngram_range': (1, 2)}\n",
      "------------------------------\n",
      "            \n",
      "Fitting 5 folds for each of 10 candidates, totalling 50 fits\n"
     ]
    },
    {
     "name": "stderr",
     "output_type": "stream",
     "text": [
      "[Parallel(n_jobs=-1)]: Using backend LokyBackend with 2 concurrent workers.\n",
      "[Parallel(n_jobs=-1)]: Done   1 tasks      | elapsed:    9.3s\n",
      "[Parallel(n_jobs=-1)]: Done   4 tasks      | elapsed:   19.8s\n",
      "/usr/local/lib/python3.6/dist-packages/sklearn/externals/joblib/externals/loky/process_executor.py:706: UserWarning: A worker stopped while some jobs were given to the executor. This can be caused by a too short worker timeout or by a memory leak.\n",
      "  \"timeout or by a memory leak.\", UserWarning\n",
      "[Parallel(n_jobs=-1)]: Done   9 tasks      | elapsed:  1.1min\n",
      "[Parallel(n_jobs=-1)]: Done  14 tasks      | elapsed:  1.5min\n",
      "[Parallel(n_jobs=-1)]: Done  21 tasks      | elapsed:  2.4min\n",
      "[Parallel(n_jobs=-1)]: Done  28 tasks      | elapsed:  3.4min\n",
      "[Parallel(n_jobs=-1)]: Done  37 tasks      | elapsed:  4.3min\n",
      "[Parallel(n_jobs=-1)]: Done  46 tasks      | elapsed:  8.2min\n",
      "[Parallel(n_jobs=-1)]: Done  50 out of  50 | elapsed: 12.2min finished\n"
     ]
    },
    {
     "name": "stdout",
     "output_type": "stream",
     "text": [
      "\n",
      "Classifier: Linear SVC\n",
      "Vectorizer: TfidfVectorizer\n",
      "Score: 0.4033\n",
      "Params: {'clf__C': 0.31622776601683794, 'vect__ngram_range': (1, 2)}\n",
      "------------------------------\n",
      "            \n",
      "Fitting 5 folds for each of 10 candidates, totalling 50 fits\n"
     ]
    },
    {
     "name": "stderr",
     "output_type": "stream",
     "text": [
      "[Parallel(n_jobs=-1)]: Using backend LokyBackend with 2 concurrent workers.\n",
      "[Parallel(n_jobs=-1)]: Done   1 tasks      | elapsed:   10.6s\n",
      "[Parallel(n_jobs=-1)]: Done   4 tasks      | elapsed:   21.8s\n",
      "[Parallel(n_jobs=-1)]: Done   9 tasks      | elapsed:  1.4min\n",
      "[Parallel(n_jobs=-1)]: Done  14 tasks      | elapsed:  1.9min\n",
      "[Parallel(n_jobs=-1)]: Done  21 tasks      | elapsed:  2.9min\n",
      "[Parallel(n_jobs=-1)]: Done  28 tasks      | elapsed:  3.7min\n",
      "[Parallel(n_jobs=-1)]: Done  37 tasks      | elapsed:  5.5min\n",
      "[Parallel(n_jobs=-1)]: Done  46 tasks      | elapsed: 11.5min\n",
      "[Parallel(n_jobs=-1)]: Done  50 out of  50 | elapsed: 16.3min finished\n"
     ]
    },
    {
     "name": "stdout",
     "output_type": "stream",
     "text": [
      "\n",
      "Classifier: Linear SVC\n",
      "Vectorizer: CountVectorizer\n",
      "Score: 0.3959\n",
      "Params: {'clf__C': 0.01, 'vect__ngram_range': (1, 2)}\n",
      "------------------------------\n",
      "            \n",
      "Fitting 5 folds for each of 10 candidates, totalling 50 fits\n"
     ]
    },
    {
     "name": "stderr",
     "output_type": "stream",
     "text": [
      "[Parallel(n_jobs=-1)]: Using backend LokyBackend with 2 concurrent workers.\n",
      "[Parallel(n_jobs=-1)]: Done   1 tasks      | elapsed:    9.2s\n",
      "[Parallel(n_jobs=-1)]: Done   4 tasks      | elapsed:   17.6s\n",
      "/usr/local/lib/python3.6/dist-packages/sklearn/externals/joblib/externals/loky/process_executor.py:706: UserWarning: A worker stopped while some jobs were given to the executor. This can be caused by a too short worker timeout or by a memory leak.\n",
      "  \"timeout or by a memory leak.\", UserWarning\n",
      "[Parallel(n_jobs=-1)]: Done   9 tasks      | elapsed:  1.5min\n",
      "[Parallel(n_jobs=-1)]: Done  14 tasks      | elapsed:  2.2min\n",
      "[Parallel(n_jobs=-1)]: Done  21 tasks      | elapsed:  4.2min\n",
      "[Parallel(n_jobs=-1)]: Done  28 tasks      | elapsed:  7.0min\n",
      "[Parallel(n_jobs=-1)]: Done  37 tasks      | elapsed:  9.9min\n",
      "[Parallel(n_jobs=-1)]: Done  46 tasks      | elapsed: 16.0min\n",
      "[Parallel(n_jobs=-1)]: Done  50 out of  50 | elapsed: 20.4min finished\n",
      "/usr/local/lib/python3.6/dist-packages/sklearn/linear_model/logistic.py:433: FutureWarning: Default solver will be changed to 'lbfgs' in 0.22. Specify a solver to silence this warning.\n",
      "  FutureWarning)\n",
      "/usr/local/lib/python3.6/dist-packages/sklearn/linear_model/logistic.py:460: FutureWarning: Default multi_class will be changed to 'auto' in 0.22. Specify the multi_class option to silence this warning.\n",
      "  \"this warning.\", FutureWarning)\n"
     ]
    },
    {
     "name": "stdout",
     "output_type": "stream",
     "text": [
      "\n",
      "Classifier: Logistic Regression\n",
      "Vectorizer: TfidfVectorizer\n",
      "Score: 0.3758\n",
      "Params: {'clf__C': 10.0, 'vect__ngram_range': (1, 2)}\n",
      "------------------------------\n",
      "            \n",
      "Fitting 5 folds for each of 10 candidates, totalling 50 fits\n"
     ]
    },
    {
     "name": "stderr",
     "output_type": "stream",
     "text": [
      "[Parallel(n_jobs=-1)]: Using backend LokyBackend with 2 concurrent workers.\n",
      "[Parallel(n_jobs=-1)]: Done   1 tasks      | elapsed:    9.9s\n",
      "[Parallel(n_jobs=-1)]: Done   4 tasks      | elapsed:   20.7s\n",
      "/usr/local/lib/python3.6/dist-packages/sklearn/externals/joblib/externals/loky/process_executor.py:706: UserWarning: A worker stopped while some jobs were given to the executor. This can be caused by a too short worker timeout or by a memory leak.\n",
      "  \"timeout or by a memory leak.\", UserWarning\n",
      "[Parallel(n_jobs=-1)]: Done   9 tasks      | elapsed:  1.9min\n",
      "[Parallel(n_jobs=-1)]: Done  14 tasks      | elapsed:  2.7min\n",
      "[Parallel(n_jobs=-1)]: Done  21 tasks      | elapsed:  5.7min\n",
      "[Parallel(n_jobs=-1)]: Done  28 tasks      | elapsed:  9.1min\n",
      "[Parallel(n_jobs=-1)]: Done  37 tasks      | elapsed: 15.0min\n",
      "[Parallel(n_jobs=-1)]: Done  46 tasks      | elapsed: 27.8min\n",
      "[Parallel(n_jobs=-1)]: Done  50 out of  50 | elapsed: 35.7min finished\n",
      "/usr/local/lib/python3.6/dist-packages/sklearn/linear_model/logistic.py:433: FutureWarning: Default solver will be changed to 'lbfgs' in 0.22. Specify a solver to silence this warning.\n",
      "  FutureWarning)\n",
      "/usr/local/lib/python3.6/dist-packages/sklearn/linear_model/logistic.py:460: FutureWarning: Default multi_class will be changed to 'auto' in 0.22. Specify the multi_class option to silence this warning.\n",
      "  \"this warning.\", FutureWarning)\n"
     ]
    },
    {
     "name": "stdout",
     "output_type": "stream",
     "text": [
      "\n",
      "Classifier: Logistic Regression\n",
      "Vectorizer: CountVectorizer\n",
      "Score: 0.3540\n",
      "Params: {'clf__C': 0.31622776601683794, 'vect__ngram_range': (1, 1)}\n",
      "------------------------------\n",
      "            \n",
      "Fitting 5 folds for each of 4 candidates, totalling 20 fits\n"
     ]
    },
    {
     "name": "stderr",
     "output_type": "stream",
     "text": [
      "[Parallel(n_jobs=-1)]: Using backend LokyBackend with 2 concurrent workers.\n",
      "[Parallel(n_jobs=-1)]: Done   1 tasks      | elapsed:    2.2s\n",
      "[Parallel(n_jobs=-1)]: Done   4 tasks      | elapsed:    4.5s\n",
      "[Parallel(n_jobs=-1)]: Done   9 tasks      | elapsed:   16.4s\n",
      "[Parallel(n_jobs=-1)]: Done  14 tasks      | elapsed:   22.5s\n",
      "[Parallel(n_jobs=-1)]: Done  20 out of  20 | elapsed:   36.9s remaining:    0.0s\n",
      "[Parallel(n_jobs=-1)]: Done  20 out of  20 | elapsed:   36.9s finished\n",
      "/usr/local/lib/python3.6/dist-packages/sklearn/ensemble/forest.py:246: FutureWarning: The default value of n_estimators will change from 10 in version 0.20 to 100 in 0.22.\n",
      "  \"10 in version 0.20 to 100 in 0.22.\", FutureWarning)\n",
      "[Parallel(n_jobs=-1)]: Using backend LokyBackend with 2 concurrent workers.\n"
     ]
    },
    {
     "name": "stdout",
     "output_type": "stream",
     "text": [
      "\n",
      "Classifier: Random Forest\n",
      "Vectorizer: TfidfVectorizer\n",
      "Score: 0.0720\n",
      "Params: {'clf__max_depth': 2, 'vect__ngram_range': (1, 1)}\n",
      "------------------------------\n",
      "            \n",
      "Fitting 5 folds for each of 4 candidates, totalling 20 fits\n"
     ]
    },
    {
     "name": "stderr",
     "output_type": "stream",
     "text": [
      "[Parallel(n_jobs=-1)]: Done   1 tasks      | elapsed:    2.3s\n",
      "[Parallel(n_jobs=-1)]: Done   4 tasks      | elapsed:    4.8s\n",
      "[Parallel(n_jobs=-1)]: Done   9 tasks      | elapsed:   16.1s\n",
      "[Parallel(n_jobs=-1)]: Done  14 tasks      | elapsed:   21.9s\n",
      "[Parallel(n_jobs=-1)]: Done  20 out of  20 | elapsed:   35.2s remaining:    0.0s\n",
      "[Parallel(n_jobs=-1)]: Done  20 out of  20 | elapsed:   35.2s finished\n"
     ]
    },
    {
     "name": "stdout",
     "output_type": "stream",
     "text": [
      "\n",
      "Classifier: Random Forest\n",
      "Vectorizer: CountVectorizer\n",
      "Score: 0.0773\n",
      "Params: {'clf__max_depth': 2, 'vect__ngram_range': (1, 1)}\n",
      "------------------------------\n",
      "            \n"
     ]
    },
    {
     "name": "stderr",
     "output_type": "stream",
     "text": [
      "/usr/local/lib/python3.6/dist-packages/sklearn/ensemble/forest.py:246: FutureWarning: The default value of n_estimators will change from 10 in version 0.20 to 100 in 0.22.\n",
      "  \"10 in version 0.20 to 100 in 0.22.\", FutureWarning)\n"
     ]
    }
   ],
   "source": [
    "%time\n",
    "models = []\n",
    "for classifier, clf_name, params in zip(classifiers, \n",
    "                                        clf_names, \n",
    "                                        clf_params):\n",
    "    for vectorizer, vect_name in zip(vectorizers, \n",
    "                                     vect_names):\n",
    "        pipe = Pipeline([\n",
    "            ('vect', vectorizer),\n",
    "            ('clf', classifier),\n",
    "        ])\n",
    "        gs = GridSearchCV(pipe, \n",
    "                          param_grid=params, \n",
    "                          n_jobs=-1,\n",
    "                          scoring='accuracy',\n",
    "                          cv=5,\n",
    "                          verbose=10)\n",
    "        \n",
    "        gs.fit(df.post_txt, df.category_id)\n",
    "        score = gs.best_score_\n",
    "        print(f'''\n",
    "Classifier: {clf_name}\n",
    "Vectorizer: {vect_name}\n",
    "Score: {gs.best_score_:.4f}\n",
    "Params: {gs.best_params_}\n",
    "------------------------------\n",
    "            ''')\n",
    "        models.append((clf_name, vect_name, gs.best_score_, gs.best_params_))"
   ]
  },
  {
   "cell_type": "code",
   "execution_count": 35,
   "metadata": {
    "colab": {
     "base_uri": "https://localhost:8080/",
     "height": 126
    },
    "colab_type": "code",
    "id": "XTc19t_OESs2",
    "outputId": "eead4b16-3501-43f9-c49a-f88b0b40bb15"
   },
   "outputs": [
    {
     "name": "stdout",
     "output_type": "stream",
     "text": [
      "And the winner is...\n",
      "\n",
      "Classifier: Linear SVC\n",
      "Vectorizer: TfidfVectorizer\n",
      "Score: 0.40326966215756915\n",
      "Params: {'clf__C': 0.31622776601683794, 'vect__ngram_range': (1, 2)}\n"
     ]
    }
   ],
   "source": [
    "models = sorted(models, key=lambda tup: tup[2])\n",
    "print('And the winner is...')\n",
    "print()\n",
    "print('Classifier:', models[-1][0])\n",
    "print('Vectorizer:', models[-1][1])\n",
    "print('Score:', models[-1][2])\n",
    "print('Params:', models[-1][3])"
   ]
  },
  {
   "cell_type": "code",
   "execution_count": 0,
   "metadata": {
    "colab": {},
    "colab_type": "code",
    "id": "sd38WHnUps-b"
   },
   "outputs": [],
   "source": []
  }
 ],
 "metadata": {
  "accelerator": "GPU",
  "colab": {
   "collapsed_sections": [],
   "name": "Online Support Groups.ipynb",
   "provenance": [],
   "version": "0.3.2"
  },
  "kernelspec": {
   "display_name": "Python 3",
   "language": "python",
   "name": "python3"
  },
  "language_info": {
   "codemirror_mode": {
    "name": "ipython",
    "version": 3
   },
   "file_extension": ".py",
   "mimetype": "text/x-python",
   "name": "python",
   "nbconvert_exporter": "python",
   "pygments_lexer": "ipython3",
   "version": "3.6.5"
  }
 },
 "nbformat": 4,
 "nbformat_minor": 1
}
