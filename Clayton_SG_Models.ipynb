{
 "cells": [
  {
   "cell_type": "code",
   "execution_count": 1,
   "metadata": {},
   "outputs": [],
   "source": [
    "import pickle\n",
    "import pandas as pd\n",
    "from bs4 import BeautifulSoup\n",
    "from urllib.request import Request, urlopen\n",
    "import re\n",
    "import time\n",
    "import itertools"
   ]
  },
  {
   "cell_type": "code",
   "execution_count": 2,
   "metadata": {},
   "outputs": [],
   "source": [
    "sg = pickle.load(open('sg_post_df.pkl', 'br'))\n",
    "sg = sg[['post_number', 'post_txt', 'groups']]\n",
    "sg = sg.drop_duplicates()"
   ]
  },
  {
   "cell_type": "code",
   "execution_count": 3,
   "metadata": {},
   "outputs": [
    {
     "data": {
      "text/html": [
       "<div>\n",
       "<style scoped>\n",
       "    .dataframe tbody tr th:only-of-type {\n",
       "        vertical-align: middle;\n",
       "    }\n",
       "\n",
       "    .dataframe tbody tr th {\n",
       "        vertical-align: top;\n",
       "    }\n",
       "\n",
       "    .dataframe thead th {\n",
       "        text-align: right;\n",
       "    }\n",
       "</style>\n",
       "<table border=\"1\" class=\"dataframe\">\n",
       "  <thead>\n",
       "    <tr style=\"text-align: right;\">\n",
       "      <th></th>\n",
       "      <th>post_number</th>\n",
       "      <th>post_txt</th>\n",
       "      <th>groups</th>\n",
       "    </tr>\n",
       "  </thead>\n",
       "  <tbody>\n",
       "    <tr>\n",
       "      <th>3441</th>\n",
       "      <td>602174</td>\n",
       "      <td>['n  ', 'Hi, Iu0027m new here. Not sure how th...</td>\n",
       "      <td>[' HIV']</td>\n",
       "    </tr>\n",
       "    <tr>\n",
       "      <th>11427</th>\n",
       "      <td>555843</td>\n",
       "      <td>['n  ', 'Hi, Iu0027m new to the group.  I need...</td>\n",
       "      <td>[' Sleep Apnea']</td>\n",
       "    </tr>\n",
       "    <tr>\n",
       "      <th>36108</th>\n",
       "      <td>150825</td>\n",
       "      <td>['n  Hello everyone! I am new on here. I am 27...</td>\n",
       "      <td>[' Obesity']</td>\n",
       "    </tr>\n",
       "    <tr>\n",
       "      <th>9575</th>\n",
       "      <td>538232</td>\n",
       "      <td>['n  I do know what to do I have been throwing...</td>\n",
       "      <td>[' Trying To Conceive']</td>\n",
       "    </tr>\n",
       "    <tr>\n",
       "      <th>1082</th>\n",
       "      <td>590795</td>\n",
       "      <td>['n  ', 'Is anyone a T1 diabetic as everyone I...</td>\n",
       "      <td>[' Diabetes']</td>\n",
       "    </tr>\n",
       "  </tbody>\n",
       "</table>\n",
       "</div>"
      ],
      "text/plain": [
       "      post_number                                           post_txt  \\\n",
       "3441       602174  ['n  ', 'Hi, Iu0027m new here. Not sure how th...   \n",
       "11427      555843  ['n  ', 'Hi, Iu0027m new to the group.  I need...   \n",
       "36108      150825  ['n  Hello everyone! I am new on here. I am 27...   \n",
       "9575       538232  ['n  I do know what to do I have been throwing...   \n",
       "1082       590795  ['n  ', 'Is anyone a T1 diabetic as everyone I...   \n",
       "\n",
       "                        groups  \n",
       "3441                  [' HIV']  \n",
       "11427         [' Sleep Apnea']  \n",
       "36108             [' Obesity']  \n",
       "9575   [' Trying To Conceive']  \n",
       "1082             [' Diabetes']  "
      ]
     },
     "execution_count": 3,
     "metadata": {},
     "output_type": "execute_result"
    }
   ],
   "source": [
    "sg.sample(5)\n"
   ]
  },
  {
   "cell_type": "code",
   "execution_count": 4,
   "metadata": {},
   "outputs": [
    {
     "data": {
      "text/html": [
       "<div>\n",
       "<style scoped>\n",
       "    .dataframe tbody tr th:only-of-type {\n",
       "        vertical-align: middle;\n",
       "    }\n",
       "\n",
       "    .dataframe tbody tr th {\n",
       "        vertical-align: top;\n",
       "    }\n",
       "\n",
       "    .dataframe thead th {\n",
       "        text-align: right;\n",
       "    }\n",
       "</style>\n",
       "<table border=\"1\" class=\"dataframe\">\n",
       "  <thead>\n",
       "    <tr style=\"text-align: right;\">\n",
       "      <th></th>\n",
       "      <th>post_number</th>\n",
       "      <th>post_txt</th>\n",
       "      <th>groups</th>\n",
       "    </tr>\n",
       "  </thead>\n",
       "  <tbody>\n",
       "    <tr>\n",
       "      <th>18111</th>\n",
       "      <td>403378</td>\n",
       "      <td>n  ', 'Is anyone here being bullied that can g...</td>\n",
       "      <td>[ Bullying]</td>\n",
       "    </tr>\n",
       "    <tr>\n",
       "      <th>4519</th>\n",
       "      <td>523422</td>\n",
       "      <td>n  ', 'I have a cousin in the navy and I miss ...</td>\n",
       "      <td>[ Military Family]</td>\n",
       "    </tr>\n",
       "    <tr>\n",
       "      <th>4343</th>\n",
       "      <td>596828</td>\n",
       "      <td>n  ', 'https://www.bbc.co.uk/programmes/m00019...</td>\n",
       "      <td>[ Personality Disorder]</td>\n",
       "    </tr>\n",
       "    <tr>\n",
       "      <th>22680</th>\n",
       "      <td>368907</td>\n",
       "      <td>n  (coinued from above).  Anyhow, now my physi...</td>\n",
       "      <td>[ Incest Survivors]</td>\n",
       "    </tr>\n",
       "    <tr>\n",
       "      <th>15029</th>\n",
       "      <td>383304</td>\n",
       "      <td>n  Well Iu0027m down to 3.00 dollers in loose ...</td>\n",
       "      <td>[ Shopping Addiction]</td>\n",
       "    </tr>\n",
       "  </tbody>\n",
       "</table>\n",
       "</div>"
      ],
      "text/plain": [
       "       post_number                                           post_txt  \\\n",
       "18111       403378  n  ', 'Is anyone here being bullied that can g...   \n",
       "4519        523422  n  ', 'I have a cousin in the navy and I miss ...   \n",
       "4343        596828  n  ', 'https://www.bbc.co.uk/programmes/m00019...   \n",
       "22680       368907  n  (coinued from above).  Anyhow, now my physi...   \n",
       "15029       383304  n  Well Iu0027m down to 3.00 dollers in loose ...   \n",
       "\n",
       "                        groups  \n",
       "18111              [ Bullying]  \n",
       "4519        [ Military Family]  \n",
       "4343   [ Personality Disorder]  \n",
       "22680      [ Incest Survivors]  \n",
       "15029    [ Shopping Addiction]  "
      ]
     },
     "execution_count": 4,
     "metadata": {},
     "output_type": "execute_result"
    }
   ],
   "source": [
    "sg['post_number'] = sg['post_number'].astype(int)\n",
    "sg['groups'] = sg['groups'].str.strip('[]\\'').str.split(',')\n",
    "sg['post_txt'] = sg['post_txt'].str.strip('[]\\'')\n",
    "sg.sample(5)"
   ]
  },
  {
   "cell_type": "code",
   "execution_count": 6,
   "metadata": {},
   "outputs": [],
   "source": [
    "pickle.dump(sg, open('sg_post_dfv2.pkl', 'bw'))"
   ]
  },
  {
   "cell_type": "code",
   "execution_count": null,
   "metadata": {},
   "outputs": [],
   "source": []
  }
 ],
 "metadata": {
  "kernelspec": {
   "display_name": "Python 3",
   "language": "python",
   "name": "python3"
  },
  "language_info": {
   "codemirror_mode": {
    "name": "ipython",
    "version": 3
   },
   "file_extension": ".py",
   "mimetype": "text/x-python",
   "name": "python",
   "nbconvert_exporter": "python",
   "pygments_lexer": "ipython3",
   "version": "3.6.5"
  }
 },
 "nbformat": 4,
 "nbformat_minor": 2
}
