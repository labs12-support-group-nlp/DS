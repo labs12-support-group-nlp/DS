{
 "cells": [
  {
   "cell_type": "code",
   "execution_count": 1,
   "metadata": {},
   "outputs": [],
   "source": [
    "import pickle\n",
    "import pandas as pd\n",
    "from bs4 import BeautifulSoup\n",
    "from urllib.request import Request, urlopen\n",
    "import re\n",
    "import time\n",
    "import numpy as np\n"
   ]
  },
  {
   "cell_type": "code",
   "execution_count": 2,
   "metadata": {},
   "outputs": [],
   "source": [
    "# Extracting full post text and group number from scraped paged and adding to df"
   ]
  },
  {
   "cell_type": "code",
   "execution_count": 3,
   "metadata": {},
   "outputs": [],
   "source": [
    "txt = open(\"post4.txt\",\"r\") \n",
    "long_soup = txt.read()"
   ]
  },
  {
   "cell_type": "code",
   "execution_count": 4,
   "metadata": {},
   "outputs": [
    {
     "data": {
      "text/plain": [
       "'104230'"
      ]
     },
     "execution_count": 4,
     "metadata": {},
     "output_type": "execute_result"
    }
   ],
   "source": [
    "# Extract post number\n",
    "\n",
    "def extract_post_num (txt):\n",
    "    if txt != 'blank_data':\n",
    "        epn = re.findall (r'activity-item-body-text-(.*)\"', str(txt))\n",
    "        return epn[0]\n",
    "    else:\n",
    "        return np.nan        \n",
    "\n",
    "extract_post_num(long_soup)"
   ]
  },
  {
   "cell_type": "code",
   "execution_count": 5,
   "metadata": {},
   "outputs": [
    {
     "data": {
      "text/plain": [
       "'\">\\n<p>No legal support from military after I caught my husband cheating. Legal told me not to say anything because he is the victim. SERIOUSLY<br/>\\nhe cleared bank accounts, changed all passwords, closed my 2 year old granddaughter college fun and is out having an affair and he is the victim. Left me an account with 200 dollars, no idea what to do now.</p>\\n</span>\\n</div>\\n<span class=\"comment-postbutton\" id=\"comment-postbutton-'"
      ]
     },
     "execution_count": 5,
     "metadata": {},
     "output_type": "execute_result"
    }
   ],
   "source": [
    "x = re.split (extract_post_num(long_soup) , str(long_soup))\n",
    "x[15]"
   ]
  },
  {
   "cell_type": "code",
   "execution_count": 6,
   "metadata": {},
   "outputs": [
    {
     "data": {
      "text/plain": [
       "'npNo legal support from military after I caught my husband cheating Legal told me not to say anything because he is the victim SERIOUSLYbrnhe cleared bank accounts changed all passwords closed my  year old granddaughter college fun and is out having an affair and he is the victim Left me an account with  dollars no idea what to do now'"
      ]
     },
     "execution_count": 6,
     "metadata": {},
     "output_type": "execute_result"
    }
   ],
   "source": [
    "# Extract OP...\n",
    "\n",
    "def extract_op (txt):\n",
    "    if txt != 'blank_data':\n",
    "        #op = re.split (extract_post_num(txt) , str(txt))\n",
    "        op = re.findall (r'id=\"activity-item-body-text-(.+?)</p>', txt, flags= re.DOTALL)\n",
    "        op = re.sub(r'[^a-zA-Z ]+', '', str(op))\n",
    "        return op\n",
    "    else:\n",
    "        return np.nan\n",
    "    \n",
    "extract_op(long_soup)"
   ]
  },
  {
   "cell_type": "code",
   "execution_count": 7,
   "metadata": {},
   "outputs": [
    {
     "data": {
      "text/plain": [
       "['<a href=\"https://military-family.supportgroups.com\">Military Family']"
      ]
     },
     "execution_count": 7,
     "metadata": {},
     "output_type": "execute_result"
    }
   ],
   "source": [
    "re.findall (r'<span class=\"in-group\"> in (.+?)<', long_soup, flags= re.DOTALL)"
   ]
  },
  {
   "cell_type": "code",
   "execution_count": 8,
   "metadata": {},
   "outputs": [
    {
     "data": {
      "text/plain": [
       "['Military Family']"
      ]
     },
     "execution_count": 8,
     "metadata": {},
     "output_type": "execute_result"
    }
   ],
   "source": [
    "def extract_groups(txt):\n",
    "    if txt != 'blank_data':\n",
    "        eg = re.findall (r'<span class=\"in-group\"> in (.+?)</span>', txt, flags= re.DOTALL)\n",
    "        eg = re.findall (r'[A-Z].*?(?=<)', str(eg), flags= re.DOTALL)\n",
    "        return eg\n",
    "    else:\n",
    "        return np.nan\n",
    "    \n",
    "extract_groups (long_soup)"
   ]
  },
  {
   "cell_type": "code",
   "execution_count": 9,
   "metadata": {},
   "outputs": [
    {
     "ename": "FileNotFoundError",
     "evalue": "[Errno 2] No such file or directory: 'post5.txt'",
     "output_type": "error",
     "traceback": [
      "\u001b[0;31m---------------------------------------------------------------------------\u001b[0m",
      "\u001b[0;31mFileNotFoundError\u001b[0m                         Traceback (most recent call last)",
      "\u001b[0;32m<ipython-input-9-9fdecbe80fbb>\u001b[0m in \u001b[0;36m<module>\u001b[0;34m()\u001b[0m\n\u001b[1;32m     32\u001b[0m \u001b[0;34m\u001b[0m\u001b[0m\n\u001b[1;32m     33\u001b[0m \u001b[0;34m\u001b[0m\u001b[0m\n\u001b[0;32m---> 34\u001b[0;31m \u001b[0mdf\u001b[0m \u001b[0;34m=\u001b[0m \u001b[0mwhole_post\u001b[0m\u001b[0;34m(\u001b[0m\u001b[0;34m)\u001b[0m\u001b[0;34m\u001b[0m\u001b[0m\n\u001b[0m",
      "\u001b[0;32m<ipython-input-9-9fdecbe80fbb>\u001b[0m in \u001b[0;36mwhole_post\u001b[0;34m(name, file_type, start_num, end_num)\u001b[0m\n\u001b[1;32m      8\u001b[0m     \u001b[0;32mfor\u001b[0m \u001b[0mi\u001b[0m \u001b[0;32min\u001b[0m \u001b[0mrange\u001b[0m\u001b[0;34m(\u001b[0m\u001b[0mstart_num\u001b[0m\u001b[0;34m,\u001b[0m \u001b[0mend_num\u001b[0m\u001b[0;34m+\u001b[0m\u001b[0;36m1\u001b[0m\u001b[0;34m)\u001b[0m\u001b[0;34m:\u001b[0m\u001b[0;34m\u001b[0m\u001b[0m\n\u001b[1;32m      9\u001b[0m         \u001b[0mfl\u001b[0m \u001b[0;34m=\u001b[0m \u001b[0mname\u001b[0m \u001b[0;34m+\u001b[0m \u001b[0mstr\u001b[0m\u001b[0;34m(\u001b[0m\u001b[0mi\u001b[0m\u001b[0;34m)\u001b[0m \u001b[0;34m+\u001b[0m \u001b[0mfile_type\u001b[0m\u001b[0;34m\u001b[0m\u001b[0m\n\u001b[0;32m---> 10\u001b[0;31m         \u001b[0mfl\u001b[0m \u001b[0;34m=\u001b[0m \u001b[0mopen\u001b[0m\u001b[0;34m(\u001b[0m\u001b[0mfl\u001b[0m\u001b[0;34m,\u001b[0m\u001b[0;34m\"r\"\u001b[0m\u001b[0;34m)\u001b[0m\u001b[0;34m\u001b[0m\u001b[0m\n\u001b[0m\u001b[1;32m     11\u001b[0m         \u001b[0mpost\u001b[0m \u001b[0;34m=\u001b[0m \u001b[0mfl\u001b[0m\u001b[0;34m.\u001b[0m\u001b[0mread\u001b[0m\u001b[0;34m(\u001b[0m\u001b[0;34m)\u001b[0m\u001b[0;34m\u001b[0m\u001b[0m\n\u001b[1;32m     12\u001b[0m         \u001b[0;32mif\u001b[0m \u001b[0mpost\u001b[0m \u001b[0;34m!=\u001b[0m \u001b[0;34m'blank_data'\u001b[0m\u001b[0;34m:\u001b[0m\u001b[0;34m\u001b[0m\u001b[0m\n",
      "\u001b[0;31mFileNotFoundError\u001b[0m: [Errno 2] No such file or directory: 'post5.txt'"
     ]
    }
   ],
   "source": [
    "# Main function to open and perform other functions on each text file.  \n",
    "#Result will be df with cols post_number, original_post, responses\n",
    "\n",
    "def whole_post (name = 'post', file_type = '.txt', start_num = 0, end_num = 35157):\n",
    "    post_number = []\n",
    "    groups = []\n",
    "    pst = []\n",
    "    for i in range(start_num, end_num+1):\n",
    "        fl = name + str(i) + file_type\n",
    "        fl = open(fl,\"r\") \n",
    "        post = fl.read()\n",
    "        if post != 'blank_data':\n",
    "            epn = extract_post_num (post)\n",
    "            eg = extract_groups(post)\n",
    "            ep = extract_op(post)\n",
    "            post_number.append(epn)\n",
    "            groups.append(eg)\n",
    "            pst.append(ep)\n",
    "            \n",
    "        else:\n",
    "            post_number.append(np.nan)\n",
    "            groups.append(np.nan)\n",
    "            pst.append(np.nan)\n",
    "\n",
    "        fl.close()\n",
    "    df = pd.DataFrame(\n",
    "                     {'post_number': post_number,\n",
    "                      'long_post' : pst,\n",
    "                      'groups': groups\n",
    "                      })\n",
    "    return df\n",
    "\n",
    "\n",
    "df = whole_post()\n",
    "\n"
   ]
  },
  {
   "cell_type": "code",
   "execution_count": null,
   "metadata": {},
   "outputs": [],
   "source": [
    "# pickle.dump(df, open('Clayton_SG_FullPost_df.pkl', 'bw'))"
   ]
  },
  {
   "cell_type": "code",
   "execution_count": null,
   "metadata": {},
   "outputs": [],
   "source": [
    "df.head()"
   ]
  },
  {
   "cell_type": "code",
   "execution_count": null,
   "metadata": {},
   "outputs": [],
   "source": [
    "df.long_post[15642].split()[0]"
   ]
  },
  {
   "cell_type": "code",
   "execution_count": null,
   "metadata": {},
   "outputs": [],
   "source": [
    "# Create col of first pords to identify bad post\n",
    "\n",
    "def bad_post(col = df['long_post']):\n",
    "    fw = []\n",
    "    b = col\n",
    "    for i in range (0, len(b)):\n",
    "        wrd = str(b[i]).split()[0]\n",
    "        fw.append(wrd)\n",
    "    return fw\n",
    "\n",
    "df['first_word'] = bad_post()\n",
    "print(df.shape)\n",
    "df.head()\n",
    "\n"
   ]
  },
  {
   "cell_type": "code",
   "execution_count": null,
   "metadata": {},
   "outputs": [],
   "source": [
    "#  drop bad post and col for filtering\n",
    "\n",
    "df = df[df['first_word'] != 'nspanndivnspan']\n",
    "df = df.drop(columns = ['first_word'])\n",
    "print(df.shape)\n",
    "df.head()"
   ]
  },
  {
   "cell_type": "code",
   "execution_count": null,
   "metadata": {},
   "outputs": [],
   "source": [
    "df.isna().sum()"
   ]
  },
  {
   "cell_type": "code",
   "execution_count": null,
   "metadata": {},
   "outputs": [],
   "source": [
    "df = df.dropna()\n",
    "df.isna().sum()"
   ]
  },
  {
   "cell_type": "code",
   "execution_count": null,
   "metadata": {},
   "outputs": [],
   "source": [
    "df = df.reset_index(drop=True)\n",
    "df.shape"
   ]
  },
  {
   "cell_type": "code",
   "execution_count": null,
   "metadata": {},
   "outputs": [],
   "source": [
    "def np_gone(col = df['long_post']):\n",
    "    nnp = []\n",
    "    for i in range (0, len(col)):\n",
    "        if col[i][0:2] == 'np':\n",
    "            nnp.append(col[i][2:])\n",
    "        else:\n",
    "            pass\n",
    "    return nnp\n",
    "\n",
    "df['long_post'] = np_gone()\n",
    "df.head()"
   ]
  },
  {
   "cell_type": "code",
   "execution_count": null,
   "metadata": {},
   "outputs": [],
   "source": []
  }
 ],
 "metadata": {
  "kernelspec": {
   "display_name": "Python 3",
   "language": "python",
   "name": "python3"
  },
  "language_info": {
   "codemirror_mode": {
    "name": "ipython",
    "version": 3
   },
   "file_extension": ".py",
   "mimetype": "text/x-python",
   "name": "python",
   "nbconvert_exporter": "python",
   "pygments_lexer": "ipython3",
   "version": "3.6.5"
  }
 },
 "nbformat": 4,
 "nbformat_minor": 2
}
