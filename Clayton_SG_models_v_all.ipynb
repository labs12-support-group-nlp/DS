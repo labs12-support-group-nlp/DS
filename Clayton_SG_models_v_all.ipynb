{
 "cells": [
  {
   "cell_type": "code",
   "execution_count": 1,
   "metadata": {},
   "outputs": [
    {
     "data": {
      "text/html": [
       "<div>\n",
       "<style scoped>\n",
       "    .dataframe tbody tr th:only-of-type {\n",
       "        vertical-align: middle;\n",
       "    }\n",
       "\n",
       "    .dataframe tbody tr th {\n",
       "        vertical-align: top;\n",
       "    }\n",
       "\n",
       "    .dataframe thead th {\n",
       "        text-align: right;\n",
       "    }\n",
       "</style>\n",
       "<table border=\"1\" class=\"dataframe\">\n",
       "  <thead>\n",
       "    <tr style=\"text-align: right;\">\n",
       "      <th></th>\n",
       "      <th>post_number</th>\n",
       "      <th>long_post</th>\n",
       "      <th>group</th>\n",
       "    </tr>\n",
       "  </thead>\n",
       "  <tbody>\n",
       "    <tr>\n",
       "      <th>5491</th>\n",
       "      <td>39356</td>\n",
       "      <td>husband last chemo treatment week finished che...</td>\n",
       "      <td>Hodgkins Lymphoma</td>\n",
       "    </tr>\n",
       "    <tr>\n",
       "      <th>16436</th>\n",
       "      <td>161085</td>\n",
       "      <td>dear husband</td>\n",
       "      <td>Incest Survivors</td>\n",
       "    </tr>\n",
       "    <tr>\n",
       "      <th>18733</th>\n",
       "      <td>159440</td>\n",
       "      <td>mothers day todayi hope dealing day better fee...</td>\n",
       "      <td>Infertility</td>\n",
       "    </tr>\n",
       "    <tr>\n",
       "      <th>5885</th>\n",
       "      <td>410406</td>\n",
       "      <td>become suddenly overwhelmed lonliness tonight ...</td>\n",
       "      <td>Panic Attack</td>\n",
       "    </tr>\n",
       "    <tr>\n",
       "      <th>4581</th>\n",
       "      <td>54470</td>\n",
       "      <td>well hello everyone hoping someone help husban...</td>\n",
       "      <td>Oxycodone</td>\n",
       "    </tr>\n",
       "  </tbody>\n",
       "</table>\n",
       "</div>"
      ],
      "text/plain": [
       "      post_number                                          long_post  \\\n",
       "5491        39356  husband last chemo treatment week finished che...   \n",
       "16436      161085                                       dear husband   \n",
       "18733      159440  mothers day todayi hope dealing day better fee...   \n",
       "5885       410406  become suddenly overwhelmed lonliness tonight ...   \n",
       "4581        54470  well hello everyone hoping someone help husban...   \n",
       "\n",
       "                   group  \n",
       "5491   Hodgkins Lymphoma  \n",
       "16436   Incest Survivors  \n",
       "18733        Infertility  \n",
       "5885        Panic Attack  \n",
       "4581           Oxycodone  "
      ]
     },
     "execution_count": 1,
     "metadata": {},
     "output_type": "execute_result"
    }
   ],
   "source": [
    "import pickle\n",
    "df = pickle.load(open('Clayton_SG_df_all.pkl', 'br'))\n",
    "df['long_post'] = df['long_post'].apply(', '.join)\n",
    "df['long_post'] = df['long_post'].str.replace(',', '')\n",
    "df.sample(5)"
   ]
  },
  {
   "cell_type": "code",
   "execution_count": 2,
   "metadata": {},
   "outputs": [],
   "source": [
    "from sklearn.model_selection import train_test_split\n",
    "X = df.long_post\n",
    "y = df.group\n",
    "X_train, X_test, y_train, y_test = train_test_split(X, y, test_size=0.2, random_state=42)"
   ]
  },
  {
   "cell_type": "code",
   "execution_count": 3,
   "metadata": {},
   "outputs": [
    {
     "name": "stdout",
     "output_type": "stream",
     "text": [
      "(40294,)\n",
      "(10074,)\n",
      "(40294,)\n",
      "(10074,)\n"
     ]
    }
   ],
   "source": [
    "print(X_train.shape)\n",
    "print(X_test.shape)\n",
    "print(y_train.shape)\n",
    "print(y_test.shape)"
   ]
  },
  {
   "cell_type": "code",
   "execution_count": 4,
   "metadata": {},
   "outputs": [
    {
     "data": {
      "text/plain": [
       "(40294, 46697)"
      ]
     },
     "execution_count": 4,
     "metadata": {},
     "output_type": "execute_result"
    }
   ],
   "source": [
    "from sklearn.feature_extraction.text import CountVectorizer\n",
    "count_vect = CountVectorizer()\n",
    "X_train_counts = count_vect.fit_transform(X_train)\n",
    "X_train_counts.shape"
   ]
  },
  {
   "cell_type": "code",
   "execution_count": 5,
   "metadata": {},
   "outputs": [
    {
     "data": {
      "text/plain": [
       "(40294, 46697)"
      ]
     },
     "execution_count": 5,
     "metadata": {},
     "output_type": "execute_result"
    }
   ],
   "source": [
    "# TF-IDF: term-frequency times inverse document frequency\n",
    "from sklearn.feature_extraction.text import TfidfTransformer\n",
    "tfidf_transformer = TfidfTransformer()\n",
    "X_train_tfidf = tfidf_transformer.fit_transform(X_train_counts)\n",
    "X_train_tfidf.shape"
   ]
  },
  {
   "cell_type": "code",
   "execution_count": 6,
   "metadata": {},
   "outputs": [],
   "source": [
    "# Classifier using Naive Bayes\n",
    "from sklearn.naive_bayes import MultinomialNB\n",
    "clf = MultinomialNB().fit(X_train_tfidf, y_train)"
   ]
  },
  {
   "cell_type": "code",
   "execution_count": 7,
   "metadata": {},
   "outputs": [],
   "source": [
    "from sklearn.pipeline import Pipeline\n",
    "text_clf = Pipeline([('vect', CountVectorizer()),\n",
    "                      ('tfidf', TfidfTransformer()),\n",
    "                      ('clf', MultinomialNB()),\n",
    "])\n",
    "\n",
    "text_clf = text_clf.fit(X_train, y_train)"
   ]
  },
  {
   "cell_type": "code",
   "execution_count": 8,
   "metadata": {},
   "outputs": [
    {
     "data": {
      "text/plain": [
       "0.05787174905697836"
      ]
     },
     "execution_count": 8,
     "metadata": {},
     "output_type": "execute_result"
    }
   ],
   "source": [
    "import numpy as np\n",
    "predicted = text_clf.predict(X_test)\n",
    "np.mean(predicted == y_test)"
   ]
  },
  {
   "cell_type": "code",
   "execution_count": 9,
   "metadata": {},
   "outputs": [
    {
     "data": {
      "text/plain": [
       "0.3461385745483423"
      ]
     },
     "execution_count": 9,
     "metadata": {},
     "output_type": "execute_result"
    }
   ],
   "source": [
    "# support vector machine classifier\n",
    "from sklearn.linear_model import SGDClassifier\n",
    "\n",
    "text_clf_svm = Pipeline([('vect', CountVectorizer()),\n",
    "                      ('tfidf', TfidfTransformer()),\n",
    "                      ('clf-svm', SGDClassifier(loss='hinge', penalty='l2',\n",
    "                                            alpha=1e-3, max_iter=5, tol=None, random_state=42)),\n",
    "])\n",
    "\n",
    "_ = text_clf_svm.fit(X_train, y_train)\n",
    "\n",
    "predicted_svm = text_clf_svm.predict(X_test)\n",
    "np.mean(predicted_svm == y_test)"
   ]
  },
  {
   "cell_type": "code",
   "execution_count": 10,
   "metadata": {},
   "outputs": [],
   "source": [
    "# Tuning hyperparameters\n",
    "from sklearn.model_selection import GridSearchCV\n",
    "parameters = {'vect__ngram_range': [(1, 1), (1, 2)],\n",
    "               'tfidf__use_idf': (True, False),\n",
    "               'clf__alpha': (1e-2, 1e-3),\n",
    "}"
   ]
  },
  {
   "cell_type": "code",
   "execution_count": 11,
   "metadata": {},
   "outputs": [],
   "source": [
    "# Grid search with Naive Bayes\n",
    "gs_clf = GridSearchCV(text_clf, parameters, n_jobs=-1)"
   ]
  },
  {
   "cell_type": "code",
   "execution_count": 12,
   "metadata": {},
   "outputs": [
    {
     "name": "stderr",
     "output_type": "stream",
     "text": [
      "/home/ec2-user/anaconda3/envs/python3/lib/python3.6/site-packages/sklearn/model_selection/_split.py:605: Warning: The least populated class in y has only 1 members, which is too few. The minimum number of members in any class cannot be less than n_splits=3.\n",
      "  % (min_groups, self.n_splits)), Warning)\n"
     ]
    },
    {
     "name": "stdout",
     "output_type": "stream",
     "text": [
      "0.24911897552985557\n",
      "CPU times: user 16.1 s, sys: 3.42 s, total: 19.6 s\n",
      "Wall time: 54.1 s\n"
     ]
    }
   ],
   "source": [
    "%%time\n",
    "gs_clf = gs_clf.fit(X_train, y_train)\n",
    "print(gs_clf.best_score_)\n",
    "gs_clf.best_params_"
   ]
  },
  {
   "cell_type": "code",
   "execution_count": 13,
   "metadata": {},
   "outputs": [],
   "source": [
    "# Grid search with SVM classifier\n",
    "parameters_svm = {'vect__ngram_range': [(1, 1), (1, 2)],\n",
    "               'tfidf__use_idf': (True, False),\n",
    "               'clf-svm__alpha': (1e-2, 1e-3),\n",
    "}\n",
    "gs_clf_svm = GridSearchCV(text_clf_svm, parameters_svm, n_jobs=-1)"
   ]
  },
  {
   "cell_type": "code",
   "execution_count": 14,
   "metadata": {},
   "outputs": [
    {
     "name": "stderr",
     "output_type": "stream",
     "text": [
      "/home/ec2-user/anaconda3/envs/python3/lib/python3.6/site-packages/sklearn/model_selection/_split.py:605: Warning: The least populated class in y has only 1 members, which is too few. The minimum number of members in any class cannot be less than n_splits=3.\n",
      "  % (min_groups, self.n_splits)), Warning)\n"
     ]
    },
    {
     "name": "stdout",
     "output_type": "stream",
     "text": [
      "0.33364768948230505\n",
      "CPU times: user 3min 4s, sys: 16 s, total: 3min 20s\n",
      "Wall time: 3min 31s\n"
     ]
    }
   ],
   "source": [
    "%%time\n",
    "gs_clf_svm = gs_clf_svm.fit(X_train, y_train)\n",
    "print(gs_clf_svm.best_score_)\n",
    "gs_clf_svm.best_params_"
   ]
  },
  {
   "cell_type": "code",
   "execution_count": 15,
   "metadata": {},
   "outputs": [
    {
     "name": "stdout",
     "output_type": "stream",
     "text": [
      "[nltk_data] Downloading package stopwords to\n",
      "[nltk_data]     /home/ec2-user/nltk_data...\n",
      "[nltk_data]   Package stopwords is already up-to-date!\n"
     ]
    }
   ],
   "source": [
    "import nltk\n",
    "nltk.download('stopwords')\n",
    "\n",
    "from nltk.stem.snowball import SnowballStemmer\n",
    "stemmer = SnowballStemmer(\"english\", ignore_stopwords=True)\n",
    "\n",
    "class StemmedCountVectorizer(CountVectorizer):\n",
    "    def build_analyzer(self):\n",
    "        analyzer = super(StemmedCountVectorizer, self).build_analyzer()\n",
    "        return lambda doc: ([stemmer.stem(w) for w in analyzer(doc)])\n",
    "\n",
    "stemmed_count_vect = StemmedCountVectorizer(stop_words='english')\n",
    "\n",
    "text_mnb_stemmed = Pipeline([('vect', stemmed_count_vect),\n",
    "                      ('tfidf', TfidfTransformer()),\n",
    "                      ('mnb', MultinomialNB(fit_prior=False)),\n",
    "])"
   ]
  },
  {
   "cell_type": "code",
   "execution_count": 16,
   "metadata": {},
   "outputs": [
    {
     "name": "stdout",
     "output_type": "stream",
     "text": [
      "CPU times: user 24.3 s, sys: 197 ms, total: 24.5 s\n",
      "Wall time: 24.5 s\n"
     ]
    }
   ],
   "source": [
    "%%time\n",
    "text_mnb_stemmed = text_mnb_stemmed.fit(X_train, y_train)"
   ]
  },
  {
   "cell_type": "code",
   "execution_count": 17,
   "metadata": {},
   "outputs": [
    {
     "data": {
      "text/plain": [
       "0.08755211435378202"
      ]
     },
     "execution_count": 17,
     "metadata": {},
     "output_type": "execute_result"
    }
   ],
   "source": [
    "predicted_mnb_stemmed = text_mnb_stemmed.predict(X_test)\n",
    "np.mean(predicted_mnb_stemmed == y_test)"
   ]
  },
  {
   "cell_type": "code",
   "execution_count": 18,
   "metadata": {},
   "outputs": [
    {
     "name": "stderr",
     "output_type": "stream",
     "text": [
      "/home/ec2-user/anaconda3/envs/python3/lib/python3.6/site-packages/sklearn/ensemble/weight_boosting.py:29: DeprecationWarning: numpy.core.umath_tests is an internal NumPy module and should not be imported. It will be removed in a future NumPy release.\n",
      "  from numpy.core.umath_tests import inner1d\n"
     ]
    }
   ],
   "source": [
    "from sklearn.svm import LinearSVC\n",
    "from sklearn.linear_model import LogisticRegression\n",
    "from sklearn.ensemble import RandomForestClassifier\n",
    "from sklearn.neural_network import MLPClassifier\n",
    "from sklearn.model_selection import GridSearchCV\n",
    "from sklearn.model_selection import train_test_split\n",
    "import numpy as np\n",
    "from sklearn.feature_extraction.text import TfidfVectorizer\n",
    "from sklearn.pipeline import Pipeline"
   ]
  },
  {
   "cell_type": "code",
   "execution_count": 19,
   "metadata": {},
   "outputs": [],
   "source": [
    "vectorizers = [\n",
    "    TfidfVectorizer(stop_words='english',\n",
    "                    max_features=None),\n",
    "    CountVectorizer(stop_words='english',\n",
    "                   max_features=None)\n",
    "]\n",
    "\n",
    "classifiers = [\n",
    "    MultinomialNB(),\n",
    "    LinearSVC(),\n",
    "    LogisticRegression(),\n",
    "    RandomForestClassifier()\n",
    "]\n",
    "\n",
    "clf_names = [\n",
    "         \"Naive Bayes\",\n",
    "         \"Linear SVC\",\n",
    "         \"Logistic Regression\",\n",
    "         \"Random Forest\",\n",
    "        ]\n",
    "\n",
    "vect_names = [\n",
    "    \"TfidfVectorizer\",\n",
    "    \"CountVectorizer\"\n",
    "]\n",
    "\n",
    "clf_params = [\n",
    "              {'vect__ngram_range': [(1, 1), (1, 2)],\n",
    "              'clf__alpha': (1e-2, 1e-3)},\n",
    "              {'vect__ngram_range': [(1, 1), (1, 2)],\n",
    "              'clf__C': (np.logspace(-5, 1, 5))},\n",
    "              {'vect__ngram_range': [(1, 1), (1, 2)],\n",
    "              'clf__C': (np.logspace(-5, 1, 5))},\n",
    "              {'vect__ngram_range': [(1, 1), (1, 2)],\n",
    "              'clf__max_depth': (1, 2)},\n",
    "             ]"
   ]
  },
  {
   "cell_type": "code",
   "execution_count": null,
   "metadata": {},
   "outputs": [
    {
     "name": "stderr",
     "output_type": "stream",
     "text": [
      "/home/ec2-user/anaconda3/envs/python3/lib/python3.6/site-packages/sklearn/model_selection/_split.py:605: Warning: The least populated class in y has only 1 members, which is too few. The minimum number of members in any class cannot be less than n_splits=5.\n",
      "  % (min_groups, self.n_splits)), Warning)\n"
     ]
    },
    {
     "name": "stdout",
     "output_type": "stream",
     "text": [
      "Fitting 5 folds for each of 4 candidates, totalling 20 fits\n",
      "[CV] clf__alpha=0.01, vect__ngram_range=(1, 1) .......................\n",
      "[CV] clf__alpha=0.01, vect__ngram_range=(1, 1) .......................\n",
      "[CV] clf__alpha=0.01, vect__ngram_range=(1, 1) .......................\n",
      "[CV] clf__alpha=0.01, vect__ngram_range=(1, 1) .......................\n",
      "[CV] clf__alpha=0.01, vect__ngram_range=(1, 1) .......................\n",
      "[CV] clf__alpha=0.01, vect__ngram_range=(1, 2) .......................\n",
      "[CV] clf__alpha=0.01, vect__ngram_range=(1, 2) .......................\n",
      "[CV] clf__alpha=0.01, vect__ngram_range=(1, 2) .......................\n",
      "[CV] clf__alpha=0.01, vect__ngram_range=(1, 2) .......................\n",
      "[CV] clf__alpha=0.01, vect__ngram_range=(1, 2) .......................\n",
      "[CV] clf__alpha=0.001, vect__ngram_range=(1, 1) ......................\n",
      "[CV] clf__alpha=0.001, vect__ngram_range=(1, 1) ......................\n",
      "[CV] clf__alpha=0.001, vect__ngram_range=(1, 1) ......................\n",
      "[CV] clf__alpha=0.001, vect__ngram_range=(1, 1) ......................\n",
      "[CV] clf__alpha=0.001, vect__ngram_range=(1, 1) ......................\n",
      "[CV] clf__alpha=0.001, vect__ngram_range=(1, 2) ......................\n",
      "[CV]  clf__alpha=0.01, vect__ngram_range=(1, 1), score=0.27065217391304347, total=   5.6s\n",
      "[CV]  clf__alpha=0.01, vect__ngram_range=(1, 1), score=0.41097237243142265, total=   5.8s\n",
      "[CV] clf__alpha=0.001, vect__ngram_range=(1, 2) ......................\n",
      "[CV]  clf__alpha=0.01, vect__ngram_range=(1, 1), score=0.24610189691131196, total=   6.0s\n",
      "[CV] clf__alpha=0.001, vect__ngram_range=(1, 2) ......................\n",
      "[CV] clf__alpha=0.001, vect__ngram_range=(1, 2) ......................\n",
      "[CV]  clf__alpha=0.01, vect__ngram_range=(1, 1), score=0.20311097816332635, total=   6.1s\n",
      "[CV] clf__alpha=0.001, vect__ngram_range=(1, 2) ......................\n"
     ]
    },
    {
     "name": "stderr",
     "output_type": "stream",
     "text": [
      "[Parallel(n_jobs=-1)]: Done   4 out of  20 | elapsed:   10.4s remaining:   41.5s\n"
     ]
    },
    {
     "name": "stdout",
     "output_type": "stream",
     "text": [
      "[CV]  clf__alpha=0.01, vect__ngram_range=(1, 1), score=0.08267361459064035, total=   6.1s\n",
      "[CV]  clf__alpha=0.001, vect__ngram_range=(1, 1), score=0.25573542556361106, total=   6.4s\n",
      "[CV]  clf__alpha=0.001, vect__ngram_range=(1, 1), score=0.43161930980237934, total=   6.5s\n",
      "[CV]  clf__alpha=0.001, vect__ngram_range=(1, 1), score=0.21637251969289062, total=   6.4s\n"
     ]
    },
    {
     "name": "stderr",
     "output_type": "stream",
     "text": [
      "[Parallel(n_jobs=-1)]: Done   7 out of  20 | elapsed:   11.4s remaining:   21.1s\n"
     ]
    },
    {
     "name": "stdout",
     "output_type": "stream",
     "text": [
      "[CV]  clf__alpha=0.001, vect__ngram_range=(1, 1), score=0.2790513833992095, total=   6.5s\n",
      "[CV]  clf__alpha=0.001, vect__ngram_range=(1, 1), score=0.08898687243210743, total=   6.6s\n"
     ]
    },
    {
     "name": "stderr",
     "output_type": "stream",
     "text": [
      "[Parallel(n_jobs=-1)]: Done  10 out of  20 | elapsed:   12.0s remaining:   12.0s\n"
     ]
    },
    {
     "name": "stdout",
     "output_type": "stream",
     "text": [
      "[CV]  clf__alpha=0.01, vect__ngram_range=(1, 2), score=0.233300395256917, total=  22.7s\n",
      "[CV]  clf__alpha=0.01, vect__ngram_range=(1, 2), score=0.21273214817757474, total=  23.1s\n",
      "[CV]  clf__alpha=0.01, vect__ngram_range=(1, 2), score=0.4164782223970111, total=  24.1s\n"
     ]
    },
    {
     "name": "stderr",
     "output_type": "stream",
     "text": [
      "[Parallel(n_jobs=-1)]: Done  13 out of  20 | elapsed:   31.0s remaining:   16.7s\n"
     ]
    },
    {
     "name": "stdout",
     "output_type": "stream",
     "text": [
      "[CV]  clf__alpha=0.001, vect__ngram_range=(1, 2), score=0.459246878379707, total=  23.5s\n",
      "[CV]  clf__alpha=0.01, vect__ngram_range=(1, 2), score=0.16581912453883738, total=  28.5s\n",
      "[CV]  clf__alpha=0.001, vect__ngram_range=(1, 2), score=0.30454545454545456, total=  20.3s\n"
     ]
    },
    {
     "name": "stderr",
     "output_type": "stream",
     "text": [
      "[Parallel(n_jobs=-1)]: Done  16 out of  20 | elapsed:   36.4s remaining:    9.1s\n"
     ]
    },
    {
     "name": "stdout",
     "output_type": "stream",
     "text": [
      "[CV]  clf__alpha=0.01, vect__ngram_range=(1, 2), score=0.05792163543441227, total=  30.0s\n",
      "[CV]  clf__alpha=0.001, vect__ngram_range=(1, 2), score=0.23282480805663575, total=  21.4s\n",
      "[CV]  clf__alpha=0.001, vect__ngram_range=(1, 2), score=0.2848346409772569, total=  25.1s\n",
      "[CV]  clf__alpha=0.001, vect__ngram_range=(1, 2), score=0.08948792464174767, total=  26.6s\n"
     ]
    },
    {
     "name": "stderr",
     "output_type": "stream",
     "text": [
      "[Parallel(n_jobs=-1)]: Done  20 out of  20 | elapsed:   42.9s finished\n"
     ]
    },
    {
     "name": "stdout",
     "output_type": "stream",
     "text": [
      "\n",
      "Classifier: Naive Bayes\n",
      "Vectorizer: TfidfVectorizer\n",
      "Score: 0.2750\n",
      "Params: {'clf__alpha': 0.001, 'vect__ngram_range': (1, 2)}\n",
      "------------------------------\n",
      "            \n",
      "Fitting 5 folds for each of 4 candidates, totalling 20 fits\n"
     ]
    },
    {
     "name": "stderr",
     "output_type": "stream",
     "text": [
      "/home/ec2-user/anaconda3/envs/python3/lib/python3.6/site-packages/sklearn/model_selection/_split.py:605: Warning: The least populated class in y has only 1 members, which is too few. The minimum number of members in any class cannot be less than n_splits=5.\n",
      "  % (min_groups, self.n_splits)), Warning)\n"
     ]
    },
    {
     "name": "stdout",
     "output_type": "stream",
     "text": [
      "[CV] clf__alpha=0.01, vect__ngram_range=(1, 1) .......................\n",
      "[CV] clf__alpha=0.01, vect__ngram_range=(1, 1) .......................\n",
      "[CV] clf__alpha=0.01, vect__ngram_range=(1, 1) .......................\n",
      "[CV] clf__alpha=0.01, vect__ngram_range=(1, 1) .......................\n",
      "[CV] clf__alpha=0.01, vect__ngram_range=(1, 1) .......................\n",
      "[CV] clf__alpha=0.01, vect__ngram_range=(1, 2) .......................\n",
      "[CV] clf__alpha=0.01, vect__ngram_range=(1, 2) .......................\n",
      "[CV] clf__alpha=0.01, vect__ngram_range=(1, 2) .......................\n",
      "[CV] clf__alpha=0.01, vect__ngram_range=(1, 2) .......................\n",
      "[CV] clf__alpha=0.01, vect__ngram_range=(1, 2) .......................\n",
      "[CV] clf__alpha=0.001, vect__ngram_range=(1, 1) ......................\n",
      "[CV] clf__alpha=0.001, vect__ngram_range=(1, 1) ......................\n",
      "[CV] clf__alpha=0.001, vect__ngram_range=(1, 1) ......................\n",
      "[CV] clf__alpha=0.001, vect__ngram_range=(1, 1) ......................\n",
      "[CV] clf__alpha=0.001, vect__ngram_range=(1, 1) ......................\n",
      "[CV] clf__alpha=0.001, vect__ngram_range=(1, 2) ......................\n",
      "[CV]  clf__alpha=0.01, vect__ngram_range=(1, 1), score=0.43673188477042574, total=   5.9s\n",
      "[CV] clf__alpha=0.001, vect__ngram_range=(1, 2) ......................\n",
      "[CV]  clf__alpha=0.01, vect__ngram_range=(1, 1), score=0.2966403162055336, total=   5.7s\n",
      "[CV]  clf__alpha=0.01, vect__ngram_range=(1, 1), score=0.2752011123249578, total=   5.8s\n",
      "[CV] clf__alpha=0.001, vect__ngram_range=(1, 2) ......................\n",
      "[CV] clf__alpha=0.001, vect__ngram_range=(1, 2) ......................\n",
      "[CV]  clf__alpha=0.01, vect__ngram_range=(1, 1), score=0.2361152657293848, total=   5.8s\n",
      "[CV] clf__alpha=0.001, vect__ngram_range=(1, 2) ......................\n",
      "[CV]  clf__alpha=0.01, vect__ngram_range=(1, 1), score=0.10692454153722818, total=   5.9s\n"
     ]
    },
    {
     "name": "stderr",
     "output_type": "stream",
     "text": [
      "[Parallel(n_jobs=-1)]: Done   4 out of  20 | elapsed:   10.2s remaining:   40.7s\n"
     ]
    },
    {
     "name": "stdout",
     "output_type": "stream",
     "text": [
      "[CV]  clf__alpha=0.001, vect__ngram_range=(1, 1), score=0.4288663848195851, total=   6.2s\n",
      "[CV]  clf__alpha=0.001, vect__ngram_range=(1, 1), score=0.09960917927648061, total=   6.5s\n",
      "[CV]  clf__alpha=0.001, vect__ngram_range=(1, 1), score=0.22135806162129823, total=   6.4s\n"
     ]
    },
    {
     "name": "stderr",
     "output_type": "stream",
     "text": [
      "[Parallel(n_jobs=-1)]: Done   7 out of  20 | elapsed:   11.2s remaining:   20.9s\n"
     ]
    },
    {
     "name": "stdout",
     "output_type": "stream",
     "text": [
      "[CV]  clf__alpha=0.001, vect__ngram_range=(1, 1), score=0.2754940711462451, total=   6.3s\n",
      "[CV]  clf__alpha=0.001, vect__ngram_range=(1, 1), score=0.2562319992054822, total=   6.4s\n"
     ]
    },
    {
     "name": "stderr",
     "output_type": "stream",
     "text": [
      "[Parallel(n_jobs=-1)]: Done  10 out of  20 | elapsed:   11.7s remaining:   11.7s\n"
     ]
    },
    {
     "name": "stdout",
     "output_type": "stream",
     "text": [
      "[CV]  clf__alpha=0.01, vect__ngram_range=(1, 2), score=0.3040513833992095, total=  22.2s\n",
      "[CV]  clf__alpha=0.01, vect__ngram_range=(1, 2), score=0.4581653721364664, total=  23.2s\n",
      "[CV]  clf__alpha=0.01, vect__ngram_range=(1, 2), score=0.23451989231229434, total=  23.2s\n"
     ]
    },
    {
     "name": "stderr",
     "output_type": "stream",
     "text": [
      "[Parallel(n_jobs=-1)]: Done  13 out of  20 | elapsed:   29.7s remaining:   16.0s\n"
     ]
    },
    {
     "name": "stdout",
     "output_type": "stream",
     "text": [
      "[CV]  clf__alpha=0.001, vect__ngram_range=(1, 2), score=0.46111493461803166, total=  22.9s\n",
      "[CV]  clf__alpha=0.01, vect__ngram_range=(1, 2), score=0.2831462905948952, total=  26.7s\n",
      "[CV]  clf__alpha=0.01, vect__ngram_range=(1, 2), score=0.09319571099308548, total=  28.6s\n"
     ]
    },
    {
     "name": "stderr",
     "output_type": "stream",
     "text": [
      "[Parallel(n_jobs=-1)]: Done  16 out of  20 | elapsed:   35.1s remaining:    8.8s\n"
     ]
    },
    {
     "name": "stdout",
     "output_type": "stream",
     "text": [
      "[CV]  clf__alpha=0.001, vect__ngram_range=(1, 2), score=0.24000398843354273, total=  20.5s\n",
      "[CV]  clf__alpha=0.001, vect__ngram_range=(1, 2), score=0.09940875839262452, total=  20.7s\n",
      "[CV]  clf__alpha=0.001, vect__ngram_range=(1, 2), score=0.3011857707509881, total=  24.1s\n",
      "[CV]  clf__alpha=0.001, vect__ngram_range=(1, 2), score=0.2829476611381468, total=  24.1s\n"
     ]
    },
    {
     "name": "stderr",
     "output_type": "stream",
     "text": [
      "[Parallel(n_jobs=-1)]: Done  20 out of  20 | elapsed:   39.4s finished\n"
     ]
    },
    {
     "name": "stdout",
     "output_type": "stream",
     "text": [
      "\n",
      "Classifier: Naive Bayes\n",
      "Vectorizer: CountVectorizer\n",
      "Score: 0.2777\n",
      "Params: {'clf__alpha': 0.001, 'vect__ngram_range': (1, 2)}\n",
      "------------------------------\n",
      "            \n",
      "Fitting 5 folds for each of 10 candidates, totalling 50 fits\n"
     ]
    },
    {
     "name": "stderr",
     "output_type": "stream",
     "text": [
      "/home/ec2-user/anaconda3/envs/python3/lib/python3.6/site-packages/sklearn/model_selection/_split.py:605: Warning: The least populated class in y has only 1 members, which is too few. The minimum number of members in any class cannot be less than n_splits=5.\n",
      "  % (min_groups, self.n_splits)), Warning)\n"
     ]
    },
    {
     "name": "stdout",
     "output_type": "stream",
     "text": [
      "[CV] clf__C=1e-05, vect__ngram_range=(1, 1) ..........................\n",
      "[CV] clf__C=1e-05, vect__ngram_range=(1, 1) ..........................\n",
      "[CV] clf__C=1e-05, vect__ngram_range=(1, 1) ..........................\n",
      "[CV] clf__C=1e-05, vect__ngram_range=(1, 1) ..........................\n",
      "[CV] clf__C=1e-05, vect__ngram_range=(1, 1) ..........................\n",
      "[CV] clf__C=1e-05, vect__ngram_range=(1, 2) ..........................\n",
      "[CV] clf__C=1e-05, vect__ngram_range=(1, 2) ..........................\n",
      "[CV] clf__C=1e-05, vect__ngram_range=(1, 2) ..........................\n",
      "[CV] clf__C=1e-05, vect__ngram_range=(1, 2) ..........................\n",
      "[CV] clf__C=1e-05, vect__ngram_range=(1, 2) ..........................\n",
      "[CV] clf__C=0.00031622776601683794, vect__ngram_range=(1, 1) .........\n",
      "[CV] clf__C=0.00031622776601683794, vect__ngram_range=(1, 1) .........\n",
      "[CV] clf__C=0.00031622776601683794, vect__ngram_range=(1, 1) .........\n",
      "[CV] clf__C=0.00031622776601683794, vect__ngram_range=(1, 1) .........\n",
      "[CV] clf__C=0.00031622776601683794, vect__ngram_range=(1, 1) .........\n",
      "[CV] clf__C=0.00031622776601683794, vect__ngram_range=(1, 2) .........\n",
      "[CV]  clf__C=0.00031622776601683794, vect__ngram_range=(1, 1), score=0.05849802371541502, total=  46.9s\n",
      "[CV]  clf__C=0.00031622776601683794, vect__ngram_range=(1, 1), score=0.0592243711794769, total=  46.6s\n",
      "[CV] clf__C=0.00031622776601683794, vect__ngram_range=(1, 2) .........\n",
      "[CV] clf__C=0.00031622776601683794, vect__ngram_range=(1, 2) .........\n",
      "[CV]  clf__C=0.00031622776601683794, vect__ngram_range=(1, 1), score=0.05820469963622063, total=  47.4s\n",
      "[CV] clf__C=0.00031622776601683794, vect__ngram_range=(1, 2) .........\n",
      "[CV]  clf__C=0.00031622776601683794, vect__ngram_range=(1, 1), score=0.05869500446916278, total=  47.3s\n",
      "[CV] clf__C=0.00031622776601683794, vect__ngram_range=(1, 2) .........\n",
      "[CV]  clf__C=0.00031622776601683794, vect__ngram_range=(1, 1), score=0.05892910559377804, total=  48.6s\n",
      "[CV] clf__C=0.01, vect__ngram_range=(1, 1) ...........................\n",
      "[CV]  clf__C=1e-05, vect__ngram_range=(1, 1), score=0.05869500446916278, total= 1.1min\n",
      "[CV] clf__C=0.01, vect__ngram_range=(1, 1) ...........................\n",
      "[CV]  clf__C=1e-05, vect__ngram_range=(1, 1), score=0.05892910559377804, total= 1.1min\n",
      "[CV]  clf__C=1e-05, vect__ngram_range=(1, 1), score=0.05820469963622063, total= 1.1min\n",
      "[CV] clf__C=0.01, vect__ngram_range=(1, 1) ...........................\n",
      "[CV]  clf__C=1e-05, vect__ngram_range=(1, 1), score=0.0592243711794769, total= 1.1min\n",
      "[CV] clf__C=0.01, vect__ngram_range=(1, 1) ...........................\n",
      "[CV] clf__C=0.01, vect__ngram_range=(1, 1) ...........................\n"
     ]
    },
    {
     "name": "stderr",
     "output_type": "stream",
     "text": [
      "[Parallel(n_jobs=-1)]: Done   9 tasks      | elapsed:  1.2min\n"
     ]
    },
    {
     "name": "stdout",
     "output_type": "stream",
     "text": [
      "[CV]  clf__C=1e-05, vect__ngram_range=(1, 1), score=0.05849802371541502, total= 1.1min\n",
      "[CV] clf__C=0.01, vect__ngram_range=(1, 2) ...........................\n",
      "[CV]  clf__C=0.00031622776601683794, vect__ngram_range=(1, 2), score=0.05820469963622063, total= 1.8min\n",
      "[CV] clf__C=0.01, vect__ngram_range=(1, 2) ...........................\n",
      "[CV]  clf__C=0.01, vect__ngram_range=(1, 1), score=0.3394946416281585, total= 1.1min\n",
      "[CV] clf__C=0.01, vect__ngram_range=(1, 2) ...........................\n",
      "[CV]  clf__C=0.01, vect__ngram_range=(1, 1), score=0.3191699604743083, total= 1.1min\n",
      "[CV] clf__C=0.01, vect__ngram_range=(1, 2) ...........................\n",
      "[CV]  clf__C=0.01, vect__ngram_range=(1, 1), score=0.2990366471347701, total= 1.1min\n",
      "[CV] clf__C=0.01, vect__ngram_range=(1, 2) ...........................\n",
      "[CV]  clf__C=0.01, vect__ngram_range=(1, 1), score=0.15773123559474897, total= 1.2min\n",
      "[CV] clf__C=0.31622776601683794, vect__ngram_range=(1, 1) ............\n",
      "[CV]  clf__C=0.01, vect__ngram_range=(1, 1), score=0.26712533652408016, total= 1.2min\n",
      "[CV] clf__C=0.31622776601683794, vect__ngram_range=(1, 1) ............\n",
      "[CV]  clf__C=1e-05, vect__ngram_range=(1, 2), score=0.05820469963622063, total= 2.6min\n",
      "[CV] clf__C=0.31622776601683794, vect__ngram_range=(1, 1) ............\n",
      "[CV]  clf__C=1e-05, vect__ngram_range=(1, 2), score=0.0592243711794769, total= 2.6min\n"
     ]
    },
    {
     "name": "stderr",
     "output_type": "stream",
     "text": [
      "[Parallel(n_jobs=-1)]: Done  18 tasks      | elapsed:  2.8min\n"
     ]
    },
    {
     "name": "stdout",
     "output_type": "stream",
     "text": [
      "[CV] clf__C=0.31622776601683794, vect__ngram_range=(1, 1) ............\n",
      "[CV]  clf__C=1e-05, vect__ngram_range=(1, 2), score=0.05849802371541502, total= 2.7min\n",
      "[CV] clf__C=0.31622776601683794, vect__ngram_range=(1, 1) ............\n",
      "[CV]  clf__C=0.00031622776601683794, vect__ngram_range=(1, 2), score=0.05869500446916278, total= 1.8min\n",
      "[CV] clf__C=0.31622776601683794, vect__ngram_range=(1, 2) ............\n",
      "[CV]  clf__C=0.00031622776601683794, vect__ngram_range=(1, 2), score=0.0592243711794769, total= 1.9min\n",
      "[CV] clf__C=0.31622776601683794, vect__ngram_range=(1, 2) ............\n",
      "[CV]  clf__C=0.00031622776601683794, vect__ngram_range=(1, 2), score=0.05849802371541502, total= 1.9min\n",
      "[CV] clf__C=0.31622776601683794, vect__ngram_range=(1, 2) ............\n",
      "[CV]  clf__C=1e-05, vect__ngram_range=(1, 2), score=0.05892910559377804, total= 2.8min\n",
      "[CV] clf__C=0.31622776601683794, vect__ngram_range=(1, 2) ............\n",
      "[CV]  clf__C=1e-05, vect__ngram_range=(1, 2), score=0.05869500446916278, total= 2.8min\n",
      "[CV] clf__C=0.31622776601683794, vect__ngram_range=(1, 2) ............\n",
      "[CV]  clf__C=0.00031622776601683794, vect__ngram_range=(1, 2), score=0.05892910559377804, total= 2.0min\n"
     ]
    },
    {
     "name": "stderr",
     "output_type": "stream",
     "text": [
      "[Parallel(n_jobs=-1)]: Done  25 out of  50 | elapsed:  3.0min remaining:  3.0min\n"
     ]
    },
    {
     "name": "stdout",
     "output_type": "stream",
     "text": [
      "[CV] clf__C=10.0, vect__ngram_range=(1, 1) ...........................\n",
      "[CV]  clf__C=0.31622776601683794, vect__ngram_range=(1, 1), score=0.49965588437715075, total=  55.3s\n",
      "[CV] clf__C=10.0, vect__ngram_range=(1, 1) ...........................\n",
      "[CV]  clf__C=0.31622776601683794, vect__ngram_range=(1, 1), score=0.4117588932806324, total=  56.6s\n",
      "[CV] clf__C=10.0, vect__ngram_range=(1, 1) ...........................\n",
      "[CV]  clf__C=0.31622776601683794, vect__ngram_range=(1, 1), score=0.30122644331438825, total=  55.0s\n",
      "[CV] clf__C=10.0, vect__ngram_range=(1, 1) ...........................\n",
      "[CV]  clf__C=0.31622776601683794, vect__ngram_range=(1, 1), score=0.11544242910111234, total=  54.1s\n",
      "[CV] clf__C=10.0, vect__ngram_range=(1, 1) ...........................\n",
      "[CV]  clf__C=0.01, vect__ngram_range=(1, 2), score=0.2390128797561695, total= 2.5min\n",
      "[CV]  clf__C=0.31622776601683794, vect__ngram_range=(1, 1), score=0.37670076472340847, total=  60.0s\n",
      "[CV] clf__C=10.0, vect__ngram_range=(1, 2) ...........................\n"
     ]
    },
    {
     "name": "stderr",
     "output_type": "stream",
     "text": [
      "[Parallel(n_jobs=-1)]: Done  31 out of  50 | elapsed:  3.9min remaining:  2.4min\n"
     ]
    },
    {
     "name": "stdout",
     "output_type": "stream",
     "text": [
      "[CV] clf__C=10.0, vect__ngram_range=(1, 2) ...........................\n",
      "[CV]  clf__C=0.01, vect__ngram_range=(1, 2), score=0.2191699604743083, total= 2.5min\n",
      "[CV] clf__C=10.0, vect__ngram_range=(1, 2) ...........................\n",
      "[CV]  clf__C=0.01, vect__ngram_range=(1, 2), score=0.20627669083325056, total= 2.5min\n",
      "[CV] clf__C=10.0, vect__ngram_range=(1, 2) ...........................\n",
      "[CV]  clf__C=0.01, vect__ngram_range=(1, 2), score=0.10842769816614892, total= 2.5min\n",
      "[CV] clf__C=10.0, vect__ngram_range=(1, 2) ...........................\n",
      "[CV]  clf__C=0.01, vect__ngram_range=(1, 2), score=0.19224249675939775, total= 2.5min\n",
      "[CV]  clf__C=0.31622776601683794, vect__ngram_range=(1, 2), score=0.4116600790513834, total= 3.0min\n",
      "[CV]  clf__C=0.31622776601683794, vect__ngram_range=(1, 2), score=0.09519991983164645, total= 2.9min\n"
     ]
    },
    {
     "name": "stderr",
     "output_type": "stream",
     "text": [
      "[Parallel(n_jobs=-1)]: Done  37 out of  50 | elapsed:  6.1min remaining:  2.1min\n"
     ]
    },
    {
     "name": "stdout",
     "output_type": "stream",
     "text": [
      "[CV]  clf__C=0.31622776601683794, vect__ngram_range=(1, 2), score=0.5042768655982696, total= 3.1min\n",
      "[CV]  clf__C=0.31622776601683794, vect__ngram_range=(1, 2), score=0.2902582510718915, total= 3.1min\n",
      "[CV]  clf__C=0.31622776601683794, vect__ngram_range=(1, 2), score=0.374217896514053, total= 3.1min\n",
      "[CV]  clf__C=10.0, vect__ngram_range=(1, 1), score=0.38023715415019765, total= 4.3min\n",
      "[CV]  clf__C=10.0, vect__ngram_range=(1, 1), score=0.34501936637203295, total= 4.3min\n",
      "[CV]  clf__C=10.0, vect__ngram_range=(1, 1), score=0.08748371580318669, total= 4.1min\n"
     ]
    },
    {
     "name": "stderr",
     "output_type": "stream",
     "text": [
      "[Parallel(n_jobs=-1)]: Done  43 out of  50 | elapsed:  7.9min remaining:  1.3min\n"
     ]
    },
    {
     "name": "stdout",
     "output_type": "stream",
     "text": [
      "[CV]  clf__C=10.0, vect__ngram_range=(1, 1), score=0.490807196932455, total= 5.0min\n",
      "[CV]  clf__C=10.0, vect__ngram_range=(1, 1), score=0.2694186858111477, total= 4.5min\n",
      "[CV]  clf__C=10.0, vect__ngram_range=(1, 2), score=0.09469886762200622, total=13.5min\n",
      "[CV]  clf__C=10.0, vect__ngram_range=(1, 2), score=0.5060466030872087, total=15.7min\n",
      "[CV]  clf__C=10.0, vect__ngram_range=(1, 2), score=0.29035796191045965, total=15.0min\n",
      "[CV]  clf__C=10.0, vect__ngram_range=(1, 2), score=0.3761048763531632, total=15.8min\n",
      "[CV]  clf__C=10.0, vect__ngram_range=(1, 2), score=0.4105731225296443, total=16.9min\n"
     ]
    },
    {
     "name": "stderr",
     "output_type": "stream",
     "text": [
      "[Parallel(n_jobs=-1)]: Done  50 out of  50 | elapsed: 20.9min finished\n"
     ]
    },
    {
     "name": "stdout",
     "output_type": "stream",
     "text": [
      "\n",
      "Classifier: Linear SVC\n",
      "Vectorizer: TfidfVectorizer\n",
      "Score: 0.3418\n",
      "Params: {'clf__C': 0.31622776601683794, 'vect__ngram_range': (1, 1)}\n",
      "------------------------------\n",
      "            \n",
      "Fitting 5 folds for each of 10 candidates, totalling 50 fits\n"
     ]
    },
    {
     "name": "stderr",
     "output_type": "stream",
     "text": [
      "/home/ec2-user/anaconda3/envs/python3/lib/python3.6/site-packages/sklearn/model_selection/_split.py:605: Warning: The least populated class in y has only 1 members, which is too few. The minimum number of members in any class cannot be less than n_splits=5.\n",
      "  % (min_groups, self.n_splits)), Warning)\n"
     ]
    },
    {
     "name": "stdout",
     "output_type": "stream",
     "text": [
      "[CV] clf__C=1e-05, vect__ngram_range=(1, 1) ..........................\n",
      "[CV] clf__C=1e-05, vect__ngram_range=(1, 1) ..........................\n",
      "[CV] clf__C=1e-05, vect__ngram_range=(1, 1) ..........................\n",
      "[CV] clf__C=1e-05, vect__ngram_range=(1, 1) ..........................\n",
      "[CV] clf__C=1e-05, vect__ngram_range=(1, 1) ..........................\n",
      "[CV] clf__C=1e-05, vect__ngram_range=(1, 2) ..........................\n",
      "[CV] clf__C=1e-05, vect__ngram_range=(1, 2) ..........................\n",
      "[CV] clf__C=1e-05, vect__ngram_range=(1, 2) ..........................\n",
      "[CV] clf__C=1e-05, vect__ngram_range=(1, 2) ..........................\n",
      "[CV] clf__C=1e-05, vect__ngram_range=(1, 2) ..........................\n",
      "[CV] clf__C=0.00031622776601683794, vect__ngram_range=(1, 1) .........\n",
      "[CV] clf__C=0.00031622776601683794, vect__ngram_range=(1, 1) .........\n",
      "[CV] clf__C=0.00031622776601683794, vect__ngram_range=(1, 1) .........\n",
      "[CV] clf__C=0.00031622776601683794, vect__ngram_range=(1, 1) .........\n",
      "[CV] clf__C=0.00031622776601683794, vect__ngram_range=(1, 1) .........\n",
      "[CV] clf__C=0.00031622776601683794, vect__ngram_range=(1, 2) .........\n",
      "[CV]  clf__C=0.00031622776601683794, vect__ngram_range=(1, 1), score=0.25513833992094864, total=  59.9s\n",
      "[CV] clf__C=0.00031622776601683794, vect__ngram_range=(1, 2) .........\n",
      "[CV]  clf__C=0.00031622776601683794, vect__ngram_range=(1, 1), score=0.13458262350936967, total= 1.0min\n",
      "[CV] clf__C=0.00031622776601683794, vect__ngram_range=(1, 2) .........\n",
      "[CV]  clf__C=0.00031622776601683794, vect__ngram_range=(1, 1), score=0.2819781732376364, total= 1.0min\n",
      "[CV] clf__C=0.00031622776601683794, vect__ngram_range=(1, 2) .........\n",
      "[CV]  clf__C=0.00031622776601683794, vect__ngram_range=(1, 1), score=0.2214577724598664, total= 1.1min\n",
      "[CV] clf__C=0.00031622776601683794, vect__ngram_range=(1, 2) .........\n",
      "[CV]  clf__C=0.00031622776601683794, vect__ngram_range=(1, 1), score=0.23795808918462608, total= 1.1min\n",
      "[CV] clf__C=0.01, vect__ngram_range=(1, 1) ...........................\n",
      "[CV]  clf__C=1e-05, vect__ngram_range=(1, 1), score=0.059486166007905135, total= 1.2min\n",
      "[CV] clf__C=0.01, vect__ngram_range=(1, 1) ...........................\n",
      "[CV]  clf__C=1e-05, vect__ngram_range=(1, 1), score=0.06012563565659587, total= 1.3min\n",
      "[CV]  clf__C=1e-05, vect__ngram_range=(1, 1), score=0.059688151752904955, total= 1.3min\n",
      "[CV] clf__C=0.01, vect__ngram_range=(1, 1) ...........................\n",
      "[CV] clf__C=0.01, vect__ngram_range=(1, 1) ...........................\n",
      "[CV]  clf__C=1e-05, vect__ngram_range=(1, 1), score=0.0590895683806902, total= 1.3min\n",
      "[CV] clf__C=0.01, vect__ngram_range=(1, 1) ...........................\n"
     ]
    },
    {
     "name": "stderr",
     "output_type": "stream",
     "text": [
      "[Parallel(n_jobs=-1)]: Done   9 tasks      | elapsed:  1.4min\n"
     ]
    },
    {
     "name": "stdout",
     "output_type": "stream",
     "text": [
      "[CV]  clf__C=1e-05, vect__ngram_range=(1, 1), score=0.05952500250526105, total= 1.3min\n",
      "[CV] clf__C=0.01, vect__ngram_range=(1, 2) ...........................\n",
      "[CV]  clf__C=0.00031622776601683794, vect__ngram_range=(1, 2), score=0.3222888604856946, total= 2.4min\n",
      "[CV] clf__C=0.01, vect__ngram_range=(1, 2) ...........................\n",
      "[CV]  clf__C=1e-05, vect__ngram_range=(1, 2), score=0.05972542338911715, total= 2.8min\n",
      "[CV] clf__C=0.01, vect__ngram_range=(1, 2) ...........................\n",
      "[CV]  clf__C=1e-05, vect__ngram_range=(1, 2), score=0.060325057333732175, total= 2.8min\n",
      "[CV] clf__C=0.01, vect__ngram_range=(1, 2) ...........................\n",
      "[CV]  clf__C=1e-05, vect__ngram_range=(1, 2), score=0.05918788713007571, total= 2.8min\n",
      "[CV] clf__C=0.01, vect__ngram_range=(1, 2) ...........................\n",
      "[CV]  clf__C=1e-05, vect__ngram_range=(1, 2), score=0.059683794466403164, total= 3.0min\n",
      "[CV] clf__C=0.31622776601683794, vect__ngram_range=(1, 1) ............\n",
      "[CV]  clf__C=1e-05, vect__ngram_range=(1, 2), score=0.059787466481279174, total= 3.0min\n",
      "[CV] clf__C=0.31622776601683794, vect__ngram_range=(1, 1) ............\n",
      "[CV]  clf__C=0.00031622776601683794, vect__ngram_range=(1, 2), score=0.274901185770751, total= 2.3min\n",
      "[CV] clf__C=0.31622776601683794, vect__ngram_range=(1, 1) ............\n",
      "[CV]  clf__C=0.00031622776601683794, vect__ngram_range=(1, 2), score=0.12275779136185991, total= 2.4min\n"
     ]
    },
    {
     "name": "stderr",
     "output_type": "stream",
     "text": [
      "[Parallel(n_jobs=-1)]: Done  18 tasks      | elapsed:  3.7min\n"
     ]
    },
    {
     "name": "stdout",
     "output_type": "stream",
     "text": [
      "[CV] clf__C=0.31622776601683794, vect__ngram_range=(1, 1) ............\n",
      "[CV]  clf__C=0.00031622776601683794, vect__ngram_range=(1, 2), score=0.2468964147383057, total= 2.5min\n",
      "[CV] clf__C=0.31622776601683794, vect__ngram_range=(1, 1) ............\n",
      "[CV]  clf__C=0.00031622776601683794, vect__ngram_range=(1, 2), score=0.2260444710340014, total= 2.5min\n",
      "[CV] clf__C=0.31622776601683794, vect__ngram_range=(1, 2) ............\n",
      "[CV]  clf__C=0.01, vect__ngram_range=(1, 1), score=0.12526305241006114, total= 3.1min\n",
      "[CV] clf__C=0.31622776601683794, vect__ngram_range=(1, 2) ............\n",
      "[CV]  clf__C=0.01, vect__ngram_range=(1, 1), score=0.391304347826087, total= 3.5min\n",
      "[CV] clf__C=0.31622776601683794, vect__ngram_range=(1, 2) ............\n",
      "[CV]  clf__C=0.01, vect__ngram_range=(1, 1), score=0.3611083523686563, total= 3.6min\n",
      "[CV] clf__C=0.31622776601683794, vect__ngram_range=(1, 2) ............\n",
      "[CV]  clf__C=0.01, vect__ngram_range=(1, 1), score=0.2959417688702762, total= 3.8min\n",
      "[CV] clf__C=0.31622776601683794, vect__ngram_range=(1, 2) ............\n",
      "[CV]  clf__C=0.01, vect__ngram_range=(1, 1), score=0.46308130960574184, total= 4.1min\n",
      "[CV] clf__C=10.0, vect__ngram_range=(1, 1) ...........................\n"
     ]
    },
    {
     "name": "stderr",
     "output_type": "stream",
     "text": [
      "[Parallel(n_jobs=-1)]: Done  25 out of  50 | elapsed:  5.4min remaining:  5.4min\n"
     ]
    },
    {
     "name": "stdout",
     "output_type": "stream",
     "text": [
      "[CV]  clf__C=0.31622776601683794, vect__ngram_range=(1, 1), score=0.08778434712897083, total= 5.0min\n",
      "[CV] clf__C=10.0, vect__ngram_range=(1, 1) ...........................\n",
      "[CV]  clf__C=0.31622776601683794, vect__ngram_range=(1, 1), score=0.2634360354970585, total= 5.7min\n",
      "[CV] clf__C=10.0, vect__ngram_range=(1, 1) ...........................\n",
      "[CV]  clf__C=0.31622776601683794, vect__ngram_range=(1, 1), score=0.4864811719594927, total= 6.6min\n",
      "[CV]  clf__C=0.31622776601683794, vect__ngram_range=(1, 1), score=0.3708498023715415, total= 6.6min\n",
      "[CV] clf__C=10.0, vect__ngram_range=(1, 1) ...........................\n",
      "[CV] clf__C=10.0, vect__ngram_range=(1, 1) ...........................\n",
      "[CV]  clf__C=0.31622776601683794, vect__ngram_range=(1, 1), score=0.3410467772370643, total= 6.4min\n",
      "[CV] clf__C=10.0, vect__ngram_range=(1, 2) ...........................\n",
      "[CV]  clf__C=0.01, vect__ngram_range=(1, 2), score=0.09700370778635134, total= 8.9min\n"
     ]
    },
    {
     "name": "stderr",
     "output_type": "stream",
     "text": [
      "[Parallel(n_jobs=-1)]: Done  31 out of  50 | elapsed: 12.0min remaining:  7.4min\n"
     ]
    },
    {
     "name": "stdout",
     "output_type": "stream",
     "text": [
      "[CV] clf__C=10.0, vect__ngram_range=(1, 2) ...........................\n",
      "[CV]  clf__C=0.01, vect__ngram_range=(1, 2), score=0.49287189066955067, total=11.3min\n",
      "[CV] clf__C=10.0, vect__ngram_range=(1, 2) ...........................\n",
      "[CV]  clf__C=0.01, vect__ngram_range=(1, 2), score=0.39891304347826084, total=10.4min\n",
      "[CV] clf__C=10.0, vect__ngram_range=(1, 2) ...........................\n",
      "[CV]  clf__C=0.01, vect__ngram_range=(1, 2), score=0.28437531159637053, total=10.4min\n",
      "[CV] clf__C=10.0, vect__ngram_range=(1, 2) ...........................\n",
      "[CV]  clf__C=0.01, vect__ngram_range=(1, 2), score=0.36527957096037345, total=10.5min\n",
      "[CV]  clf__C=10.0, vect__ngram_range=(1, 1), score=0.46848884082194475, total=10.8min\n",
      "[CV]  clf__C=10.0, vect__ngram_range=(1, 1), score=0.07796372382002205, total= 7.4min\n"
     ]
    },
    {
     "name": "stderr",
     "output_type": "stream",
     "text": [
      "[Parallel(n_jobs=-1)]: Done  37 out of  50 | elapsed: 17.3min remaining:  6.1min\n"
     ]
    },
    {
     "name": "stdout",
     "output_type": "stream",
     "text": [
      "[CV]  clf__C=10.0, vect__ngram_range=(1, 1), score=0.31897233201581027, total=10.0min\n",
      "[CV]  clf__C=10.0, vect__ngram_range=(1, 1), score=0.2266427360654103, total= 9.3min\n",
      "[CV]  clf__C=10.0, vect__ngram_range=(1, 1), score=0.29258118979044595, total=10.1min\n",
      "[CV]  clf__C=0.31622776601683794, vect__ngram_range=(1, 2), score=0.0864816113839062, total=16.8min\n",
      "[CV]  clf__C=0.31622776601683794, vect__ngram_range=(1, 2), score=0.4945433094091043, total=18.4min\n",
      "[CV]  clf__C=0.31622776601683794, vect__ngram_range=(1, 2), score=0.3791501976284585, total=19.2min\n"
     ]
    },
    {
     "name": "stderr",
     "output_type": "stream",
     "text": [
      "[Parallel(n_jobs=-1)]: Done  43 out of  50 | elapsed: 23.9min remaining:  3.9min\n"
     ]
    },
    {
     "name": "stdout",
     "output_type": "stream",
     "text": [
      "[CV]  clf__C=0.31622776601683794, vect__ngram_range=(1, 2), score=0.2706152158739655, total=20.1min\n",
      "[CV]  clf__C=0.31622776601683794, vect__ngram_range=(1, 2), score=0.34839606713675636, total=20.8min\n",
      "[CV]  clf__C=10.0, vect__ngram_range=(1, 2), score=0.08036877442629523, total=19.7min\n",
      "[CV]  clf__C=10.0, vect__ngram_range=(1, 2), score=0.324901185770751, total=23.9min\n",
      "[CV]  clf__C=10.0, vect__ngram_range=(1, 2), score=0.24199820520490578, total=23.2min\n",
      "[CV]  clf__C=10.0, vect__ngram_range=(1, 2), score=0.4765509782715564, total=26.8min\n",
      "[CV]  clf__C=10.0, vect__ngram_range=(1, 2), score=0.30092362697388025, total=24.5min\n"
     ]
    },
    {
     "name": "stderr",
     "output_type": "stream",
     "text": [
      "[Parallel(n_jobs=-1)]: Done  50 out of  50 | elapsed: 37.4min finished\n"
     ]
    },
    {
     "name": "stdout",
     "output_type": "stream",
     "text": [
      "\n",
      "Classifier: Linear SVC\n",
      "Vectorizer: CountVectorizer\n",
      "Score: 0.3285\n",
      "Params: {'clf__C': 0.01, 'vect__ngram_range': (1, 2)}\n",
      "------------------------------\n",
      "            \n",
      "Fitting 5 folds for each of 10 candidates, totalling 50 fits\n"
     ]
    },
    {
     "name": "stderr",
     "output_type": "stream",
     "text": [
      "/home/ec2-user/anaconda3/envs/python3/lib/python3.6/site-packages/sklearn/model_selection/_split.py:605: Warning: The least populated class in y has only 1 members, which is too few. The minimum number of members in any class cannot be less than n_splits=5.\n",
      "  % (min_groups, self.n_splits)), Warning)\n"
     ]
    },
    {
     "name": "stdout",
     "output_type": "stream",
     "text": [
      "[CV] clf__C=1e-05, vect__ngram_range=(1, 1) ..........................\n",
      "[CV] clf__C=1e-05, vect__ngram_range=(1, 1) ..........................\n",
      "[CV] clf__C=1e-05, vect__ngram_range=(1, 1) ..........................\n",
      "[CV] clf__C=1e-05, vect__ngram_range=(1, 1) ..........................\n",
      "[CV] clf__C=1e-05, vect__ngram_range=(1, 1) ..........................\n",
      "[CV] clf__C=1e-05, vect__ngram_range=(1, 2) ..........................\n",
      "[CV] clf__C=1e-05, vect__ngram_range=(1, 2) ..........................\n",
      "[CV] clf__C=1e-05, vect__ngram_range=(1, 2) ..........................\n",
      "[CV] clf__C=1e-05, vect__ngram_range=(1, 2) ..........................\n",
      "[CV] clf__C=1e-05, vect__ngram_range=(1, 2) ..........................\n",
      "[CV] clf__C=0.00031622776601683794, vect__ngram_range=(1, 1) .........\n",
      "[CV] clf__C=0.00031622776601683794, vect__ngram_range=(1, 1) .........\n",
      "[CV] clf__C=0.00031622776601683794, vect__ngram_range=(1, 1) .........\n",
      "[CV] clf__C=0.00031622776601683794, vect__ngram_range=(1, 1) .........\n",
      "[CV] clf__C=0.00031622776601683794, vect__ngram_range=(1, 1) .........\n",
      "[CV] clf__C=0.00031622776601683794, vect__ngram_range=(1, 2) .........\n",
      "[CV]  clf__C=1e-05, vect__ngram_range=(1, 1), score=0.05869500446916278, total= 7.0min\n",
      "[CV] clf__C=0.00031622776601683794, vect__ngram_range=(1, 2) .........\n",
      "[CV]  clf__C=1e-05, vect__ngram_range=(1, 1), score=0.05820469963622063, total= 7.1min\n",
      "[CV] clf__C=0.00031622776601683794, vect__ngram_range=(1, 2) .........\n",
      "[CV]  clf__C=1e-05, vect__ngram_range=(1, 1), score=0.05892910559377804, total= 7.1min\n",
      "[CV] clf__C=0.00031622776601683794, vect__ngram_range=(1, 2) .........\n",
      "[CV]  clf__C=1e-05, vect__ngram_range=(1, 1), score=0.0592243711794769, total= 7.1min\n",
      "[CV] clf__C=0.00031622776601683794, vect__ngram_range=(1, 2) .........\n",
      "[CV]  clf__C=1e-05, vect__ngram_range=(1, 1), score=0.05849802371541502, total= 7.1min\n",
      "[CV] clf__C=0.01, vect__ngram_range=(1, 1) ...........................\n",
      "[CV]  clf__C=0.00031622776601683794, vect__ngram_range=(1, 1), score=0.05820469963622063, total=10.1min\n",
      "[CV] clf__C=0.01, vect__ngram_range=(1, 1) ...........................\n",
      "[CV]  clf__C=0.00031622776601683794, vect__ngram_range=(1, 1), score=0.05849802371541502, total=10.3min\n",
      "[CV]  clf__C=0.00031622776601683794, vect__ngram_range=(1, 1), score=0.05892910559377804, total=10.3min\n",
      "[CV] clf__C=0.01, vect__ngram_range=(1, 1) ...........................\n",
      "[CV] clf__C=0.01, vect__ngram_range=(1, 1) ...........................\n",
      "[CV]  clf__C=0.00031622776601683794, vect__ngram_range=(1, 1), score=0.0592243711794769, total=10.4min\n"
     ]
    },
    {
     "name": "stderr",
     "output_type": "stream",
     "text": [
      "[Parallel(n_jobs=-1)]: Done   9 tasks      | elapsed: 10.7min\n"
     ]
    },
    {
     "name": "stdout",
     "output_type": "stream",
     "text": [
      "[CV] clf__C=0.01, vect__ngram_range=(1, 1) ...........................\n",
      "[CV]  clf__C=0.00031622776601683794, vect__ngram_range=(1, 1), score=0.05869500446916278, total=10.5min\n",
      "[CV] clf__C=0.01, vect__ngram_range=(1, 2) ...........................\n",
      "[CV]  clf__C=1e-05, vect__ngram_range=(1, 2), score=0.05849802371541502, total=13.2min\n",
      "[CV] clf__C=0.01, vect__ngram_range=(1, 2) ...........................\n",
      "[CV]  clf__C=1e-05, vect__ngram_range=(1, 2), score=0.05820469963622063, total=13.6min\n",
      "[CV] clf__C=0.01, vect__ngram_range=(1, 2) ...........................\n",
      "[CV]  clf__C=1e-05, vect__ngram_range=(1, 2), score=0.05869500446916278, total=13.7min\n",
      "[CV] clf__C=0.01, vect__ngram_range=(1, 2) ...........................\n",
      "[CV]  clf__C=1e-05, vect__ngram_range=(1, 2), score=0.05892910559377804, total=13.9min\n",
      "[CV] clf__C=0.01, vect__ngram_range=(1, 2) ...........................\n",
      "[CV]  clf__C=1e-05, vect__ngram_range=(1, 2), score=0.0592243711794769, total=13.9min\n",
      "[CV] clf__C=0.31622776601683794, vect__ngram_range=(1, 1) ............\n",
      "[CV]  clf__C=0.01, vect__ngram_range=(1, 1), score=0.05820469963622063, total=12.9min\n",
      "[CV] clf__C=0.31622776601683794, vect__ngram_range=(1, 1) ............\n",
      "[CV]  clf__C=0.00031622776601683794, vect__ngram_range=(1, 2), score=0.05820469963622063, total=20.9min\n",
      "[CV] clf__C=0.31622776601683794, vect__ngram_range=(1, 1) ............\n",
      "[CV]  clf__C=0.01, vect__ngram_range=(1, 1), score=0.05849802371541502, total=13.2min\n"
     ]
    },
    {
     "name": "stderr",
     "output_type": "stream",
     "text": [
      "[Parallel(n_jobs=-1)]: Done  18 tasks      | elapsed: 24.1min\n"
     ]
    },
    {
     "name": "stdout",
     "output_type": "stream",
     "text": [
      "[CV] clf__C=0.31622776601683794, vect__ngram_range=(1, 1) ............\n",
      "[CV]  clf__C=0.01, vect__ngram_range=(1, 1), score=0.05869500446916278, total=13.4min\n",
      "[CV] clf__C=0.31622776601683794, vect__ngram_range=(1, 1) ............\n",
      "[CV]  clf__C=0.01, vect__ngram_range=(1, 1), score=0.05892910559377804, total=13.5min\n",
      "[CV] clf__C=0.31622776601683794, vect__ngram_range=(1, 2) ............\n",
      "[CV]  clf__C=0.01, vect__ngram_range=(1, 1), score=0.0592243711794769, total=13.5min\n",
      "[CV] clf__C=0.31622776601683794, vect__ngram_range=(1, 2) ............\n",
      "[CV]  clf__C=0.00031622776601683794, vect__ngram_range=(1, 2), score=0.05849802371541502, total=20.5min\n",
      "[CV] clf__C=0.31622776601683794, vect__ngram_range=(1, 2) ............\n",
      "[CV]  clf__C=0.00031622776601683794, vect__ngram_range=(1, 2), score=0.05869500446916278, total=20.8min\n",
      "[CV] clf__C=0.31622776601683794, vect__ngram_range=(1, 2) ............\n",
      "[CV]  clf__C=0.00031622776601683794, vect__ngram_range=(1, 2), score=0.05892910559377804, total=21.0min\n",
      "[CV] clf__C=0.31622776601683794, vect__ngram_range=(1, 2) ............\n",
      "[CV]  clf__C=0.00031622776601683794, vect__ngram_range=(1, 2), score=0.0592243711794769, total=21.0min\n"
     ]
    },
    {
     "name": "stderr",
     "output_type": "stream",
     "text": [
      "[Parallel(n_jobs=-1)]: Done  25 out of  50 | elapsed: 29.3min remaining: 29.3min\n"
     ]
    },
    {
     "name": "stdout",
     "output_type": "stream",
     "text": [
      "[CV] clf__C=10.0, vect__ngram_range=(1, 1) ...........................\n",
      "[CV]  clf__C=0.31622776601683794, vect__ngram_range=(1, 1), score=0.16999311768754302, total=19.5min\n",
      "[CV] clf__C=10.0, vect__ngram_range=(1, 1) ...........................\n",
      "[CV]  clf__C=0.31622776601683794, vect__ngram_range=(1, 1), score=0.15849802371541502, total=19.5min\n",
      "[CV] clf__C=10.0, vect__ngram_range=(1, 1) ...........................\n",
      "[CV]  clf__C=0.31622776601683794, vect__ngram_range=(1, 1), score=0.1503624987585659, total=20.0min\n",
      "[CV] clf__C=10.0, vect__ngram_range=(1, 1) ...........................\n",
      "[CV]  clf__C=0.01, vect__ngram_range=(1, 2), score=0.05820469963622063, total=30.7min\n",
      "[CV] clf__C=10.0, vect__ngram_range=(1, 1) ...........................\n",
      "[CV]  clf__C=0.31622776601683794, vect__ngram_range=(1, 1), score=0.14906770365938776, total=19.6min\n",
      "[CV] clf__C=10.0, vect__ngram_range=(1, 2) ...........................\n",
      "[CV]  clf__C=0.01, vect__ngram_range=(1, 2), score=0.05849802371541502, total=29.9min\n"
     ]
    },
    {
     "name": "stderr",
     "output_type": "stream",
     "text": [
      "[Parallel(n_jobs=-1)]: Done  31 out of  50 | elapsed: 44.8min remaining: 27.5min\n"
     ]
    },
    {
     "name": "stdout",
     "output_type": "stream",
     "text": [
      "[CV] clf__C=10.0, vect__ngram_range=(1, 2) ...........................\n",
      "[CV]  clf__C=0.31622776601683794, vect__ngram_range=(1, 1), score=0.09890770618298426, total=20.2min\n",
      "[CV] clf__C=10.0, vect__ngram_range=(1, 2) ...........................\n",
      "[CV]  clf__C=0.01, vect__ngram_range=(1, 2), score=0.05869500446916278, total=30.7min\n",
      "[CV] clf__C=10.0, vect__ngram_range=(1, 2) ...........................\n",
      "[CV]  clf__C=0.01, vect__ngram_range=(1, 2), score=0.05892910559377804, total=31.0min\n",
      "[CV] clf__C=10.0, vect__ngram_range=(1, 2) ...........................\n",
      "[CV]  clf__C=0.01, vect__ngram_range=(1, 2), score=0.0592243711794769, total=31.2min\n",
      "[CV]  clf__C=0.31622776601683794, vect__ngram_range=(1, 2), score=0.07134387351778657, total=38.2min\n",
      "[CV]  clf__C=0.31622776601683794, vect__ngram_range=(1, 2), score=0.07098613705633665, total=39.0min\n"
     ]
    },
    {
     "name": "stderr",
     "output_type": "stream",
     "text": [
      "[Parallel(n_jobs=-1)]: Done  37 out of  50 | elapsed: 64.4min remaining: 22.6min\n"
     ]
    },
    {
     "name": "stdout",
     "output_type": "stream",
     "text": [
      "[CV]  clf__C=0.31622776601683794, vect__ngram_range=(1, 2), score=0.06654086801072599, total=38.3min\n",
      "[CV]  clf__C=0.31622776601683794, vect__ngram_range=(1, 2), score=0.06700568351779838, total=38.9min\n",
      "[CV]  clf__C=0.31622776601683794, vect__ngram_range=(1, 2), score=0.055316163944282994, total=39.0min\n",
      "[CV]  clf__C=10.0, vect__ngram_range=(1, 1), score=0.48746435945334776, total=41.1min\n",
      "[CV]  clf__C=10.0, vect__ngram_range=(1, 1), score=0.3782608695652174, total=39.5min\n",
      "[CV]  clf__C=10.0, vect__ngram_range=(1, 1), score=0.0967030764605672, total=35.0min\n"
     ]
    },
    {
     "name": "stderr",
     "output_type": "stream",
     "text": [
      "[Parallel(n_jobs=-1)]: Done  43 out of  50 | elapsed: 77.7min remaining: 12.6min\n"
     ]
    },
    {
     "name": "stdout",
     "output_type": "stream",
     "text": [
      "[CV]  clf__C=10.0, vect__ngram_range=(1, 1), score=0.3480981229516337, total=36.8min\n",
      "[CV]  clf__C=10.0, vect__ngram_range=(1, 1), score=0.2710140592282381, total=35.5min\n",
      "[CV]  clf__C=10.0, vect__ngram_range=(1, 2), score=0.34372827490316815, total=49.3min\n",
      "[CV]  clf__C=10.0, vect__ngram_range=(1, 2), score=0.3766798418972332, total=49.7min\n",
      "[CV]  clf__C=10.0, vect__ngram_range=(1, 2), score=0.4905122406842985, total=50.5min\n",
      "[CV]  clf__C=10.0, vect__ngram_range=(1, 2), score=0.2669259148469439, total=49.1min\n",
      "[CV]  clf__C=10.0, vect__ngram_range=(1, 2), score=0.08848582022246718, total=48.6min\n"
     ]
    },
    {
     "name": "stderr",
     "output_type": "stream",
     "text": [
      "[Parallel(n_jobs=-1)]: Done  50 out of  50 | elapsed: 95.0min finished\n"
     ]
    },
    {
     "name": "stdout",
     "output_type": "stream",
     "text": [
      "\n",
      "Classifier: Logistic Regression\n",
      "Vectorizer: TfidfVectorizer\n",
      "Score: 0.3171\n",
      "Params: {'clf__C': 10.0, 'vect__ngram_range': (1, 1)}\n",
      "------------------------------\n",
      "            \n",
      "Fitting 5 folds for each of 10 candidates, totalling 50 fits\n"
     ]
    },
    {
     "name": "stderr",
     "output_type": "stream",
     "text": [
      "/home/ec2-user/anaconda3/envs/python3/lib/python3.6/site-packages/sklearn/model_selection/_split.py:605: Warning: The least populated class in y has only 1 members, which is too few. The minimum number of members in any class cannot be less than n_splits=5.\n",
      "  % (min_groups, self.n_splits)), Warning)\n"
     ]
    },
    {
     "name": "stdout",
     "output_type": "stream",
     "text": [
      "[CV] clf__C=1e-05, vect__ngram_range=(1, 1) ..........................\n",
      "[CV] clf__C=1e-05, vect__ngram_range=(1, 1) ..........................\n",
      "[CV] clf__C=1e-05, vect__ngram_range=(1, 1) ..........................\n",
      "[CV] clf__C=1e-05, vect__ngram_range=(1, 1) ..........................\n",
      "[CV] clf__C=1e-05, vect__ngram_range=(1, 1) ..........................\n",
      "[CV] clf__C=1e-05, vect__ngram_range=(1, 2) ..........................\n",
      "[CV] clf__C=1e-05, vect__ngram_range=(1, 2) ..........................\n",
      "[CV] clf__C=1e-05, vect__ngram_range=(1, 2) ..........................\n",
      "[CV] clf__C=1e-05, vect__ngram_range=(1, 2) ..........................\n",
      "[CV] clf__C=1e-05, vect__ngram_range=(1, 2) ..........................\n",
      "[CV] clf__C=0.00031622776601683794, vect__ngram_range=(1, 1) .........\n",
      "[CV] clf__C=0.00031622776601683794, vect__ngram_range=(1, 1) .........\n",
      "[CV] clf__C=0.00031622776601683794, vect__ngram_range=(1, 1) .........\n",
      "[CV] clf__C=0.00031622776601683794, vect__ngram_range=(1, 1) .........\n",
      "[CV] clf__C=0.00031622776601683794, vect__ngram_range=(1, 1) .........\n",
      "[CV] clf__C=0.00031622776601683794, vect__ngram_range=(1, 2) .........\n",
      "[CV]  clf__C=1e-05, vect__ngram_range=(1, 1), score=0.0592243711794769, total=10.3min\n",
      "[CV] clf__C=0.00031622776601683794, vect__ngram_range=(1, 2) .........\n",
      "[CV]  clf__C=1e-05, vect__ngram_range=(1, 1), score=0.05849802371541502, total=10.4min\n",
      "[CV] clf__C=0.00031622776601683794, vect__ngram_range=(1, 2) .........\n",
      "[CV]  clf__C=1e-05, vect__ngram_range=(1, 1), score=0.05892910559377804, total=10.5min\n",
      "[CV] clf__C=0.00031622776601683794, vect__ngram_range=(1, 2) .........\n",
      "[CV]  clf__C=1e-05, vect__ngram_range=(1, 1), score=0.05820469963622063, total=10.6min\n",
      "[CV] clf__C=0.00031622776601683794, vect__ngram_range=(1, 2) .........\n",
      "[CV]  clf__C=1e-05, vect__ngram_range=(1, 1), score=0.05869500446916278, total=11.2min\n",
      "[CV] clf__C=0.01, vect__ngram_range=(1, 1) ...........................\n",
      "[CV]  clf__C=0.00031622776601683794, vect__ngram_range=(1, 1), score=0.06096837944664032, total=16.7min\n",
      "[CV] clf__C=0.01, vect__ngram_range=(1, 1) ...........................\n",
      "[CV]  clf__C=0.00031622776601683794, vect__ngram_range=(1, 1), score=0.06082773825032568, total=17.1min\n",
      "[CV] clf__C=0.01, vect__ngram_range=(1, 1) ...........................\n",
      "[CV]  clf__C=0.00031622776601683794, vect__ngram_range=(1, 1), score=0.06102303320370924, total=17.1min\n",
      "[CV] clf__C=0.01, vect__ngram_range=(1, 1) ...........................\n",
      "[CV]  clf__C=0.00031622776601683794, vect__ngram_range=(1, 1), score=0.05967948087700325, total=17.7min\n"
     ]
    },
    {
     "name": "stderr",
     "output_type": "stream",
     "text": [
      "[Parallel(n_jobs=-1)]: Done   9 tasks      | elapsed: 18.1min\n"
     ]
    },
    {
     "name": "stdout",
     "output_type": "stream",
     "text": [
      "[CV] clf__C=0.01, vect__ngram_range=(1, 1) ...........................\n",
      "[CV]  clf__C=0.00031622776601683794, vect__ngram_range=(1, 1), score=0.06068129903664714, total=17.9min\n",
      "[CV] clf__C=0.01, vect__ngram_range=(1, 2) ...........................\n",
      "[CV]  clf__C=1e-05, vect__ngram_range=(1, 2), score=0.05859683794466403, total=23.7min\n",
      "[CV] clf__C=0.01, vect__ngram_range=(1, 2) ...........................\n",
      "[CV]  clf__C=1e-05, vect__ngram_range=(1, 2), score=0.0592243711794769, total=24.7min\n",
      "[CV]  clf__C=1e-05, vect__ngram_range=(1, 2), score=0.05892910559377804, total=24.6min\n",
      "[CV] clf__C=0.01, vect__ngram_range=(1, 2) ...........................\n",
      "[CV] clf__C=0.01, vect__ngram_range=(1, 2) ...........................\n",
      "[CV]  clf__C=1e-05, vect__ngram_range=(1, 2), score=0.05820469963622063, total=25.4min\n",
      "[CV] clf__C=0.01, vect__ngram_range=(1, 2) ...........................\n",
      "[CV]  clf__C=1e-05, vect__ngram_range=(1, 2), score=0.05869500446916278, total=25.7min\n",
      "[CV] clf__C=0.31622776601683794, vect__ngram_range=(1, 1) ............\n",
      "[CV]  clf__C=0.01, vect__ngram_range=(1, 1), score=0.20843574869727657, total=29.6min\n",
      "[CV] clf__C=0.31622776601683794, vect__ngram_range=(1, 1) ............\n",
      "[CV]  clf__C=0.00031622776601683794, vect__ngram_range=(1, 2), score=0.05987611837577426, total=41.6min\n",
      "[CV] clf__C=0.31622776601683794, vect__ngram_range=(1, 1) ............\n",
      "[CV]  clf__C=0.01, vect__ngram_range=(1, 1), score=0.10782643551458061, total=27.6min\n"
     ]
    },
    {
     "name": "stderr",
     "output_type": "stream",
     "text": [
      "[Parallel(n_jobs=-1)]: Done  18 tasks      | elapsed: 46.0min\n"
     ]
    },
    {
     "name": "stdout",
     "output_type": "stream",
     "text": [
      "[CV] clf__C=0.31622776601683794, vect__ngram_range=(1, 1) ............\n",
      "[CV]  clf__C=0.01, vect__ngram_range=(1, 1), score=0.18814229249011857, total=28.6min\n",
      "[CV] clf__C=0.31622776601683794, vect__ngram_range=(1, 1) ............\n",
      "[CV]  clf__C=0.01, vect__ngram_range=(1, 1), score=0.17390008938325555, total=28.9min\n",
      "[CV] clf__C=0.31622776601683794, vect__ngram_range=(1, 2) ............\n",
      "[CV]  clf__C=0.01, vect__ngram_range=(1, 1), score=0.17090437730581315, total=28.9min\n",
      "[CV] clf__C=0.31622776601683794, vect__ngram_range=(1, 2) ............\n",
      "[CV]  clf__C=0.00031622776601683794, vect__ngram_range=(1, 2), score=0.061561264822134386, total=38.2min\n",
      "[CV] clf__C=0.31622776601683794, vect__ngram_range=(1, 2) ............\n",
      "[CV]  clf__C=0.00031622776601683794, vect__ngram_range=(1, 2), score=0.06102815913418178, total=39.6min\n",
      "[CV] clf__C=0.31622776601683794, vect__ngram_range=(1, 2) ............\n",
      "[CV]  clf__C=0.00031622776601683794, vect__ngram_range=(1, 2), score=0.061421876557981855, total=39.8min\n",
      "[CV] clf__C=0.31622776601683794, vect__ngram_range=(1, 2) ............\n",
      "[CV]  clf__C=0.00031622776601683794, vect__ngram_range=(1, 2), score=0.06127718740689244, total=40.7min\n"
     ]
    },
    {
     "name": "stderr",
     "output_type": "stream",
     "text": [
      "[Parallel(n_jobs=-1)]: Done  25 out of  50 | elapsed: 52.3min remaining: 52.3min\n"
     ]
    },
    {
     "name": "stdout",
     "output_type": "stream",
     "text": [
      "[CV] clf__C=10.0, vect__ngram_range=(1, 1) ...........................\n",
      "[CV]  clf__C=0.01, vect__ngram_range=(1, 2), score=0.24697669845639564, total=74.1min\n",
      "[CV] clf__C=10.0, vect__ngram_range=(1, 1) ...........................\n",
      "[CV]  clf__C=0.01, vect__ngram_range=(1, 2), score=0.20820158102766798, total=70.5min\n",
      "[CV] clf__C=10.0, vect__ngram_range=(1, 1) ...........................\n",
      "[CV]  clf__C=0.01, vect__ngram_range=(1, 2), score=0.10081170457961719, total=69.7min\n",
      "[CV] clf__C=10.0, vect__ngram_range=(1, 1) ...........................\n",
      "[CV]  clf__C=0.01, vect__ngram_range=(1, 2), score=0.18621511570165855, total=73.9min\n",
      "[CV] clf__C=10.0, vect__ngram_range=(1, 1) ...........................\n",
      "[CV]  clf__C=0.01, vect__ngram_range=(1, 2), score=0.17758500348987935, total=74.3min\n",
      "[CV] clf__C=10.0, vect__ngram_range=(1, 2) ...........................\n",
      "[CV]  clf__C=0.31622776601683794, vect__ngram_range=(1, 1), score=0.42965293481466915, total=78.4min\n"
     ]
    },
    {
     "name": "stderr",
     "output_type": "stream",
     "text": [
      "[Parallel(n_jobs=-1)]: Done  31 out of  50 | elapsed: 105.3min remaining: 64.5min\n"
     ]
    },
    {
     "name": "stdout",
     "output_type": "stream",
     "text": [
      "[CV] clf__C=10.0, vect__ngram_range=(1, 2) ...........................\n",
      "[CV]  clf__C=0.31622776601683794, vect__ngram_range=(1, 1), score=0.10311654474396233, total=70.8min\n",
      "[CV] clf__C=10.0, vect__ngram_range=(1, 2) ...........................\n",
      "[CV]  clf__C=0.31622776601683794, vect__ngram_range=(1, 1), score=0.3438735177865613, total=78.4min\n",
      "[CV] clf__C=10.0, vect__ngram_range=(1, 2) ...........................\n",
      "[CV]  clf__C=0.31622776601683794, vect__ngram_range=(1, 1), score=0.31174893236666995, total=80.1min\n",
      "[CV] clf__C=10.0, vect__ngram_range=(1, 2) ...........................\n",
      "[CV]  clf__C=0.31622776601683794, vect__ngram_range=(1, 1), score=0.25665569847442415, total=78.7min\n",
      "[CV]  clf__C=10.0, vect__ngram_range=(1, 2), score=0.0817717206132879, total=268.2min\n",
      "[CV]  clf__C=10.0, vect__ngram_range=(1, 2), score=0.33300395256917, total=309.0min\n",
      "[CV]  clf__C=10.0, vect__ngram_range=(1, 2), score=0.2467843254561771, total=296.0min\n",
      "[CV]  clf__C=10.0, vect__ngram_range=(1, 2), score=0.30827291687357233, total=299.8min\n",
      "[CV]  clf__C=10.0, vect__ngram_range=(1, 2), score=0.4755677907777013, total=317.0min\n"
     ]
    },
    {
     "name": "stderr",
     "output_type": "stream",
     "text": [
      "[Parallel(n_jobs=-1)]: Done  50 out of  50 | elapsed: 417.7min finished\n"
     ]
    },
    {
     "name": "stdout",
     "output_type": "stream",
     "text": [
      "\n",
      "Classifier: Logistic Regression\n",
      "Vectorizer: CountVectorizer\n",
      "Score: 0.2952\n",
      "Params: {'clf__C': 10.0, 'vect__ngram_range': (1, 1)}\n",
      "------------------------------\n",
      "            \n",
      "Fitting 5 folds for each of 4 candidates, totalling 20 fits\n"
     ]
    },
    {
     "name": "stderr",
     "output_type": "stream",
     "text": [
      "/home/ec2-user/anaconda3/envs/python3/lib/python3.6/site-packages/sklearn/model_selection/_split.py:605: Warning: The least populated class in y has only 1 members, which is too few. The minimum number of members in any class cannot be less than n_splits=5.\n",
      "  % (min_groups, self.n_splits)), Warning)\n"
     ]
    },
    {
     "name": "stdout",
     "output_type": "stream",
     "text": [
      "[CV] clf__max_depth=1, vect__ngram_range=(1, 1) ......................\n",
      "[CV] clf__max_depth=1, vect__ngram_range=(1, 1) ......................\n",
      "[CV] clf__max_depth=1, vect__ngram_range=(1, 1) ......................\n",
      "[CV] clf__max_depth=1, vect__ngram_range=(1, 1) ......................\n",
      "[CV] clf__max_depth=1, vect__ngram_range=(1, 1) ......................\n",
      "[CV] clf__max_depth=1, vect__ngram_range=(1, 2) ......................\n",
      "[CV] clf__max_depth=1, vect__ngram_range=(1, 2) ......................\n",
      "[CV] clf__max_depth=1, vect__ngram_range=(1, 2) ......................\n",
      "[CV] clf__max_depth=1, vect__ngram_range=(1, 2) ......................\n",
      "[CV] clf__max_depth=1, vect__ngram_range=(1, 2) ......................\n",
      "[CV] clf__max_depth=2, vect__ngram_range=(1, 1) ......................\n",
      "[CV] clf__max_depth=2, vect__ngram_range=(1, 1) ......................\n",
      "[CV] clf__max_depth=2, vect__ngram_range=(1, 1) ......................\n",
      "[CV] clf__max_depth=2, vect__ngram_range=(1, 1) ......................\n",
      "[CV] clf__max_depth=2, vect__ngram_range=(1, 1) ......................\n",
      "[CV] clf__max_depth=2, vect__ngram_range=(1, 2) ......................\n",
      "[CV]  clf__max_depth=1, vect__ngram_range=(1, 1), score=0.06656179333398879, total=   3.7s\n",
      "[CV] clf__max_depth=2, vect__ngram_range=(1, 2) ......................\n",
      "[CV]  clf__max_depth=1, vect__ngram_range=(1, 1), score=0.06561264822134387, total=   4.2s\n",
      "[CV] clf__max_depth=2, vect__ngram_range=(1, 2) ......................\n",
      "[CV]  clf__max_depth=1, vect__ngram_range=(1, 1), score=0.06236964941900884, total=   4.1s\n",
      "[CV]  clf__max_depth=1, vect__ngram_range=(1, 1), score=0.06610828597068501, total=   4.1s\n",
      "[CV] clf__max_depth=2, vect__ngram_range=(1, 2) ......................\n",
      "[CV]  clf__max_depth=1, vect__ngram_range=(1, 1), score=0.06273173664695861, total=   4.3s\n",
      "[CV] clf__max_depth=2, vect__ngram_range=(1, 2) ......................\n"
     ]
    },
    {
     "name": "stderr",
     "output_type": "stream",
     "text": [
      "[Parallel(n_jobs=-1)]: Done   4 out of  20 | elapsed:    9.3s remaining:   37.1s\n"
     ]
    },
    {
     "name": "stdout",
     "output_type": "stream",
     "text": [
      "[CV]  clf__max_depth=2, vect__ngram_range=(1, 1), score=0.07393569953790188, total=   4.7s\n",
      "[CV]  clf__max_depth=2, vect__ngram_range=(1, 1), score=0.07391304347826087, total=   4.7s\n",
      "[CV]  clf__max_depth=2, vect__ngram_range=(1, 1), score=0.0666401827391002, total=   4.6s\n",
      "[CV]  clf__max_depth=2, vect__ngram_range=(1, 1), score=0.06810250274204806, total=   4.7s\n"
     ]
    },
    {
     "name": "stderr",
     "output_type": "stream",
     "text": [
      "[Parallel(n_jobs=-1)]: Done   7 out of  20 | elapsed:   10.3s remaining:   19.1s\n"
     ]
    },
    {
     "name": "stdout",
     "output_type": "stream",
     "text": [
      "[CV]  clf__max_depth=2, vect__ngram_range=(1, 1), score=0.06583826034672813, total=   4.7s\n"
     ]
    },
    {
     "name": "stderr",
     "output_type": "stream",
     "text": [
      "[Parallel(n_jobs=-1)]: Done  10 out of  20 | elapsed:   10.8s remaining:   10.8s\n"
     ]
    },
    {
     "name": "stdout",
     "output_type": "stream",
     "text": [
      "[CV]  clf__max_depth=1, vect__ngram_range=(1, 2), score=0.05997443712515977, total=  12.1s\n",
      "[CV]  clf__max_depth=1, vect__ngram_range=(1, 2), score=0.06126482213438735, total=  12.1s\n",
      "[CV]  clf__max_depth=1, vect__ngram_range=(1, 2), score=0.05929089283940808, total=  12.4s\n",
      "[CV]  clf__max_depth=1, vect__ngram_range=(1, 2), score=0.06331638249077674, total=  12.2s\n"
     ]
    },
    {
     "name": "stderr",
     "output_type": "stream",
     "text": [
      "[Parallel(n_jobs=-1)]: Done  13 out of  20 | elapsed:   18.7s remaining:   10.1s\n"
     ]
    },
    {
     "name": "stdout",
     "output_type": "stream",
     "text": [
      "[CV]  clf__max_depth=1, vect__ngram_range=(1, 2), score=0.05992584427297325, total=  14.0s\n",
      "[CV]  clf__max_depth=2, vect__ngram_range=(1, 2), score=0.060662668370858326, total=  13.9s\n"
     ]
    },
    {
     "name": "stderr",
     "output_type": "stream",
     "text": [
      "[Parallel(n_jobs=-1)]: Done  16 out of  20 | elapsed:   22.2s remaining:    5.5s\n"
     ]
    },
    {
     "name": "stdout",
     "output_type": "stream",
     "text": [
      "[CV]  clf__max_depth=2, vect__ngram_range=(1, 2), score=0.06195652173913044, total=   9.0s\n",
      "[CV]  clf__max_depth=2, vect__ngram_range=(1, 2), score=0.0632634819743768, total=   9.3s\n",
      "[CV]  clf__max_depth=2, vect__ngram_range=(1, 2), score=0.06481204506929904, total=  12.0s\n",
      "[CV]  clf__max_depth=2, vect__ngram_range=(1, 2), score=0.06493636636937569, total=  12.3s\n"
     ]
    },
    {
     "name": "stderr",
     "output_type": "stream",
     "text": [
      "[Parallel(n_jobs=-1)]: Done  20 out of  20 | elapsed:   26.8s finished\n"
     ]
    },
    {
     "name": "stdout",
     "output_type": "stream",
     "text": [
      "\n",
      "Classifier: Random Forest\n",
      "Vectorizer: TfidfVectorizer\n",
      "Score: 0.0697\n",
      "Params: {'clf__max_depth': 2, 'vect__ngram_range': (1, 1)}\n",
      "------------------------------\n",
      "            \n",
      "Fitting 5 folds for each of 4 candidates, totalling 20 fits\n"
     ]
    },
    {
     "name": "stderr",
     "output_type": "stream",
     "text": [
      "/home/ec2-user/anaconda3/envs/python3/lib/python3.6/site-packages/sklearn/model_selection/_split.py:605: Warning: The least populated class in y has only 1 members, which is too few. The minimum number of members in any class cannot be less than n_splits=5.\n",
      "  % (min_groups, self.n_splits)), Warning)\n"
     ]
    },
    {
     "name": "stdout",
     "output_type": "stream",
     "text": [
      "[CV] clf__max_depth=1, vect__ngram_range=(1, 1) ......................\n",
      "[CV] clf__max_depth=1, vect__ngram_range=(1, 1) ......................\n",
      "[CV] clf__max_depth=1, vect__ngram_range=(1, 1) ......................\n",
      "[CV] clf__max_depth=1, vect__ngram_range=(1, 1) ......................\n",
      "[CV] clf__max_depth=1, vect__ngram_range=(1, 1) ......................\n",
      "[CV] clf__max_depth=1, vect__ngram_range=(1, 2) ......................\n",
      "[CV] clf__max_depth=1, vect__ngram_range=(1, 2) ......................\n",
      "[CV] clf__max_depth=1, vect__ngram_range=(1, 2) ......................\n",
      "[CV] clf__max_depth=1, vect__ngram_range=(1, 2) ......................\n",
      "[CV] clf__max_depth=1, vect__ngram_range=(1, 2) ......................\n",
      "[CV] clf__max_depth=2, vect__ngram_range=(1, 1) ......................\n",
      "[CV] clf__max_depth=2, vect__ngram_range=(1, 1) ......................\n",
      "[CV] clf__max_depth=2, vect__ngram_range=(1, 1) ......................\n",
      "[CV] clf__max_depth=2, vect__ngram_range=(1, 1) ......................\n",
      "[CV] clf__max_depth=2, vect__ngram_range=(1, 1) ......................\n",
      "[CV] clf__max_depth=2, vect__ngram_range=(1, 2) ......................\n",
      "[CV]  clf__max_depth=1, vect__ngram_range=(1, 1), score=0.06294466403162055, total=   3.7s\n",
      "[CV]  clf__max_depth=1, vect__ngram_range=(1, 1), score=0.06435594398649319, total=   3.7s\n",
      "[CV] clf__max_depth=2, vect__ngram_range=(1, 2) ......................\n",
      "[CV]  clf__max_depth=1, vect__ngram_range=(1, 1), score=0.0642021433487366, total=   4.0s\n",
      "[CV] clf__max_depth=2, vect__ngram_range=(1, 2) ......................\n",
      "[CV] clf__max_depth=2, vect__ngram_range=(1, 2) ......................\n",
      "[CV]  clf__max_depth=1, vect__ngram_range=(1, 1), score=0.061729632227678126, total=   3.9s\n",
      "[CV]  clf__max_depth=1, vect__ngram_range=(1, 1), score=0.0636155150064812, total=   3.9s\n",
      "[CV] clf__max_depth=2, vect__ngram_range=(1, 2) ......................\n"
     ]
    },
    {
     "name": "stderr",
     "output_type": "stream",
     "text": [
      "[Parallel(n_jobs=-1)]: Done   4 out of  20 | elapsed:    8.8s remaining:   35.3s\n"
     ]
    },
    {
     "name": "stdout",
     "output_type": "stream",
     "text": [
      "[CV]  clf__max_depth=2, vect__ngram_range=(1, 1), score=0.06901976206862649, total=   4.6s\n",
      "[CV]  clf__max_depth=2, vect__ngram_range=(1, 1), score=0.0698972978362748, total=   4.5s\n",
      "[CV]  clf__max_depth=2, vect__ngram_range=(1, 1), score=0.07398947263879234, total=   4.5s\n"
     ]
    },
    {
     "name": "stderr",
     "output_type": "stream",
     "text": [
      "[Parallel(n_jobs=-1)]: Done   7 out of  20 | elapsed:   10.1s remaining:   18.8s\n"
     ]
    },
    {
     "name": "stdout",
     "output_type": "stream",
     "text": [
      "[CV]  clf__max_depth=2, vect__ngram_range=(1, 1), score=0.06689723320158103, total=   4.6s\n",
      "[CV]  clf__max_depth=2, vect__ngram_range=(1, 1), score=0.06363363062431106, total=   4.5s\n"
     ]
    },
    {
     "name": "stderr",
     "output_type": "stream",
     "text": [
      "[Parallel(n_jobs=-1)]: Done  10 out of  20 | elapsed:   10.5s remaining:   10.5s\n"
     ]
    },
    {
     "name": "stdout",
     "output_type": "stream",
     "text": [
      "[CV]  clf__max_depth=1, vect__ngram_range=(1, 2), score=0.06125258086717137, total=  11.6s\n",
      "[CV]  clf__max_depth=1, vect__ngram_range=(1, 2), score=0.06086956521739131, total=  11.2s\n",
      "[CV]  clf__max_depth=1, vect__ngram_range=(1, 2), score=0.06192043075082262, total=  11.4s\n",
      "[CV]  clf__max_depth=1, vect__ngram_range=(1, 2), score=0.059787466481279174, total=  11.5s\n"
     ]
    },
    {
     "name": "stderr",
     "output_type": "stream",
     "text": [
      "[Parallel(n_jobs=-1)]: Done  13 out of  20 | elapsed:   17.2s remaining:    9.3s\n"
     ]
    },
    {
     "name": "stdout",
     "output_type": "stream",
     "text": [
      "[CV]  clf__max_depth=1, vect__ngram_range=(1, 2), score=0.05972542338911715, total=  12.8s\n",
      "[CV]  clf__max_depth=2, vect__ngram_range=(1, 2), score=0.06331727460426703, total=  12.8s\n"
     ]
    },
    {
     "name": "stderr",
     "output_type": "stream",
     "text": [
      "[Parallel(n_jobs=-1)]: Done  16 out of  20 | elapsed:   20.3s remaining:    5.1s\n"
     ]
    },
    {
     "name": "stdout",
     "output_type": "stream",
     "text": [
      "[CV]  clf__max_depth=2, vect__ngram_range=(1, 2), score=0.059782608695652176, total=   9.1s\n",
      "[CV]  clf__max_depth=2, vect__ngram_range=(1, 2), score=0.06435594398649319, total=   8.9s\n",
      "[CV]  clf__max_depth=2, vect__ngram_range=(1, 2), score=0.062020141589390766, total=  10.8s\n",
      "[CV]  clf__max_depth=2, vect__ngram_range=(1, 2), score=0.06162942178575007, total=  11.0s\n"
     ]
    },
    {
     "name": "stderr",
     "output_type": "stream",
     "text": [
      "[Parallel(n_jobs=-1)]: Done  20 out of  20 | elapsed:   24.5s finished\n"
     ]
    },
    {
     "name": "stdout",
     "output_type": "stream",
     "text": [
      "\n",
      "Classifier: Random Forest\n",
      "Vectorizer: CountVectorizer\n",
      "Score: 0.0687\n",
      "Params: {'clf__max_depth': 2, 'vect__ngram_range': (1, 1)}\n",
      "------------------------------\n",
      "            \n",
      "CPU times: user 2h 45min 36s, sys: 9min 18s, total: 2h 54min 54s\n",
      "Wall time: 9h 59min 41s\n"
     ]
    }
   ],
   "source": [
    "%%time\n",
    "models = []\n",
    "for classifier, clf_name, params in zip(classifiers, \n",
    "                                        clf_names, \n",
    "                                        clf_params):\n",
    "    for vectorizer, vect_name in zip(vectorizers, \n",
    "                                     vect_names):\n",
    "        pipe = Pipeline([\n",
    "            ('vect', vectorizer),\n",
    "            ('clf', classifier),\n",
    "        ])\n",
    "        gs = GridSearchCV(pipe, \n",
    "                          param_grid=params, \n",
    "                          n_jobs=-1,\n",
    "                          scoring='accuracy',\n",
    "                          cv=5,\n",
    "                          verbose=10)\n",
    "        \n",
    "        gs.fit(df.long_post, df.group)\n",
    "        score = gs.best_score_\n",
    "        print(f'''\n",
    "Classifier: {clf_name}\n",
    "Vectorizer: {vect_name}\n",
    "Score: {gs.best_score_:.4f}\n",
    "Params: {gs.best_params_}\n",
    "------------------------------\n",
    "            ''')\n",
    "        models.append((clf_name, vect_name, gs.best_score_, gs.best_params_))"
   ]
  },
  {
   "cell_type": "code",
   "execution_count": 22,
   "metadata": {},
   "outputs": [
    {
     "name": "stdout",
     "output_type": "stream",
     "text": [
      "And the winner is...\n",
      "\n",
      "Classifier: Linear SVC\n",
      "Vectorizer: TfidfVectorizer\n",
      "Score: 0.3417844663278272\n",
      "Params: {'clf__C': 0.31622776601683794, 'vect__ngram_range': (1, 1)}\n"
     ]
    }
   ],
   "source": [
    "models = sorted(models, key=lambda tup: tup[2])\n",
    "print('And the winner is...')\n",
    "print()\n",
    "print('Classifier:', models[-1][0])\n",
    "print('Vectorizer:', models[-1][1])\n",
    "print('Score:', models[-1][2])\n",
    "print('Params:', models[-1][3])"
   ]
  },
  {
   "cell_type": "code",
   "execution_count": null,
   "metadata": {},
   "outputs": [],
   "source": []
  }
 ],
 "metadata": {
  "kernelspec": {
   "display_name": "conda_python3",
   "language": "python",
   "name": "conda_python3"
  },
  "language_info": {
   "codemirror_mode": {
    "name": "ipython",
    "version": 3
   },
   "file_extension": ".py",
   "mimetype": "text/x-python",
   "name": "python",
   "nbconvert_exporter": "python",
   "pygments_lexer": "ipython3",
   "version": "3.6.5"
  }
 },
 "nbformat": 4,
 "nbformat_minor": 2
}
