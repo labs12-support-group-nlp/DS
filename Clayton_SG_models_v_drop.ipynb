{
 "cells": [
  {
   "cell_type": "code",
   "execution_count": 1,
   "metadata": {},
   "outputs": [
    {
     "data": {
      "text/html": [
       "<div>\n",
       "<style scoped>\n",
       "    .dataframe tbody tr th:only-of-type {\n",
       "        vertical-align: middle;\n",
       "    }\n",
       "\n",
       "    .dataframe tbody tr th {\n",
       "        vertical-align: top;\n",
       "    }\n",
       "\n",
       "    .dataframe thead th {\n",
       "        text-align: right;\n",
       "    }\n",
       "</style>\n",
       "<table border=\"1\" class=\"dataframe\">\n",
       "  <thead>\n",
       "    <tr style=\"text-align: right;\">\n",
       "      <th></th>\n",
       "      <th>long_post</th>\n",
       "      <th>post_number</th>\n",
       "      <th>group</th>\n",
       "    </tr>\n",
       "  </thead>\n",
       "  <tbody>\n",
       "    <tr>\n",
       "      <th>21961</th>\n",
       "      <td>struggling anxiety years gets worse get older ...</td>\n",
       "      <td>60926</td>\n",
       "      <td>Anxiety</td>\n",
       "    </tr>\n",
       "    <tr>\n",
       "      <th>10345</th>\n",
       "      <td>ive sodas morning theres jugs tea work im hopi...</td>\n",
       "      <td>377042</td>\n",
       "      <td>Caffeine</td>\n",
       "    </tr>\n",
       "    <tr>\n",
       "      <th>26365</th>\n",
       "      <td>today well yesterday wed feb th pm est somewha...</td>\n",
       "      <td>68427</td>\n",
       "      <td>Video Game Addiction</td>\n",
       "    </tr>\n",
       "    <tr>\n",
       "      <th>28887</th>\n",
       "      <td>realise something im going get something thats...</td>\n",
       "      <td>547768</td>\n",
       "      <td>Widow</td>\n",
       "    </tr>\n",
       "    <tr>\n",
       "      <th>24333</th>\n",
       "      <td>looking anyone camptocormia knows someone deal...</td>\n",
       "      <td>532870</td>\n",
       "      <td>Parkinsons</td>\n",
       "    </tr>\n",
       "  </tbody>\n",
       "</table>\n",
       "</div>"
      ],
      "text/plain": [
       "                                               long_post post_number  \\\n",
       "21961  struggling anxiety years gets worse get older ...       60926   \n",
       "10345  ive sodas morning theres jugs tea work im hopi...      377042   \n",
       "26365  today well yesterday wed feb th pm est somewha...       68427   \n",
       "28887  realise something im going get something thats...      547768   \n",
       "24333  looking anyone camptocormia knows someone deal...      532870   \n",
       "\n",
       "                      group  \n",
       "21961               Anxiety  \n",
       "10345              Caffeine  \n",
       "26365  Video Game Addiction  \n",
       "28887                 Widow  \n",
       "24333            Parkinsons  "
      ]
     },
     "execution_count": 1,
     "metadata": {},
     "output_type": "execute_result"
    }
   ],
   "source": [
    "import pickle\n",
    "df = pickle.load(open('Clayton_SG_df_drop.pkl', 'br'))\n",
    "df['long_post'] = df['long_post'].apply(', '.join)\n",
    "df['long_post'] = df['long_post'].str.replace(',', '')\n",
    "df.sample(5)"
   ]
  },
  {
   "cell_type": "code",
   "execution_count": 2,
   "metadata": {},
   "outputs": [],
   "source": [
    "from sklearn.model_selection import train_test_split\n",
    "X = df.long_post\n",
    "y = df.group\n",
    "X_train, X_test, y_train, y_test = train_test_split(X, y, test_size=0.2, random_state=42)"
   ]
  },
  {
   "cell_type": "code",
   "execution_count": 3,
   "metadata": {},
   "outputs": [
    {
     "name": "stdout",
     "output_type": "stream",
     "text": [
      "(19543,)\n",
      "(4886,)\n",
      "(19543,)\n",
      "(4886,)\n"
     ]
    }
   ],
   "source": [
    "print(X_train.shape)\n",
    "print(X_test.shape)\n",
    "print(y_train.shape)\n",
    "print(y_test.shape)"
   ]
  },
  {
   "cell_type": "code",
   "execution_count": 4,
   "metadata": {},
   "outputs": [
    {
     "data": {
      "text/plain": [
       "(19543, 36145)"
      ]
     },
     "execution_count": 4,
     "metadata": {},
     "output_type": "execute_result"
    }
   ],
   "source": [
    "from sklearn.feature_extraction.text import CountVectorizer\n",
    "count_vect = CountVectorizer()\n",
    "X_train_counts = count_vect.fit_transform(X_train)\n",
    "X_train_counts.shape"
   ]
  },
  {
   "cell_type": "code",
   "execution_count": 5,
   "metadata": {},
   "outputs": [
    {
     "data": {
      "text/plain": [
       "(19543, 36145)"
      ]
     },
     "execution_count": 5,
     "metadata": {},
     "output_type": "execute_result"
    }
   ],
   "source": [
    "# TF-IDF: term-frequency times inverse document frequency\n",
    "from sklearn.feature_extraction.text import TfidfTransformer\n",
    "tfidf_transformer = TfidfTransformer()\n",
    "X_train_tfidf = tfidf_transformer.fit_transform(X_train_counts)\n",
    "X_train_tfidf.shape"
   ]
  },
  {
   "cell_type": "code",
   "execution_count": 6,
   "metadata": {},
   "outputs": [],
   "source": [
    "# Classifier using Naive Bayes\n",
    "from sklearn.naive_bayes import MultinomialNB\n",
    "clf = MultinomialNB().fit(X_train_tfidf, y_train)"
   ]
  },
  {
   "cell_type": "code",
   "execution_count": 7,
   "metadata": {},
   "outputs": [],
   "source": [
    "from sklearn.pipeline import Pipeline\n",
    "text_clf = Pipeline([('vect', CountVectorizer()),\n",
    "                      ('tfidf', TfidfTransformer()),\n",
    "                      ('clf', MultinomialNB()),\n",
    "])\n",
    "\n",
    "text_clf = text_clf.fit(X_train, y_train)"
   ]
  },
  {
   "cell_type": "code",
   "execution_count": 8,
   "metadata": {},
   "outputs": [
    {
     "data": {
      "text/plain": [
       "0.36962750716332377"
      ]
     },
     "execution_count": 8,
     "metadata": {},
     "output_type": "execute_result"
    }
   ],
   "source": [
    "import numpy as np\n",
    "predicted = text_clf.predict(X_test)\n",
    "np.mean(predicted == y_test)"
   ]
  },
  {
   "cell_type": "code",
   "execution_count": 9,
   "metadata": {},
   "outputs": [
    {
     "data": {
      "text/plain": [
       "0.6377404830126893"
      ]
     },
     "execution_count": 9,
     "metadata": {},
     "output_type": "execute_result"
    }
   ],
   "source": [
    "# support vector machine classifier\n",
    "from sklearn.linear_model import SGDClassifier\n",
    "\n",
    "text_clf_svm = Pipeline([('vect', CountVectorizer()),\n",
    "                      ('tfidf', TfidfTransformer()),\n",
    "                      ('clf-svm', SGDClassifier(loss='hinge', penalty='l2',\n",
    "                                            alpha=1e-3, max_iter=5, tol=None, random_state=42)),\n",
    "])\n",
    "\n",
    "_ = text_clf_svm.fit(X_train, y_train)\n",
    "\n",
    "predicted_svm = text_clf_svm.predict(X_test)\n",
    "np.mean(predicted_svm == y_test)"
   ]
  },
  {
   "cell_type": "code",
   "execution_count": 10,
   "metadata": {},
   "outputs": [],
   "source": [
    "# Tuning hyperparameters\n",
    "from sklearn.model_selection import GridSearchCV\n",
    "parameters = {'vect__ngram_range': [(1, 1), (1, 2)],\n",
    "               'tfidf__use_idf': (True, False),\n",
    "               'clf__alpha': (1e-2, 1e-3),\n",
    "}"
   ]
  },
  {
   "cell_type": "code",
   "execution_count": 11,
   "metadata": {},
   "outputs": [],
   "source": [
    "# Grid search with Naive Bayes\n",
    "gs_clf = GridSearchCV(text_clf, parameters, n_jobs=-1)"
   ]
  },
  {
   "cell_type": "code",
   "execution_count": 12,
   "metadata": {},
   "outputs": [
    {
     "name": "stdout",
     "output_type": "stream",
     "text": [
      "0.47464565317504986\n",
      "CPU times: user 2.67 s, sys: 308 ms, total: 2.98 s\n",
      "Wall time: 22.5 s\n"
     ]
    }
   ],
   "source": [
    "%%time\n",
    "gs_clf = gs_clf.fit(X_train, y_train)\n",
    "print(gs_clf.best_score_)\n",
    "gs_clf.best_params_"
   ]
  },
  {
   "cell_type": "code",
   "execution_count": 13,
   "metadata": {},
   "outputs": [],
   "source": [
    "# Grid search with SVM classifier\n",
    "parameters_svm = {'vect__ngram_range': [(1, 1), (1, 2)],\n",
    "               'tfidf__use_idf': (True, False),\n",
    "               'clf-svm__alpha': (1e-2, 1e-3),\n",
    "}\n",
    "gs_clf_svm = GridSearchCV(text_clf_svm, parameters_svm, n_jobs=-1)"
   ]
  },
  {
   "cell_type": "code",
   "execution_count": 14,
   "metadata": {},
   "outputs": [
    {
     "name": "stdout",
     "output_type": "stream",
     "text": [
      "0.5988333418615361\n",
      "CPU times: user 1min 25s, sys: 8.96 s, total: 1min 34s\n",
      "Wall time: 2min 4s\n"
     ]
    }
   ],
   "source": [
    "%%time\n",
    "gs_clf_svm = gs_clf_svm.fit(X_train, y_train)\n",
    "print(gs_clf_svm.best_score_)\n",
    "gs_clf_svm.best_params_"
   ]
  },
  {
   "cell_type": "code",
   "execution_count": 15,
   "metadata": {},
   "outputs": [
    {
     "name": "stdout",
     "output_type": "stream",
     "text": [
      "[nltk_data] Downloading package stopwords to\n",
      "[nltk_data]     /home/ec2-user/nltk_data...\n",
      "[nltk_data]   Package stopwords is already up-to-date!\n"
     ]
    }
   ],
   "source": [
    "import nltk\n",
    "nltk.download('stopwords')\n",
    "\n",
    "from nltk.stem.snowball import SnowballStemmer\n",
    "stemmer = SnowballStemmer(\"english\", ignore_stopwords=True)\n",
    "\n",
    "class StemmedCountVectorizer(CountVectorizer):\n",
    "    def build_analyzer(self):\n",
    "        analyzer = super(StemmedCountVectorizer, self).build_analyzer()\n",
    "        return lambda doc: ([stemmer.stem(w) for w in analyzer(doc)])\n",
    "\n",
    "stemmed_count_vect = StemmedCountVectorizer(stop_words='english')\n",
    "\n",
    "text_mnb_stemmed = Pipeline([('vect', stemmed_count_vect),\n",
    "                      ('tfidf', TfidfTransformer()),\n",
    "                      ('mnb', MultinomialNB(fit_prior=False)),\n",
    "])"
   ]
  },
  {
   "cell_type": "code",
   "execution_count": 16,
   "metadata": {},
   "outputs": [
    {
     "name": "stdout",
     "output_type": "stream",
     "text": [
      "CPU times: user 11.4 s, sys: 146 ms, total: 11.5 s\n",
      "Wall time: 11.5 s\n"
     ]
    }
   ],
   "source": [
    "%%time\n",
    "text_mnb_stemmed = text_mnb_stemmed.fit(X_train, y_train)"
   ]
  },
  {
   "cell_type": "code",
   "execution_count": 17,
   "metadata": {},
   "outputs": [
    {
     "data": {
      "text/plain": [
       "0.4950880065493246"
      ]
     },
     "execution_count": 17,
     "metadata": {},
     "output_type": "execute_result"
    }
   ],
   "source": [
    "predicted_mnb_stemmed = text_mnb_stemmed.predict(X_test)\n",
    "np.mean(predicted_mnb_stemmed == y_test)"
   ]
  },
  {
   "cell_type": "code",
   "execution_count": 18,
   "metadata": {},
   "outputs": [
    {
     "name": "stderr",
     "output_type": "stream",
     "text": [
      "/home/ec2-user/anaconda3/envs/python3/lib/python3.6/site-packages/sklearn/ensemble/weight_boosting.py:29: DeprecationWarning: numpy.core.umath_tests is an internal NumPy module and should not be imported. It will be removed in a future NumPy release.\n",
      "  from numpy.core.umath_tests import inner1d\n"
     ]
    }
   ],
   "source": [
    "from sklearn.svm import LinearSVC\n",
    "from sklearn.linear_model import LogisticRegression\n",
    "from sklearn.ensemble import RandomForestClassifier\n",
    "from sklearn.neural_network import MLPClassifier\n",
    "from sklearn.model_selection import GridSearchCV\n",
    "from sklearn.model_selection import train_test_split\n",
    "import numpy as np\n",
    "from sklearn.feature_extraction.text import TfidfVectorizer\n",
    "from sklearn.pipeline import Pipeline"
   ]
  },
  {
   "cell_type": "code",
   "execution_count": 19,
   "metadata": {},
   "outputs": [],
   "source": [
    "vectorizers = [\n",
    "    TfidfVectorizer(stop_words='english',\n",
    "                    max_features=None),\n",
    "    CountVectorizer(stop_words='english',\n",
    "                   max_features=None)\n",
    "]\n",
    "\n",
    "classifiers = [\n",
    "    MultinomialNB(),\n",
    "    LinearSVC(),\n",
    "    LogisticRegression(),\n",
    "    RandomForestClassifier()\n",
    "]\n",
    "\n",
    "clf_names = [\n",
    "         \"Naive Bayes\",\n",
    "         \"Linear SVC\",\n",
    "         \"Logistic Regression\",\n",
    "         \"Random Forest\",\n",
    "        ]\n",
    "\n",
    "vect_names = [\n",
    "    \"TfidfVectorizer\",\n",
    "    \"CountVectorizer\"\n",
    "]\n",
    "\n",
    "clf_params = [\n",
    "              {'vect__ngram_range': [(1, 1), (1, 2)],\n",
    "              'clf__alpha': (1e-2, 1e-3)},\n",
    "              {'vect__ngram_range': [(1, 1), (1, 2)],\n",
    "              'clf__C': (np.logspace(-5, 1, 5))},\n",
    "              {'vect__ngram_range': [(1, 1), (1, 2)],\n",
    "              'clf__C': (np.logspace(-5, 1, 5))},\n",
    "              {'vect__ngram_range': [(1, 1), (1, 2)],\n",
    "              'clf__max_depth': (1, 2)},\n",
    "             ]"
   ]
  },
  {
   "cell_type": "code",
   "execution_count": 20,
   "metadata": {},
   "outputs": [
    {
     "name": "stdout",
     "output_type": "stream",
     "text": [
      "Fitting 5 folds for each of 4 candidates, totalling 20 fits\n",
      "[CV] clf__alpha=0.01, vect__ngram_range=(1, 1) .......................\n",
      "[CV] clf__alpha=0.01, vect__ngram_range=(1, 1) .......................\n",
      "[CV] clf__alpha=0.01, vect__ngram_range=(1, 1) .......................\n",
      "[CV] clf__alpha=0.01, vect__ngram_range=(1, 1) .......................\n",
      "[CV] clf__alpha=0.01, vect__ngram_range=(1, 1) .......................\n",
      "[CV] clf__alpha=0.01, vect__ngram_range=(1, 2) .......................\n",
      "[CV] clf__alpha=0.01, vect__ngram_range=(1, 2) .......................\n",
      "[CV] clf__alpha=0.01, vect__ngram_range=(1, 2) .......................\n",
      "[CV] clf__alpha=0.01, vect__ngram_range=(1, 2) .......................\n",
      "[CV] clf__alpha=0.01, vect__ngram_range=(1, 2) .......................\n",
      "[CV] clf__alpha=0.001, vect__ngram_range=(1, 1) ......................\n",
      "[CV] clf__alpha=0.001, vect__ngram_range=(1, 1) ......................\n",
      "[CV] clf__alpha=0.001, vect__ngram_range=(1, 1) ......................\n",
      "[CV] clf__alpha=0.001, vect__ngram_range=(1, 1) ......................\n",
      "[CV] clf__alpha=0.001, vect__ngram_range=(1, 1) ......................\n",
      "[CV] clf__alpha=0.001, vect__ngram_range=(1, 2) ......................\n",
      "[CV]  clf__alpha=0.01, vect__ngram_range=(1, 1), score=0.5481646724802272, total=   3.0s\n",
      "[CV]  clf__alpha=0.01, vect__ngram_range=(1, 1), score=0.5235366352844862, total=   3.0s\n",
      "[CV]  clf__alpha=0.01, vect__ngram_range=(1, 1), score=0.523543990086741, total=   3.1s\n",
      "[CV] clf__alpha=0.001, vect__ngram_range=(1, 2) ......................\n",
      "[CV] clf__alpha=0.001, vect__ngram_range=(1, 2) ......................\n",
      "[CV]  clf__alpha=0.01, vect__ngram_range=(1, 1), score=0.7892728003214142, total=   3.2s\n",
      "[CV] clf__alpha=0.001, vect__ngram_range=(1, 2) ......................\n",
      "[CV] clf__alpha=0.001, vect__ngram_range=(1, 2) ......................\n",
      "[CV]  clf__alpha=0.01, vect__ngram_range=(1, 1), score=0.5273372287145242, total=   3.2s\n"
     ]
    },
    {
     "name": "stderr",
     "output_type": "stream",
     "text": [
      "[Parallel(n_jobs=-1)]: Done   4 out of  20 | elapsed:    5.2s remaining:   20.6s\n"
     ]
    },
    {
     "name": "stdout",
     "output_type": "stream",
     "text": [
      "[CV]  clf__alpha=0.001, vect__ngram_range=(1, 1), score=0.5169031719532554, total=   3.3s\n",
      "[CV]  clf__alpha=0.001, vect__ngram_range=(1, 1), score=0.7862595419847328, total=   3.4s\n",
      "[CV]  clf__alpha=0.001, vect__ngram_range=(1, 1), score=0.52768201176232, total=   3.3s\n",
      "[CV]  clf__alpha=0.001, vect__ngram_range=(1, 1), score=0.5090871540685667, total=   3.3s\n",
      "[CV]  clf__alpha=0.001, vect__ngram_range=(1, 1), score=0.5016373311502251, total=   3.4s\n"
     ]
    },
    {
     "name": "stderr",
     "output_type": "stream",
     "text": [
      "[Parallel(n_jobs=-1)]: Done   7 out of  20 | elapsed:    5.8s remaining:   10.8s\n",
      "[Parallel(n_jobs=-1)]: Done  10 out of  20 | elapsed:    5.9s remaining:    5.9s\n"
     ]
    },
    {
     "name": "stdout",
     "output_type": "stream",
     "text": [
      "[CV]  clf__alpha=0.01, vect__ngram_range=(1, 2), score=0.5481646724802272, total=  13.9s\n",
      "[CV]  clf__alpha=0.01, vect__ngram_range=(1, 2), score=0.5346410684474123, total=  13.9s\n",
      "[CV]  clf__alpha=0.01, vect__ngram_range=(1, 2), score=0.5247646336471551, total=  14.0s\n"
     ]
    },
    {
     "name": "stderr",
     "output_type": "stream",
     "text": [
      "[Parallel(n_jobs=-1)]: Done  13 out of  20 | elapsed:   17.4s remaining:    9.3s\n"
     ]
    },
    {
     "name": "stdout",
     "output_type": "stream",
     "text": [
      "[CV]  clf__alpha=0.01, vect__ngram_range=(1, 2), score=0.8071514664523906, total=  15.0s\n",
      "[CV]  clf__alpha=0.01, vect__ngram_range=(1, 2), score=0.5247831474597274, total=  16.4s\n",
      "[CV]  clf__alpha=0.001, vect__ngram_range=(1, 2), score=0.529946303180504, total=  12.4s\n"
     ]
    },
    {
     "name": "stderr",
     "output_type": "stream",
     "text": [
      "[Parallel(n_jobs=-1)]: Done  16 out of  20 | elapsed:   20.4s remaining:    5.1s\n"
     ]
    },
    {
     "name": "stdout",
     "output_type": "stream",
     "text": [
      "[CV]  clf__alpha=0.001, vect__ngram_range=(1, 2), score=0.5477590752382884, total=  12.7s\n",
      "[CV]  clf__alpha=0.001, vect__ngram_range=(1, 2), score=0.8133788670148654, total=  17.7s\n",
      "[CV]  clf__alpha=0.001, vect__ngram_range=(1, 2), score=0.5419449081803005, total=  15.1s\n",
      "[CV]  clf__alpha=0.001, vect__ngram_range=(1, 2), score=0.5325419566107246, total=  15.4s\n"
     ]
    },
    {
     "name": "stderr",
     "output_type": "stream",
     "text": [
      "[Parallel(n_jobs=-1)]: Done  20 out of  20 | elapsed:   23.3s finished\n"
     ]
    },
    {
     "name": "stdout",
     "output_type": "stream",
     "text": [
      "\n",
      "Classifier: Naive Bayes\n",
      "Vectorizer: TfidfVectorizer\n",
      "Score: 0.5942\n",
      "Params: {'clf__alpha': 0.001, 'vect__ngram_range': (1, 2)}\n",
      "------------------------------\n",
      "            \n",
      "Fitting 5 folds for each of 4 candidates, totalling 20 fits\n",
      "[CV] clf__alpha=0.01, vect__ngram_range=(1, 1) .......................\n",
      "[CV] clf__alpha=0.01, vect__ngram_range=(1, 1) .......................\n",
      "[CV] clf__alpha=0.01, vect__ngram_range=(1, 1) .......................\n",
      "[CV] clf__alpha=0.01, vect__ngram_range=(1, 1) .......................\n",
      "[CV] clf__alpha=0.01, vect__ngram_range=(1, 1) .......................\n",
      "[CV] clf__alpha=0.01, vect__ngram_range=(1, 2) .......................\n",
      "[CV] clf__alpha=0.01, vect__ngram_range=(1, 2) .......................\n",
      "[CV] clf__alpha=0.01, vect__ngram_range=(1, 2) .......................\n",
      "[CV] clf__alpha=0.01, vect__ngram_range=(1, 2) .......................\n",
      "[CV] clf__alpha=0.01, vect__ngram_range=(1, 2) .......................\n",
      "[CV] clf__alpha=0.001, vect__ngram_range=(1, 1) ......................\n",
      "[CV] clf__alpha=0.001, vect__ngram_range=(1, 1) ......................\n",
      "[CV] clf__alpha=0.001, vect__ngram_range=(1, 1) ......................\n",
      "[CV] clf__alpha=0.001, vect__ngram_range=(1, 1) ......................\n",
      "[CV] clf__alpha=0.001, vect__ngram_range=(1, 1) ......................\n",
      "[CV] clf__alpha=0.001, vect__ngram_range=(1, 2) ......................\n",
      "[CV]  clf__alpha=0.01, vect__ngram_range=(1, 1), score=0.5063881565605354, total=   3.0s\n",
      "[CV] clf__alpha=0.001, vect__ngram_range=(1, 2) ......................\n",
      "[CV]  clf__alpha=0.01, vect__ngram_range=(1, 1), score=0.7515066291683407, total=   3.0s\n",
      "[CV]  clf__alpha=0.01, vect__ngram_range=(1, 1), score=0.4795539033457249, total=   3.0s\n",
      "[CV] clf__alpha=0.001, vect__ngram_range=(1, 2) ......................\n",
      "[CV]  clf__alpha=0.01, vect__ngram_range=(1, 1), score=0.48158002455996723, total=   3.1s\n",
      "[CV] clf__alpha=0.001, vect__ngram_range=(1, 2) ......................\n",
      "[CV] clf__alpha=0.001, vect__ngram_range=(1, 2) ......................\n",
      "[CV]  clf__alpha=0.01, vect__ngram_range=(1, 1), score=0.4968697829716194, total=   3.1s\n"
     ]
    },
    {
     "name": "stderr",
     "output_type": "stream",
     "text": [
      "[Parallel(n_jobs=-1)]: Done   4 out of  20 | elapsed:    5.1s remaining:   20.2s\n"
     ]
    },
    {
     "name": "stdout",
     "output_type": "stream",
     "text": [
      "[CV]  clf__alpha=0.001, vect__ngram_range=(1, 1), score=0.7444756930494174, total=   3.3s\n",
      "[CV]  clf__alpha=0.001, vect__ngram_range=(1, 1), score=0.4629553827261564, total=   3.3s\n",
      "[CV]  clf__alpha=0.001, vect__ngram_range=(1, 1), score=0.4838775096329345, total=   3.3s\n"
     ]
    },
    {
     "name": "stderr",
     "output_type": "stream",
     "text": [
      "[Parallel(n_jobs=-1)]: Done   7 out of  20 | elapsed:    5.5s remaining:   10.2s\n"
     ]
    },
    {
     "name": "stdout",
     "output_type": "stream",
     "text": [
      "[CV]  clf__alpha=0.001, vect__ngram_range=(1, 1), score=0.4603469640644362, total=   3.3s\n",
      "[CV]  clf__alpha=0.001, vect__ngram_range=(1, 1), score=0.48080133555926546, total=   3.3s\n"
     ]
    },
    {
     "name": "stderr",
     "output_type": "stream",
     "text": [
      "[Parallel(n_jobs=-1)]: Done  10 out of  20 | elapsed:    5.8s remaining:    5.8s\n"
     ]
    },
    {
     "name": "stdout",
     "output_type": "stream",
     "text": [
      "[CV]  clf__alpha=0.01, vect__ngram_range=(1, 2), score=0.5270736158994119, total=  13.5s\n",
      "[CV]  clf__alpha=0.01, vect__ngram_range=(1, 2), score=0.5059892606361008, total=  13.5s\n",
      "[CV]  clf__alpha=0.01, vect__ngram_range=(1, 2), score=0.5083913221449038, total=  13.7s\n"
     ]
    },
    {
     "name": "stderr",
     "output_type": "stream",
     "text": [
      "[Parallel(n_jobs=-1)]: Done  13 out of  20 | elapsed:   16.9s remaining:    9.1s\n"
     ]
    },
    {
     "name": "stdout",
     "output_type": "stream",
     "text": [
      "[CV]  clf__alpha=0.01, vect__ngram_range=(1, 2), score=0.5210767946577629, total=  16.4s\n",
      "[CV]  clf__alpha=0.001, vect__ngram_range=(1, 2), score=0.5020652622883106, total=  12.0s\n",
      "[CV]  clf__alpha=0.001, vect__ngram_range=(1, 2), score=0.5051166598444535, total=  12.1s\n",
      "[CV]  clf__alpha=0.001, vect__ngram_range=(1, 2), score=0.5194073455759599, total=  12.2s\n"
     ]
    },
    {
     "name": "stderr",
     "output_type": "stream",
     "text": [
      "[Parallel(n_jobs=-1)]: Done  16 out of  20 | elapsed:   19.9s remaining:    5.0s\n"
     ]
    },
    {
     "name": "stdout",
     "output_type": "stream",
     "text": [
      "[CV]  clf__alpha=0.01, vect__ngram_range=(1, 2), score=0.7991161108879068, total=  17.6s\n",
      "[CV]  clf__alpha=0.001, vect__ngram_range=(1, 2), score=0.7969063881076738, total=  17.6s\n",
      "[CV]  clf__alpha=0.001, vect__ngram_range=(1, 2), score=0.5201784627864531, total=  15.1s\n"
     ]
    },
    {
     "name": "stderr",
     "output_type": "stream",
     "text": [
      "[Parallel(n_jobs=-1)]: Done  20 out of  20 | elapsed:   22.5s finished\n"
     ]
    },
    {
     "name": "stdout",
     "output_type": "stream",
     "text": [
      "\n",
      "Classifier: Naive Bayes\n",
      "Vectorizer: CountVectorizer\n",
      "Score: 0.5734\n",
      "Params: {'clf__alpha': 0.01, 'vect__ngram_range': (1, 2)}\n",
      "------------------------------\n",
      "            \n",
      "Fitting 5 folds for each of 10 candidates, totalling 50 fits\n",
      "[CV] clf__C=1e-05, vect__ngram_range=(1, 1) ..........................\n",
      "[CV] clf__C=1e-05, vect__ngram_range=(1, 1) ..........................\n",
      "[CV] clf__C=1e-05, vect__ngram_range=(1, 1) ..........................\n",
      "[CV] clf__C=1e-05, vect__ngram_range=(1, 1) ..........................\n",
      "[CV] clf__C=1e-05, vect__ngram_range=(1, 1) ..........................\n",
      "[CV] clf__C=1e-05, vect__ngram_range=(1, 2) ..........................\n",
      "[CV] clf__C=1e-05, vect__ngram_range=(1, 2) ..........................\n",
      "[CV] clf__C=1e-05, vect__ngram_range=(1, 2) ..........................\n",
      "[CV] clf__C=1e-05, vect__ngram_range=(1, 2) ..........................\n",
      "[CV] clf__C=1e-05, vect__ngram_range=(1, 2) ..........................\n",
      "[CV] clf__C=0.00031622776601683794, vect__ngram_range=(1, 1) .........\n",
      "[CV] clf__C=0.00031622776601683794, vect__ngram_range=(1, 1) .........\n",
      "[CV] clf__C=0.00031622776601683794, vect__ngram_range=(1, 1) .........\n",
      "[CV] clf__C=0.00031622776601683794, vect__ngram_range=(1, 1) .........\n",
      "[CV] clf__C=0.00031622776601683794, vect__ngram_range=(1, 1) .........\n",
      "[CV] clf__C=0.00031622776601683794, vect__ngram_range=(1, 2) .........\n",
      "[CV]  clf__C=0.00031622776601683794, vect__ngram_range=(1, 1), score=0.28344716753716354, total=  21.6s\n",
      "[CV]  clf__C=0.00031622776601683794, vect__ngram_range=(1, 1), score=0.2683025755424863, total=  21.7s\n",
      "[CV] clf__C=0.00031622776601683794, vect__ngram_range=(1, 2) .........\n",
      "[CV]  clf__C=1e-05, vect__ngram_range=(1, 1), score=0.01446364001607071, total=  22.2s\n",
      "[CV] clf__C=0.00031622776601683794, vect__ngram_range=(1, 2) .........\n",
      "[CV] clf__C=0.00031622776601683794, vect__ngram_range=(1, 2) .........\n",
      "[CV]  clf__C=0.00031622776601683794, vect__ngram_range=(1, 1), score=0.2680710450227179, total=  21.7s\n",
      "[CV]  clf__C=0.00031622776601683794, vect__ngram_range=(1, 1), score=0.2627916496111338, total=  21.8s\n",
      "[CV] clf__C=0.00031622776601683794, vect__ngram_range=(1, 2) .........\n",
      "[CV] clf__C=0.01, vect__ngram_range=(1, 1) ...........................\n",
      "[CV]  clf__C=0.00031622776601683794, vect__ngram_range=(1, 1), score=0.26898998330550916, total=  21.9s\n",
      "[CV]  clf__C=1e-05, vect__ngram_range=(1, 1), score=0.013424204874019, total=  22.5s\n",
      "[CV] clf__C=0.01, vect__ngram_range=(1, 1) ...........................\n",
      "[CV] clf__C=0.01, vect__ngram_range=(1, 1) ...........................\n",
      "[CV]  clf__C=1e-05, vect__ngram_range=(1, 1), score=0.013507981989357348, total=  23.1s\n",
      "[CV]  clf__C=1e-05, vect__ngram_range=(1, 1), score=0.013981636060100167, total=  22.8s\n",
      "[CV] clf__C=0.01, vect__ngram_range=(1, 1) ...........................\n",
      "[CV] clf__C=0.01, vect__ngram_range=(1, 1) ...........................\n",
      "[CV]  clf__C=1e-05, vect__ngram_range=(1, 1), score=0.013790306225917663, total=  23.3s\n",
      "[CV] clf__C=0.01, vect__ngram_range=(1, 2) ...........................\n"
     ]
    },
    {
     "name": "stderr",
     "output_type": "stream",
     "text": [
      "[Parallel(n_jobs=-1)]: Done   9 tasks      | elapsed:   25.2s\n"
     ]
    },
    {
     "name": "stdout",
     "output_type": "stream",
     "text": [
      "[CV]  clf__C=0.01, vect__ngram_range=(1, 1), score=0.6502611490558458, total=  27.7s\n",
      "[CV] clf__C=0.01, vect__ngram_range=(1, 2) ...........................\n",
      "[CV]  clf__C=0.01, vect__ngram_range=(1, 1), score=0.5390912812116251, total=  27.9s\n",
      "[CV] clf__C=0.01, vect__ngram_range=(1, 2) ...........................\n",
      "[CV]  clf__C=0.01, vect__ngram_range=(1, 1), score=0.5421313506815365, total=  28.0s\n",
      "[CV] clf__C=0.01, vect__ngram_range=(1, 2) ...........................\n",
      "[CV]  clf__C=0.01, vect__ngram_range=(1, 1), score=0.5453254917866559, total=  29.8s\n",
      "[CV] clf__C=0.01, vect__ngram_range=(1, 2) ...........................\n",
      "[CV]  clf__C=0.01, vect__ngram_range=(1, 1), score=0.5482053422370617, total=  29.3s\n",
      "[CV] clf__C=0.31622776601683794, vect__ngram_range=(1, 1) ............\n",
      "[CV]  clf__C=0.00031622776601683794, vect__ngram_range=(1, 2), score=0.12253917235837686, total=  53.1s\n",
      "[CV] clf__C=0.31622776601683794, vect__ngram_range=(1, 1) ............\n",
      "[CV]  clf__C=1e-05, vect__ngram_range=(1, 2), score=0.008973288814691152, total=  56.4s\n",
      "[CV] clf__C=0.31622776601683794, vect__ngram_range=(1, 1) ............\n",
      "[CV]  clf__C=1e-05, vect__ngram_range=(1, 2), score=0.008923139322652606, total=  56.9s\n",
      "[CV] clf__C=0.31622776601683794, vect__ngram_range=(1, 1) ............\n"
     ]
    },
    {
     "name": "stderr",
     "output_type": "stream",
     "text": [
      "[Parallel(n_jobs=-1)]: Done  18 tasks      | elapsed:  1.0min\n"
     ]
    },
    {
     "name": "stdout",
     "output_type": "stream",
     "text": [
      "[CV]  clf__C=1e-05, vect__ngram_range=(1, 2), score=0.008838891120932101, total=  57.6s\n",
      "[CV] clf__C=0.31622776601683794, vect__ngram_range=(1, 1) ............\n",
      "[CV]  clf__C=1e-05, vect__ngram_range=(1, 2), score=0.008880627839735646, total=  58.0s\n",
      "[CV] clf__C=0.31622776601683794, vect__ngram_range=(1, 2) ............\n",
      "[CV]  clf__C=1e-05, vect__ngram_range=(1, 2), score=0.00880065493246009, total=  58.1s\n",
      "[CV] clf__C=0.31622776601683794, vect__ngram_range=(1, 2) ............\n",
      "[CV]  clf__C=0.31622776601683794, vect__ngram_range=(1, 1), score=0.8304539975893933, total=  21.6s\n",
      "[CV] clf__C=0.31622776601683794, vect__ngram_range=(1, 2) ............\n",
      "[CV]  clf__C=0.00031622776601683794, vect__ngram_range=(1, 2), score=0.11586121437422553, total=  53.0s\n",
      "[CV] clf__C=0.31622776601683794, vect__ngram_range=(1, 2) ............\n",
      "[CV]  clf__C=0.31622776601683794, vect__ngram_range=(1, 1), score=0.6499695802068546, total=  23.1s\n",
      "[CV] clf__C=0.31622776601683794, vect__ngram_range=(1, 2) ............\n",
      "[CV]  clf__C=0.00031622776601683794, vect__ngram_range=(1, 2), score=0.11665275459098498, total=  54.5s\n",
      "[CV] clf__C=10.0, vect__ngram_range=(1, 1) ...........................\n"
     ]
    },
    {
     "name": "stderr",
     "output_type": "stream",
     "text": [
      "[Parallel(n_jobs=-1)]: Done  25 out of  50 | elapsed:  1.4min remaining:  1.4min\n"
     ]
    },
    {
     "name": "stdout",
     "output_type": "stream",
     "text": [
      "[CV]  clf__C=0.00031622776601683794, vect__ngram_range=(1, 2), score=0.11600081119448388, total=  56.3s\n",
      "[CV] clf__C=10.0, vect__ngram_range=(1, 1) ...........................\n",
      "[CV]  clf__C=0.00031622776601683794, vect__ngram_range=(1, 2), score=0.11297584936553418, total=  56.6s\n",
      "[CV] clf__C=10.0, vect__ngram_range=(1, 1) ...........................\n",
      "[CV]  clf__C=0.31622776601683794, vect__ngram_range=(1, 1), score=0.6408597662771286, total=  22.0s\n",
      "[CV] clf__C=10.0, vect__ngram_range=(1, 1) ...........................\n",
      "[CV]  clf__C=0.31622776601683794, vect__ngram_range=(1, 1), score=0.6363073110285006, total=  22.7s\n",
      "[CV] clf__C=10.0, vect__ngram_range=(1, 1) ...........................\n",
      "[CV]  clf__C=0.31622776601683794, vect__ngram_range=(1, 1), score=0.6391731477691364, total=  23.7s\n",
      "[CV] clf__C=10.0, vect__ngram_range=(1, 2) ...........................\n",
      "[CV]  clf__C=0.01, vect__ngram_range=(1, 2), score=0.7886701486540779, total= 1.1min\n"
     ]
    },
    {
     "name": "stderr",
     "output_type": "stream",
     "text": [
      "[Parallel(n_jobs=-1)]: Done  31 out of  50 | elapsed:  1.6min remaining:   59.2s\n"
     ]
    },
    {
     "name": "stdout",
     "output_type": "stream",
     "text": [
      "[CV] clf__C=10.0, vect__ngram_range=(1, 2) ...........................\n",
      "[CV]  clf__C=0.01, vect__ngram_range=(1, 2), score=0.5870200333889817, total= 1.1min\n",
      "[CV]  clf__C=0.01, vect__ngram_range=(1, 2), score=0.5952139525451227, total= 1.1min\n",
      "[CV] clf__C=10.0, vect__ngram_range=(1, 2) ...........................\n",
      "[CV] clf__C=10.0, vect__ngram_range=(1, 2) ...........................\n",
      "[CV]  clf__C=0.01, vect__ngram_range=(1, 2), score=0.5845272206303725, total= 1.1min\n",
      "[CV] clf__C=10.0, vect__ngram_range=(1, 2) ...........................\n",
      "[CV]  clf__C=0.01, vect__ngram_range=(1, 2), score=0.5817843866171004, total= 1.1min\n",
      "[CV]  clf__C=0.31622776601683794, vect__ngram_range=(1, 2), score=0.6560535388359359, total= 1.3min\n",
      "[CV]  clf__C=0.31622776601683794, vect__ngram_range=(1, 2), score=0.8487344314985938, total= 1.3min\n"
     ]
    },
    {
     "name": "stderr",
     "output_type": "stream",
     "text": [
      "[Parallel(n_jobs=-1)]: Done  37 out of  50 | elapsed:  2.4min remaining:   51.5s\n"
     ]
    },
    {
     "name": "stdout",
     "output_type": "stream",
     "text": [
      "[CV]  clf__C=0.31622776601683794, vect__ngram_range=(1, 2), score=0.6461318051575932, total= 1.2min\n",
      "[CV]  clf__C=10.0, vect__ngram_range=(1, 1), score=0.8408999598232222, total= 1.2min\n",
      "[CV]  clf__C=10.0, vect__ngram_range=(1, 1), score=0.6103923205342237, total= 1.2min\n",
      "[CV]  clf__C=0.31622776601683794, vect__ngram_range=(1, 2), score=0.6482858323007021, total= 1.3min\n",
      "[CV]  clf__C=10.0, vect__ngram_range=(1, 1), score=0.6107245190339746, total= 1.3min\n",
      "[CV]  clf__C=10.0, vect__ngram_range=(1, 1), score=0.6119372160264354, total= 1.3min\n"
     ]
    },
    {
     "name": "stderr",
     "output_type": "stream",
     "text": [
      "[Parallel(n_jobs=-1)]: Done  43 out of  50 | elapsed:  2.7min remaining:   26.7s\n"
     ]
    },
    {
     "name": "stdout",
     "output_type": "stream",
     "text": [
      "[CV]  clf__C=10.0, vect__ngram_range=(1, 1), score=0.62867572500507, total= 1.3min\n",
      "[CV]  clf__C=0.31622776601683794, vect__ngram_range=(1, 2), score=0.6435726210350584, total= 1.3min\n",
      "[CV]  clf__C=10.0, vect__ngram_range=(1, 2), score=0.6611235043601703, total= 4.3min\n",
      "[CV]  clf__C=10.0, vect__ngram_range=(1, 2), score=0.8521494576134994, total= 4.6min\n",
      "[CV]  clf__C=10.0, vect__ngram_range=(1, 2), score=0.6471551371264839, total= 4.1min\n",
      "[CV]  clf__C=10.0, vect__ngram_range=(1, 2), score=0.6446160267111853, total= 4.3min\n",
      "[CV]  clf__C=10.0, vect__ngram_range=(1, 2), score=0.6433292028087567, total= 4.3min\n"
     ]
    },
    {
     "name": "stderr",
     "output_type": "stream",
     "text": [
      "[Parallel(n_jobs=-1)]: Done  50 out of  50 | elapsed:  6.5min finished\n"
     ]
    },
    {
     "name": "stdout",
     "output_type": "stream",
     "text": [
      "\n",
      "Classifier: Linear SVC\n",
      "Vectorizer: TfidfVectorizer\n",
      "Score: 0.6905\n",
      "Params: {'clf__C': 10.0, 'vect__ngram_range': (1, 2)}\n",
      "------------------------------\n",
      "            \n",
      "Fitting 5 folds for each of 10 candidates, totalling 50 fits\n",
      "[CV] clf__C=1e-05, vect__ngram_range=(1, 1) ..........................\n",
      "[CV] clf__C=1e-05, vect__ngram_range=(1, 1) ..........................\n",
      "[CV] clf__C=1e-05, vect__ngram_range=(1, 1) ..........................\n",
      "[CV] clf__C=1e-05, vect__ngram_range=(1, 1) ..........................\n",
      "[CV] clf__C=1e-05, vect__ngram_range=(1, 1) ..........................\n",
      "[CV] clf__C=1e-05, vect__ngram_range=(1, 2) ..........................\n",
      "[CV] clf__C=1e-05, vect__ngram_range=(1, 2) ..........................\n",
      "[CV] clf__C=1e-05, vect__ngram_range=(1, 2) ..........................\n",
      "[CV] clf__C=1e-05, vect__ngram_range=(1, 2) ..........................\n",
      "[CV] clf__C=1e-05, vect__ngram_range=(1, 2) ..........................\n",
      "[CV] clf__C=0.00031622776601683794, vect__ngram_range=(1, 1) .........\n",
      "[CV] clf__C=0.00031622776601683794, vect__ngram_range=(1, 1) .........\n",
      "[CV] clf__C=0.00031622776601683794, vect__ngram_range=(1, 1) .........\n",
      "[CV] clf__C=0.00031622776601683794, vect__ngram_range=(1, 1) .........\n",
      "[CV] clf__C=0.00031622776601683794, vect__ngram_range=(1, 1) .........\n",
      "[CV] clf__C=0.00031622776601683794, vect__ngram_range=(1, 2) .........\n",
      "[CV]  clf__C=0.00031622776601683794, vect__ngram_range=(1, 1), score=0.4068140336645711, total=  23.1s\n",
      "[CV] clf__C=0.00031622776601683794, vect__ngram_range=(1, 2) .........\n",
      "[CV]  clf__C=0.00031622776601683794, vect__ngram_range=(1, 1), score=0.47127360385697065, total=  23.3s\n",
      "[CV]  clf__C=0.00031622776601683794, vect__ngram_range=(1, 1), score=0.4092237061769616, total=  23.2s\n",
      "[CV]  clf__C=0.00031622776601683794, vect__ngram_range=(1, 1), score=0.40355225113589427, total=  23.1s\n",
      "[CV] clf__C=0.00031622776601683794, vect__ngram_range=(1, 2) .........\n",
      "[CV] clf__C=0.00031622776601683794, vect__ngram_range=(1, 2) .........\n",
      "[CV] clf__C=0.00031622776601683794, vect__ngram_range=(1, 2) .........\n",
      "[CV]  clf__C=0.00031622776601683794, vect__ngram_range=(1, 1), score=0.3968481375358166, total=  23.7s\n",
      "[CV] clf__C=0.01, vect__ngram_range=(1, 1) ...........................\n",
      "[CV]  clf__C=1e-05, vect__ngram_range=(1, 1), score=0.20528707145807518, total=  30.8s\n",
      "[CV] clf__C=0.01, vect__ngram_range=(1, 1) ...........................\n",
      "[CV]  clf__C=1e-05, vect__ngram_range=(1, 1), score=0.22287145242070117, total=  32.1s\n",
      "[CV] clf__C=0.01, vect__ngram_range=(1, 1) ...........................\n",
      "[CV]  clf__C=1e-05, vect__ngram_range=(1, 1), score=0.2177650429799427, total=  32.5s\n",
      "[CV] clf__C=0.01, vect__ngram_range=(1, 1) ...........................\n",
      "[CV]  clf__C=1e-05, vect__ngram_range=(1, 1), score=0.23141824025713137, total=  33.4s\n",
      "[CV] clf__C=0.01, vect__ngram_range=(1, 1) ...........................\n"
     ]
    },
    {
     "name": "stderr",
     "output_type": "stream",
     "text": [
      "[Parallel(n_jobs=-1)]: Done   9 tasks      | elapsed:   35.4s\n"
     ]
    },
    {
     "name": "stdout",
     "output_type": "stream",
     "text": [
      "[CV]  clf__C=1e-05, vect__ngram_range=(1, 1), score=0.21861691340498884, total=  34.0s\n",
      "[CV] clf__C=0.01, vect__ngram_range=(1, 2) ...........................\n",
      "[CV]  clf__C=0.00031622776601683794, vect__ngram_range=(1, 2), score=0.5785456006428285, total=  55.6s\n",
      "[CV] clf__C=0.01, vect__ngram_range=(1, 2) ...........................\n",
      "[CV]  clf__C=0.01, vect__ngram_range=(1, 1), score=0.7717959019686621, total=  34.8s\n",
      "[CV] clf__C=0.01, vect__ngram_range=(1, 2) ...........................\n",
      "[CV]  clf__C=0.01, vect__ngram_range=(1, 1), score=0.615291016021091, total=  36.7s\n",
      "[CV] clf__C=0.01, vect__ngram_range=(1, 2) ...........................\n",
      "[CV]  clf__C=0.01, vect__ngram_range=(1, 1), score=0.5954151177199505, total=  36.1s\n",
      "[CV] clf__C=0.01, vect__ngram_range=(1, 2) ...........................\n",
      "[CV]  clf__C=0.01, vect__ngram_range=(1, 1), score=0.6058013355592654, total=  40.2s\n",
      "[CV] clf__C=0.31622776601683794, vect__ngram_range=(1, 1) ............\n",
      "[CV]  clf__C=0.01, vect__ngram_range=(1, 1), score=0.605403192795743, total=  42.7s\n",
      "[CV] clf__C=0.31622776601683794, vect__ngram_range=(1, 1) ............\n",
      "[CV]  clf__C=1e-05, vect__ngram_range=(1, 2), score=0.2437576749897667, total= 1.3min\n",
      "[CV] clf__C=0.31622776601683794, vect__ngram_range=(1, 1) ............\n",
      "[CV]  clf__C=1e-05, vect__ngram_range=(1, 2), score=0.24812186978297163, total= 1.3min\n",
      "[CV] clf__C=0.31622776601683794, vect__ngram_range=(1, 1) ............\n"
     ]
    },
    {
     "name": "stderr",
     "output_type": "stream",
     "text": [
      "[Parallel(n_jobs=-1)]: Done  18 tasks      | elapsed:  1.4min\n"
     ]
    },
    {
     "name": "stdout",
     "output_type": "stream",
     "text": [
      "[CV]  clf__C=1e-05, vect__ngram_range=(1, 2), score=0.23068979760429575, total= 1.3min\n",
      "[CV] clf__C=0.31622776601683794, vect__ngram_range=(1, 1) ............\n",
      "[CV]  clf__C=1e-05, vect__ngram_range=(1, 2), score=0.24802271344554858, total= 1.4min\n",
      "[CV] clf__C=0.31622776601683794, vect__ngram_range=(1, 2) ............\n",
      "[CV]  clf__C=1e-05, vect__ngram_range=(1, 2), score=0.28364805142627564, total= 1.4min\n",
      "[CV]  clf__C=0.00031622776601683794, vect__ngram_range=(1, 2), score=0.45367278797996663, total=  57.2s\n",
      "[CV] clf__C=0.31622776601683794, vect__ngram_range=(1, 2) ............\n",
      "[CV] clf__C=0.31622776601683794, vect__ngram_range=(1, 2) ............\n",
      "[CV]  clf__C=0.00031622776601683794, vect__ngram_range=(1, 2), score=0.44816191656340354, total=  59.3s\n",
      "[CV] clf__C=0.31622776601683794, vect__ngram_range=(1, 2) ............\n",
      "[CV]  clf__C=0.00031622776601683794, vect__ngram_range=(1, 2), score=0.450821334414926, total= 1.0min\n",
      "[CV] clf__C=0.31622776601683794, vect__ngram_range=(1, 2) ............\n",
      "[CV]  clf__C=0.00031622776601683794, vect__ngram_range=(1, 2), score=0.44514940646745804, total= 1.0min\n",
      "[CV] clf__C=10.0, vect__ngram_range=(1, 1) ...........................\n"
     ]
    },
    {
     "name": "stderr",
     "output_type": "stream",
     "text": [
      "[Parallel(n_jobs=-1)]: Done  25 out of  50 | elapsed:  1.5min remaining:  1.5min\n"
     ]
    },
    {
     "name": "stdout",
     "output_type": "stream",
     "text": [
      "[CV]  clf__C=0.01, vect__ngram_range=(1, 2), score=0.8320610687022901, total= 1.6min\n",
      "[CV] clf__C=10.0, vect__ngram_range=(1, 1) ...........................\n",
      "[CV]  clf__C=0.31622776601683794, vect__ngram_range=(1, 1), score=0.8284451586982724, total=  58.5s\n",
      "[CV] clf__C=10.0, vect__ngram_range=(1, 1) ...........................\n",
      "[CV]  clf__C=0.31622776601683794, vect__ngram_range=(1, 1), score=0.6015007097951733, total= 1.1min\n",
      "[CV] clf__C=10.0, vect__ngram_range=(1, 1) ...........................\n",
      "[CV]  clf__C=0.31622776601683794, vect__ngram_range=(1, 1), score=0.5820712239050347, total= 1.1min\n",
      "[CV] clf__C=10.0, vect__ngram_range=(1, 1) ...........................\n",
      "[CV]  clf__C=0.31622776601683794, vect__ngram_range=(1, 1), score=0.5879801734820322, total= 1.1min\n",
      "[CV] clf__C=10.0, vect__ngram_range=(1, 2) ...........................\n",
      "[CV]  clf__C=0.31622776601683794, vect__ngram_range=(1, 1), score=0.5895242070116862, total= 1.2min\n",
      "[CV] clf__C=10.0, vect__ngram_range=(1, 2) ...........................\n"
     ]
    },
    {
     "name": "stderr",
     "output_type": "stream",
     "text": [
      "[Parallel(n_jobs=-1)]: Done  31 out of  50 | elapsed:  2.6min remaining:  1.6min\n"
     ]
    },
    {
     "name": "stdout",
     "output_type": "stream",
     "text": [
      "[CV]  clf__C=0.01, vect__ngram_range=(1, 2), score=0.6424660312309877, total= 1.7min\n",
      "[CV] clf__C=10.0, vect__ngram_range=(1, 2) ...........................\n",
      "[CV]  clf__C=0.01, vect__ngram_range=(1, 2), score=0.6307818256242325, total= 1.8min\n",
      "[CV]  clf__C=10.0, vect__ngram_range=(1, 1), score=0.8071514664523906, total= 1.4min\n",
      "[CV] clf__C=10.0, vect__ngram_range=(1, 2) ...........................\n",
      "[CV] clf__C=10.0, vect__ngram_range=(1, 2) ...........................\n",
      "[CV]  clf__C=0.01, vect__ngram_range=(1, 2), score=0.6228831061544816, total= 1.7min\n",
      "[CV]  clf__C=0.01, vect__ngram_range=(1, 2), score=0.6304257095158597, total= 1.7min\n",
      "[CV]  clf__C=10.0, vect__ngram_range=(1, 1), score=0.5110601001669449, total= 1.0min\n"
     ]
    },
    {
     "name": "stderr",
     "output_type": "stream",
     "text": [
      "[Parallel(n_jobs=-1)]: Done  37 out of  50 | elapsed:  3.6min remaining:  1.3min\n"
     ]
    },
    {
     "name": "stdout",
     "output_type": "stream",
     "text": [
      "[CV]  clf__C=10.0, vect__ngram_range=(1, 1), score=0.4877200163733115, total= 1.3min\n",
      "[CV]  clf__C=10.0, vect__ngram_range=(1, 1), score=0.5359967552220645, total= 1.3min\n",
      "[CV]  clf__C=10.0, vect__ngram_range=(1, 1), score=0.4995869475423379, total= 1.3min\n",
      "[CV]  clf__C=0.31622776601683794, vect__ngram_range=(1, 2), score=0.8398955403776617, total= 3.0min\n",
      "[CV]  clf__C=0.31622776601683794, vect__ngram_range=(1, 2), score=0.5951585976627712, total= 3.1min\n",
      "[CV]  clf__C=0.31622776601683794, vect__ngram_range=(1, 2), score=0.6156966132630298, total= 3.3min\n"
     ]
    },
    {
     "name": "stderr",
     "output_type": "stream",
     "text": [
      "[Parallel(n_jobs=-1)]: Done  43 out of  50 | elapsed:  4.8min remaining:   47.1s\n"
     ]
    },
    {
     "name": "stdout",
     "output_type": "stream",
     "text": [
      "[CV]  clf__C=0.31622776601683794, vect__ngram_range=(1, 2), score=0.5962412226352747, total= 3.4min\n",
      "[CV]  clf__C=0.31622776601683794, vect__ngram_range=(1, 2), score=0.5896438804748261, total= 3.5min\n",
      "[CV]  clf__C=10.0, vect__ngram_range=(1, 2), score=0.8119726797910808, total= 2.9min\n",
      "[CV]  clf__C=10.0, vect__ngram_range=(1, 2), score=0.5382275400527277, total= 3.0min\n",
      "[CV]  clf__C=10.0, vect__ngram_range=(1, 2), score=0.4969300040933279, total= 3.0min\n",
      "[CV]  clf__C=10.0, vect__ngram_range=(1, 2), score=0.5192069392812887, total= 3.1min\n",
      "[CV]  clf__C=10.0, vect__ngram_range=(1, 2), score=0.5214941569282137, total= 3.3min\n"
     ]
    },
    {
     "name": "stderr",
     "output_type": "stream",
     "text": [
      "[Parallel(n_jobs=-1)]: Done  50 out of  50 | elapsed:  6.3min finished\n"
     ]
    },
    {
     "name": "stdout",
     "output_type": "stream",
     "text": [
      "\n",
      "Classifier: Linear SVC\n",
      "Vectorizer: CountVectorizer\n",
      "Score: 0.6725\n",
      "Params: {'clf__C': 0.01, 'vect__ngram_range': (1, 2)}\n",
      "------------------------------\n",
      "            \n",
      "Fitting 5 folds for each of 10 candidates, totalling 50 fits\n",
      "[CV] clf__C=1e-05, vect__ngram_range=(1, 1) ..........................\n",
      "[CV] clf__C=1e-05, vect__ngram_range=(1, 1) ..........................\n",
      "[CV] clf__C=1e-05, vect__ngram_range=(1, 1) ..........................\n",
      "[CV] clf__C=1e-05, vect__ngram_range=(1, 1) ..........................\n",
      "[CV] clf__C=1e-05, vect__ngram_range=(1, 1) ..........................\n",
      "[CV] clf__C=1e-05, vect__ngram_range=(1, 2) ..........................\n",
      "[CV] clf__C=1e-05, vect__ngram_range=(1, 2) ..........................\n",
      "[CV] clf__C=1e-05, vect__ngram_range=(1, 2) ..........................\n",
      "[CV] clf__C=1e-05, vect__ngram_range=(1, 2) ..........................\n",
      "[CV] clf__C=1e-05, vect__ngram_range=(1, 2) ..........................\n",
      "[CV] clf__C=0.00031622776601683794, vect__ngram_range=(1, 1) .........\n",
      "[CV] clf__C=0.00031622776601683794, vect__ngram_range=(1, 1) .........\n",
      "[CV] clf__C=0.00031622776601683794, vect__ngram_range=(1, 1) .........\n",
      "[CV] clf__C=0.00031622776601683794, vect__ngram_range=(1, 1) .........\n",
      "[CV] clf__C=0.00031622776601683794, vect__ngram_range=(1, 1) .........\n",
      "[CV] clf__C=0.00031622776601683794, vect__ngram_range=(1, 2) .........\n",
      "[CV]  clf__C=1e-05, vect__ngram_range=(1, 1), score=0.009913258983890954, total= 2.8min\n",
      "[CV] clf__C=0.00031622776601683794, vect__ngram_range=(1, 2) .........\n",
      "[CV]  clf__C=1e-05, vect__ngram_range=(1, 1), score=0.010225375626043406, total= 3.1min\n",
      "[CV] clf__C=0.00031622776601683794, vect__ngram_range=(1, 2) .........\n",
      "[CV]  clf__C=1e-05, vect__ngram_range=(1, 1), score=0.010342729669438248, total= 3.2min\n",
      "[CV] clf__C=0.00031622776601683794, vect__ngram_range=(1, 2) .........\n",
      "[CV]  clf__C=1e-05, vect__ngram_range=(1, 1), score=0.010445962233828847, total= 3.2min\n",
      "[CV] clf__C=0.00031622776601683794, vect__ngram_range=(1, 2) .........\n",
      "[CV]  clf__C=1e-05, vect__ngram_range=(1, 1), score=0.01002865329512894, total= 3.2min\n",
      "[CV] clf__C=0.01, vect__ngram_range=(1, 1) ...........................\n",
      "[CV]  clf__C=0.00031622776601683794, vect__ngram_range=(1, 1), score=0.02430695058256328, total= 3.8min\n",
      "[CV] clf__C=0.01, vect__ngram_range=(1, 1) ...........................\n",
      "[CV]  clf__C=0.00031622776601683794, vect__ngram_range=(1, 1), score=0.02168525402726146, total= 4.0min\n",
      "[CV] clf__C=0.01, vect__ngram_range=(1, 1) ...........................\n",
      "[CV]  clf__C=0.00031622776601683794, vect__ngram_range=(1, 1), score=0.02671118530884808, total= 4.0min\n",
      "[CV] clf__C=0.01, vect__ngram_range=(1, 1) ...........................\n",
      "[CV]  clf__C=0.00031622776601683794, vect__ngram_range=(1, 1), score=0.024741431758264043, total= 4.2min\n"
     ]
    },
    {
     "name": "stderr",
     "output_type": "stream",
     "text": [
      "[Parallel(n_jobs=-1)]: Done   9 tasks      | elapsed:  4.4min\n"
     ]
    },
    {
     "name": "stdout",
     "output_type": "stream",
     "text": [
      "[CV] clf__C=0.01, vect__ngram_range=(1, 1) ...........................\n",
      "[CV]  clf__C=0.00031622776601683794, vect__ngram_range=(1, 1), score=0.020875972165370446, total= 4.4min\n",
      "[CV] clf__C=0.01, vect__ngram_range=(1, 2) ...........................\n",
      "[CV]  clf__C=1e-05, vect__ngram_range=(1, 2), score=0.008923139322652606, total= 7.1min\n",
      "[CV] clf__C=0.01, vect__ngram_range=(1, 2) ...........................\n",
      "[CV]  clf__C=1e-05, vect__ngram_range=(1, 2), score=0.008838891120932101, total= 7.3min\n",
      "[CV] clf__C=0.01, vect__ngram_range=(1, 2) ...........................\n",
      "[CV]  clf__C=1e-05, vect__ngram_range=(1, 2), score=0.00880065493246009, total= 7.3min\n",
      "[CV] clf__C=0.01, vect__ngram_range=(1, 2) ...........................\n",
      "[CV]  clf__C=1e-05, vect__ngram_range=(1, 2), score=0.008880627839735646, total= 7.3min\n",
      "[CV]  clf__C=1e-05, vect__ngram_range=(1, 2), score=0.008973288814691152, total= 7.3min\n",
      "[CV] clf__C=0.01, vect__ngram_range=(1, 2) ...........................\n",
      "[CV] clf__C=0.31622776601683794, vect__ngram_range=(1, 1) ............\n",
      "[CV]  clf__C=0.00031622776601683794, vect__ngram_range=(1, 2), score=0.009642426677380474, total= 8.4min\n",
      "[CV] clf__C=0.31622776601683794, vect__ngram_range=(1, 1) ............\n",
      "[CV]  clf__C=0.01, vect__ngram_range=(1, 1), score=0.12294094013660105, total= 6.1min\n",
      "[CV] clf__C=0.31622776601683794, vect__ngram_range=(1, 1) ............\n",
      "[CV]  clf__C=0.01, vect__ngram_range=(1, 1), score=0.11640640843642264, total= 6.2min\n"
     ]
    },
    {
     "name": "stderr",
     "output_type": "stream",
     "text": [
      "[Parallel(n_jobs=-1)]: Done  18 tasks      | elapsed: 10.4min\n"
     ]
    },
    {
     "name": "stdout",
     "output_type": "stream",
     "text": [
      "[CV] clf__C=0.31622776601683794, vect__ngram_range=(1, 1) ............\n",
      "[CV]  clf__C=0.01, vect__ngram_range=(1, 1), score=0.11338518215309046, total= 6.2min\n",
      "[CV] clf__C=0.31622776601683794, vect__ngram_range=(1, 1) ............\n",
      "[CV]  clf__C=0.01, vect__ngram_range=(1, 1), score=0.11482858323007022, total= 6.3min\n",
      "[CV] clf__C=0.31622776601683794, vect__ngram_range=(1, 2) ............\n",
      "[CV]  clf__C=0.01, vect__ngram_range=(1, 1), score=0.11185308848080133, total= 6.4min\n",
      "[CV] clf__C=0.31622776601683794, vect__ngram_range=(1, 2) ............\n",
      "[CV]  clf__C=0.00031622776601683794, vect__ngram_range=(1, 2), score=0.009937132427499494, total= 8.1min\n",
      "[CV] clf__C=0.31622776601683794, vect__ngram_range=(1, 2) ............\n",
      "[CV]  clf__C=0.00031622776601683794, vect__ngram_range=(1, 2), score=0.00929368029739777, total= 8.0min\n",
      "[CV] clf__C=0.31622776601683794, vect__ngram_range=(1, 2) ............\n",
      "[CV]  clf__C=0.00031622776601683794, vect__ngram_range=(1, 2), score=0.009414654113794515, total= 8.2min\n",
      "[CV] clf__C=0.31622776601683794, vect__ngram_range=(1, 2) ............\n",
      "[CV]  clf__C=0.00031622776601683794, vect__ngram_range=(1, 2), score=0.009599332220367279, total= 8.2min\n"
     ]
    },
    {
     "name": "stderr",
     "output_type": "stream",
     "text": [
      "[Parallel(n_jobs=-1)]: Done  25 out of  50 | elapsed: 11.9min remaining: 11.9min\n"
     ]
    },
    {
     "name": "stdout",
     "output_type": "stream",
     "text": [
      "[CV] clf__C=10.0, vect__ngram_range=(1, 1) ...........................\n",
      "[CV]  clf__C=0.31622776601683794, vect__ngram_range=(1, 1), score=0.5102450783447168, total= 9.2min\n",
      "[CV] clf__C=10.0, vect__ngram_range=(1, 1) ...........................\n",
      "[CV]  clf__C=0.31622776601683794, vect__ngram_range=(1, 1), score=0.45183532751977284, total= 9.2min\n",
      "[CV] clf__C=10.0, vect__ngram_range=(1, 1) ...........................\n",
      "[CV]  clf__C=0.31622776601683794, vect__ngram_range=(1, 1), score=0.44474007367990176, total= 9.6min\n",
      "[CV] clf__C=10.0, vect__ngram_range=(1, 1) ...........................\n",
      "[CV]  clf__C=0.31622776601683794, vect__ngram_range=(1, 1), score=0.44774886410574144, total= 9.2min\n",
      "[CV] clf__C=10.0, vect__ngram_range=(1, 1) ...........................\n",
      "[CV]  clf__C=0.31622776601683794, vect__ngram_range=(1, 1), score=0.4578464106844741, total= 9.1min\n",
      "[CV] clf__C=10.0, vect__ngram_range=(1, 2) ...........................\n",
      "[CV]  clf__C=0.01, vect__ngram_range=(1, 2), score=0.035154680594616315, total=15.6min\n"
     ]
    },
    {
     "name": "stderr",
     "output_type": "stream",
     "text": [
      "[Parallel(n_jobs=-1)]: Done  31 out of  50 | elapsed: 20.7min remaining: 12.7min\n"
     ]
    },
    {
     "name": "stdout",
     "output_type": "stream",
     "text": [
      "[CV] clf__C=10.0, vect__ngram_range=(1, 2) ...........................\n",
      "[CV]  clf__C=0.01, vect__ngram_range=(1, 2), score=0.03690934901642669, total=14.8min\n",
      "[CV] clf__C=10.0, vect__ngram_range=(1, 2) ...........................\n",
      "[CV]  clf__C=0.01, vect__ngram_range=(1, 2), score=0.03526711185308848, total=15.0min\n",
      "[CV] clf__C=10.0, vect__ngram_range=(1, 2) ...........................\n",
      "[CV]  clf__C=0.01, vect__ngram_range=(1, 2), score=0.03510945890128046, total=15.2min\n",
      "[CV] clf__C=10.0, vect__ngram_range=(1, 2) ...........................\n",
      "[CV]  clf__C=0.01, vect__ngram_range=(1, 2), score=0.03192795742939009, total=15.4min\n",
      "[CV]  clf__C=10.0, vect__ngram_range=(1, 1), score=0.8378867014865408, total=17.6min\n",
      "[CV]  clf__C=0.31622776601683794, vect__ngram_range=(1, 2), score=0.39119853984992903, total=19.2min\n"
     ]
    },
    {
     "name": "stderr",
     "output_type": "stream",
     "text": [
      "[Parallel(n_jobs=-1)]: Done  37 out of  50 | elapsed: 30.6min remaining: 10.8min\n"
     ]
    },
    {
     "name": "stdout",
     "output_type": "stream",
     "text": [
      "[CV]  clf__C=0.31622776601683794, vect__ngram_range=(1, 2), score=0.48413017276014464, total=19.7min\n",
      "[CV]  clf__C=0.31622776601683794, vect__ngram_range=(1, 2), score=0.39116067740603055, total=19.5min\n",
      "[CV]  clf__C=0.31622776601683794, vect__ngram_range=(1, 2), score=0.3860008186655751, total=19.7min\n",
      "[CV]  clf__C=0.31622776601683794, vect__ngram_range=(1, 2), score=0.39398998330550916, total=19.6min\n",
      "[CV]  clf__C=10.0, vect__ngram_range=(1, 1), score=0.641046440884202, total=15.9min\n",
      "[CV]  clf__C=10.0, vect__ngram_range=(1, 1), score=0.6281211625051166, total=15.2min\n"
     ]
    },
    {
     "name": "stderr",
     "output_type": "stream",
     "text": [
      "[Parallel(n_jobs=-1)]: Done  43 out of  50 | elapsed: 33.7min remaining:  5.5min\n"
     ]
    },
    {
     "name": "stdout",
     "output_type": "stream",
     "text": [
      "[CV]  clf__C=10.0, vect__ngram_range=(1, 1), score=0.6323038397328882, total=14.3min\n",
      "[CV]  clf__C=10.0, vect__ngram_range=(1, 1), score=0.6266005782734407, total=14.6min\n",
      "[CV]  clf__C=10.0, vect__ngram_range=(1, 2), score=0.8465247087183608, total=20.7min\n",
      "[CV]  clf__C=10.0, vect__ngram_range=(1, 2), score=0.6465220036503752, total=20.2min\n",
      "[CV]  clf__C=10.0, vect__ngram_range=(1, 2), score=0.6332378223495702, total=18.6min\n",
      "[CV]  clf__C=10.0, vect__ngram_range=(1, 2), score=0.6350681536555143, total=18.3min\n",
      "[CV]  clf__C=10.0, vect__ngram_range=(1, 2), score=0.6331385642737897, total=18.1min\n"
     ]
    },
    {
     "name": "stderr",
     "output_type": "stream",
     "text": [
      "[Parallel(n_jobs=-1)]: Done  50 out of  50 | elapsed: 41.4min finished\n"
     ]
    },
    {
     "name": "stdout",
     "output_type": "stream",
     "text": [
      "\n",
      "Classifier: Logistic Regression\n",
      "Vectorizer: TfidfVectorizer\n",
      "Score: 0.6797\n",
      "Params: {'clf__C': 10.0, 'vect__ngram_range': (1, 2)}\n",
      "------------------------------\n",
      "            \n",
      "Fitting 5 folds for each of 10 candidates, totalling 50 fits\n",
      "[CV] clf__C=1e-05, vect__ngram_range=(1, 1) ..........................\n",
      "[CV] clf__C=1e-05, vect__ngram_range=(1, 1) ..........................\n",
      "[CV] clf__C=1e-05, vect__ngram_range=(1, 1) ..........................\n",
      "[CV] clf__C=1e-05, vect__ngram_range=(1, 1) ..........................\n",
      "[CV] clf__C=1e-05, vect__ngram_range=(1, 1) ..........................\n",
      "[CV] clf__C=1e-05, vect__ngram_range=(1, 2) ..........................\n",
      "[CV] clf__C=1e-05, vect__ngram_range=(1, 2) ..........................\n",
      "[CV] clf__C=1e-05, vect__ngram_range=(1, 2) ..........................\n",
      "[CV] clf__C=1e-05, vect__ngram_range=(1, 2) ..........................\n",
      "[CV] clf__C=1e-05, vect__ngram_range=(1, 2) ..........................\n",
      "[CV] clf__C=0.00031622776601683794, vect__ngram_range=(1, 1) .........\n",
      "[CV] clf__C=0.00031622776601683794, vect__ngram_range=(1, 1) .........\n",
      "[CV] clf__C=0.00031622776601683794, vect__ngram_range=(1, 1) .........\n",
      "[CV] clf__C=0.00031622776601683794, vect__ngram_range=(1, 1) .........\n",
      "[CV] clf__C=0.00031622776601683794, vect__ngram_range=(1, 1) .........\n",
      "[CV] clf__C=0.00031622776601683794, vect__ngram_range=(1, 2) .........\n",
      "[CV]  clf__C=1e-05, vect__ngram_range=(1, 1), score=0.167106063678767, total= 5.0min\n",
      "[CV] clf__C=0.00031622776601683794, vect__ngram_range=(1, 2) .........\n",
      "[CV]  clf__C=1e-05, vect__ngram_range=(1, 1), score=0.1633622470053697, total= 5.1min\n",
      "[CV] clf__C=0.00031622776601683794, vect__ngram_range=(1, 2) .........\n",
      "[CV]  clf__C=1e-05, vect__ngram_range=(1, 1), score=0.166189111747851, total= 5.1min\n",
      "[CV] clf__C=0.00031622776601683794, vect__ngram_range=(1, 2) .........\n",
      "[CV]  clf__C=1e-05, vect__ngram_range=(1, 1), score=0.17278797996661102, total= 5.2min\n",
      "[CV] clf__C=0.00031622776601683794, vect__ngram_range=(1, 2) .........\n",
      "[CV]  clf__C=1e-05, vect__ngram_range=(1, 1), score=0.17898754519887505, total= 5.2min\n",
      "[CV] clf__C=0.01, vect__ngram_range=(1, 1) ...........................\n",
      "[CV]  clf__C=0.00031622776601683794, vect__ngram_range=(1, 1), score=0.27701888308557654, total= 7.8min\n",
      "[CV] clf__C=0.01, vect__ngram_range=(1, 1) ...........................\n",
      "[CV]  clf__C=0.00031622776601683794, vect__ngram_range=(1, 1), score=0.2496451024133036, total= 7.9min\n",
      "[CV] clf__C=0.01, vect__ngram_range=(1, 1) ...........................\n",
      "[CV]  clf__C=0.00031622776601683794, vect__ngram_range=(1, 1), score=0.24411400247831475, total= 8.1min\n",
      "[CV] clf__C=0.01, vect__ngram_range=(1, 1) ...........................\n",
      "[CV]  clf__C=0.00031622776601683794, vect__ngram_range=(1, 1), score=0.25438230383973287, total= 8.1min\n"
     ]
    },
    {
     "name": "stderr",
     "output_type": "stream",
     "text": [
      "[Parallel(n_jobs=-1)]: Done   9 tasks      | elapsed:  8.3min\n"
     ]
    },
    {
     "name": "stdout",
     "output_type": "stream",
     "text": [
      "[CV] clf__C=0.01, vect__ngram_range=(1, 1) ...........................\n",
      "[CV]  clf__C=0.00031622776601683794, vect__ngram_range=(1, 1), score=0.24212034383954154, total= 8.1min\n",
      "[CV] clf__C=0.01, vect__ngram_range=(1, 2) ...........................\n",
      "[CV]  clf__C=1e-05, vect__ngram_range=(1, 2), score=0.1959515859766277, total=10.9min\n",
      "[CV] clf__C=0.01, vect__ngram_range=(1, 2) ...........................\n",
      "[CV]  clf__C=1e-05, vect__ngram_range=(1, 2), score=0.1825691862866584, total=11.0min\n",
      "[CV] clf__C=0.01, vect__ngram_range=(1, 2) ...........................\n",
      "[CV]  clf__C=1e-05, vect__ngram_range=(1, 2), score=0.18460908718788374, total=11.4min\n",
      "[CV] clf__C=0.01, vect__ngram_range=(1, 2) ...........................\n",
      "[CV]  clf__C=1e-05, vect__ngram_range=(1, 2), score=0.19164469681606164, total=11.9min\n",
      "[CV] clf__C=0.01, vect__ngram_range=(1, 2) ...........................\n",
      "[CV]  clf__C=1e-05, vect__ngram_range=(1, 2), score=0.2189634391321816, total=12.7min\n",
      "[CV] clf__C=0.31622776601683794, vect__ngram_range=(1, 1) ............\n",
      "[CV]  clf__C=0.01, vect__ngram_range=(1, 1), score=0.4700683005222981, total=12.2min\n",
      "[CV] clf__C=0.31622776601683794, vect__ngram_range=(1, 1) ............\n",
      "[CV]  clf__C=0.01, vect__ngram_range=(1, 1), score=0.40174406814033664, total=11.9min\n",
      "[CV] clf__C=0.31622776601683794, vect__ngram_range=(1, 1) ............\n",
      "[CV]  clf__C=0.01, vect__ngram_range=(1, 1), score=0.4031719532554257, total=12.1min\n"
     ]
    },
    {
     "name": "stderr",
     "output_type": "stream",
     "text": [
      "[Parallel(n_jobs=-1)]: Done  18 tasks      | elapsed: 20.6min\n"
     ]
    },
    {
     "name": "stdout",
     "output_type": "stream",
     "text": [
      "[CV] clf__C=0.31622776601683794, vect__ngram_range=(1, 1) ............\n",
      "[CV]  clf__C=0.00031622776601683794, vect__ngram_range=(1, 2), score=0.3344716753716352, total=20.3min\n",
      "[CV] clf__C=0.31622776601683794, vect__ngram_range=(1, 1) ............\n",
      "[CV]  clf__C=0.01, vect__ngram_range=(1, 1), score=0.3868194842406877, total=12.8min\n",
      "[CV] clf__C=0.31622776601683794, vect__ngram_range=(1, 2) ............\n",
      "[CV]  clf__C=0.01, vect__ngram_range=(1, 1), score=0.39425857083849647, total=12.8min\n",
      "[CV] clf__C=0.31622776601683794, vect__ngram_range=(1, 2) ............\n",
      "[CV]  clf__C=0.00031622776601683794, vect__ngram_range=(1, 2), score=0.27783411072804703, total=19.7min\n",
      "[CV] clf__C=0.31622776601683794, vect__ngram_range=(1, 2) ............\n",
      "[CV]  clf__C=0.00031622776601683794, vect__ngram_range=(1, 2), score=0.26913630781825626, total=19.8min\n",
      "[CV] clf__C=0.31622776601683794, vect__ngram_range=(1, 2) ............\n",
      "[CV]  clf__C=0.00031622776601683794, vect__ngram_range=(1, 2), score=0.2852671118530885, total=19.8min\n",
      "[CV] clf__C=0.31622776601683794, vect__ngram_range=(1, 2) ............\n",
      "[CV]  clf__C=0.00031622776601683794, vect__ngram_range=(1, 2), score=0.2742668318876497, total=20.4min\n"
     ]
    },
    {
     "name": "stderr",
     "output_type": "stream",
     "text": [
      "[Parallel(n_jobs=-1)]: Done  25 out of  50 | elapsed: 26.1min remaining: 26.1min\n"
     ]
    },
    {
     "name": "stdout",
     "output_type": "stream",
     "text": [
      "[CV] clf__C=10.0, vect__ngram_range=(1, 1) ...........................\n",
      "[CV]  clf__C=0.31622776601683794, vect__ngram_range=(1, 1), score=0.7736038569706709, total=26.1min\n",
      "[CV] clf__C=10.0, vect__ngram_range=(1, 1) ...........................\n",
      "[CV]  clf__C=0.01, vect__ngram_range=(1, 2), score=0.5707111289674568, total=31.6min\n",
      "[CV] clf__C=10.0, vect__ngram_range=(1, 1) ...........................\n",
      "[CV]  clf__C=0.01, vect__ngram_range=(1, 2), score=0.4314367580843226, total=31.0min\n",
      "[CV] clf__C=10.0, vect__ngram_range=(1, 1) ...........................\n",
      "[CV]  clf__C=0.01, vect__ngram_range=(1, 2), score=0.44473737578584466, total=31.2min\n",
      "[CV] clf__C=10.0, vect__ngram_range=(1, 1) ...........................\n",
      "[CV]  clf__C=0.01, vect__ngram_range=(1, 2), score=0.44114002478314746, total=31.1min\n",
      "[CV] clf__C=10.0, vect__ngram_range=(1, 2) ...........................\n",
      "[CV]  clf__C=0.01, vect__ngram_range=(1, 2), score=0.44887312186978295, total=31.8min\n"
     ]
    },
    {
     "name": "stderr",
     "output_type": "stream",
     "text": [
      "[Parallel(n_jobs=-1)]: Done  31 out of  50 | elapsed: 44.6min remaining: 27.3min\n"
     ]
    },
    {
     "name": "stdout",
     "output_type": "stream",
     "text": [
      "[CV] clf__C=10.0, vect__ngram_range=(1, 2) ...........................\n",
      "[CV]  clf__C=0.31622776601683794, vect__ngram_range=(1, 1), score=0.5895355911579802, total=27.0min\n",
      "[CV] clf__C=10.0, vect__ngram_range=(1, 2) ...........................\n",
      "[CV]  clf__C=0.31622776601683794, vect__ngram_range=(1, 1), score=0.5671305771592304, total=26.6min\n",
      "[CV] clf__C=10.0, vect__ngram_range=(1, 2) ...........................\n",
      "[CV]  clf__C=0.31622776601683794, vect__ngram_range=(1, 1), score=0.570425444031392, total=26.4min\n",
      "[CV] clf__C=10.0, vect__ngram_range=(1, 2) ...........................\n",
      "[CV]  clf__C=0.31622776601683794, vect__ngram_range=(1, 1), score=0.5851419031719532, total=26.6min\n",
      "[CV]  clf__C=10.0, vect__ngram_range=(1, 1), score=0.8246283648051427, total=48.6min\n",
      "[CV]  clf__C=0.31622776601683794, vect__ngram_range=(1, 2), score=0.6079902656661935, total=60.3min\n"
     ]
    },
    {
     "name": "stderr",
     "output_type": "stream",
     "text": [
      "[Parallel(n_jobs=-1)]: Done  37 out of  50 | elapsed: 81.9min remaining: 28.8min\n"
     ]
    },
    {
     "name": "stdout",
     "output_type": "stream",
     "text": [
      "[CV]  clf__C=0.31622776601683794, vect__ngram_range=(1, 2), score=0.8226195259140217, total=62.9min\n",
      "[CV]  clf__C=10.0, vect__ngram_range=(1, 1), score=0.5804096532143581, total=45.4min\n",
      "[CV]  clf__C=10.0, vect__ngram_range=(1, 1), score=0.5497339336880884, total=45.0min\n",
      "[CV]  clf__C=0.31622776601683794, vect__ngram_range=(1, 2), score=0.5989148580968281, total=60.2min\n",
      "[CV]  clf__C=0.31622776601683794, vect__ngram_range=(1, 2), score=0.582480556692591, total=60.7min\n",
      "[CV]  clf__C=10.0, vect__ngram_range=(1, 1), score=0.5625774473358116, total=43.5min\n"
     ]
    },
    {
     "name": "stderr",
     "output_type": "stream",
     "text": [
      "[Parallel(n_jobs=-1)]: Done  43 out of  50 | elapsed: 86.4min remaining: 14.1min\n"
     ]
    },
    {
     "name": "stdout",
     "output_type": "stream",
     "text": [
      "[CV]  clf__C=0.31622776601683794, vect__ngram_range=(1, 2), score=0.5970673275505989, total=60.9min\n",
      "[CV]  clf__C=10.0, vect__ngram_range=(1, 1), score=0.5655258764607679, total=44.2min\n",
      "[CV]  clf__C=10.0, vect__ngram_range=(1, 2), score=0.5779760697627256, total=61.6min\n",
      "[CV]  clf__C=10.0, vect__ngram_range=(1, 2), score=0.5646911519198664, total=60.2min\n",
      "[CV]  clf__C=10.0, vect__ngram_range=(1, 2), score=0.5474826033565289, total=62.3min\n",
      "[CV]  clf__C=10.0, vect__ngram_range=(1, 2), score=0.5615448161916563, total=60.4min\n",
      "[CV]  clf__C=10.0, vect__ngram_range=(1, 2), score=0.8300522298111691, total=64.3min\n"
     ]
    },
    {
     "name": "stderr",
     "output_type": "stream",
     "text": [
      "[Parallel(n_jobs=-1)]: Done  50 out of  50 | elapsed: 107.6min finished\n"
     ]
    },
    {
     "name": "stdout",
     "output_type": "stream",
     "text": [
      "\n",
      "Classifier: Logistic Regression\n",
      "Vectorizer: CountVectorizer\n",
      "Score: 0.6427\n",
      "Params: {'clf__C': 0.31622776601683794, 'vect__ngram_range': (1, 2)}\n",
      "------------------------------\n",
      "            \n",
      "Fitting 5 folds for each of 4 candidates, totalling 20 fits\n",
      "[CV] clf__max_depth=1, vect__ngram_range=(1, 1) ......................\n",
      "[CV] clf__max_depth=1, vect__ngram_range=(1, 1) ......................\n",
      "[CV] clf__max_depth=1, vect__ngram_range=(1, 1) ......................\n",
      "[CV] clf__max_depth=1, vect__ngram_range=(1, 1) ......................\n",
      "[CV] clf__max_depth=1, vect__ngram_range=(1, 1) ......................\n",
      "[CV] clf__max_depth=1, vect__ngram_range=(1, 2) ......................\n",
      "[CV] clf__max_depth=1, vect__ngram_range=(1, 2) ......................\n",
      "[CV] clf__max_depth=1, vect__ngram_range=(1, 2) ......................\n",
      "[CV] clf__max_depth=1, vect__ngram_range=(1, 2) ......................\n",
      "[CV] clf__max_depth=1, vect__ngram_range=(1, 2) ......................\n",
      "[CV] clf__max_depth=2, vect__ngram_range=(1, 1) ......................\n",
      "[CV] clf__max_depth=2, vect__ngram_range=(1, 1) ......................\n",
      "[CV] clf__max_depth=2, vect__ngram_range=(1, 1) ......................\n",
      "[CV] clf__max_depth=2, vect__ngram_range=(1, 1) ......................\n",
      "[CV] clf__max_depth=2, vect__ngram_range=(1, 1) ......................\n",
      "[CV] clf__max_depth=2, vect__ngram_range=(1, 2) ......................\n",
      "[CV]  clf__max_depth=1, vect__ngram_range=(1, 1), score=0.030936118923262354, total=   1.9s\n",
      "[CV]  clf__max_depth=1, vect__ngram_range=(1, 1), score=0.030359355638166045, total=   1.9s\n",
      "[CV] clf__max_depth=2, vect__ngram_range=(1, 2) ......................\n",
      "[CV]  clf__max_depth=1, vect__ngram_range=(1, 1), score=0.02394596807204257, total=   2.0s\n",
      "[CV]  clf__max_depth=1, vect__ngram_range=(1, 1), score=0.02378964941569282, total=   1.9s\n",
      "[CV] clf__max_depth=2, vect__ngram_range=(1, 2) ......................\n",
      "[CV] clf__max_depth=2, vect__ngram_range=(1, 2) ......................\n",
      "[CV] clf__max_depth=2, vect__ngram_range=(1, 2) ......................\n",
      "[CV]  clf__max_depth=1, vect__ngram_range=(1, 1), score=0.03285337659703914, total=   2.1s\n"
     ]
    },
    {
     "name": "stderr",
     "output_type": "stream",
     "text": [
      "[Parallel(n_jobs=-1)]: Done   4 out of  20 | elapsed:    4.4s remaining:   17.5s\n"
     ]
    },
    {
     "name": "stdout",
     "output_type": "stream",
     "text": [
      "[CV]  clf__max_depth=2, vect__ngram_range=(1, 1), score=0.045600642828445156, total=   2.2s\n",
      "[CV]  clf__max_depth=2, vect__ngram_range=(1, 1), score=0.04318460908718788, total=   2.3s\n",
      "[CV]  clf__max_depth=2, vect__ngram_range=(1, 1), score=0.04357703428335399, total=   2.3s\n",
      "[CV]  clf__max_depth=2, vect__ngram_range=(1, 1), score=0.05069965524234435, total=   2.2s\n",
      "[CV]  clf__max_depth=2, vect__ngram_range=(1, 1), score=0.03526711185308848, total=   2.2s\n"
     ]
    },
    {
     "name": "stderr",
     "output_type": "stream",
     "text": [
      "[Parallel(n_jobs=-1)]: Done   7 out of  20 | elapsed:    5.0s remaining:    9.2s\n",
      "[Parallel(n_jobs=-1)]: Done  10 out of  20 | elapsed:    5.1s remaining:    5.1s\n"
     ]
    },
    {
     "name": "stdout",
     "output_type": "stream",
     "text": [
      "[CV]  clf__max_depth=1, vect__ngram_range=(1, 2), score=0.01569599339116068, total=   6.0s\n",
      "[CV]  clf__max_depth=1, vect__ngram_range=(1, 2), score=0.015468059461631177, total=   6.3s\n",
      "[CV]  clf__max_depth=1, vect__ngram_range=(1, 2), score=0.025173966434711422, total=   6.5s\n",
      "[CV]  clf__max_depth=1, vect__ngram_range=(1, 2), score=0.020685459338876496, total=   6.8s\n"
     ]
    },
    {
     "name": "stderr",
     "output_type": "stream",
     "text": [
      "[Parallel(n_jobs=-1)]: Done  13 out of  20 | elapsed:   10.2s remaining:    5.5s\n"
     ]
    },
    {
     "name": "stdout",
     "output_type": "stream",
     "text": [
      "[CV]  clf__max_depth=1, vect__ngram_range=(1, 2), score=0.015651085141903172, total=   6.8s\n",
      "[CV]  clf__max_depth=2, vect__ngram_range=(1, 2), score=0.03455202892728003, total=   7.0s\n"
     ]
    },
    {
     "name": "stderr",
     "output_type": "stream",
     "text": [
      "[Parallel(n_jobs=-1)]: Done  16 out of  20 | elapsed:   10.8s remaining:    2.7s\n"
     ]
    },
    {
     "name": "stdout",
     "output_type": "stream",
     "text": [
      "[CV]  clf__max_depth=2, vect__ngram_range=(1, 2), score=0.0332589738389779, total=   4.4s\n",
      "[CV]  clf__max_depth=2, vect__ngram_range=(1, 2), score=0.02540272614622057, total=   4.4s\n",
      "[CV]  clf__max_depth=2, vect__ngram_range=(1, 2), score=0.036021285304952924, total=   4.5s\n",
      "[CV]  clf__max_depth=2, vect__ngram_range=(1, 2), score=0.023580968280467445, total=   4.5s\n"
     ]
    },
    {
     "name": "stderr",
     "output_type": "stream",
     "text": [
      "[Parallel(n_jobs=-1)]: Done  20 out of  20 | elapsed:   11.4s finished\n"
     ]
    },
    {
     "name": "stdout",
     "output_type": "stream",
     "text": [
      "\n",
      "Classifier: Random Forest\n",
      "Vectorizer: TfidfVectorizer\n",
      "Score: 0.0437\n",
      "Params: {'clf__max_depth': 2, 'vect__ngram_range': (1, 1)}\n",
      "------------------------------\n",
      "            \n",
      "Fitting 5 folds for each of 4 candidates, totalling 20 fits\n",
      "[CV] clf__max_depth=1, vect__ngram_range=(1, 1) ......................\n",
      "[CV] clf__max_depth=1, vect__ngram_range=(1, 1) ......................\n",
      "[CV] clf__max_depth=1, vect__ngram_range=(1, 1) ......................\n",
      "[CV] clf__max_depth=1, vect__ngram_range=(1, 1) ......................\n",
      "[CV] clf__max_depth=1, vect__ngram_range=(1, 1) ......................\n",
      "[CV] clf__max_depth=1, vect__ngram_range=(1, 2) ......................\n",
      "[CV] clf__max_depth=1, vect__ngram_range=(1, 2) ......................\n",
      "[CV] clf__max_depth=1, vect__ngram_range=(1, 2) ......................\n",
      "[CV] clf__max_depth=1, vect__ngram_range=(1, 2) ......................\n",
      "[CV] clf__max_depth=1, vect__ngram_range=(1, 2) ......................\n",
      "[CV] clf__max_depth=2, vect__ngram_range=(1, 1) ......................\n",
      "[CV] clf__max_depth=2, vect__ngram_range=(1, 1) ......................\n",
      "[CV] clf__max_depth=2, vect__ngram_range=(1, 1) ......................\n",
      "[CV] clf__max_depth=2, vect__ngram_range=(1, 1) ......................\n",
      "[CV] clf__max_depth=2, vect__ngram_range=(1, 1) ......................\n",
      "[CV] clf__max_depth=2, vect__ngram_range=(1, 2) ......................\n",
      "[CV]  clf__max_depth=1, vect__ngram_range=(1, 1), score=0.0206910405785456, total=   1.9s\n",
      "[CV] clf__max_depth=2, vect__ngram_range=(1, 2) ......................\n",
      "[CV]  clf__max_depth=1, vect__ngram_range=(1, 1), score=0.02818900831474346, total=   1.9s\n",
      "[CV]  clf__max_depth=1, vect__ngram_range=(1, 1), score=0.026811297584936552, total=   1.9s\n",
      "[CV] clf__max_depth=2, vect__ngram_range=(1, 2) ......................\n",
      "[CV]  clf__max_depth=1, vect__ngram_range=(1, 1), score=0.03242461792647666, total=   1.9s\n",
      "[CV] clf__max_depth=2, vect__ngram_range=(1, 2) ......................\n",
      "[CV] clf__max_depth=2, vect__ngram_range=(1, 2) ......................\n",
      "[CV]  clf__max_depth=1, vect__ngram_range=(1, 1), score=0.02378964941569282, total=   2.0s\n"
     ]
    },
    {
     "name": "stderr",
     "output_type": "stream",
     "text": [
      "[Parallel(n_jobs=-1)]: Done   4 out of  20 | elapsed:    4.2s remaining:   17.0s\n"
     ]
    },
    {
     "name": "stdout",
     "output_type": "stream",
     "text": [
      "[CV]  clf__max_depth=2, vect__ngram_range=(1, 1), score=0.03816793893129771, total=   2.2s\n",
      "[CV]  clf__max_depth=2, vect__ngram_range=(1, 1), score=0.04400327466230045, total=   2.2s\n",
      "[CV]  clf__max_depth=2, vect__ngram_range=(1, 1), score=0.03672787979966611, total=   2.2s\n",
      "[CV]  clf__max_depth=2, vect__ngram_range=(1, 1), score=0.050294058000405595, total=   2.2s\n",
      "[CV]  clf__max_depth=2, vect__ngram_range=(1, 1), score=0.0563816604708798, total=   2.2s\n"
     ]
    },
    {
     "name": "stderr",
     "output_type": "stream",
     "text": [
      "[Parallel(n_jobs=-1)]: Done   7 out of  20 | elapsed:    4.9s remaining:    9.0s\n",
      "[Parallel(n_jobs=-1)]: Done  10 out of  20 | elapsed:    5.0s remaining:    5.0s\n"
     ]
    },
    {
     "name": "stdout",
     "output_type": "stream",
     "text": [
      "[CV]  clf__max_depth=1, vect__ngram_range=(1, 2), score=0.019265868992090852, total=   5.7s\n",
      "[CV]  clf__max_depth=1, vect__ngram_range=(1, 2), score=0.018174308137133416, total=   5.6s\n",
      "[CV]  clf__max_depth=1, vect__ngram_range=(1, 2), score=0.01903397462136717, total=   5.7s\n",
      "[CV]  clf__max_depth=1, vect__ngram_range=(1, 2), score=0.019284853354760947, total=   5.9s\n"
     ]
    },
    {
     "name": "stderr",
     "output_type": "stream",
     "text": [
      "[Parallel(n_jobs=-1)]: Done  13 out of  20 | elapsed:    8.3s remaining:    4.5s\n"
     ]
    },
    {
     "name": "stdout",
     "output_type": "stream",
     "text": [
      "[CV]  clf__max_depth=1, vect__ngram_range=(1, 2), score=0.01669449081803005, total=   6.4s\n",
      "[CV]  clf__max_depth=2, vect__ngram_range=(1, 2), score=0.02249899558055444, total=   6.8s\n"
     ]
    },
    {
     "name": "stderr",
     "output_type": "stream",
     "text": [
      "[Parallel(n_jobs=-1)]: Done  16 out of  20 | elapsed:   10.1s remaining:    2.5s\n"
     ]
    },
    {
     "name": "stdout",
     "output_type": "stream",
     "text": [
      "[CV]  clf__max_depth=2, vect__ngram_range=(1, 2), score=0.030825390387345365, total=   4.4s\n",
      "[CV]  clf__max_depth=2, vect__ngram_range=(1, 2), score=0.03151862464183381, total=   4.4s\n",
      "[CV]  clf__max_depth=2, vect__ngram_range=(1, 2), score=0.028500619578686492, total=   5.4s\n",
      "[CV]  clf__max_depth=2, vect__ngram_range=(1, 2), score=0.02003338898163606, total=   5.4s\n"
     ]
    },
    {
     "name": "stderr",
     "output_type": "stream",
     "text": [
      "[Parallel(n_jobs=-1)]: Done  20 out of  20 | elapsed:   11.9s finished\n"
     ]
    },
    {
     "name": "stdout",
     "output_type": "stream",
     "text": [
      "\n",
      "Classifier: Random Forest\n",
      "Vectorizer: CountVectorizer\n",
      "Score: 0.0451\n",
      "Params: {'clf__max_depth': 2, 'vect__ngram_range': (1, 1)}\n",
      "------------------------------\n",
      "            \n",
      "CPU times: user 59min 8s, sys: 3min 8s, total: 1h 2min 16s\n",
      "Wall time: 2h 55min 2s\n"
     ]
    }
   ],
   "source": [
    "%%time\n",
    "models = []\n",
    "for classifier, clf_name, params in zip(classifiers, \n",
    "                                        clf_names, \n",
    "                                        clf_params):\n",
    "    for vectorizer, vect_name in zip(vectorizers, \n",
    "                                     vect_names):\n",
    "        pipe = Pipeline([\n",
    "            ('vect', vectorizer),\n",
    "            ('clf', classifier),\n",
    "        ])\n",
    "        gs = GridSearchCV(pipe, \n",
    "                          param_grid=params, \n",
    "                          n_jobs=-1,\n",
    "                          scoring='accuracy',\n",
    "                          cv=5,\n",
    "                          verbose=10)\n",
    "        \n",
    "        gs.fit(df.long_post, df.group)\n",
    "        score = gs.best_score_\n",
    "        print(f'''\n",
    "Classifier: {clf_name}\n",
    "Vectorizer: {vect_name}\n",
    "Score: {gs.best_score_:.4f}\n",
    "Params: {gs.best_params_}\n",
    "------------------------------\n",
    "            ''')\n",
    "        models.append((clf_name, vect_name, gs.best_score_, gs.best_params_))"
   ]
  },
  {
   "cell_type": "code",
   "execution_count": 21,
   "metadata": {},
   "outputs": [
    {
     "name": "stdout",
     "output_type": "stream",
     "text": [
      "And the winner is...\n",
      "\n",
      "Classifier: Linear SVC\n",
      "Vectorizer: TfidfVectorizer\n",
      "Score: 0.6904908101027467\n",
      "Params: {'clf__C': 10.0, 'vect__ngram_range': (1, 2)}\n"
     ]
    }
   ],
   "source": [
    "models = sorted(models, key=lambda tup: tup[2])\n",
    "print('And the winner is...')\n",
    "print()\n",
    "print('Classifier:', models[-1][0])\n",
    "print('Vectorizer:', models[-1][1])\n",
    "print('Score:', models[-1][2])\n",
    "print('Params:', models[-1][3])"
   ]
  },
  {
   "cell_type": "code",
   "execution_count": null,
   "metadata": {},
   "outputs": [],
   "source": []
  }
 ],
 "metadata": {
  "kernelspec": {
   "display_name": "conda_python3",
   "language": "python",
   "name": "conda_python3"
  },
  "language_info": {
   "codemirror_mode": {
    "name": "ipython",
    "version": 3
   },
   "file_extension": ".py",
   "mimetype": "text/x-python",
   "name": "python",
   "nbconvert_exporter": "python",
   "pygments_lexer": "ipython3",
   "version": "3.6.5"
  }
 },
 "nbformat": 4,
 "nbformat_minor": 2
}
