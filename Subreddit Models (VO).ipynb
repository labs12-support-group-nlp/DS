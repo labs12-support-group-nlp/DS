{
  "nbformat": 4,
  "nbformat_minor": 0,
  "metadata": {
    "colab": {
      "name": "Subreddit Models (VO).ipynb",
      "version": "0.3.2",
      "provenance": []
    },
    "language_info": {
      "codemirror_mode": {
        "name": "ipython",
        "version": 3
      },
      "file_extension": ".py",
      "mimetype": "text/x-python",
      "name": "python",
      "nbconvert_exporter": "python",
      "pygments_lexer": "ipython3",
      "version": "3.6.7"
    },
    "kernelspec": {
      "display_name": "Python 3",
      "language": "python",
      "name": "python3"
    }
  },
  "cells": [
    {
      "cell_type": "code",
      "metadata": {
        "id": "uim4Uu_nIcNW",
        "colab_type": "code",
        "colab": {
          "base_uri": "https://localhost:8080/",
          "height": 362
        },
        "outputId": "c5956387-a7b4-4464-f8fc-a9008d460c7a"
      },
      "source": [
        "import pandas as pd\n",
        "pd.set_option('display.max_colwidth', 300)\n",
        "df = pd.read_csv('subreddits_mental_cleaned.csv')\n",
        "df.head()"
      ],
      "execution_count": 1,
      "outputs": [
        {
          "output_type": "execute_result",
          "data": {
            "text/html": [
              "<div>\n",
              "<style scoped>\n",
              "    .dataframe tbody tr th:only-of-type {\n",
              "        vertical-align: middle;\n",
              "    }\n",
              "\n",
              "    .dataframe tbody tr th {\n",
              "        vertical-align: top;\n",
              "    }\n",
              "\n",
              "    .dataframe thead th {\n",
              "        text-align: right;\n",
              "    }\n",
              "</style>\n",
              "<table border=\"1\" class=\"dataframe\">\n",
              "  <thead>\n",
              "    <tr style=\"text-align: right;\">\n",
              "      <th></th>\n",
              "      <th>Unnamed: 0</th>\n",
              "      <th>title</th>\n",
              "      <th>selftext</th>\n",
              "      <th>subreddit</th>\n",
              "      <th>is_self</th>\n",
              "    </tr>\n",
              "  </thead>\n",
              "  <tbody>\n",
              "    <tr>\n",
              "      <th>0</th>\n",
              "      <td>0</td>\n",
              "      <td>Please be wary of people asking for donations. We have a scammer that makes their rounds every so often and she's duped a few of you.</td>\n",
              "      <td>day or two ago post pop up by girl claim -pron- be incredibly ill bedridden and that -pron- boyfriend have tamper with -pron- birth control -pron- claim -pron- need an abortion -pron- wonderful helpful people try to direct -pron- to abortion fund hotline anything that could help -pron- say -pron...</td>\n",
              "      <td>offmychest</td>\n",
              "      <td>True</td>\n",
              "    </tr>\n",
              "    <tr>\n",
              "      <th>1</th>\n",
              "      <td>1</td>\n",
              "      <td>I'm finally okay with what I lost.</td>\n",
              "      <td>-pron- have -pron- daughter at sixteen -pron- be now in college year and half later and single dad lose freedom be the hard part for -pron- -pron- could not hang out with -pron- friend listen to shitty music sleep full night study when -pron- want shit -pron- still can not take shower without ba...</td>\n",
              "      <td>offmychest</td>\n",
              "      <td>True</td>\n",
              "    </tr>\n",
              "    <tr>\n",
              "      <th>2</th>\n",
              "      <td>2</td>\n",
              "      <td>VACCINES ARE GOOD! THEY SAVE LIVES! PLEASE GET THEM FOR YOU AND YOUR CHILDREN!</td>\n",
              "      <td>that be all thank -pron- for -pron- time</td>\n",
              "      <td>offmychest</td>\n",
              "      <td>True</td>\n",
              "    </tr>\n",
              "    <tr>\n",
              "      <th>3</th>\n",
              "      <td>3</td>\n",
              "      <td>I told my boss to fuck off and quit my job all before 8am.</td>\n",
              "      <td>-pron- have be check -pron- hour religiously -pron- notice some miss hour last pay cycle and have -pron- fix -pron- but be still little sketch and worried that -pron- may mess up again -pron- fiancé and -pron- be leave for portland in two day and -pron- can not afford for -pron- to make another ...</td>\n",
              "      <td>offmychest</td>\n",
              "      <td>True</td>\n",
              "    </tr>\n",
              "    <tr>\n",
              "      <th>4</th>\n",
              "      <td>4</td>\n",
              "      <td>FUCK YEA</td>\n",
              "      <td>its currently 5:31 am and -pron- just finish my 14 page research paper yaaay and im not even tired wahoooo the day be mine</td>\n",
              "      <td>offmychest</td>\n",
              "      <td>True</td>\n",
              "    </tr>\n",
              "  </tbody>\n",
              "</table>\n",
              "</div>"
            ],
            "text/plain": [
              "   Unnamed: 0  \\\n",
              "0           0   \n",
              "1           1   \n",
              "2           2   \n",
              "3           3   \n",
              "4           4   \n",
              "\n",
              "                                                                                                                                   title  \\\n",
              "0  Please be wary of people asking for donations. We have a scammer that makes their rounds every so often and she's duped a few of you.   \n",
              "1                                                                                                     I'm finally okay with what I lost.   \n",
              "2                                                         VACCINES ARE GOOD! THEY SAVE LIVES! PLEASE GET THEM FOR YOU AND YOUR CHILDREN!   \n",
              "3                                                                             I told my boss to fuck off and quit my job all before 8am.   \n",
              "4                                                                                                                               FUCK YEA   \n",
              "\n",
              "                                                                                                                                                                                                                                                                                                      selftext  \\\n",
              "0  day or two ago post pop up by girl claim -pron- be incredibly ill bedridden and that -pron- boyfriend have tamper with -pron- birth control -pron- claim -pron- need an abortion -pron- wonderful helpful people try to direct -pron- to abortion fund hotline anything that could help -pron- say -pron...   \n",
              "1  -pron- have -pron- daughter at sixteen -pron- be now in college year and half later and single dad lose freedom be the hard part for -pron- -pron- could not hang out with -pron- friend listen to shitty music sleep full night study when -pron- want shit -pron- still can not take shower without ba...   \n",
              "2                                                                                                                                                                                                                                                                     that be all thank -pron- for -pron- time   \n",
              "3  -pron- have be check -pron- hour religiously -pron- notice some miss hour last pay cycle and have -pron- fix -pron- but be still little sketch and worried that -pron- may mess up again -pron- fiancé and -pron- be leave for portland in two day and -pron- can not afford for -pron- to make another ...   \n",
              "4                                                                                                                                                                                   its currently 5:31 am and -pron- just finish my 14 page research paper yaaay and im not even tired wahoooo the day be mine   \n",
              "\n",
              "    subreddit  is_self  \n",
              "0  offmychest     True  \n",
              "1  offmychest     True  \n",
              "2  offmychest     True  \n",
              "3  offmychest     True  \n",
              "4  offmychest     True  "
            ]
          },
          "metadata": {
            "tags": []
          },
          "execution_count": 1
        }
      ]
    },
    {
      "cell_type": "code",
      "metadata": {
        "id": "1Wg4eXnBIcN1",
        "colab_type": "code",
        "colab": {
          "base_uri": "https://localhost:8080/",
          "height": 328
        },
        "outputId": "58caa955-3b44-402d-ccb6-9bb1f8300d4b"
      },
      "source": [
        "df = df.drop('Unnamed: 0', axis=1)\n",
        "df.head()"
      ],
      "execution_count": 2,
      "outputs": [
        {
          "output_type": "execute_result",
          "data": {
            "text/html": [
              "<div>\n",
              "<style scoped>\n",
              "    .dataframe tbody tr th:only-of-type {\n",
              "        vertical-align: middle;\n",
              "    }\n",
              "\n",
              "    .dataframe tbody tr th {\n",
              "        vertical-align: top;\n",
              "    }\n",
              "\n",
              "    .dataframe thead th {\n",
              "        text-align: right;\n",
              "    }\n",
              "</style>\n",
              "<table border=\"1\" class=\"dataframe\">\n",
              "  <thead>\n",
              "    <tr style=\"text-align: right;\">\n",
              "      <th></th>\n",
              "      <th>title</th>\n",
              "      <th>selftext</th>\n",
              "      <th>subreddit</th>\n",
              "      <th>is_self</th>\n",
              "    </tr>\n",
              "  </thead>\n",
              "  <tbody>\n",
              "    <tr>\n",
              "      <th>0</th>\n",
              "      <td>Please be wary of people asking for donations. We have a scammer that makes their rounds every so often and she's duped a few of you.</td>\n",
              "      <td>day or two ago post pop up by girl claim -pron- be incredibly ill bedridden and that -pron- boyfriend have tamper with -pron- birth control -pron- claim -pron- need an abortion -pron- wonderful helpful people try to direct -pron- to abortion fund hotline anything that could help -pron- say -pron...</td>\n",
              "      <td>offmychest</td>\n",
              "      <td>True</td>\n",
              "    </tr>\n",
              "    <tr>\n",
              "      <th>1</th>\n",
              "      <td>I'm finally okay with what I lost.</td>\n",
              "      <td>-pron- have -pron- daughter at sixteen -pron- be now in college year and half later and single dad lose freedom be the hard part for -pron- -pron- could not hang out with -pron- friend listen to shitty music sleep full night study when -pron- want shit -pron- still can not take shower without ba...</td>\n",
              "      <td>offmychest</td>\n",
              "      <td>True</td>\n",
              "    </tr>\n",
              "    <tr>\n",
              "      <th>2</th>\n",
              "      <td>VACCINES ARE GOOD! THEY SAVE LIVES! PLEASE GET THEM FOR YOU AND YOUR CHILDREN!</td>\n",
              "      <td>that be all thank -pron- for -pron- time</td>\n",
              "      <td>offmychest</td>\n",
              "      <td>True</td>\n",
              "    </tr>\n",
              "    <tr>\n",
              "      <th>3</th>\n",
              "      <td>I told my boss to fuck off and quit my job all before 8am.</td>\n",
              "      <td>-pron- have be check -pron- hour religiously -pron- notice some miss hour last pay cycle and have -pron- fix -pron- but be still little sketch and worried that -pron- may mess up again -pron- fiancé and -pron- be leave for portland in two day and -pron- can not afford for -pron- to make another ...</td>\n",
              "      <td>offmychest</td>\n",
              "      <td>True</td>\n",
              "    </tr>\n",
              "    <tr>\n",
              "      <th>4</th>\n",
              "      <td>FUCK YEA</td>\n",
              "      <td>its currently 5:31 am and -pron- just finish my 14 page research paper yaaay and im not even tired wahoooo the day be mine</td>\n",
              "      <td>offmychest</td>\n",
              "      <td>True</td>\n",
              "    </tr>\n",
              "  </tbody>\n",
              "</table>\n",
              "</div>"
            ],
            "text/plain": [
              "                                                                                                                                   title  \\\n",
              "0  Please be wary of people asking for donations. We have a scammer that makes their rounds every so often and she's duped a few of you.   \n",
              "1                                                                                                     I'm finally okay with what I lost.   \n",
              "2                                                         VACCINES ARE GOOD! THEY SAVE LIVES! PLEASE GET THEM FOR YOU AND YOUR CHILDREN!   \n",
              "3                                                                             I told my boss to fuck off and quit my job all before 8am.   \n",
              "4                                                                                                                               FUCK YEA   \n",
              "\n",
              "                                                                                                                                                                                                                                                                                                      selftext  \\\n",
              "0  day or two ago post pop up by girl claim -pron- be incredibly ill bedridden and that -pron- boyfriend have tamper with -pron- birth control -pron- claim -pron- need an abortion -pron- wonderful helpful people try to direct -pron- to abortion fund hotline anything that could help -pron- say -pron...   \n",
              "1  -pron- have -pron- daughter at sixteen -pron- be now in college year and half later and single dad lose freedom be the hard part for -pron- -pron- could not hang out with -pron- friend listen to shitty music sleep full night study when -pron- want shit -pron- still can not take shower without ba...   \n",
              "2                                                                                                                                                                                                                                                                     that be all thank -pron- for -pron- time   \n",
              "3  -pron- have be check -pron- hour religiously -pron- notice some miss hour last pay cycle and have -pron- fix -pron- but be still little sketch and worried that -pron- may mess up again -pron- fiancé and -pron- be leave for portland in two day and -pron- can not afford for -pron- to make another ...   \n",
              "4                                                                                                                                                                                   its currently 5:31 am and -pron- just finish my 14 page research paper yaaay and im not even tired wahoooo the day be mine   \n",
              "\n",
              "    subreddit  is_self  \n",
              "0  offmychest     True  \n",
              "1  offmychest     True  \n",
              "2  offmychest     True  \n",
              "3  offmychest     True  \n",
              "4  offmychest     True  "
            ]
          },
          "metadata": {
            "tags": []
          },
          "execution_count": 2
        }
      ]
    },
    {
      "cell_type": "code",
      "metadata": {
        "id": "yng5TzrtIcN-",
        "colab_type": "code",
        "colab": {
          "base_uri": "https://localhost:8080/",
          "height": 345
        },
        "outputId": "16de87a7-46df-402c-d92e-396187804124"
      },
      "source": [
        "df2 = pd.read_csv('subreddits_mental_cleaned1.csv')\n",
        "df2.head()"
      ],
      "execution_count": 3,
      "outputs": [
        {
          "output_type": "execute_result",
          "data": {
            "text/html": [
              "<div>\n",
              "<style scoped>\n",
              "    .dataframe tbody tr th:only-of-type {\n",
              "        vertical-align: middle;\n",
              "    }\n",
              "\n",
              "    .dataframe tbody tr th {\n",
              "        vertical-align: top;\n",
              "    }\n",
              "\n",
              "    .dataframe thead th {\n",
              "        text-align: right;\n",
              "    }\n",
              "</style>\n",
              "<table border=\"1\" class=\"dataframe\">\n",
              "  <thead>\n",
              "    <tr style=\"text-align: right;\">\n",
              "      <th></th>\n",
              "      <th>Unnamed: 0</th>\n",
              "      <th>title</th>\n",
              "      <th>selftext</th>\n",
              "      <th>subreddit</th>\n",
              "      <th>is_self</th>\n",
              "    </tr>\n",
              "  </thead>\n",
              "  <tbody>\n",
              "    <tr>\n",
              "      <th>0</th>\n",
              "      <td>8001</td>\n",
              "      <td>I've noticed a lot of you have significant others/spouses. How were you able to meet them while being agoraphobic?</td>\n",
              "      <td>NaN</td>\n",
              "      <td>Agoraphobia</td>\n",
              "      <td>True</td>\n",
              "    </tr>\n",
              "    <tr>\n",
              "      <th>1</th>\n",
              "      <td>8002</td>\n",
              "      <td>Grocery store Friday....</td>\n",
              "      <td>with -pron- husband -pron- have plan on go inside the grocery store -pron- have be sit outside while -pron- go in -pron- be bit anxious already</td>\n",
              "      <td>Agoraphobia</td>\n",
              "      <td>True</td>\n",
              "    </tr>\n",
              "    <tr>\n",
              "      <th>2</th>\n",
              "      <td>8003</td>\n",
              "      <td>Disability Barrier</td>\n",
              "      <td>-pron- have have anxiety relate to healthcare for the last decade however -pron- agoraphobia begin about year and half ago after major incident occur inside hospital -pron- do not want to go back -pron- be not go back -pron- do not trust doctor and -pron- be constantly scared of end up in one -p...</td>\n",
              "      <td>Agoraphobia</td>\n",
              "      <td>True</td>\n",
              "    </tr>\n",
              "    <tr>\n",
              "      <th>3</th>\n",
              "      <td>8004</td>\n",
              "      <td>Gonna be a big day.</td>\n",
              "      <td>grocery shop by -pron- compound with have to drive there ... i’m terrify of drive and -pron- be recover from an ed so ... this will be unpleasant then walk over mile in the busy city to and from doctor ’s appointment wish -pron- luck</td>\n",
              "      <td>Agoraphobia</td>\n",
              "      <td>True</td>\n",
              "    </tr>\n",
              "    <tr>\n",
              "      <th>4</th>\n",
              "      <td>8005</td>\n",
              "      <td>I don't leave my apartment</td>\n",
              "      <td>-pron- leave the house maybe once week to go to -pron- therapy appointment be -pron- bad or unhealthy to not leave the house more than once week for only few hour</td>\n",
              "      <td>Agoraphobia</td>\n",
              "      <td>True</td>\n",
              "    </tr>\n",
              "  </tbody>\n",
              "</table>\n",
              "</div>"
            ],
            "text/plain": [
              "   Unnamed: 0  \\\n",
              "0        8001   \n",
              "1        8002   \n",
              "2        8003   \n",
              "3        8004   \n",
              "4        8005   \n",
              "\n",
              "                                                                                                                title  \\\n",
              "0  I've noticed a lot of you have significant others/spouses. How were you able to meet them while being agoraphobic?   \n",
              "1                                                                                            Grocery store Friday....   \n",
              "2                                                                                                  Disability Barrier   \n",
              "3                                                                                                 Gonna be a big day.   \n",
              "4                                                                                          I don't leave my apartment   \n",
              "\n",
              "                                                                                                                                                                                                                                                                                                      selftext  \\\n",
              "0                                                                                                                                                                                                                                                                                                          NaN   \n",
              "1                                                                                                                                                              with -pron- husband -pron- have plan on go inside the grocery store -pron- have be sit outside while -pron- go in -pron- be bit anxious already   \n",
              "2  -pron- have have anxiety relate to healthcare for the last decade however -pron- agoraphobia begin about year and half ago after major incident occur inside hospital -pron- do not want to go back -pron- be not go back -pron- do not trust doctor and -pron- be constantly scared of end up in one -p...   \n",
              "3                                                                    grocery shop by -pron- compound with have to drive there ... i’m terrify of drive and -pron- be recover from an ed so ... this will be unpleasant then walk over mile in the busy city to and from doctor ’s appointment wish -pron- luck   \n",
              "4                                                                                                                                           -pron- leave the house maybe once week to go to -pron- therapy appointment be -pron- bad or unhealthy to not leave the house more than once week for only few hour   \n",
              "\n",
              "     subreddit  is_self  \n",
              "0  Agoraphobia     True  \n",
              "1  Agoraphobia     True  \n",
              "2  Agoraphobia     True  \n",
              "3  Agoraphobia     True  \n",
              "4  Agoraphobia     True  "
            ]
          },
          "metadata": {
            "tags": []
          },
          "execution_count": 3
        }
      ]
    },
    {
      "cell_type": "code",
      "metadata": {
        "id": "xhpkC-2jIcOJ",
        "colab_type": "code",
        "colab": {
          "base_uri": "https://localhost:8080/",
          "height": 328
        },
        "outputId": "4cb2d8b0-afae-47b0-98b7-831a8eb71df2"
      },
      "source": [
        "df2 = df2.drop('Unnamed: 0', axis=1)\n",
        "df2.head()"
      ],
      "execution_count": 4,
      "outputs": [
        {
          "output_type": "execute_result",
          "data": {
            "text/html": [
              "<div>\n",
              "<style scoped>\n",
              "    .dataframe tbody tr th:only-of-type {\n",
              "        vertical-align: middle;\n",
              "    }\n",
              "\n",
              "    .dataframe tbody tr th {\n",
              "        vertical-align: top;\n",
              "    }\n",
              "\n",
              "    .dataframe thead th {\n",
              "        text-align: right;\n",
              "    }\n",
              "</style>\n",
              "<table border=\"1\" class=\"dataframe\">\n",
              "  <thead>\n",
              "    <tr style=\"text-align: right;\">\n",
              "      <th></th>\n",
              "      <th>title</th>\n",
              "      <th>selftext</th>\n",
              "      <th>subreddit</th>\n",
              "      <th>is_self</th>\n",
              "    </tr>\n",
              "  </thead>\n",
              "  <tbody>\n",
              "    <tr>\n",
              "      <th>0</th>\n",
              "      <td>I've noticed a lot of you have significant others/spouses. How were you able to meet them while being agoraphobic?</td>\n",
              "      <td>NaN</td>\n",
              "      <td>Agoraphobia</td>\n",
              "      <td>True</td>\n",
              "    </tr>\n",
              "    <tr>\n",
              "      <th>1</th>\n",
              "      <td>Grocery store Friday....</td>\n",
              "      <td>with -pron- husband -pron- have plan on go inside the grocery store -pron- have be sit outside while -pron- go in -pron- be bit anxious already</td>\n",
              "      <td>Agoraphobia</td>\n",
              "      <td>True</td>\n",
              "    </tr>\n",
              "    <tr>\n",
              "      <th>2</th>\n",
              "      <td>Disability Barrier</td>\n",
              "      <td>-pron- have have anxiety relate to healthcare for the last decade however -pron- agoraphobia begin about year and half ago after major incident occur inside hospital -pron- do not want to go back -pron- be not go back -pron- do not trust doctor and -pron- be constantly scared of end up in one -p...</td>\n",
              "      <td>Agoraphobia</td>\n",
              "      <td>True</td>\n",
              "    </tr>\n",
              "    <tr>\n",
              "      <th>3</th>\n",
              "      <td>Gonna be a big day.</td>\n",
              "      <td>grocery shop by -pron- compound with have to drive there ... i’m terrify of drive and -pron- be recover from an ed so ... this will be unpleasant then walk over mile in the busy city to and from doctor ’s appointment wish -pron- luck</td>\n",
              "      <td>Agoraphobia</td>\n",
              "      <td>True</td>\n",
              "    </tr>\n",
              "    <tr>\n",
              "      <th>4</th>\n",
              "      <td>I don't leave my apartment</td>\n",
              "      <td>-pron- leave the house maybe once week to go to -pron- therapy appointment be -pron- bad or unhealthy to not leave the house more than once week for only few hour</td>\n",
              "      <td>Agoraphobia</td>\n",
              "      <td>True</td>\n",
              "    </tr>\n",
              "  </tbody>\n",
              "</table>\n",
              "</div>"
            ],
            "text/plain": [
              "                                                                                                                title  \\\n",
              "0  I've noticed a lot of you have significant others/spouses. How were you able to meet them while being agoraphobic?   \n",
              "1                                                                                            Grocery store Friday....   \n",
              "2                                                                                                  Disability Barrier   \n",
              "3                                                                                                 Gonna be a big day.   \n",
              "4                                                                                          I don't leave my apartment   \n",
              "\n",
              "                                                                                                                                                                                                                                                                                                      selftext  \\\n",
              "0                                                                                                                                                                                                                                                                                                          NaN   \n",
              "1                                                                                                                                                              with -pron- husband -pron- have plan on go inside the grocery store -pron- have be sit outside while -pron- go in -pron- be bit anxious already   \n",
              "2  -pron- have have anxiety relate to healthcare for the last decade however -pron- agoraphobia begin about year and half ago after major incident occur inside hospital -pron- do not want to go back -pron- be not go back -pron- do not trust doctor and -pron- be constantly scared of end up in one -p...   \n",
              "3                                                                    grocery shop by -pron- compound with have to drive there ... i’m terrify of drive and -pron- be recover from an ed so ... this will be unpleasant then walk over mile in the busy city to and from doctor ’s appointment wish -pron- luck   \n",
              "4                                                                                                                                           -pron- leave the house maybe once week to go to -pron- therapy appointment be -pron- bad or unhealthy to not leave the house more than once week for only few hour   \n",
              "\n",
              "     subreddit  is_self  \n",
              "0  Agoraphobia     True  \n",
              "1  Agoraphobia     True  \n",
              "2  Agoraphobia     True  \n",
              "3  Agoraphobia     True  \n",
              "4  Agoraphobia     True  "
            ]
          },
          "metadata": {
            "tags": []
          },
          "execution_count": 4
        }
      ]
    },
    {
      "cell_type": "code",
      "metadata": {
        "id": "jyK65cJ9IcOS",
        "colab_type": "code",
        "colab": {
          "base_uri": "https://localhost:8080/",
          "height": 108
        },
        "outputId": "db9f124a-9b9f-43d9-b653-8cc064886110"
      },
      "source": [
        "df.isna().sum()"
      ],
      "execution_count": 5,
      "outputs": [
        {
          "output_type": "execute_result",
          "data": {
            "text/plain": [
              "title          0\n",
              "selftext     676\n",
              "subreddit      0\n",
              "is_self        0\n",
              "dtype: int64"
            ]
          },
          "metadata": {
            "tags": []
          },
          "execution_count": 5
        }
      ]
    },
    {
      "cell_type": "code",
      "metadata": {
        "id": "YZaePkQ4IcOc",
        "colab_type": "code",
        "colab": {
          "base_uri": "https://localhost:8080/",
          "height": 108
        },
        "outputId": "23d1c176-8532-4646-a778-4bd470c454c5"
      },
      "source": [
        "df2.isna().sum()"
      ],
      "execution_count": 6,
      "outputs": [
        {
          "output_type": "execute_result",
          "data": {
            "text/plain": [
              "title           0\n",
              "selftext     1253\n",
              "subreddit       0\n",
              "is_self         0\n",
              "dtype: int64"
            ]
          },
          "metadata": {
            "tags": []
          },
          "execution_count": 6
        }
      ]
    },
    {
      "cell_type": "code",
      "metadata": {
        "id": "yywsmTFgIcOn",
        "colab_type": "code",
        "colab": {
          "base_uri": "https://localhost:8080/",
          "height": 108
        },
        "outputId": "e4eba295-17bb-4335-e222-5734df1cbb10"
      },
      "source": [
        "df = df.dropna(subset=['selftext'])\n",
        "df.isna().sum()"
      ],
      "execution_count": 7,
      "outputs": [
        {
          "output_type": "execute_result",
          "data": {
            "text/plain": [
              "title        0\n",
              "selftext     0\n",
              "subreddit    0\n",
              "is_self      0\n",
              "dtype: int64"
            ]
          },
          "metadata": {
            "tags": []
          },
          "execution_count": 7
        }
      ]
    },
    {
      "cell_type": "code",
      "metadata": {
        "id": "fhJ6DZDvIcO1",
        "colab_type": "code",
        "colab": {
          "base_uri": "https://localhost:8080/",
          "height": 108
        },
        "outputId": "6b9f1e04-d723-493f-9093-fe165b537247"
      },
      "source": [
        "df2 = df2.dropna(subset=['selftext'])\n",
        "df2.isna().sum()"
      ],
      "execution_count": 8,
      "outputs": [
        {
          "output_type": "execute_result",
          "data": {
            "text/plain": [
              "title        0\n",
              "selftext     0\n",
              "subreddit    0\n",
              "is_self      0\n",
              "dtype: int64"
            ]
          },
          "metadata": {
            "tags": []
          },
          "execution_count": 8
        }
      ]
    },
    {
      "cell_type": "code",
      "metadata": {
        "id": "gpeCTvifIcPF",
        "colab_type": "code",
        "colab": {
          "base_uri": "https://localhost:8080/",
          "height": 293
        },
        "outputId": "45c52cf2-5180-444b-ef57-89562fce1a1f"
      },
      "source": [
        "df2.head()"
      ],
      "execution_count": 9,
      "outputs": [
        {
          "output_type": "execute_result",
          "data": {
            "text/html": [
              "<div>\n",
              "<style scoped>\n",
              "    .dataframe tbody tr th:only-of-type {\n",
              "        vertical-align: middle;\n",
              "    }\n",
              "\n",
              "    .dataframe tbody tr th {\n",
              "        vertical-align: top;\n",
              "    }\n",
              "\n",
              "    .dataframe thead th {\n",
              "        text-align: right;\n",
              "    }\n",
              "</style>\n",
              "<table border=\"1\" class=\"dataframe\">\n",
              "  <thead>\n",
              "    <tr style=\"text-align: right;\">\n",
              "      <th></th>\n",
              "      <th>title</th>\n",
              "      <th>selftext</th>\n",
              "      <th>subreddit</th>\n",
              "      <th>is_self</th>\n",
              "    </tr>\n",
              "  </thead>\n",
              "  <tbody>\n",
              "    <tr>\n",
              "      <th>1</th>\n",
              "      <td>Grocery store Friday....</td>\n",
              "      <td>with -pron- husband -pron- have plan on go inside the grocery store -pron- have be sit outside while -pron- go in -pron- be bit anxious already</td>\n",
              "      <td>Agoraphobia</td>\n",
              "      <td>True</td>\n",
              "    </tr>\n",
              "    <tr>\n",
              "      <th>2</th>\n",
              "      <td>Disability Barrier</td>\n",
              "      <td>-pron- have have anxiety relate to healthcare for the last decade however -pron- agoraphobia begin about year and half ago after major incident occur inside hospital -pron- do not want to go back -pron- be not go back -pron- do not trust doctor and -pron- be constantly scared of end up in one -p...</td>\n",
              "      <td>Agoraphobia</td>\n",
              "      <td>True</td>\n",
              "    </tr>\n",
              "    <tr>\n",
              "      <th>3</th>\n",
              "      <td>Gonna be a big day.</td>\n",
              "      <td>grocery shop by -pron- compound with have to drive there ... i’m terrify of drive and -pron- be recover from an ed so ... this will be unpleasant then walk over mile in the busy city to and from doctor ’s appointment wish -pron- luck</td>\n",
              "      <td>Agoraphobia</td>\n",
              "      <td>True</td>\n",
              "    </tr>\n",
              "    <tr>\n",
              "      <th>4</th>\n",
              "      <td>I don't leave my apartment</td>\n",
              "      <td>-pron- leave the house maybe once week to go to -pron- therapy appointment be -pron- bad or unhealthy to not leave the house more than once week for only few hour</td>\n",
              "      <td>Agoraphobia</td>\n",
              "      <td>True</td>\n",
              "    </tr>\n",
              "    <tr>\n",
              "      <th>5</th>\n",
              "      <td>Going to a concert alone...</td>\n",
              "      <td>one of -pron- favorite artist be come to -pron- city next month and -pron- really want to go however .. the ticket be bit pricy and -pron- would only be able to afford one -pron- at pretty big arena ~15,000 people but -pron- have be there before and be pretty familiar with -pron- -pron- really d...</td>\n",
              "      <td>Agoraphobia</td>\n",
              "      <td>True</td>\n",
              "    </tr>\n",
              "  </tbody>\n",
              "</table>\n",
              "</div>"
            ],
            "text/plain": [
              "                         title  \\\n",
              "1     Grocery store Friday....   \n",
              "2           Disability Barrier   \n",
              "3          Gonna be a big day.   \n",
              "4   I don't leave my apartment   \n",
              "5  Going to a concert alone...   \n",
              "\n",
              "                                                                                                                                                                                                                                                                                                      selftext  \\\n",
              "1                                                                                                                                                              with -pron- husband -pron- have plan on go inside the grocery store -pron- have be sit outside while -pron- go in -pron- be bit anxious already   \n",
              "2  -pron- have have anxiety relate to healthcare for the last decade however -pron- agoraphobia begin about year and half ago after major incident occur inside hospital -pron- do not want to go back -pron- be not go back -pron- do not trust doctor and -pron- be constantly scared of end up in one -p...   \n",
              "3                                                                    grocery shop by -pron- compound with have to drive there ... i’m terrify of drive and -pron- be recover from an ed so ... this will be unpleasant then walk over mile in the busy city to and from doctor ’s appointment wish -pron- luck   \n",
              "4                                                                                                                                           -pron- leave the house maybe once week to go to -pron- therapy appointment be -pron- bad or unhealthy to not leave the house more than once week for only few hour   \n",
              "5  one of -pron- favorite artist be come to -pron- city next month and -pron- really want to go however .. the ticket be bit pricy and -pron- would only be able to afford one -pron- at pretty big arena ~15,000 people but -pron- have be there before and be pretty familiar with -pron- -pron- really d...   \n",
              "\n",
              "     subreddit  is_self  \n",
              "1  Agoraphobia     True  \n",
              "2  Agoraphobia     True  \n",
              "3  Agoraphobia     True  \n",
              "4  Agoraphobia     True  \n",
              "5  Agoraphobia     True  "
            ]
          },
          "metadata": {
            "tags": []
          },
          "execution_count": 9
        }
      ]
    },
    {
      "cell_type": "code",
      "metadata": {
        "id": "UgPwSXhgIcPN",
        "colab_type": "code",
        "colab": {
          "base_uri": "https://localhost:8080/",
          "height": 328
        },
        "outputId": "0fc5583b-47ec-49b6-d79c-fbce2ce77f74"
      },
      "source": [
        "sg = pd.concat([df, df2], ignore_index= \"true\")\n",
        "sg.head()"
      ],
      "execution_count": 10,
      "outputs": [
        {
          "output_type": "execute_result",
          "data": {
            "text/html": [
              "<div>\n",
              "<style scoped>\n",
              "    .dataframe tbody tr th:only-of-type {\n",
              "        vertical-align: middle;\n",
              "    }\n",
              "\n",
              "    .dataframe tbody tr th {\n",
              "        vertical-align: top;\n",
              "    }\n",
              "\n",
              "    .dataframe thead th {\n",
              "        text-align: right;\n",
              "    }\n",
              "</style>\n",
              "<table border=\"1\" class=\"dataframe\">\n",
              "  <thead>\n",
              "    <tr style=\"text-align: right;\">\n",
              "      <th></th>\n",
              "      <th>title</th>\n",
              "      <th>selftext</th>\n",
              "      <th>subreddit</th>\n",
              "      <th>is_self</th>\n",
              "    </tr>\n",
              "  </thead>\n",
              "  <tbody>\n",
              "    <tr>\n",
              "      <th>0</th>\n",
              "      <td>Please be wary of people asking for donations. We have a scammer that makes their rounds every so often and she's duped a few of you.</td>\n",
              "      <td>day or two ago post pop up by girl claim -pron- be incredibly ill bedridden and that -pron- boyfriend have tamper with -pron- birth control -pron- claim -pron- need an abortion -pron- wonderful helpful people try to direct -pron- to abortion fund hotline anything that could help -pron- say -pron...</td>\n",
              "      <td>offmychest</td>\n",
              "      <td>True</td>\n",
              "    </tr>\n",
              "    <tr>\n",
              "      <th>1</th>\n",
              "      <td>I'm finally okay with what I lost.</td>\n",
              "      <td>-pron- have -pron- daughter at sixteen -pron- be now in college year and half later and single dad lose freedom be the hard part for -pron- -pron- could not hang out with -pron- friend listen to shitty music sleep full night study when -pron- want shit -pron- still can not take shower without ba...</td>\n",
              "      <td>offmychest</td>\n",
              "      <td>True</td>\n",
              "    </tr>\n",
              "    <tr>\n",
              "      <th>2</th>\n",
              "      <td>VACCINES ARE GOOD! THEY SAVE LIVES! PLEASE GET THEM FOR YOU AND YOUR CHILDREN!</td>\n",
              "      <td>that be all thank -pron- for -pron- time</td>\n",
              "      <td>offmychest</td>\n",
              "      <td>True</td>\n",
              "    </tr>\n",
              "    <tr>\n",
              "      <th>3</th>\n",
              "      <td>I told my boss to fuck off and quit my job all before 8am.</td>\n",
              "      <td>-pron- have be check -pron- hour religiously -pron- notice some miss hour last pay cycle and have -pron- fix -pron- but be still little sketch and worried that -pron- may mess up again -pron- fiancé and -pron- be leave for portland in two day and -pron- can not afford for -pron- to make another ...</td>\n",
              "      <td>offmychest</td>\n",
              "      <td>True</td>\n",
              "    </tr>\n",
              "    <tr>\n",
              "      <th>4</th>\n",
              "      <td>FUCK YEA</td>\n",
              "      <td>its currently 5:31 am and -pron- just finish my 14 page research paper yaaay and im not even tired wahoooo the day be mine</td>\n",
              "      <td>offmychest</td>\n",
              "      <td>True</td>\n",
              "    </tr>\n",
              "  </tbody>\n",
              "</table>\n",
              "</div>"
            ],
            "text/plain": [
              "                                                                                                                                   title  \\\n",
              "0  Please be wary of people asking for donations. We have a scammer that makes their rounds every so often and she's duped a few of you.   \n",
              "1                                                                                                     I'm finally okay with what I lost.   \n",
              "2                                                         VACCINES ARE GOOD! THEY SAVE LIVES! PLEASE GET THEM FOR YOU AND YOUR CHILDREN!   \n",
              "3                                                                             I told my boss to fuck off and quit my job all before 8am.   \n",
              "4                                                                                                                               FUCK YEA   \n",
              "\n",
              "                                                                                                                                                                                                                                                                                                      selftext  \\\n",
              "0  day or two ago post pop up by girl claim -pron- be incredibly ill bedridden and that -pron- boyfriend have tamper with -pron- birth control -pron- claim -pron- need an abortion -pron- wonderful helpful people try to direct -pron- to abortion fund hotline anything that could help -pron- say -pron...   \n",
              "1  -pron- have -pron- daughter at sixteen -pron- be now in college year and half later and single dad lose freedom be the hard part for -pron- -pron- could not hang out with -pron- friend listen to shitty music sleep full night study when -pron- want shit -pron- still can not take shower without ba...   \n",
              "2                                                                                                                                                                                                                                                                     that be all thank -pron- for -pron- time   \n",
              "3  -pron- have be check -pron- hour religiously -pron- notice some miss hour last pay cycle and have -pron- fix -pron- but be still little sketch and worried that -pron- may mess up again -pron- fiancé and -pron- be leave for portland in two day and -pron- can not afford for -pron- to make another ...   \n",
              "4                                                                                                                                                                                   its currently 5:31 am and -pron- just finish my 14 page research paper yaaay and im not even tired wahoooo the day be mine   \n",
              "\n",
              "    subreddit  is_self  \n",
              "0  offmychest     True  \n",
              "1  offmychest     True  \n",
              "2  offmychest     True  \n",
              "3  offmychest     True  \n",
              "4  offmychest     True  "
            ]
          },
          "metadata": {
            "tags": []
          },
          "execution_count": 10
        }
      ]
    },
    {
      "cell_type": "code",
      "metadata": {
        "id": "nTKbK290IcPa",
        "colab_type": "code",
        "colab": {
          "base_uri": "https://localhost:8080/",
          "height": 275
        },
        "outputId": "9e1c3d81-a95a-4764-f2f3-d2aa97f90459"
      },
      "source": [
        "sg.tail()"
      ],
      "execution_count": 11,
      "outputs": [
        {
          "output_type": "execute_result",
          "data": {
            "text/html": [
              "<div>\n",
              "<style scoped>\n",
              "    .dataframe tbody tr th:only-of-type {\n",
              "        vertical-align: middle;\n",
              "    }\n",
              "\n",
              "    .dataframe tbody tr th {\n",
              "        vertical-align: top;\n",
              "    }\n",
              "\n",
              "    .dataframe thead th {\n",
              "        text-align: right;\n",
              "    }\n",
              "</style>\n",
              "<table border=\"1\" class=\"dataframe\">\n",
              "  <thead>\n",
              "    <tr style=\"text-align: right;\">\n",
              "      <th></th>\n",
              "      <th>title</th>\n",
              "      <th>selftext</th>\n",
              "      <th>subreddit</th>\n",
              "      <th>is_self</th>\n",
              "    </tr>\n",
              "  </thead>\n",
              "  <tbody>\n",
              "    <tr>\n",
              "      <th>14055</th>\n",
              "      <td>Learning about anxiety</td>\n",
              "      <td>-pron- do not suffer with anxiety -pron- girlfriend do before -pron- tell -pron- about anxiety -pron- know nothing and now -pron- want to be an expert -pron- think that know more about -pron- would help -pron- to help -pron- ... but just ask -pron- be not the easy way because -pron- find -pron- ...</td>\n",
              "      <td>anxietysupporters</td>\n",
              "      <td>True</td>\n",
              "    </tr>\n",
              "    <tr>\n",
              "      <th>14056</th>\n",
              "      <td>Let's (re)introduce ourselves</td>\n",
              "      <td>-pron- guess if -pron- be go to try to revive this subreddit -pron- may as well get to know each other bit -pron- girlfriend suffer from depression and panic attack that seem to be root in an emotionally abusive childhood -pron- be really hard to know what may provoke an episode and after year o...</td>\n",
              "      <td>anxietysupporters</td>\n",
              "      <td>True</td>\n",
              "    </tr>\n",
              "    <tr>\n",
              "      <th>14057</th>\n",
              "      <td>Is this sub-reddit still active?</td>\n",
              "      <td>-pron- have be look for place like this ever since -pron- start date -pron- girlfriend year ago be -pron- still active or should -pron- continue -pron- search</td>\n",
              "      <td>anxietysupporters</td>\n",
              "      <td>True</td>\n",
              "    </tr>\n",
              "    <tr>\n",
              "      <th>14058</th>\n",
              "      <td>Let's introduce ourselves</td>\n",
              "      <td>hi everybody -pron- think -pron- may be good idea to briefly introduce -pron- and -pron- relationship with people who have anxiety -pron- be in -pron- mid twenty and have be marry to -pron- wonderful wife for year shortly after -pron- get marry -pron- begin experience severe panic attack and -pr...</td>\n",
              "      <td>anxietysupporters</td>\n",
              "      <td>True</td>\n",
              "    </tr>\n",
              "    <tr>\n",
              "      <th>14059</th>\n",
              "      <td>Any positive accounts of overcoming anxiety?</td>\n",
              "      <td>-pron- wife have anxiety and want to read more people 's experience however -pron- only seem to find account where the people just get bad and bad and suffer terribly -pron- would like to provide -pron- with some account of people who get through -pron- and be live happy positive productive life...</td>\n",
              "      <td>anxietysupporters</td>\n",
              "      <td>True</td>\n",
              "    </tr>\n",
              "  </tbody>\n",
              "</table>\n",
              "</div>"
            ],
            "text/plain": [
              "                                              title  \\\n",
              "14055                        Learning about anxiety   \n",
              "14056                 Let's (re)introduce ourselves   \n",
              "14057              Is this sub-reddit still active?   \n",
              "14058                     Let's introduce ourselves   \n",
              "14059  Any positive accounts of overcoming anxiety?   \n",
              "\n",
              "                                                                                                                                                                                                                                                                                                          selftext  \\\n",
              "14055  -pron- do not suffer with anxiety -pron- girlfriend do before -pron- tell -pron- about anxiety -pron- know nothing and now -pron- want to be an expert -pron- think that know more about -pron- would help -pron- to help -pron- ... but just ask -pron- be not the easy way because -pron- find -pron- ...   \n",
              "14056  -pron- guess if -pron- be go to try to revive this subreddit -pron- may as well get to know each other bit -pron- girlfriend suffer from depression and panic attack that seem to be root in an emotionally abusive childhood -pron- be really hard to know what may provoke an episode and after year o...   \n",
              "14057                                                                                                                                               -pron- have be look for place like this ever since -pron- start date -pron- girlfriend year ago be -pron- still active or should -pron- continue -pron- search   \n",
              "14058  hi everybody -pron- think -pron- may be good idea to briefly introduce -pron- and -pron- relationship with people who have anxiety -pron- be in -pron- mid twenty and have be marry to -pron- wonderful wife for year shortly after -pron- get marry -pron- begin experience severe panic attack and -pr...   \n",
              "14059  -pron- wife have anxiety and want to read more people 's experience however -pron- only seem to find account where the people just get bad and bad and suffer terribly -pron- would like to provide -pron- with some account of people who get through -pron- and be live happy positive productive life...   \n",
              "\n",
              "               subreddit  is_self  \n",
              "14055  anxietysupporters     True  \n",
              "14056  anxietysupporters     True  \n",
              "14057  anxietysupporters     True  \n",
              "14058  anxietysupporters     True  \n",
              "14059  anxietysupporters     True  "
            ]
          },
          "metadata": {
            "tags": []
          },
          "execution_count": 11
        }
      ]
    },
    {
      "cell_type": "code",
      "metadata": {
        "id": "XUqaz2CJIcPi",
        "colab_type": "code",
        "colab": {
          "base_uri": "https://localhost:8080/",
          "height": 435
        },
        "outputId": "321a1cb0-899c-4cc8-fce6-bb93ae40bba7"
      },
      "source": [
        "sg.subreddit.value_counts()"
      ],
      "execution_count": 12,
      "outputs": [
        {
          "output_type": "execute_result",
          "data": {
            "text/plain": [
              "AlAnon                 984\n",
              "Anger                  974\n",
              "Anxiety                968\n",
              "offmychest             942\n",
              "alcoholicsanonymous    939\n",
              "ADHD                   929\n",
              "alcoholism             925\n",
              "Agoraphobia            917\n",
              "leaves                 912\n",
              "rapecounseling         910\n",
              "addiction              904\n",
              "Advice                 888\n",
              "cripplingalcoholism    792\n",
              "Anxietyhelp            688\n",
              "Antipsychiatry         443\n",
              "ADD                    278\n",
              "MenGetRapedToo         262\n",
              "afterthesilence        166\n",
              "anxietysuccess         112\n",
              "affirmations            79\n",
              "Disorder                30\n",
              "anxietysupporters       18\n",
              "Name: subreddit, dtype: int64"
            ]
          },
          "metadata": {
            "tags": []
          },
          "execution_count": 12
        }
      ]
    },
    {
      "cell_type": "code",
      "metadata": {
        "id": "bTP5jqawIcPn",
        "colab_type": "code",
        "colab": {
          "base_uri": "https://localhost:8080/",
          "height": 126
        },
        "outputId": "41864f96-3742-4384-aeca-e8ce29f5a081"
      },
      "source": [
        "sg.subreddit.unique()"
      ],
      "execution_count": 13,
      "outputs": [
        {
          "output_type": "execute_result",
          "data": {
            "text/plain": [
              "array(['offmychest', 'ADD', 'cripplingalcoholism', 'Disorder', 'leaves',\n",
              "       'MenGetRapedToo', 'rapecounseling', 'addiction', 'ADHD', 'Advice',\n",
              "       'affirmations', 'afterthesilence', 'Agoraphobia', 'AlAnon',\n",
              "       'alcoholicsanonymous', 'alcoholism', 'Anger', 'Antipsychiatry',\n",
              "       'Anxiety', 'Anxietyhelp', 'anxietysuccess', 'anxietysupporters'],\n",
              "      dtype=object)"
            ]
          },
          "metadata": {
            "tags": []
          },
          "execution_count": 13
        }
      ]
    },
    {
      "cell_type": "code",
      "metadata": {
        "id": "YrYOQ_X-IcPw",
        "colab_type": "code",
        "colab": {
          "base_uri": "https://localhost:8080/",
          "height": 175
        },
        "outputId": "6201e7d9-c141-4a0a-ee17-bc4b7227808c"
      },
      "source": [
        "import numpy as np\n",
        "value_counts = sg.subreddit.value_counts() # Specific column \n",
        "to_remove = value_counts[value_counts < 100].index\n",
        "sg.subreddit.replace(to_remove, np.nan, inplace=True)\n",
        "sg.describe()"
      ],
      "execution_count": 14,
      "outputs": [
        {
          "output_type": "execute_result",
          "data": {
            "text/html": [
              "<div>\n",
              "<style scoped>\n",
              "    .dataframe tbody tr th:only-of-type {\n",
              "        vertical-align: middle;\n",
              "    }\n",
              "\n",
              "    .dataframe tbody tr th {\n",
              "        vertical-align: top;\n",
              "    }\n",
              "\n",
              "    .dataframe thead th {\n",
              "        text-align: right;\n",
              "    }\n",
              "</style>\n",
              "<table border=\"1\" class=\"dataframe\">\n",
              "  <thead>\n",
              "    <tr style=\"text-align: right;\">\n",
              "      <th></th>\n",
              "      <th>title</th>\n",
              "      <th>selftext</th>\n",
              "      <th>subreddit</th>\n",
              "      <th>is_self</th>\n",
              "    </tr>\n",
              "  </thead>\n",
              "  <tbody>\n",
              "    <tr>\n",
              "      <th>count</th>\n",
              "      <td>14060</td>\n",
              "      <td>14060</td>\n",
              "      <td>13933</td>\n",
              "      <td>14060</td>\n",
              "    </tr>\n",
              "    <tr>\n",
              "      <th>unique</th>\n",
              "      <td>13773</td>\n",
              "      <td>13989</td>\n",
              "      <td>19</td>\n",
              "      <td>1</td>\n",
              "    </tr>\n",
              "    <tr>\n",
              "      <th>top</th>\n",
              "      <td>Help</td>\n",
              "      <td>share -pron- rant and thought here also see full past discussion here](https://www.reddit.com addiction search?q friday+lounge&amp;restrict_sr on&amp;sort relevance&amp;t all</td>\n",
              "      <td>AlAnon</td>\n",
              "      <td>True</td>\n",
              "    </tr>\n",
              "    <tr>\n",
              "      <th>freq</th>\n",
              "      <td>18</td>\n",
              "      <td>9</td>\n",
              "      <td>984</td>\n",
              "      <td>14060</td>\n",
              "    </tr>\n",
              "  </tbody>\n",
              "</table>\n",
              "</div>"
            ],
            "text/plain": [
              "        title  \\\n",
              "count   14060   \n",
              "unique  13773   \n",
              "top      Help   \n",
              "freq       18   \n",
              "\n",
              "                                                                                                                                                                  selftext  \\\n",
              "count                                                                                                                                                                14060   \n",
              "unique                                                                                                                                                               13989   \n",
              "top     share -pron- rant and thought here also see full past discussion here](https://www.reddit.com addiction search?q friday+lounge&restrict_sr on&sort relevance&t all   \n",
              "freq                                                                                                                                                                     9   \n",
              "\n",
              "       subreddit is_self  \n",
              "count      13933   14060  \n",
              "unique        19       1  \n",
              "top       AlAnon    True  \n",
              "freq         984   14060  "
            ]
          },
          "metadata": {
            "tags": []
          },
          "execution_count": 14
        }
      ]
    },
    {
      "cell_type": "code",
      "metadata": {
        "id": "1MAXOi1ZIcP8",
        "colab_type": "code",
        "colab": {
          "base_uri": "https://localhost:8080/",
          "height": 108
        },
        "outputId": "a3110c04-0246-415b-8b93-5887f8bd8297"
      },
      "source": [
        "sg.isna().sum()"
      ],
      "execution_count": 15,
      "outputs": [
        {
          "output_type": "execute_result",
          "data": {
            "text/plain": [
              "title          0\n",
              "selftext       0\n",
              "subreddit    127\n",
              "is_self        0\n",
              "dtype: int64"
            ]
          },
          "metadata": {
            "tags": []
          },
          "execution_count": 15
        }
      ]
    },
    {
      "cell_type": "code",
      "metadata": {
        "id": "BNVDxXkbIcQF",
        "colab_type": "code",
        "colab": {
          "base_uri": "https://localhost:8080/",
          "height": 108
        },
        "outputId": "7d9c15c2-1357-4ef1-8f93-10a1deae4dd6"
      },
      "source": [
        "sg = sg.dropna()\n",
        "sg.isna().sum()"
      ],
      "execution_count": 16,
      "outputs": [
        {
          "output_type": "execute_result",
          "data": {
            "text/plain": [
              "title        0\n",
              "selftext     0\n",
              "subreddit    0\n",
              "is_self      0\n",
              "dtype: int64"
            ]
          },
          "metadata": {
            "tags": []
          },
          "execution_count": 16
        }
      ]
    },
    {
      "cell_type": "code",
      "metadata": {
        "id": "ItXASCx8IcQY",
        "colab_type": "code",
        "colab": {
          "base_uri": "https://localhost:8080/",
          "height": 380
        },
        "outputId": "4e05640b-893b-4447-ddc0-28cd851546fe"
      },
      "source": [
        "sg.subreddit.value_counts()"
      ],
      "execution_count": 17,
      "outputs": [
        {
          "output_type": "execute_result",
          "data": {
            "text/plain": [
              "AlAnon                 984\n",
              "Anger                  974\n",
              "Anxiety                968\n",
              "offmychest             942\n",
              "alcoholicsanonymous    939\n",
              "ADHD                   929\n",
              "alcoholism             925\n",
              "Agoraphobia            917\n",
              "leaves                 912\n",
              "rapecounseling         910\n",
              "addiction              904\n",
              "Advice                 888\n",
              "cripplingalcoholism    792\n",
              "Anxietyhelp            688\n",
              "Antipsychiatry         443\n",
              "ADD                    278\n",
              "MenGetRapedToo         262\n",
              "afterthesilence        166\n",
              "anxietysuccess         112\n",
              "Name: subreddit, dtype: int64"
            ]
          },
          "metadata": {
            "tags": []
          },
          "execution_count": 17
        }
      ]
    },
    {
      "cell_type": "code",
      "metadata": {
        "id": "mssMHcGEIcQk",
        "colab_type": "code",
        "colab": {
          "base_uri": "https://localhost:8080/",
          "height": 35
        },
        "outputId": "f7298fc0-cc0e-48ca-e88f-8203033cce02"
      },
      "source": [
        "len(sg)"
      ],
      "execution_count": 18,
      "outputs": [
        {
          "output_type": "execute_result",
          "data": {
            "text/plain": [
              "13933"
            ]
          },
          "metadata": {
            "tags": []
          },
          "execution_count": 18
        }
      ]
    },
    {
      "cell_type": "code",
      "metadata": {
        "id": "8BOoZNOhIcQq",
        "colab_type": "code",
        "colab": {
          "base_uri": "https://localhost:8080/",
          "height": 35
        },
        "outputId": "9cb9ed99-c672-469a-e06d-2d20c7a220e2"
      },
      "source": [
        "# Accuracy if guessing majority class\n",
        "984/13933"
      ],
      "execution_count": 19,
      "outputs": [
        {
          "output_type": "execute_result",
          "data": {
            "text/plain": [
              "0.07062369913155817"
            ]
          },
          "metadata": {
            "tags": []
          },
          "execution_count": 19
        }
      ]
    },
    {
      "cell_type": "code",
      "metadata": {
        "id": "enZ95rJzIcQy",
        "colab_type": "code",
        "colab": {
          "base_uri": "https://localhost:8080/",
          "height": 345
        },
        "outputId": "24a38c71-578b-46eb-9723-8c1eb68b9d84"
      },
      "source": [
        "sg['category_id'] = sg['subreddit'].factorize()[0]\n",
        "sg.head()"
      ],
      "execution_count": 20,
      "outputs": [
        {
          "output_type": "execute_result",
          "data": {
            "text/html": [
              "<div>\n",
              "<style scoped>\n",
              "    .dataframe tbody tr th:only-of-type {\n",
              "        vertical-align: middle;\n",
              "    }\n",
              "\n",
              "    .dataframe tbody tr th {\n",
              "        vertical-align: top;\n",
              "    }\n",
              "\n",
              "    .dataframe thead th {\n",
              "        text-align: right;\n",
              "    }\n",
              "</style>\n",
              "<table border=\"1\" class=\"dataframe\">\n",
              "  <thead>\n",
              "    <tr style=\"text-align: right;\">\n",
              "      <th></th>\n",
              "      <th>title</th>\n",
              "      <th>selftext</th>\n",
              "      <th>subreddit</th>\n",
              "      <th>is_self</th>\n",
              "      <th>category_id</th>\n",
              "    </tr>\n",
              "  </thead>\n",
              "  <tbody>\n",
              "    <tr>\n",
              "      <th>0</th>\n",
              "      <td>Please be wary of people asking for donations. We have a scammer that makes their rounds every so often and she's duped a few of you.</td>\n",
              "      <td>day or two ago post pop up by girl claim -pron- be incredibly ill bedridden and that -pron- boyfriend have tamper with -pron- birth control -pron- claim -pron- need an abortion -pron- wonderful helpful people try to direct -pron- to abortion fund hotline anything that could help -pron- say -pron...</td>\n",
              "      <td>offmychest</td>\n",
              "      <td>True</td>\n",
              "      <td>0</td>\n",
              "    </tr>\n",
              "    <tr>\n",
              "      <th>1</th>\n",
              "      <td>I'm finally okay with what I lost.</td>\n",
              "      <td>-pron- have -pron- daughter at sixteen -pron- be now in college year and half later and single dad lose freedom be the hard part for -pron- -pron- could not hang out with -pron- friend listen to shitty music sleep full night study when -pron- want shit -pron- still can not take shower without ba...</td>\n",
              "      <td>offmychest</td>\n",
              "      <td>True</td>\n",
              "      <td>0</td>\n",
              "    </tr>\n",
              "    <tr>\n",
              "      <th>2</th>\n",
              "      <td>VACCINES ARE GOOD! THEY SAVE LIVES! PLEASE GET THEM FOR YOU AND YOUR CHILDREN!</td>\n",
              "      <td>that be all thank -pron- for -pron- time</td>\n",
              "      <td>offmychest</td>\n",
              "      <td>True</td>\n",
              "      <td>0</td>\n",
              "    </tr>\n",
              "    <tr>\n",
              "      <th>3</th>\n",
              "      <td>I told my boss to fuck off and quit my job all before 8am.</td>\n",
              "      <td>-pron- have be check -pron- hour religiously -pron- notice some miss hour last pay cycle and have -pron- fix -pron- but be still little sketch and worried that -pron- may mess up again -pron- fiancé and -pron- be leave for portland in two day and -pron- can not afford for -pron- to make another ...</td>\n",
              "      <td>offmychest</td>\n",
              "      <td>True</td>\n",
              "      <td>0</td>\n",
              "    </tr>\n",
              "    <tr>\n",
              "      <th>4</th>\n",
              "      <td>FUCK YEA</td>\n",
              "      <td>its currently 5:31 am and -pron- just finish my 14 page research paper yaaay and im not even tired wahoooo the day be mine</td>\n",
              "      <td>offmychest</td>\n",
              "      <td>True</td>\n",
              "      <td>0</td>\n",
              "    </tr>\n",
              "  </tbody>\n",
              "</table>\n",
              "</div>"
            ],
            "text/plain": [
              "                                                                                                                                   title  \\\n",
              "0  Please be wary of people asking for donations. We have a scammer that makes their rounds every so often and she's duped a few of you.   \n",
              "1                                                                                                     I'm finally okay with what I lost.   \n",
              "2                                                         VACCINES ARE GOOD! THEY SAVE LIVES! PLEASE GET THEM FOR YOU AND YOUR CHILDREN!   \n",
              "3                                                                             I told my boss to fuck off and quit my job all before 8am.   \n",
              "4                                                                                                                               FUCK YEA   \n",
              "\n",
              "                                                                                                                                                                                                                                                                                                      selftext  \\\n",
              "0  day or two ago post pop up by girl claim -pron- be incredibly ill bedridden and that -pron- boyfriend have tamper with -pron- birth control -pron- claim -pron- need an abortion -pron- wonderful helpful people try to direct -pron- to abortion fund hotline anything that could help -pron- say -pron...   \n",
              "1  -pron- have -pron- daughter at sixteen -pron- be now in college year and half later and single dad lose freedom be the hard part for -pron- -pron- could not hang out with -pron- friend listen to shitty music sleep full night study when -pron- want shit -pron- still can not take shower without ba...   \n",
              "2                                                                                                                                                                                                                                                                     that be all thank -pron- for -pron- time   \n",
              "3  -pron- have be check -pron- hour religiously -pron- notice some miss hour last pay cycle and have -pron- fix -pron- but be still little sketch and worried that -pron- may mess up again -pron- fiancé and -pron- be leave for portland in two day and -pron- can not afford for -pron- to make another ...   \n",
              "4                                                                                                                                                                                   its currently 5:31 am and -pron- just finish my 14 page research paper yaaay and im not even tired wahoooo the day be mine   \n",
              "\n",
              "    subreddit  is_self  category_id  \n",
              "0  offmychest     True            0  \n",
              "1  offmychest     True            0  \n",
              "2  offmychest     True            0  \n",
              "3  offmychest     True            0  \n",
              "4  offmychest     True            0  "
            ]
          },
          "metadata": {
            "tags": []
          },
          "execution_count": 20
        }
      ]
    },
    {
      "cell_type": "code",
      "metadata": {
        "id": "ypb4B8jvIcQ5",
        "colab_type": "code",
        "colab": {
          "base_uri": "https://localhost:8080/",
          "height": 345
        },
        "outputId": "66384b01-3fc7-4781-ec74-58f5decf12da"
      },
      "source": [
        "sg.sample(5)"
      ],
      "execution_count": 21,
      "outputs": [
        {
          "output_type": "execute_result",
          "data": {
            "text/html": [
              "<div>\n",
              "<style scoped>\n",
              "    .dataframe tbody tr th:only-of-type {\n",
              "        vertical-align: middle;\n",
              "    }\n",
              "\n",
              "    .dataframe tbody tr th {\n",
              "        vertical-align: top;\n",
              "    }\n",
              "\n",
              "    .dataframe thead th {\n",
              "        text-align: right;\n",
              "    }\n",
              "</style>\n",
              "<table border=\"1\" class=\"dataframe\">\n",
              "  <thead>\n",
              "    <tr style=\"text-align: right;\">\n",
              "      <th></th>\n",
              "      <th>title</th>\n",
              "      <th>selftext</th>\n",
              "      <th>subreddit</th>\n",
              "      <th>is_self</th>\n",
              "      <th>category_id</th>\n",
              "    </tr>\n",
              "  </thead>\n",
              "  <tbody>\n",
              "    <tr>\n",
              "      <th>6083</th>\n",
              "      <td>Is this allowed?</td>\n",
              "      <td>so recently -pron- get suspend from school the suspension be fair no argument about that however when -pron- return today for -pron- first day back -pron- have little meeting in the morning with -pron- principal and -pron- ask if the homework -pron- get over -pron- suspension be do -pron- say no...</td>\n",
              "      <td>Advice</td>\n",
              "      <td>True</td>\n",
              "      <td>8</td>\n",
              "    </tr>\n",
              "    <tr>\n",
              "      <th>7799</th>\n",
              "      <td>Meds</td>\n",
              "      <td>so -pron- be on cocktail of ssri 's and -pron- have be great for the past few year but -pron- anxiety and panic attack be creep back pretty intensely thing that -pron- have not be scar of in year be start to scare -pron- again be alone leave the house etc -pron- can not take benzos because -pron...</td>\n",
              "      <td>Agoraphobia</td>\n",
              "      <td>True</td>\n",
              "      <td>10</td>\n",
              "    </tr>\n",
              "    <tr>\n",
              "      <th>4571</th>\n",
              "      <td>Problem with drugs</td>\n",
              "      <td>when be stressed -pron- do drug -pron- be stressed and on lot of drug</td>\n",
              "      <td>addiction</td>\n",
              "      <td>True</td>\n",
              "      <td>6</td>\n",
              "    </tr>\n",
              "    <tr>\n",
              "      <th>883</th>\n",
              "      <td>7 years in hell ending in 50 days</td>\n",
              "      <td>-pron- father die in 2012 -pron- be 11 then and as -pron- only child -pron- inherit 50k from -pron- but since -pron- be underage the money be hand over to -pron- alcoholic mom but after some time -pron- family notice that -pron- mom use -pron- for gambling and alcohol so -pron- be assign trustee...</td>\n",
              "      <td>offmychest</td>\n",
              "      <td>True</td>\n",
              "      <td>0</td>\n",
              "    </tr>\n",
              "    <tr>\n",
              "      <th>10281</th>\n",
              "      <td>Grapevine Daily Quote March 31</td>\n",
              "      <td>if -pron- be in pain -pron- may be beneficial to -pron- if -pron- be aware of those in even more pain ... the answer for -pron- pain be in the twelfth step gruff love new york new york october 2006 aa grapevine grapevine daily quote march 31](http://www.aagrapevine.org grapevine daily quote marc...</td>\n",
              "      <td>alcoholism</td>\n",
              "      <td>True</td>\n",
              "      <td>13</td>\n",
              "    </tr>\n",
              "  </tbody>\n",
              "</table>\n",
              "</div>"
            ],
            "text/plain": [
              "                                   title  \\\n",
              "6083                    Is this allowed?   \n",
              "7799                                Meds   \n",
              "4571                  Problem with drugs   \n",
              "883    7 years in hell ending in 50 days   \n",
              "10281     Grapevine Daily Quote March 31   \n",
              "\n",
              "                                                                                                                                                                                                                                                                                                          selftext  \\\n",
              "6083   so recently -pron- get suspend from school the suspension be fair no argument about that however when -pron- return today for -pron- first day back -pron- have little meeting in the morning with -pron- principal and -pron- ask if the homework -pron- get over -pron- suspension be do -pron- say no...   \n",
              "7799   so -pron- be on cocktail of ssri 's and -pron- have be great for the past few year but -pron- anxiety and panic attack be creep back pretty intensely thing that -pron- have not be scar of in year be start to scare -pron- again be alone leave the house etc -pron- can not take benzos because -pron...   \n",
              "4571                                                                                                                                                                                                                                         when be stressed -pron- do drug -pron- be stressed and on lot of drug   \n",
              "883    -pron- father die in 2012 -pron- be 11 then and as -pron- only child -pron- inherit 50k from -pron- but since -pron- be underage the money be hand over to -pron- alcoholic mom but after some time -pron- family notice that -pron- mom use -pron- for gambling and alcohol so -pron- be assign trustee...   \n",
              "10281  if -pron- be in pain -pron- may be beneficial to -pron- if -pron- be aware of those in even more pain ... the answer for -pron- pain be in the twelfth step gruff love new york new york october 2006 aa grapevine grapevine daily quote march 31](http://www.aagrapevine.org grapevine daily quote marc...   \n",
              "\n",
              "         subreddit  is_self  category_id  \n",
              "6083        Advice     True            8  \n",
              "7799   Agoraphobia     True           10  \n",
              "4571     addiction     True            6  \n",
              "883     offmychest     True            0  \n",
              "10281   alcoholism     True           13  "
            ]
          },
          "metadata": {
            "tags": []
          },
          "execution_count": 21
        }
      ]
    },
    {
      "cell_type": "code",
      "metadata": {
        "id": "Ap9SuBBtIcRF",
        "colab_type": "code",
        "colab": {}
      },
      "source": [
        "from sklearn.model_selection import train_test_split\n",
        "X = sg.selftext\n",
        "y = sg.category_id\n",
        "X_train, X_test, y_train, y_test = train_test_split(X, y, test_size=0.2, random_state=42)"
      ],
      "execution_count": 0,
      "outputs": []
    },
    {
      "cell_type": "code",
      "metadata": {
        "id": "Bio3xS5MIcRI",
        "colab_type": "code",
        "colab": {
          "base_uri": "https://localhost:8080/",
          "height": 90
        },
        "outputId": "e112cd87-957a-4d36-e263-391e41e88e4f"
      },
      "source": [
        "print(X_train.shape)\n",
        "print(X_test.shape)\n",
        "print(y_train.shape)\n",
        "print(y_test.shape)"
      ],
      "execution_count": 23,
      "outputs": [
        {
          "output_type": "stream",
          "text": [
            "(11146,)\n",
            "(2787,)\n",
            "(11146,)\n",
            "(2787,)\n"
          ],
          "name": "stdout"
        }
      ]
    },
    {
      "cell_type": "code",
      "metadata": {
        "id": "UctNc7kLIcRN",
        "colab_type": "code",
        "colab": {
          "base_uri": "https://localhost:8080/",
          "height": 35
        },
        "outputId": "ef689e2b-b1c2-4f6c-e33c-42c37d61175b"
      },
      "source": [
        "from sklearn.feature_extraction.text import CountVectorizer\n",
        "count_vect = CountVectorizer()\n",
        "X_train_counts = count_vect.fit_transform(X_train)\n",
        "X_train_counts.shape"
      ],
      "execution_count": 24,
      "outputs": [
        {
          "output_type": "execute_result",
          "data": {
            "text/plain": [
              "(11146, 25957)"
            ]
          },
          "metadata": {
            "tags": []
          },
          "execution_count": 24
        }
      ]
    },
    {
      "cell_type": "code",
      "metadata": {
        "id": "68QhB7_WIcRX",
        "colab_type": "code",
        "colab": {
          "base_uri": "https://localhost:8080/",
          "height": 35
        },
        "outputId": "b99fa2a9-1158-43c3-88fb-f3178a800eef"
      },
      "source": [
        "# TF-IDF: term-frequency times inverse document frequency\n",
        "from sklearn.feature_extraction.text import TfidfTransformer\n",
        "tfidf_transformer = TfidfTransformer()\n",
        "X_train_tfidf = tfidf_transformer.fit_transform(X_train_counts)\n",
        "X_train_tfidf.shape"
      ],
      "execution_count": 25,
      "outputs": [
        {
          "output_type": "execute_result",
          "data": {
            "text/plain": [
              "(11146, 25957)"
            ]
          },
          "metadata": {
            "tags": []
          },
          "execution_count": 25
        }
      ]
    },
    {
      "cell_type": "code",
      "metadata": {
        "id": "yMd7AIyWIcRd",
        "colab_type": "code",
        "colab": {}
      },
      "source": [
        "# Classifier using Naive Bayes\n",
        "from sklearn.naive_bayes import MultinomialNB\n",
        "clf = MultinomialNB().fit(X_train_tfidf, y_train)"
      ],
      "execution_count": 0,
      "outputs": []
    },
    {
      "cell_type": "code",
      "metadata": {
        "id": "hpQhnb2UIcRh",
        "colab_type": "code",
        "colab": {}
      },
      "source": [
        "from sklearn.pipeline import Pipeline\n",
        "text_clf = Pipeline([('vect', CountVectorizer()),\n",
        "                      ('tfidf', TfidfTransformer()),\n",
        "                      ('clf', MultinomialNB()),\n",
        "])\n",
        "\n",
        "text_clf = text_clf.fit(X_train, y_train)"
      ],
      "execution_count": 0,
      "outputs": []
    },
    {
      "cell_type": "code",
      "metadata": {
        "id": "g9ne5dK0IcRm",
        "colab_type": "code",
        "colab": {
          "base_uri": "https://localhost:8080/",
          "height": 35
        },
        "outputId": "b6bbd75b-7743-45d1-d885-a48be6815ec5"
      },
      "source": [
        "import numpy as np\n",
        "predicted = text_clf.predict(X_test)\n",
        "np.mean(predicted == y_test)"
      ],
      "execution_count": 28,
      "outputs": [
        {
          "output_type": "execute_result",
          "data": {
            "text/plain": [
              "0.4406171510584858"
            ]
          },
          "metadata": {
            "tags": []
          },
          "execution_count": 28
        }
      ]
    },
    {
      "cell_type": "markdown",
      "metadata": {
        "id": "aAZtBhaCIcRt",
        "colab_type": "text"
      },
      "source": [
        "Somewhat decent."
      ]
    },
    {
      "cell_type": "code",
      "metadata": {
        "id": "Ru_CWMNcIcRv",
        "colab_type": "code",
        "colab": {
          "base_uri": "https://localhost:8080/",
          "height": 92
        },
        "outputId": "31e9c85f-c788-433a-968c-da16002d0cbe"
      },
      "source": [
        "# support vector machine classifier\n",
        "from sklearn.linear_model import SGDClassifier\n",
        "\n",
        "text_clf_svm = Pipeline([('vect', CountVectorizer()),\n",
        "                      ('tfidf', TfidfTransformer()),\n",
        "                      ('clf-svm', SGDClassifier(loss='hinge', penalty='l2',\n",
        "                                            alpha=1e-3, max_iter=5, tol=None, random_state=42)),\n",
        "])\n",
        "\n",
        "_ = text_clf_svm.fit(X_train, y_train)\n",
        "\n",
        "predicted_svm = text_clf_svm.predict(X_test)\n",
        "np.mean(predicted_svm == y_test)"
      ],
      "execution_count": 29,
      "outputs": [
        {
          "output_type": "stream",
          "text": [
            "/usr/local/lib/python3.6/dist-packages/sklearn/linear_model/stochastic_gradient.py:183: FutureWarning: max_iter and tol parameters have been added in SGDClassifier in 0.19. If max_iter is set but tol is left unset, the default value for tol in 0.19 and 0.20 will be None (which is equivalent to -infinity, so it has no effect) but will change in 0.21 to 1e-3. Specify tol to silence this warning.\n",
            "  FutureWarning)\n"
          ],
          "name": "stderr"
        },
        {
          "output_type": "execute_result",
          "data": {
            "text/plain": [
              "0.5855758880516685"
            ]
          },
          "metadata": {
            "tags": []
          },
          "execution_count": 29
        }
      ]
    },
    {
      "cell_type": "markdown",
      "metadata": {
        "id": "oiEcoYjAIcR3",
        "colab_type": "text"
      },
      "source": [
        "Better."
      ]
    },
    {
      "cell_type": "code",
      "metadata": {
        "id": "zofrU1XOIcR4",
        "colab_type": "code",
        "colab": {}
      },
      "source": [
        "# Tuning hyperparameters\n",
        "from sklearn.model_selection import GridSearchCV\n",
        "parameters = {'vect__ngram_range': [(1, 1), (1, 2)],\n",
        "               'tfidf__use_idf': (True, False),\n",
        "               'clf__alpha': (1e-2, 1e-3),\n",
        "}"
      ],
      "execution_count": 0,
      "outputs": []
    },
    {
      "cell_type": "code",
      "metadata": {
        "id": "5EbH3ihyIcSA",
        "colab_type": "code",
        "colab": {}
      },
      "source": [
        "# Grid search with Naive Bayes\n",
        "gs_clf = GridSearchCV(text_clf, parameters, n_jobs=-1)"
      ],
      "execution_count": 0,
      "outputs": []
    },
    {
      "cell_type": "code",
      "metadata": {
        "id": "kwPKwurIIcSC",
        "colab_type": "code",
        "colab": {
          "base_uri": "https://localhost:8080/",
          "height": 164
        },
        "outputId": "173af07e-7ffa-4bae-ec29-965d67e036d5"
      },
      "source": [
        "%%time\n",
        "gs_clf = gs_clf.fit(X_train, y_train)\n",
        "print(gs_clf.best_score_)\n",
        "gs_clf.best_params_"
      ],
      "execution_count": 32,
      "outputs": [
        {
          "output_type": "stream",
          "text": [
            "/usr/local/lib/python3.6/dist-packages/sklearn/model_selection/_split.py:2053: FutureWarning: You should specify a value for 'cv' instead of relying on the default value. The default value will change from 3 to 5 in version 0.22.\n",
            "  warnings.warn(CV_WARNING, FutureWarning)\n",
            "/usr/local/lib/python3.6/dist-packages/sklearn/externals/joblib/externals/loky/process_executor.py:706: UserWarning: A worker stopped while some jobs were given to the executor. This can be caused by a too short worker timeout or by a memory leak.\n",
            "  \"timeout or by a memory leak.\", UserWarning\n"
          ],
          "name": "stderr"
        },
        {
          "output_type": "stream",
          "text": [
            "0.540732101202225\n",
            "CPU times: user 3.09 s, sys: 459 ms, total: 3.55 s\n",
            "Wall time: 2min 11s\n"
          ],
          "name": "stdout"
        }
      ]
    },
    {
      "cell_type": "markdown",
      "metadata": {
        "id": "JK5NKcjNIcSI",
        "colab_type": "text"
      },
      "source": [
        "Improved from 44% to 54% over Naive Bayes without tuning hyperparameters."
      ]
    },
    {
      "cell_type": "code",
      "metadata": {
        "id": "6P4U7JAeIcSJ",
        "colab_type": "code",
        "colab": {}
      },
      "source": [
        "# Grid search with SVM classifier\n",
        "parameters_svm = {'vect__ngram_range': [(1, 1), (1, 2)],\n",
        "               'tfidf__use_idf': (True, False),\n",
        "               'clf-svm__alpha': (1e-2, 1e-3),\n",
        "}\n",
        "gs_clf_svm = GridSearchCV(text_clf_svm, parameters_svm, n_jobs=-1)"
      ],
      "execution_count": 0,
      "outputs": []
    },
    {
      "cell_type": "code",
      "metadata": {
        "id": "CJAUDWK3IcSP",
        "colab_type": "code",
        "colab": {
          "base_uri": "https://localhost:8080/",
          "height": 164
        },
        "outputId": "8360986a-d435-462f-99d0-e16f233ff1f3"
      },
      "source": [
        "%%time\n",
        "gs_clf_svm = gs_clf_svm.fit(X_train, y_train)\n",
        "print(gs_clf_svm.best_score_)\n",
        "gs_clf_svm.best_params_"
      ],
      "execution_count": 34,
      "outputs": [
        {
          "output_type": "stream",
          "text": [
            "/usr/local/lib/python3.6/dist-packages/sklearn/model_selection/_split.py:2053: FutureWarning: You should specify a value for 'cv' instead of relying on the default value. The default value will change from 3 to 5 in version 0.22.\n",
            "  warnings.warn(CV_WARNING, FutureWarning)\n",
            "/usr/local/lib/python3.6/dist-packages/sklearn/linear_model/stochastic_gradient.py:183: FutureWarning: max_iter and tol parameters have been added in SGDClassifier in 0.19. If max_iter is set but tol is left unset, the default value for tol in 0.19 and 0.20 will be None (which is equivalent to -infinity, so it has no effect) but will change in 0.21 to 1e-3. Specify tol to silence this warning.\n",
            "  FutureWarning)\n"
          ],
          "name": "stderr"
        },
        {
          "output_type": "stream",
          "text": [
            "0.5806567378431724\n",
            "CPU times: user 10.2 s, sys: 298 ms, total: 10.5 s\n",
            "Wall time: 2min 19s\n"
          ],
          "name": "stdout"
        }
      ]
    },
    {
      "cell_type": "markdown",
      "metadata": {
        "id": "yDxnQVa3IcSV",
        "colab_type": "text"
      },
      "source": [
        "The SVM classifier with hypertuning performed about as well as it did without hypertuning: 58% accuracy."
      ]
    },
    {
      "cell_type": "code",
      "metadata": {
        "id": "A7p3vz2OIcSX",
        "colab_type": "code",
        "colab": {
          "base_uri": "https://localhost:8080/",
          "height": 53
        },
        "outputId": "eb591cc5-6fd3-471e-cd65-973e73f9c00a"
      },
      "source": [
        "import nltk\n",
        "nltk.download('stopwords')\n",
        "\n",
        "from nltk.stem.snowball import SnowballStemmer\n",
        "stemmer = SnowballStemmer(\"english\", ignore_stopwords=True)\n",
        "\n",
        "class StemmedCountVectorizer(CountVectorizer):\n",
        "    def build_analyzer(self):\n",
        "        analyzer = super(StemmedCountVectorizer, self).build_analyzer()\n",
        "        return lambda doc: ([stemmer.stem(w) for w in analyzer(doc)])\n",
        "\n",
        "stemmed_count_vect = StemmedCountVectorizer(stop_words='english')\n",
        "\n",
        "text_mnb_stemmed = Pipeline([('vect', stemmed_count_vect),\n",
        "                      ('tfidf', TfidfTransformer()),\n",
        "                      ('mnb', MultinomialNB(fit_prior=False)),\n",
        "])"
      ],
      "execution_count": 35,
      "outputs": [
        {
          "output_type": "stream",
          "text": [
            "[nltk_data] Downloading package stopwords to /root/nltk_data...\n",
            "[nltk_data]   Unzipping corpora/stopwords.zip.\n"
          ],
          "name": "stdout"
        }
      ]
    },
    {
      "cell_type": "code",
      "metadata": {
        "id": "8KhbVXZBIcSc",
        "colab_type": "code",
        "colab": {
          "base_uri": "https://localhost:8080/",
          "height": 53
        },
        "outputId": "2b33d068-579e-40ea-90b7-3574edc3925b"
      },
      "source": [
        "%%time\n",
        "text_mnb_stemmed = text_mnb_stemmed.fit(X_train, y_train)"
      ],
      "execution_count": 36,
      "outputs": [
        {
          "output_type": "stream",
          "text": [
            "CPU times: user 22.8 s, sys: 14.8 ms, total: 22.8 s\n",
            "Wall time: 22.8 s\n"
          ],
          "name": "stdout"
        }
      ]
    },
    {
      "cell_type": "code",
      "metadata": {
        "id": "ztUPgeoBIcSf",
        "colab_type": "code",
        "colab": {
          "base_uri": "https://localhost:8080/",
          "height": 35
        },
        "outputId": "ee8a7f69-4a7e-43c8-9aca-f963cc66fd8d"
      },
      "source": [
        "predicted_mnb_stemmed = text_mnb_stemmed.predict(X_test)\n",
        "np.mean(predicted_mnb_stemmed == y_test)"
      ],
      "execution_count": 37,
      "outputs": [
        {
          "output_type": "execute_result",
          "data": {
            "text/plain": [
              "0.5285252960172229"
            ]
          },
          "metadata": {
            "tags": []
          },
          "execution_count": 37
        }
      ]
    },
    {
      "cell_type": "markdown",
      "metadata": {
        "id": "ICdbvl5ZIcSi",
        "colab_type": "text"
      },
      "source": [
        "Naive Bayes is about 53% accurate after stemming and removing stop words."
      ]
    },
    {
      "cell_type": "code",
      "metadata": {
        "id": "wS9yrewyIcSi",
        "colab_type": "code",
        "colab": {}
      },
      "source": [
        "from sklearn.svm import LinearSVC\n",
        "from sklearn.linear_model import LogisticRegression\n",
        "from sklearn.ensemble import RandomForestClassifier\n",
        "from sklearn.neural_network import MLPClassifier\n",
        "from sklearn.model_selection import GridSearchCV\n",
        "from sklearn.model_selection import train_test_split\n",
        "import numpy as np\n",
        "from sklearn.feature_extraction.text import TfidfVectorizer\n",
        "from sklearn.pipeline import Pipeline"
      ],
      "execution_count": 0,
      "outputs": []
    },
    {
      "cell_type": "code",
      "metadata": {
        "id": "yGQj4kIDIcSl",
        "colab_type": "code",
        "colab": {}
      },
      "source": [
        "vectorizers = [\n",
        "    TfidfVectorizer(stop_words='english',\n",
        "                    max_features=None),\n",
        "    CountVectorizer(stop_words='english',\n",
        "                   max_features=None)\n",
        "]\n",
        "\n",
        "classifiers = [\n",
        "    MultinomialNB(),\n",
        "    LinearSVC(),\n",
        "    LogisticRegression(),\n",
        "    RandomForestClassifier()\n",
        "]\n",
        "\n",
        "clf_names = [\n",
        "         \"Naive Bayes\",\n",
        "         \"Linear SVC\",\n",
        "         \"Logistic Regression\",\n",
        "         \"Random Forest\",\n",
        "        ]\n",
        "\n",
        "vect_names = [\n",
        "    \"TfidfVectorizer\",\n",
        "    \"CountVectorizer\"\n",
        "]\n",
        "\n",
        "clf_params = [\n",
        "              {'vect__ngram_range': [(1, 1), (1, 2)],\n",
        "              'clf__alpha': (1e-2, 1e-3)},\n",
        "              {'vect__ngram_range': [(1, 1), (1, 2)],\n",
        "              'clf__C': (np.logspace(-5, 1, 5))},\n",
        "              {'vect__ngram_range': [(1, 1), (1, 2)],\n",
        "              'clf__C': (np.logspace(-5, 1, 5))},\n",
        "              {'vect__ngram_range': [(1, 1), (1, 2)],\n",
        "              'clf__max_depth': (1, 2)},\n",
        "             ]"
      ],
      "execution_count": 0,
      "outputs": []
    },
    {
      "cell_type": "code",
      "metadata": {
        "id": "SKbKBg4_IcSm",
        "colab_type": "code",
        "colab": {
          "base_uri": "https://localhost:8080/",
          "height": 2726
        },
        "outputId": "a88bae1d-ea17-4c28-a3d3-823f787acc8a"
      },
      "source": [
        "%%time\n",
        "models = []\n",
        "for classifier, clf_name, params in zip(classifiers, \n",
        "                                        clf_names, \n",
        "                                        clf_params):\n",
        "    for vectorizer, vect_name in zip(vectorizers, \n",
        "                                     vect_names):\n",
        "        pipe = Pipeline([\n",
        "            ('vect', vectorizer),\n",
        "            ('clf', classifier),\n",
        "        ])\n",
        "        gs = GridSearchCV(pipe, \n",
        "                          param_grid=params, \n",
        "                          n_jobs=-1,\n",
        "                          scoring='accuracy',\n",
        "                          cv=5,\n",
        "                          verbose=10)\n",
        "        \n",
        "        gs.fit(sg.selftext, sg.category_id)\n",
        "        score = gs.best_score_\n",
        "        print(f'''\n",
        "Classifier: {clf_name}\n",
        "Vectorizer: {vect_name}\n",
        "Score: {gs.best_score_:.4f}\n",
        "Params: {gs.best_params_}\n",
        "------------------------------\n",
        "            ''')\n",
        "        models.append((clf_name, vect_name, gs.best_score_, gs.best_params_))"
      ],
      "execution_count": 40,
      "outputs": [
        {
          "output_type": "stream",
          "text": [
            "Fitting 5 folds for each of 4 candidates, totalling 20 fits\n"
          ],
          "name": "stdout"
        },
        {
          "output_type": "stream",
          "text": [
            "[Parallel(n_jobs=-1)]: Using backend LokyBackend with 2 concurrent workers.\n",
            "[Parallel(n_jobs=-1)]: Done   1 tasks      | elapsed:    6.1s\n",
            "[Parallel(n_jobs=-1)]: Done   4 tasks      | elapsed:   12.4s\n",
            "[Parallel(n_jobs=-1)]: Done   9 tasks      | elapsed:   47.4s\n",
            "[Parallel(n_jobs=-1)]: Done  14 tasks      | elapsed:  1.1min\n",
            "[Parallel(n_jobs=-1)]: Done  20 out of  20 | elapsed:  1.8min remaining:    0.0s\n",
            "[Parallel(n_jobs=-1)]: Done  20 out of  20 | elapsed:  1.8min finished\n"
          ],
          "name": "stderr"
        },
        {
          "output_type": "stream",
          "text": [
            "\n",
            "Classifier: Naive Bayes\n",
            "Vectorizer: TfidfVectorizer\n",
            "Score: 0.5343\n",
            "Params: {'clf__alpha': 0.01, 'vect__ngram_range': (1, 1)}\n",
            "------------------------------\n",
            "            \n",
            "Fitting 5 folds for each of 4 candidates, totalling 20 fits\n"
          ],
          "name": "stdout"
        },
        {
          "output_type": "stream",
          "text": [
            "[Parallel(n_jobs=-1)]: Using backend LokyBackend with 2 concurrent workers.\n",
            "[Parallel(n_jobs=-1)]: Done   1 tasks      | elapsed:    6.1s\n",
            "[Parallel(n_jobs=-1)]: Done   4 tasks      | elapsed:   12.2s\n",
            "[Parallel(n_jobs=-1)]: Done   9 tasks      | elapsed:   45.8s\n",
            "[Parallel(n_jobs=-1)]: Done  14 tasks      | elapsed:  1.1min\n",
            "[Parallel(n_jobs=-1)]: Done  20 out of  20 | elapsed:  1.7min remaining:    0.0s\n",
            "[Parallel(n_jobs=-1)]: Done  20 out of  20 | elapsed:  1.7min finished\n"
          ],
          "name": "stderr"
        },
        {
          "output_type": "stream",
          "text": [
            "\n",
            "Classifier: Naive Bayes\n",
            "Vectorizer: CountVectorizer\n",
            "Score: 0.5430\n",
            "Params: {'clf__alpha': 0.01, 'vect__ngram_range': (1, 2)}\n",
            "------------------------------\n",
            "            \n",
            "Fitting 5 folds for each of 10 candidates, totalling 50 fits\n"
          ],
          "name": "stdout"
        },
        {
          "output_type": "stream",
          "text": [
            "[Parallel(n_jobs=-1)]: Using backend LokyBackend with 2 concurrent workers.\n",
            "[Parallel(n_jobs=-1)]: Done   1 tasks      | elapsed:    7.1s\n",
            "[Parallel(n_jobs=-1)]: Done   4 tasks      | elapsed:   14.6s\n",
            "[Parallel(n_jobs=-1)]: Done   9 tasks      | elapsed:   55.8s\n",
            "[Parallel(n_jobs=-1)]: Done  14 tasks      | elapsed:  1.3min\n",
            "[Parallel(n_jobs=-1)]: Done  21 tasks      | elapsed:  2.2min\n",
            "[Parallel(n_jobs=-1)]: Done  28 tasks      | elapsed:  2.9min\n",
            "[Parallel(n_jobs=-1)]: Done  37 tasks      | elapsed:  3.8min\n",
            "[Parallel(n_jobs=-1)]: Done  46 tasks      | elapsed:  6.1min\n",
            "[Parallel(n_jobs=-1)]: Done  50 out of  50 | elapsed:  8.1min finished\n"
          ],
          "name": "stderr"
        },
        {
          "output_type": "stream",
          "text": [
            "\n",
            "Classifier: Linear SVC\n",
            "Vectorizer: TfidfVectorizer\n",
            "Score: 0.6157\n",
            "Params: {'clf__C': 0.31622776601683794, 'vect__ngram_range': (1, 2)}\n",
            "------------------------------\n",
            "            \n",
            "Fitting 5 folds for each of 10 candidates, totalling 50 fits\n"
          ],
          "name": "stdout"
        },
        {
          "output_type": "stream",
          "text": [
            "[Parallel(n_jobs=-1)]: Using backend LokyBackend with 2 concurrent workers.\n",
            "[Parallel(n_jobs=-1)]: Done   1 tasks      | elapsed:   10.7s\n",
            "[Parallel(n_jobs=-1)]: Done   4 tasks      | elapsed:   22.2s\n",
            "[Parallel(n_jobs=-1)]: Done   9 tasks      | elapsed:  1.4min\n",
            "[Parallel(n_jobs=-1)]: Done  14 tasks      | elapsed:  3.6min\n",
            "[Parallel(n_jobs=-1)]: Done  21 tasks      | elapsed:  9.7min\n",
            "[Parallel(n_jobs=-1)]: Done  28 tasks      | elapsed: 14.1min\n",
            "[Parallel(n_jobs=-1)]: Done  37 tasks      | elapsed: 18.6min\n",
            "[Parallel(n_jobs=-1)]: Done  46 tasks      | elapsed: 23.1min\n",
            "[Parallel(n_jobs=-1)]: Done  50 out of  50 | elapsed: 25.7min finished\n",
            "/usr/local/lib/python3.6/dist-packages/sklearn/svm/base.py:931: ConvergenceWarning: Liblinear failed to converge, increase the number of iterations.\n",
            "  \"the number of iterations.\", ConvergenceWarning)\n",
            "[Parallel(n_jobs=-1)]: Using backend LokyBackend with 2 concurrent workers.\n"
          ],
          "name": "stderr"
        },
        {
          "output_type": "stream",
          "text": [
            "\n",
            "Classifier: Linear SVC\n",
            "Vectorizer: CountVectorizer\n",
            "Score: 0.5838\n",
            "Params: {'clf__C': 0.01, 'vect__ngram_range': (1, 2)}\n",
            "------------------------------\n",
            "            \n",
            "Fitting 5 folds for each of 10 candidates, totalling 50 fits\n"
          ],
          "name": "stdout"
        },
        {
          "output_type": "stream",
          "text": [
            "[Parallel(n_jobs=-1)]: Done   1 tasks      | elapsed:    6.8s\n",
            "[Parallel(n_jobs=-1)]: Done   4 tasks      | elapsed:   14.5s\n",
            "[Parallel(n_jobs=-1)]: Done   9 tasks      | elapsed:   57.8s\n",
            "[Parallel(n_jobs=-1)]: Done  14 tasks      | elapsed:  1.4min\n",
            "[Parallel(n_jobs=-1)]: Done  21 tasks      | elapsed:  2.5min\n",
            "[Parallel(n_jobs=-1)]: Done  28 tasks      | elapsed:  3.5min\n",
            "[Parallel(n_jobs=-1)]: Done  37 tasks      | elapsed:  4.9min\n",
            "[Parallel(n_jobs=-1)]: Done  46 tasks      | elapsed:  7.3min\n",
            "[Parallel(n_jobs=-1)]: Done  50 out of  50 | elapsed:  8.9min finished\n",
            "/usr/local/lib/python3.6/dist-packages/sklearn/linear_model/logistic.py:433: FutureWarning: Default solver will be changed to 'lbfgs' in 0.22. Specify a solver to silence this warning.\n",
            "  FutureWarning)\n",
            "/usr/local/lib/python3.6/dist-packages/sklearn/linear_model/logistic.py:460: FutureWarning: Default multi_class will be changed to 'auto' in 0.22. Specify the multi_class option to silence this warning.\n",
            "  \"this warning.\", FutureWarning)\n"
          ],
          "name": "stderr"
        },
        {
          "output_type": "stream",
          "text": [
            "\n",
            "Classifier: Logistic Regression\n",
            "Vectorizer: TfidfVectorizer\n",
            "Score: 0.6106\n",
            "Params: {'clf__C': 10.0, 'vect__ngram_range': (1, 2)}\n",
            "------------------------------\n",
            "            \n",
            "Fitting 5 folds for each of 10 candidates, totalling 50 fits\n"
          ],
          "name": "stdout"
        },
        {
          "output_type": "stream",
          "text": [
            "[Parallel(n_jobs=-1)]: Using backend LokyBackend with 2 concurrent workers.\n",
            "[Parallel(n_jobs=-1)]: Done   1 tasks      | elapsed:    9.3s\n",
            "[Parallel(n_jobs=-1)]: Done   4 tasks      | elapsed:   18.6s\n",
            "[Parallel(n_jobs=-1)]: Done   9 tasks      | elapsed:  1.4min\n",
            "[Parallel(n_jobs=-1)]: Done  14 tasks      | elapsed:  1.9min\n",
            "[Parallel(n_jobs=-1)]: Done  21 tasks      | elapsed:  3.9min\n",
            "[Parallel(n_jobs=-1)]: Done  28 tasks      | elapsed:  7.1min\n",
            "[Parallel(n_jobs=-1)]: Done  37 tasks      | elapsed: 12.3min\n",
            "[Parallel(n_jobs=-1)]: Done  46 tasks      | elapsed: 22.6min\n",
            "[Parallel(n_jobs=-1)]: Done  50 out of  50 | elapsed: 30.2min finished\n",
            "/usr/local/lib/python3.6/dist-packages/sklearn/linear_model/logistic.py:433: FutureWarning: Default solver will be changed to 'lbfgs' in 0.22. Specify a solver to silence this warning.\n",
            "  FutureWarning)\n",
            "/usr/local/lib/python3.6/dist-packages/sklearn/linear_model/logistic.py:460: FutureWarning: Default multi_class will be changed to 'auto' in 0.22. Specify the multi_class option to silence this warning.\n",
            "  \"this warning.\", FutureWarning)\n"
          ],
          "name": "stderr"
        },
        {
          "output_type": "stream",
          "text": [
            "\n",
            "Classifier: Logistic Regression\n",
            "Vectorizer: CountVectorizer\n",
            "Score: 0.5858\n",
            "Params: {'clf__C': 0.01, 'vect__ngram_range': (1, 2)}\n",
            "------------------------------\n",
            "            \n",
            "Fitting 5 folds for each of 4 candidates, totalling 20 fits\n"
          ],
          "name": "stdout"
        },
        {
          "output_type": "stream",
          "text": [
            "[Parallel(n_jobs=-1)]: Using backend LokyBackend with 2 concurrent workers.\n",
            "[Parallel(n_jobs=-1)]: Done   1 tasks      | elapsed:    6.3s\n",
            "[Parallel(n_jobs=-1)]: Done   4 tasks      | elapsed:   12.5s\n",
            "[Parallel(n_jobs=-1)]: Done   9 tasks      | elapsed:   46.8s\n",
            "[Parallel(n_jobs=-1)]: Done  14 tasks      | elapsed:  1.1min\n",
            "[Parallel(n_jobs=-1)]: Done  20 out of  20 | elapsed:  1.7min remaining:    0.0s\n",
            "[Parallel(n_jobs=-1)]: Done  20 out of  20 | elapsed:  1.7min finished\n",
            "/usr/local/lib/python3.6/dist-packages/sklearn/ensemble/forest.py:246: FutureWarning: The default value of n_estimators will change from 10 in version 0.20 to 100 in 0.22.\n",
            "  \"10 in version 0.20 to 100 in 0.22.\", FutureWarning)\n",
            "[Parallel(n_jobs=-1)]: Using backend LokyBackend with 2 concurrent workers.\n"
          ],
          "name": "stderr"
        },
        {
          "output_type": "stream",
          "text": [
            "\n",
            "Classifier: Random Forest\n",
            "Vectorizer: TfidfVectorizer\n",
            "Score: 0.1766\n",
            "Params: {'clf__max_depth': 2, 'vect__ngram_range': (1, 1)}\n",
            "------------------------------\n",
            "            \n",
            "Fitting 5 folds for each of 4 candidates, totalling 20 fits\n"
          ],
          "name": "stdout"
        },
        {
          "output_type": "stream",
          "text": [
            "[Parallel(n_jobs=-1)]: Done   1 tasks      | elapsed:    6.1s\n",
            "[Parallel(n_jobs=-1)]: Done   4 tasks      | elapsed:   12.2s\n",
            "[Parallel(n_jobs=-1)]: Done   9 tasks      | elapsed:   44.6s\n",
            "[Parallel(n_jobs=-1)]: Done  14 tasks      | elapsed:  1.0min\n",
            "[Parallel(n_jobs=-1)]: Done  20 out of  20 | elapsed:  1.6min remaining:    0.0s\n",
            "[Parallel(n_jobs=-1)]: Done  20 out of  20 | elapsed:  1.6min finished\n"
          ],
          "name": "stderr"
        },
        {
          "output_type": "stream",
          "text": [
            "\n",
            "Classifier: Random Forest\n",
            "Vectorizer: CountVectorizer\n",
            "Score: 0.1770\n",
            "Params: {'clf__max_depth': 2, 'vect__ngram_range': (1, 1)}\n",
            "------------------------------\n",
            "            \n",
            "CPU times: user 4min 1s, sys: 3.14 s, total: 4min 4s\n",
            "Wall time: 1h 23min 33s\n"
          ],
          "name": "stdout"
        },
        {
          "output_type": "stream",
          "text": [
            "/usr/local/lib/python3.6/dist-packages/sklearn/ensemble/forest.py:246: FutureWarning: The default value of n_estimators will change from 10 in version 0.20 to 100 in 0.22.\n",
            "  \"10 in version 0.20 to 100 in 0.22.\", FutureWarning)\n"
          ],
          "name": "stderr"
        }
      ]
    },
    {
      "cell_type": "code",
      "metadata": {
        "id": "a-ABsMQwIcSs",
        "colab_type": "code",
        "colab": {
          "base_uri": "https://localhost:8080/",
          "height": 126
        },
        "outputId": "1fcd44a2-5d4f-4a41-ac90-fc4b6ae878ff"
      },
      "source": [
        "models = sorted(models, key=lambda tup: tup[2])\n",
        "print('And the winner is...')\n",
        "print()\n",
        "print('Classifier:', models[-1][0])\n",
        "print('Vectorizer:', models[-1][1])\n",
        "print('Score:', models[-1][2])\n",
        "print('Params:', models[-1][3])"
      ],
      "execution_count": 41,
      "outputs": [
        {
          "output_type": "stream",
          "text": [
            "And the winner is...\n",
            "\n",
            "Classifier: Linear SVC\n",
            "Vectorizer: TfidfVectorizer\n",
            "Score: 0.6157324337902821\n",
            "Params: {'clf__C': 0.31622776601683794, 'vect__ngram_range': (1, 2)}\n"
          ],
          "name": "stdout"
        }
      ]
    },
    {
      "cell_type": "code",
      "metadata": {
        "id": "r49RtEZUIcSw",
        "colab_type": "code",
        "colab": {}
      },
      "source": [
        ""
      ],
      "execution_count": 0,
      "outputs": []
    }
  ]
}