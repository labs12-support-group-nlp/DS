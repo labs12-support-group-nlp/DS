{
  "nbformat": 4,
  "nbformat_minor": 0,
  "metadata": {
    "colab": {
      "name": "Online Support Groups Part 3 (VO).ipynb",
      "version": "0.3.2",
      "provenance": []
    },
    "language_info": {
      "codemirror_mode": {
        "name": "ipython",
        "version": 3
      },
      "file_extension": ".py",
      "mimetype": "text/x-python",
      "name": "python",
      "nbconvert_exporter": "python",
      "pygments_lexer": "ipython3",
      "version": "3.6.7"
    },
    "kernelspec": {
      "display_name": "Python 3",
      "language": "python",
      "name": "python3"
    }
  },
  "cells": [
    {
      "cell_type": "code",
      "metadata": {
        "id": "LUg6LusqJt01",
        "colab_type": "code",
        "outputId": "404e4ebe-95a1-4a97-ed80-4c60d93267ed",
        "colab": {
          "base_uri": "https://localhost:8080/",
          "height": 293
        }
      },
      "source": [
        "import pandas as pd\n",
        "pd.set_option('display.max_colwidth', 300)\n",
        "df = pd.read_csv('sg_post_cleaned.csv')\n",
        "df.head()"
      ],
      "execution_count": 1,
      "outputs": [
        {
          "output_type": "execute_result",
          "data": {
            "text/html": [
              "<div>\n",
              "<style scoped>\n",
              "    .dataframe tbody tr th:only-of-type {\n",
              "        vertical-align: middle;\n",
              "    }\n",
              "\n",
              "    .dataframe tbody tr th {\n",
              "        vertical-align: top;\n",
              "    }\n",
              "\n",
              "    .dataframe thead th {\n",
              "        text-align: right;\n",
              "    }\n",
              "</style>\n",
              "<table border=\"1\" class=\"dataframe\">\n",
              "  <thead>\n",
              "    <tr style=\"text-align: right;\">\n",
              "      <th></th>\n",
              "      <th>post_number</th>\n",
              "      <th>post_txt</th>\n",
              "      <th>groups</th>\n",
              "    </tr>\n",
              "  </thead>\n",
              "  <tbody>\n",
              "    <tr>\n",
              "      <th>0</th>\n",
              "      <td>621322</td>\n",
              "      <td>my 15 year old revealed to me 10 weeks ago that her dad (my loving wonderful husband of 22 years) has been sexually abusing her! my world has fallen apart but after many weeks of therapy and intensive investigations it has become very clear that my d...</td>\n",
              "      <td>Friends and Family of BPD</td>\n",
              "    </tr>\n",
              "    <tr>\n",
              "      <th>1</th>\n",
              "      <td>620965</td>\n",
              "      <td>I feel so trapped and helpless! My husband has borderline personality disorder and when he is well he is so lovely and caring but when he is feeling ill he emotionally abuses me, swears at me, blames me for everything, tells me Im useless and I am g...</td>\n",
              "      <td>Friends and Family of BPD</td>\n",
              "    </tr>\n",
              "    <tr>\n",
              "      <th>2</th>\n",
              "      <td>618672</td>\n",
              "      <td>Ive been through a pretty major episode with my bpd husbamd of 23 years. He has been violent in 15 years. Really caught me off gaurd . I was injured but his episodes have increased borh in frequency and severity over the past couple of years. Fee...</td>\n",
              "      <td>Friends and Family of BPD</td>\n",
              "    </tr>\n",
              "    <tr>\n",
              "      <th>3</th>\n",
              "      <td>603678</td>\n",
              "      <td>I was told I might post in this group for support: I believe my husband has BPD. He and I have talked about it, but he refuses to see a therapist specifically about this, or to be honest about what is going on to any therapist he does see. I know tha...</td>\n",
              "      <td>Friends and Family of BPD</td>\n",
              "    </tr>\n",
              "    <tr>\n",
              "      <th>4</th>\n",
              "      <td>613714</td>\n",
              "      <td>Hi. Im new here and in the middle of divorcing my husband of over 26 years. My therapists think he fits io the bod/narcissistic personality. To make a long story short, weve both had issues with chemical dependency. He kicked me out of our ho...</td>\n",
              "      <td>Friends and Family of BPD</td>\n",
              "    </tr>\n",
              "  </tbody>\n",
              "</table>\n",
              "</div>"
            ],
            "text/plain": [
              "   post_number  \\\n",
              "0       621322   \n",
              "1       620965   \n",
              "2       618672   \n",
              "3       603678   \n",
              "4       613714   \n",
              "\n",
              "                                                                                                                                                                                                                                                        post_txt  \\\n",
              "0  my 15 year old revealed to me 10 weeks ago that her dad (my loving wonderful husband of 22 years) has been sexually abusing her! my world has fallen apart but after many weeks of therapy and intensive investigations it has become very clear that my d...   \n",
              "1   I feel so trapped and helpless! My husband has borderline personality disorder and when he is well he is so lovely and caring but when he is feeling ill he emotionally abuses me, swears at me, blames me for everything, tells me Im useless and I am g...   \n",
              "2      Ive been through a pretty major episode with my bpd husbamd of 23 years. He has been violent in 15 years. Really caught me off gaurd . I was injured but his episodes have increased borh in frequency and severity over the past couple of years. Fee...   \n",
              "3  I was told I might post in this group for support: I believe my husband has BPD. He and I have talked about it, but he refuses to see a therapist specifically about this, or to be honest about what is going on to any therapist he does see. I know tha...   \n",
              "4          Hi. Im new here and in the middle of divorcing my husband of over 26 years. My therapists think he fits io the bod/narcissistic personality. To make a long story short, weve both had issues with chemical dependency. He kicked me out of our ho...   \n",
              "\n",
              "                      groups  \n",
              "0  Friends and Family of BPD  \n",
              "1  Friends and Family of BPD  \n",
              "2  Friends and Family of BPD  \n",
              "3  Friends and Family of BPD  \n",
              "4  Friends and Family of BPD  "
            ]
          },
          "metadata": {
            "tags": []
          },
          "execution_count": 1
        }
      ]
    },
    {
      "cell_type": "code",
      "metadata": {
        "id": "2yfs2UMBJt1N",
        "colab_type": "code",
        "outputId": "f65d80bb-18f4-4ae7-c1ce-f2ffece108a4",
        "colab": {
          "base_uri": "https://localhost:8080/",
          "height": 55
        }
      },
      "source": [
        "text = df.post_txt[0]\n",
        "text"
      ],
      "execution_count": 2,
      "outputs": [
        {
          "output_type": "execute_result",
          "data": {
            "text/plain": [
              "'my 15 year old revealed to me 10 weeks ago that her dad (my loving wonderful husband of 22 years) has been sexually abusing her! my world has fallen apart but after many weeks of therapy and intensive investigations it has become very clear that my d...'"
            ]
          },
          "metadata": {
            "tags": []
          },
          "execution_count": 2
        }
      ]
    },
    {
      "cell_type": "code",
      "metadata": {
        "id": "GTGcZBtOJt1a",
        "colab_type": "code",
        "outputId": "2c36fa5c-404e-432f-a190-d21247a762c1",
        "colab": {
          "base_uri": "https://localhost:8080/",
          "height": 55
        }
      },
      "source": [
        "import spacy\n",
        "# Load English tokenizer, tagger, parser, NER and word vectors\n",
        "nlp = spacy.load(\"en\")\n",
        "doc = nlp(text)\n",
        "doc"
      ],
      "execution_count": 3,
      "outputs": [
        {
          "output_type": "execute_result",
          "data": {
            "text/plain": [
              "my 15 year old revealed to me 10 weeks ago that her dad (my loving wonderful husband of 22 years) has been sexually abusing her! my world has fallen apart but after many weeks of therapy and intensive investigations it has become very clear that my d..."
            ]
          },
          "metadata": {
            "tags": []
          },
          "execution_count": 3
        }
      ]
    },
    {
      "cell_type": "code",
      "metadata": {
        "id": "GydDRoLKJt1o",
        "colab_type": "code",
        "colab": {}
      },
      "source": [
        "def clean(text):\n",
        "    # split text by white space\n",
        "    text = text.split()\n",
        "    text = ' '.join(text)\n",
        "    # lower case\n",
        "    text = text.lower()\n",
        "    # lemmatize\n",
        "    text = nlp(text)\n",
        "    text = [token.lemma_ for token in text if len(token.lemma_) > 1]\n",
        "    return ' '.join(text)"
      ],
      "execution_count": 0,
      "outputs": []
    },
    {
      "cell_type": "code",
      "metadata": {
        "id": "GuZRyJeoJt1v",
        "colab_type": "code",
        "outputId": "33c92935-6c66-43bb-f360-d7f89a563097",
        "colab": {
          "base_uri": "https://localhost:8080/",
          "height": 92
        }
      },
      "source": [
        "%%time\n",
        "print(clean(text))"
      ],
      "execution_count": 5,
      "outputs": [
        {
          "output_type": "stream",
          "text": [
            "-PRON- 15 year old reveal to -PRON- 10 week ago that -PRON- dad -PRON- love wonderful husband of 22 year have be sexually abuse -PRON- -PRON- world have fall apart but after many week of therapy and intensive investigation -PRON- have become very clear that -PRON- ...\n",
            "CPU times: user 40.6 ms, sys: 18.1 ms, total: 58.8 ms\n",
            "Wall time: 40.6 ms\n"
          ],
          "name": "stdout"
        }
      ]
    },
    {
      "cell_type": "code",
      "metadata": {
        "id": "cuYsifwwLQ15",
        "colab_type": "code",
        "outputId": "998ce2c2-0eea-464c-bd2a-7cc038204db8",
        "colab": {
          "base_uri": "https://localhost:8080/",
          "height": 35
        }
      },
      "source": [
        "len(df)"
      ],
      "execution_count": 6,
      "outputs": [
        {
          "output_type": "execute_result",
          "data": {
            "text/plain": [
              "24274"
            ]
          },
          "metadata": {
            "tags": []
          },
          "execution_count": 6
        }
      ]
    },
    {
      "cell_type": "code",
      "metadata": {
        "id": "04KulPY3L3J7",
        "colab_type": "code",
        "outputId": "3400a380-319e-497b-e046-bb24413096d1",
        "colab": {
          "base_uri": "https://localhost:8080/",
          "height": 90
        }
      },
      "source": [
        "df.isna().sum()"
      ],
      "execution_count": 7,
      "outputs": [
        {
          "output_type": "execute_result",
          "data": {
            "text/plain": [
              "post_number    0\n",
              "post_txt       0\n",
              "groups         0\n",
              "dtype: int64"
            ]
          },
          "metadata": {
            "tags": []
          },
          "execution_count": 7
        }
      ]
    },
    {
      "cell_type": "code",
      "metadata": {
        "id": "RR-JO-WzL_lY",
        "colab_type": "code",
        "colab": {
          "base_uri": "https://localhost:8080/",
          "height": 53
        },
        "outputId": "e2d613d1-f316-41b4-a4ea-1661e088129c"
      },
      "source": [
        "%%time\n",
        "df.post_txt = df.post_txt.apply(clean)"
      ],
      "execution_count": 9,
      "outputs": [
        {
          "output_type": "stream",
          "text": [
            "CPU times: user 13min 59s, sys: 5min 17s, total: 19min 16s\n",
            "Wall time: 9min 41s\n"
          ],
          "name": "stdout"
        }
      ]
    },
    {
      "cell_type": "code",
      "metadata": {
        "id": "PimwnGlU0PMD",
        "colab_type": "code",
        "colab": {
          "base_uri": "https://localhost:8080/",
          "height": 293
        },
        "outputId": "7b01aadb-8cb4-456c-c305-341a42d3aad3"
      },
      "source": [
        "df.head()"
      ],
      "execution_count": 10,
      "outputs": [
        {
          "output_type": "execute_result",
          "data": {
            "text/html": [
              "<div>\n",
              "<style scoped>\n",
              "    .dataframe tbody tr th:only-of-type {\n",
              "        vertical-align: middle;\n",
              "    }\n",
              "\n",
              "    .dataframe tbody tr th {\n",
              "        vertical-align: top;\n",
              "    }\n",
              "\n",
              "    .dataframe thead th {\n",
              "        text-align: right;\n",
              "    }\n",
              "</style>\n",
              "<table border=\"1\" class=\"dataframe\">\n",
              "  <thead>\n",
              "    <tr style=\"text-align: right;\">\n",
              "      <th></th>\n",
              "      <th>post_number</th>\n",
              "      <th>post_txt</th>\n",
              "      <th>groups</th>\n",
              "    </tr>\n",
              "  </thead>\n",
              "  <tbody>\n",
              "    <tr>\n",
              "      <th>0</th>\n",
              "      <td>621322</td>\n",
              "      <td>-PRON- 15 year old reveal to -PRON- 10 week ago that -PRON- dad -PRON- love wonderful husband of 22 year have be sexually abuse -PRON- -PRON- world have fall apart but after many week of therapy and intensive investigation -PRON- have become very clear that -PRON- ...</td>\n",
              "      <td>Friends and Family of BPD</td>\n",
              "    </tr>\n",
              "    <tr>\n",
              "      <th>1</th>\n",
              "      <td>620965</td>\n",
              "      <td>feel so trapped and helpless -PRON- husband have borderline personality disorder and when -PRON- be well -PRON- be so lovely and care but when -PRON- be feel ill -PRON- emotionally abuse -PRON- swear at -PRON- blame -PRON- for everything tell -PRON- -PRON- be useless and be ...</td>\n",
              "      <td>Friends and Family of BPD</td>\n",
              "    </tr>\n",
              "    <tr>\n",
              "      <th>2</th>\n",
              "      <td>618672</td>\n",
              "      <td>-PRON- have be through pretty major episode with -PRON- bpd husbamd of 23 year -PRON- have be violent in 15 year really catch -PRON- off gaurd be injure but -PRON- episode have increase borh in frequency and severity over the past couple of year fee ...</td>\n",
              "      <td>Friends and Family of BPD</td>\n",
              "    </tr>\n",
              "    <tr>\n",
              "      <th>3</th>\n",
              "      <td>603678</td>\n",
              "      <td>be tell may post in this group for support believe -PRON- husband have bpd -PRON- and have talk about -PRON- but -PRON- refuse to see therapist specifically about this or to be honest about what be go on to any therapist -PRON- do see know tha ...</td>\n",
              "      <td>Friends and Family of BPD</td>\n",
              "    </tr>\n",
              "    <tr>\n",
              "      <th>4</th>\n",
              "      <td>613714</td>\n",
              "      <td>hi -PRON- be new here and in the middle of divorce -PRON- husband of over 26 year -PRON- therapist think -PRON- fit io the bod narcissistic personality to make long story short -PRON- have both have issue with chemical dependency -PRON- kick -PRON- out of -PRON- ho ...</td>\n",
              "      <td>Friends and Family of BPD</td>\n",
              "    </tr>\n",
              "  </tbody>\n",
              "</table>\n",
              "</div>"
            ],
            "text/plain": [
              "   post_number  \\\n",
              "0       621322   \n",
              "1       620965   \n",
              "2       618672   \n",
              "3       603678   \n",
              "4       613714   \n",
              "\n",
              "                                                                                                                                                                                                                                                                                 post_txt  \\\n",
              "0            -PRON- 15 year old reveal to -PRON- 10 week ago that -PRON- dad -PRON- love wonderful husband of 22 year have be sexually abuse -PRON- -PRON- world have fall apart but after many week of therapy and intensive investigation -PRON- have become very clear that -PRON- ...   \n",
              "1  feel so trapped and helpless -PRON- husband have borderline personality disorder and when -PRON- be well -PRON- be so lovely and care but when -PRON- be feel ill -PRON- emotionally abuse -PRON- swear at -PRON- blame -PRON- for everything tell -PRON- -PRON- be useless and be ...   \n",
              "2                           -PRON- have be through pretty major episode with -PRON- bpd husbamd of 23 year -PRON- have be violent in 15 year really catch -PRON- off gaurd be injure but -PRON- episode have increase borh in frequency and severity over the past couple of year fee ...   \n",
              "3                                 be tell may post in this group for support believe -PRON- husband have bpd -PRON- and have talk about -PRON- but -PRON- refuse to see therapist specifically about this or to be honest about what be go on to any therapist -PRON- do see know tha ...   \n",
              "4           hi -PRON- be new here and in the middle of divorce -PRON- husband of over 26 year -PRON- therapist think -PRON- fit io the bod narcissistic personality to make long story short -PRON- have both have issue with chemical dependency -PRON- kick -PRON- out of -PRON- ho ...   \n",
              "\n",
              "                      groups  \n",
              "0  Friends and Family of BPD  \n",
              "1  Friends and Family of BPD  \n",
              "2  Friends and Family of BPD  \n",
              "3  Friends and Family of BPD  \n",
              "4  Friends and Family of BPD  "
            ]
          },
          "metadata": {
            "tags": []
          },
          "execution_count": 10
        }
      ]
    },
    {
      "cell_type": "code",
      "metadata": {
        "id": "xWPu31qr3t49",
        "colab_type": "code",
        "colab": {
          "base_uri": "https://localhost:8080/",
          "height": 944
        },
        "outputId": "4cdde006-122e-4a58-a1d3-fa26c462d54b"
      },
      "source": [
        "df.groups.value_counts()[:50]"
      ],
      "execution_count": 13,
      "outputs": [
        {
          "output_type": "execute_result",
          "data": {
            "text/plain": [
              "Herpes                       227\n",
              "Menopause                    204\n",
              "Widow                        193\n",
              "Hodgkins Lymphoma            191\n",
              "Non Hodgkins Lymphoma        187\n",
              "PCOS                         186\n",
              "Diabetes                     184\n",
              "Smoking                      182\n",
              "Trichotillomania             181\n",
              "Chantix                      180\n",
              "Premature Ovarian Failure    179\n",
              "Acne                         177\n",
              "Kleptomania                  174\n",
              "Hepatitis C                  173\n",
              "COPD                         172\n",
              "Sex Addiction                172\n",
              "HIV                          170\n",
              "Miscarriage                  170\n",
              "Caffeine                     168\n",
              "Hysterectomy                 167\n",
              "Meth                         167\n",
              "Endometriosis                166\n",
              "Gay and Lesbian              166\n",
              "Bisexuality                  165\n",
              "HOCD                         164\n",
              "Hypothyroidism               163\n",
              "Bulimia                      161\n",
              "Cocaine                      161\n",
              "Alcohol                      161\n",
              "Cirrhosis                    161\n",
              "Caregivers                   160\n",
              "Gambling                     160\n",
              "Psoriasis                    160\n",
              "Epilepsy                     159\n",
              "Amputee                      158\n",
              "Irritable Bowel Syndrome     157\n",
              "Lymphedema                   156\n",
              "HPV                          156\n",
              "Erectile Dysfunction         156\n",
              "Sugar Addiction              155\n",
              "Binge Eating                 154\n",
              "Schizophrenia                154\n",
              "Weight Loss                  153\n",
              "Migraine                     153\n",
              "Adderall                     152\n",
              "ADHD                         152\n",
              "Eczema                       150\n",
              "Shopping Addiction           149\n",
              "Demeia                       148\n",
              "Divorce                      147\n",
              "Name: groups, dtype: int64"
            ]
          },
          "metadata": {
            "tags": []
          },
          "execution_count": 13
        }
      ]
    },
    {
      "cell_type": "code",
      "metadata": {
        "id": "n7A9_cbM6PhM",
        "colab_type": "code",
        "colab": {
          "base_uri": "https://localhost:8080/",
          "height": 944
        },
        "outputId": "4554c569-8c0f-4925-b5e1-a7135615bfbe"
      },
      "source": [
        "df.groups.value_counts()[50:100]"
      ],
      "execution_count": 14,
      "outputs": [
        {
          "output_type": "execute_result",
          "data": {
            "text/plain": [
              "Hair Loss                   145\n",
              "Pet Loss                    145\n",
              "Bedwetting                  144\n",
              "Arthritis                   143\n",
              "Marijuana                   143\n",
              "Widower                     143\n",
              "Agoraphobia                 141\n",
              "Suboxone                    140\n",
              "Breast Cancer               139\n",
              "Narcolepsy                  138\n",
              "PTSD                        138\n",
              "Hoarding                    138\n",
              "Heroin                      138\n",
              "Body Dysmorphic Disorder    137\n",
              "Obesity                     135\n",
              "Infertility                 135\n",
              "Alzheimers                  134\n",
              "Crohns Disease              134\n",
              "Back Pain                   133\n",
              "Anorexia                    133\n",
              "Cerebral Palsy              133\n",
              "Brain Cancer                133\n",
              "Unemployment                132\n",
              "Relationship                132\n",
              "Methadone                   132\n",
              "Brain Injury                131\n",
              "Healthy Sex                 129\n",
              "PMS                         128\n",
              "Online Dating               126\n",
              "Narcissist                  126\n",
              "Tinnitus                    125\n",
              "Trying To Conceive          125\n",
              "Lupus                       124\n",
              "Asperger Syndrome           123\n",
              "College                     123\n",
              "Stroke                      123\n",
              "Ambien                      122\n",
              "Anemia                      122\n",
              "Food Allergy                121\n",
              "Incest Survivors            120\n",
              "Heart Disease               120\n",
              "Vegetarian                  120\n",
              "Self Harm                   120\n",
              "Eating Disorder             119\n",
              "Sleep Apnea                 119\n",
              "Autism                      118\n",
              "Suicide                     117\n",
              "Chronic Pain                117\n",
              "Shingles                    117\n",
              "Grief                       117\n",
              "Name: groups, dtype: int64"
            ]
          },
          "metadata": {
            "tags": []
          },
          "execution_count": 14
        }
      ]
    },
    {
      "cell_type": "code",
      "metadata": {
        "id": "1JOUUEcp6ynj",
        "colab_type": "code",
        "colab": {
          "base_uri": "https://localhost:8080/",
          "height": 944
        },
        "outputId": "438f8cf7-56eb-4847-c5fb-f2bbef738acf"
      },
      "source": [
        "df.groups.value_counts()[100:150]"
      ],
      "execution_count": 15,
      "outputs": [
        {
          "output_type": "execute_result",
          "data": {
            "text/plain": [
              "Pregnancy                          116\n",
              "Friends and Family of Addicts      114\n",
              "Cymbalta                           112\n",
              "Asthma                             112\n",
              "Military Family                    112\n",
              "Parkinsons                         112\n",
              "Heart Attack                       111\n",
              "Oxycodone                          111\n",
              "Borderline Personality Disorder    111\n",
              "Skin Picking                       110\n",
              "Friends and Family of BPD          109\n",
              "Bullying                           109\n",
              "Multiple Sclerosis                 108\n",
              "Vegan                              107\n",
              "Sciatica                           107\n",
              "Scoliosis                          106\n",
              "Infidelity                         106\n",
              "Surgery                            104\n",
              "Prescription Drug                  104\n",
              "Phobia                             104\n",
              "Personality Disorder               102\n",
              "Single Dads                        102\n",
              "Spina Bifida                       102\n",
              "Celiac Disease                     101\n",
              "Jealousy                           101\n",
              "Dads                                99\n",
              "Post Partum Depression              99\n",
              "Coming Out                          98\n",
              "Adoption and Fostering              98\n",
              "Stuttering                          98\n",
              "Video Game Addiction                98\n",
              "High Blood Pressure                 98\n",
              "Bipolar                             97\n",
              "Internet Addiction                  97\n",
              "Career Changes                      97\n",
              "Chronic Fatigue Syndrome            96\n",
              "Skin Cancer                         96\n",
              "Fibromyalgia                        95\n",
              "Prostate Cancer                     94\n",
              "Single Moms                         94\n",
              "Lyme Disease                        94\n",
              "Depression                          93\n",
              "Family                              93\n",
              "Dyslexia                            92\n",
              "Abuse                               90\n",
              "Anger Manageme                      88\n",
              "Vicodin                             88\n",
              "Graves Disease                      88\n",
              "Liver Cancer                        86\n",
              "Parents                             86\n",
              "Name: groups, dtype: int64"
            ]
          },
          "metadata": {
            "tags": []
          },
          "execution_count": 15
        }
      ]
    },
    {
      "cell_type": "code",
      "metadata": {
        "id": "bHG6JtZ96361",
        "colab_type": "code",
        "colab": {
          "base_uri": "https://localhost:8080/",
          "height": 944
        },
        "outputId": "f71ce3b0-fe04-4b6e-99cf-fd02dd8aa1b7"
      },
      "source": [
        "df.groups.value_counts()[150:200]"
      ],
      "execution_count": 16,
      "outputs": [
        {
          "output_type": "execute_result",
          "data": {
            "text/plain": [
              "Exercise Addiction                   85\n",
              "Transgender                          85\n",
              "Learning Disability                  85\n",
              "OCD                                  85\n",
              "Financial Problems                   84\n",
              "Paranoia                             83\n",
              "Chemotherapy                         82\n",
              "Sexual Abuse                         81\n",
              "Shyness                              81\n",
              "Sexual Harassment                    80\n",
              "Dizziness                            79\n",
              "Veterans                             79\n",
              "Seasonal Affective Disorder          79\n",
              "Self Esteem                          78\n",
              "Healthy Eating                       77\n",
              "Klonopin                             77\n",
              "Percocet                             76\n",
              "Colorectal Cancer                    75\n",
              "Hyperthyroidism                      75\n",
              "Carpal Tunnel Syndrome               75\n",
              "Plastic Surgery                      73\n",
              "EDNOS                                73\n",
              "Teen                                 72\n",
              "Lung Cancer                          71\n",
              "Anxiety                              71\n",
              "Loneliness                           71\n",
              "Ovarian Cancer                       69\n",
              "Social Security                      66\n",
              "Thyroid Cancer                       66\n",
              "Rape                                 66\n",
              "Retirement                           66\n",
              "Single Parents                       65\n",
              "Birth Defects                        64\n",
              "Breastfeeding                        64\n",
              "Social Anxiety                       63\n",
              "Colon Cancer                         63\n",
              "Siblings                             63\n",
              "Stress                               63\n",
              "Emotional Abuse                      62\n",
              "Adoption                             61\n",
              "Singles                              61\n",
              "Moms                                 61\n",
              "Insomnia                             59\n",
              "Friends and Family of Sex Addicts    59\n",
              "Seroquel                             56\n",
              "Ativan                               55\n",
              "Pancreatic Cancer                    55\n",
              "Wellbutrin                           54\n",
              "Panic Attack                         54\n",
              "Cervical Cancer                      53\n",
              "Name: groups, dtype: int64"
            ]
          },
          "metadata": {
            "tags": []
          },
          "execution_count": 16
        }
      ]
    },
    {
      "cell_type": "code",
      "metadata": {
        "id": "hIFyDA397K1Y",
        "colab_type": "code",
        "colab": {
          "base_uri": "https://localhost:8080/",
          "height": 562
        },
        "outputId": "17837513-ddb5-42b0-964a-15fa83efd247"
      },
      "source": [
        "df.groups.value_counts()[200:]"
      ],
      "execution_count": 17,
      "outputs": [
        {
          "output_type": "execute_result",
          "data": {
            "text/plain": [
              "Military               53\n",
              "Codependency           49\n",
              "Drug                   49\n",
              "Kidney Cancer          47\n",
              "Bladder Cancer         46\n",
              "Lyrica                 43\n",
              "Paxil                  42\n",
              "Neuroin                42\n",
              "Osteoporosis           41\n",
              "Rosacea                39\n",
              "Bone Cancer            39\n",
              "Trazodone              37\n",
              "Burn                   35\n",
              "Sleep Walking          33\n",
              "Nutrition              32\n",
              "Medicaid               30\n",
              "Down Syndrome          27\n",
              "High Cholesterol       24\n",
              "Huntingtons Disease    21\n",
              "Ecstasy                21\n",
              "Heartburn              20\n",
              "Medicare               20\n",
              "Hives                  19\n",
              "Metformin              16\n",
              "Morphine               15\n",
              "Cystic Fibrosis        15\n",
              "Testicular Cancer      12\n",
              "Naproxen                6\n",
              "Valium                  5\n",
              "Name: groups, dtype: int64"
            ]
          },
          "metadata": {
            "tags": []
          },
          "execution_count": 17
        }
      ]
    },
    {
      "cell_type": "code",
      "metadata": {
        "id": "SoN60ZiO7UFq",
        "colab_type": "code",
        "colab": {
          "base_uri": "https://localhost:8080/",
          "height": 300
        },
        "outputId": "3dd26c52-3360-4d36-bf02-3ab0578bc0a8"
      },
      "source": [
        "import numpy as np\n",
        "value_counts = df.groups.value_counts()\n",
        "to_remove = value_counts[value_counts < 50].index # removing groups with < 50 posts\n",
        "df.groups.replace(to_remove, np.nan, inplace=True)\n",
        "df.describe()"
      ],
      "execution_count": 18,
      "outputs": [
        {
          "output_type": "execute_result",
          "data": {
            "text/html": [
              "<div>\n",
              "<style scoped>\n",
              "    .dataframe tbody tr th:only-of-type {\n",
              "        vertical-align: middle;\n",
              "    }\n",
              "\n",
              "    .dataframe tbody tr th {\n",
              "        vertical-align: top;\n",
              "    }\n",
              "\n",
              "    .dataframe thead th {\n",
              "        text-align: right;\n",
              "    }\n",
              "</style>\n",
              "<table border=\"1\" class=\"dataframe\">\n",
              "  <thead>\n",
              "    <tr style=\"text-align: right;\">\n",
              "      <th></th>\n",
              "      <th>post_number</th>\n",
              "    </tr>\n",
              "  </thead>\n",
              "  <tbody>\n",
              "    <tr>\n",
              "      <th>count</th>\n",
              "      <td>24274.000000</td>\n",
              "    </tr>\n",
              "    <tr>\n",
              "      <th>mean</th>\n",
              "      <td>313566.004161</td>\n",
              "    </tr>\n",
              "    <tr>\n",
              "      <th>std</th>\n",
              "      <td>193443.133054</td>\n",
              "    </tr>\n",
              "    <tr>\n",
              "      <th>min</th>\n",
              "      <td>29740.000000</td>\n",
              "    </tr>\n",
              "    <tr>\n",
              "      <th>25%</th>\n",
              "      <td>136203.250000</td>\n",
              "    </tr>\n",
              "    <tr>\n",
              "      <th>50%</th>\n",
              "      <td>352898.000000</td>\n",
              "    </tr>\n",
              "    <tr>\n",
              "      <th>75%</th>\n",
              "      <td>439421.750000</td>\n",
              "    </tr>\n",
              "    <tr>\n",
              "      <th>max</th>\n",
              "      <td>622239.000000</td>\n",
              "    </tr>\n",
              "  </tbody>\n",
              "</table>\n",
              "</div>"
            ],
            "text/plain": [
              "         post_number\n",
              "count   24274.000000\n",
              "mean   313566.004161\n",
              "std    193443.133054\n",
              "min     29740.000000\n",
              "25%    136203.250000\n",
              "50%    352898.000000\n",
              "75%    439421.750000\n",
              "max    622239.000000"
            ]
          },
          "metadata": {
            "tags": []
          },
          "execution_count": 18
        }
      ]
    },
    {
      "cell_type": "code",
      "metadata": {
        "id": "zE2rIF9t78T2",
        "colab_type": "code",
        "colab": {
          "base_uri": "https://localhost:8080/",
          "height": 90
        },
        "outputId": "0f941cdb-07ad-4b26-82cf-405541ed7e6a"
      },
      "source": [
        "df.isna().sum()"
      ],
      "execution_count": 19,
      "outputs": [
        {
          "output_type": "execute_result",
          "data": {
            "text/plain": [
              "post_number      0\n",
              "post_txt         0\n",
              "groups         825\n",
              "dtype: int64"
            ]
          },
          "metadata": {
            "tags": []
          },
          "execution_count": 19
        }
      ]
    },
    {
      "cell_type": "code",
      "metadata": {
        "id": "IB6FCzfx8HSi",
        "colab_type": "code",
        "colab": {
          "base_uri": "https://localhost:8080/",
          "height": 90
        },
        "outputId": "c8d8b21a-1be5-49cf-885e-8a48cd1230dc"
      },
      "source": [
        "df = df.dropna()\n",
        "df.isna().sum()"
      ],
      "execution_count": 20,
      "outputs": [
        {
          "output_type": "execute_result",
          "data": {
            "text/plain": [
              "post_number    0\n",
              "post_txt       0\n",
              "groups         0\n",
              "dtype: int64"
            ]
          },
          "metadata": {
            "tags": []
          },
          "execution_count": 20
        }
      ]
    },
    {
      "cell_type": "code",
      "metadata": {
        "id": "k8ZbUFn79FLI",
        "colab_type": "code",
        "colab": {
          "base_uri": "https://localhost:8080/",
          "height": 35
        },
        "outputId": "32b702d5-7619-4564-e82d-30ef05bc9fd7"
      },
      "source": [
        "len(df)"
      ],
      "execution_count": 21,
      "outputs": [
        {
          "output_type": "execute_result",
          "data": {
            "text/plain": [
              "23449"
            ]
          },
          "metadata": {
            "tags": []
          },
          "execution_count": 21
        }
      ]
    },
    {
      "cell_type": "code",
      "metadata": {
        "id": "BKUWAUzF9Rh-",
        "colab_type": "code",
        "colab": {
          "base_uri": "https://localhost:8080/",
          "height": 1143
        },
        "outputId": "f3744ab1-6c1f-4407-8ec4-77df01270b75"
      },
      "source": [
        "df.groups.value_counts()"
      ],
      "execution_count": 23,
      "outputs": [
        {
          "output_type": "execute_result",
          "data": {
            "text/plain": [
              "Herpes                               227\n",
              "Menopause                            204\n",
              "Widow                                193\n",
              "Hodgkins Lymphoma                    191\n",
              "Non Hodgkins Lymphoma                187\n",
              "PCOS                                 186\n",
              "Diabetes                             184\n",
              "Smoking                              182\n",
              "Trichotillomania                     181\n",
              "Chantix                              180\n",
              "Premature Ovarian Failure            179\n",
              "Acne                                 177\n",
              "Kleptomania                          174\n",
              "Hepatitis C                          173\n",
              "Sex Addiction                        172\n",
              "COPD                                 172\n",
              "HIV                                  170\n",
              "Miscarriage                          170\n",
              "Caffeine                             168\n",
              "Hysterectomy                         167\n",
              "Meth                                 167\n",
              "Gay and Lesbian                      166\n",
              "Endometriosis                        166\n",
              "Bisexuality                          165\n",
              "HOCD                                 164\n",
              "Hypothyroidism                       163\n",
              "Cocaine                              161\n",
              "Bulimia                              161\n",
              "Alcohol                              161\n",
              "Cirrhosis                            161\n",
              "                                    ... \n",
              "EDNOS                                 73\n",
              "Teen                                  72\n",
              "Lung Cancer                           71\n",
              "Anxiety                               71\n",
              "Loneliness                            71\n",
              "Ovarian Cancer                        69\n",
              "Social Security                       66\n",
              "Retirement                            66\n",
              "Rape                                  66\n",
              "Thyroid Cancer                        66\n",
              "Single Parents                        65\n",
              "Breastfeeding                         64\n",
              "Birth Defects                         64\n",
              "Stress                                63\n",
              "Social Anxiety                        63\n",
              "Siblings                              63\n",
              "Colon Cancer                          63\n",
              "Emotional Abuse                       62\n",
              "Singles                               61\n",
              "Adoption                              61\n",
              "Moms                                  61\n",
              "Insomnia                              59\n",
              "Friends and Family of Sex Addicts     59\n",
              "Seroquel                              56\n",
              "Pancreatic Cancer                     55\n",
              "Ativan                                55\n",
              "Panic Attack                          54\n",
              "Wellbutrin                            54\n",
              "Military                              53\n",
              "Cervical Cancer                       53\n",
              "Name: groups, Length: 201, dtype: int64"
            ]
          },
          "metadata": {
            "tags": []
          },
          "execution_count": 23
        }
      ]
    },
    {
      "cell_type": "code",
      "metadata": {
        "id": "0UpQ6iU89G6a",
        "colab_type": "code",
        "colab": {
          "base_uri": "https://localhost:8080/",
          "height": 35
        },
        "outputId": "470a9e9d-4595-4fb7-8c3a-945d37304087"
      },
      "source": [
        "# Accuracy if guessing majority class\n",
        "227/23449"
      ],
      "execution_count": 24,
      "outputs": [
        {
          "output_type": "execute_result",
          "data": {
            "text/plain": [
              "0.009680583393748134"
            ]
          },
          "metadata": {
            "tags": []
          },
          "execution_count": 24
        }
      ]
    },
    {
      "cell_type": "code",
      "metadata": {
        "id": "H2nqVWSR9dd4",
        "colab_type": "code",
        "colab": {
          "base_uri": "https://localhost:8080/",
          "height": 293
        },
        "outputId": "1a911538-8d97-4c71-d4d2-21d386e3b110"
      },
      "source": [
        "df['category_id'] = df['groups'].factorize()[0]\n",
        "df.tail()"
      ],
      "execution_count": 26,
      "outputs": [
        {
          "output_type": "execute_result",
          "data": {
            "text/html": [
              "<div>\n",
              "<style scoped>\n",
              "    .dataframe tbody tr th:only-of-type {\n",
              "        vertical-align: middle;\n",
              "    }\n",
              "\n",
              "    .dataframe tbody tr th {\n",
              "        vertical-align: top;\n",
              "    }\n",
              "\n",
              "    .dataframe thead th {\n",
              "        text-align: right;\n",
              "    }\n",
              "</style>\n",
              "<table border=\"1\" class=\"dataframe\">\n",
              "  <thead>\n",
              "    <tr style=\"text-align: right;\">\n",
              "      <th></th>\n",
              "      <th>post_number</th>\n",
              "      <th>post_txt</th>\n",
              "      <th>groups</th>\n",
              "      <th>category_id</th>\n",
              "    </tr>\n",
              "  </thead>\n",
              "  <tbody>\n",
              "    <tr>\n",
              "      <th>24269</th>\n",
              "      <td>50620</td>\n",
              "      <td>start to have feeling for girl around the age of 14 and have -PRON- first kiss with girl at 15 then realize that be bi because like to be with both gender however feel like can not come out because -PRON- parent disown -PRON- sister when -PRON- ...</td>\n",
              "      <td>Coming Out</td>\n",
              "      <td>166</td>\n",
              "    </tr>\n",
              "    <tr>\n",
              "      <th>24270</th>\n",
              "      <td>51724</td>\n",
              "      <td>be 17 year old and just -PRON- throw gardien ship transfer from -PRON- mom to -PRON- dad sister aka -PRON- au -PRON- mom be abusive and that why move here latley have be very depressed about many thing one be have gain wait and can not seem to ...</td>\n",
              "      <td>Coming Out</td>\n",
              "      <td>166</td>\n",
              "    </tr>\n",
              "    <tr>\n",
              "      <th>24271</th>\n",
              "      <td>55715</td>\n",
              "      <td>after be vegetarian for mohs -PRON- be now vegan -PRON- not hard which only start few day ago but take the peta pledge and dairy have never be super important in -PRON- diet anyway -PRON- relatively easy have be eat vegan amys meal ...</td>\n",
              "      <td>Vegan</td>\n",
              "      <td>200</td>\n",
              "    </tr>\n",
              "    <tr>\n",
              "      <th>24272</th>\n",
              "      <td>55714</td>\n",
              "      <td>after be vegetarian for mohs -PRON- be now vegan -PRON- not hard which only start few day ago but take the peta pledge and dairy have never be super important in -PRON- diet anyway -PRON- relatively easy have be eat vegan amys meal ...</td>\n",
              "      <td>Vegan</td>\n",
              "      <td>200</td>\n",
              "    </tr>\n",
              "    <tr>\n",
              "      <th>24273</th>\n",
              "      <td>56965</td>\n",
              "      <td>in may of this year get staph infection in -PRON- right index finger after month of surgery include skin graph the doctor be able to save -PRON- hand but will lose the finger schedule date be 10 19 11 -PRON- be 58 year old and righthand ...</td>\n",
              "      <td>Amputee</td>\n",
              "      <td>170</td>\n",
              "    </tr>\n",
              "  </tbody>\n",
              "</table>\n",
              "</div>"
            ],
            "text/plain": [
              "       post_number  \\\n",
              "24269        50620   \n",
              "24270        51724   \n",
              "24271        55715   \n",
              "24272        55714   \n",
              "24273        56965   \n",
              "\n",
              "                                                                                                                                                                                                                                                       post_txt  \\\n",
              "24269  start to have feeling for girl around the age of 14 and have -PRON- first kiss with girl at 15 then realize that be bi because like to be with both gender however feel like can not come out because -PRON- parent disown -PRON- sister when -PRON- ...   \n",
              "24270   be 17 year old and just -PRON- throw gardien ship transfer from -PRON- mom to -PRON- dad sister aka -PRON- au -PRON- mom be abusive and that why move here latley have be very depressed about many thing one be have gain wait and can not seem to ...   \n",
              "24271               after be vegetarian for mohs -PRON- be now vegan -PRON- not hard which only start few day ago but take the peta pledge and dairy have never be super important in -PRON- diet anyway -PRON- relatively easy have be eat vegan amys meal ...   \n",
              "24272               after be vegetarian for mohs -PRON- be now vegan -PRON- not hard which only start few day ago but take the peta pledge and dairy have never be super important in -PRON- diet anyway -PRON- relatively easy have be eat vegan amys meal ...   \n",
              "24273          in may of this year get staph infection in -PRON- right index finger after month of surgery include skin graph the doctor be able to save -PRON- hand but will lose the finger schedule date be 10 19 11 -PRON- be 58 year old and righthand ...   \n",
              "\n",
              "           groups  category_id  \n",
              "24269  Coming Out          166  \n",
              "24270  Coming Out          166  \n",
              "24271       Vegan          200  \n",
              "24272       Vegan          200  \n",
              "24273     Amputee          170  "
            ]
          },
          "metadata": {
            "tags": []
          },
          "execution_count": 26
        }
      ]
    },
    {
      "cell_type": "code",
      "metadata": {
        "id": "iaFAzH739tYT",
        "colab_type": "code",
        "colab": {
          "base_uri": "https://localhost:8080/",
          "height": 293
        },
        "outputId": "4797cc09-2c83-4824-a984-0666a0e09612"
      },
      "source": [
        "df.head()"
      ],
      "execution_count": 27,
      "outputs": [
        {
          "output_type": "execute_result",
          "data": {
            "text/html": [
              "<div>\n",
              "<style scoped>\n",
              "    .dataframe tbody tr th:only-of-type {\n",
              "        vertical-align: middle;\n",
              "    }\n",
              "\n",
              "    .dataframe tbody tr th {\n",
              "        vertical-align: top;\n",
              "    }\n",
              "\n",
              "    .dataframe thead th {\n",
              "        text-align: right;\n",
              "    }\n",
              "</style>\n",
              "<table border=\"1\" class=\"dataframe\">\n",
              "  <thead>\n",
              "    <tr style=\"text-align: right;\">\n",
              "      <th></th>\n",
              "      <th>post_number</th>\n",
              "      <th>post_txt</th>\n",
              "      <th>groups</th>\n",
              "      <th>category_id</th>\n",
              "    </tr>\n",
              "  </thead>\n",
              "  <tbody>\n",
              "    <tr>\n",
              "      <th>0</th>\n",
              "      <td>621322</td>\n",
              "      <td>-PRON- 15 year old reveal to -PRON- 10 week ago that -PRON- dad -PRON- love wonderful husband of 22 year have be sexually abuse -PRON- -PRON- world have fall apart but after many week of therapy and intensive investigation -PRON- have become very clear that -PRON- ...</td>\n",
              "      <td>Friends and Family of BPD</td>\n",
              "      <td>0</td>\n",
              "    </tr>\n",
              "    <tr>\n",
              "      <th>1</th>\n",
              "      <td>620965</td>\n",
              "      <td>feel so trapped and helpless -PRON- husband have borderline personality disorder and when -PRON- be well -PRON- be so lovely and care but when -PRON- be feel ill -PRON- emotionally abuse -PRON- swear at -PRON- blame -PRON- for everything tell -PRON- -PRON- be useless and be ...</td>\n",
              "      <td>Friends and Family of BPD</td>\n",
              "      <td>0</td>\n",
              "    </tr>\n",
              "    <tr>\n",
              "      <th>2</th>\n",
              "      <td>618672</td>\n",
              "      <td>-PRON- have be through pretty major episode with -PRON- bpd husbamd of 23 year -PRON- have be violent in 15 year really catch -PRON- off gaurd be injure but -PRON- episode have increase borh in frequency and severity over the past couple of year fee ...</td>\n",
              "      <td>Friends and Family of BPD</td>\n",
              "      <td>0</td>\n",
              "    </tr>\n",
              "    <tr>\n",
              "      <th>3</th>\n",
              "      <td>603678</td>\n",
              "      <td>be tell may post in this group for support believe -PRON- husband have bpd -PRON- and have talk about -PRON- but -PRON- refuse to see therapist specifically about this or to be honest about what be go on to any therapist -PRON- do see know tha ...</td>\n",
              "      <td>Friends and Family of BPD</td>\n",
              "      <td>0</td>\n",
              "    </tr>\n",
              "    <tr>\n",
              "      <th>4</th>\n",
              "      <td>613714</td>\n",
              "      <td>hi -PRON- be new here and in the middle of divorce -PRON- husband of over 26 year -PRON- therapist think -PRON- fit io the bod narcissistic personality to make long story short -PRON- have both have issue with chemical dependency -PRON- kick -PRON- out of -PRON- ho ...</td>\n",
              "      <td>Friends and Family of BPD</td>\n",
              "      <td>0</td>\n",
              "    </tr>\n",
              "  </tbody>\n",
              "</table>\n",
              "</div>"
            ],
            "text/plain": [
              "   post_number  \\\n",
              "0       621322   \n",
              "1       620965   \n",
              "2       618672   \n",
              "3       603678   \n",
              "4       613714   \n",
              "\n",
              "                                                                                                                                                                                                                                                                                 post_txt  \\\n",
              "0            -PRON- 15 year old reveal to -PRON- 10 week ago that -PRON- dad -PRON- love wonderful husband of 22 year have be sexually abuse -PRON- -PRON- world have fall apart but after many week of therapy and intensive investigation -PRON- have become very clear that -PRON- ...   \n",
              "1  feel so trapped and helpless -PRON- husband have borderline personality disorder and when -PRON- be well -PRON- be so lovely and care but when -PRON- be feel ill -PRON- emotionally abuse -PRON- swear at -PRON- blame -PRON- for everything tell -PRON- -PRON- be useless and be ...   \n",
              "2                           -PRON- have be through pretty major episode with -PRON- bpd husbamd of 23 year -PRON- have be violent in 15 year really catch -PRON- off gaurd be injure but -PRON- episode have increase borh in frequency and severity over the past couple of year fee ...   \n",
              "3                                 be tell may post in this group for support believe -PRON- husband have bpd -PRON- and have talk about -PRON- but -PRON- refuse to see therapist specifically about this or to be honest about what be go on to any therapist -PRON- do see know tha ...   \n",
              "4           hi -PRON- be new here and in the middle of divorce -PRON- husband of over 26 year -PRON- therapist think -PRON- fit io the bod narcissistic personality to make long story short -PRON- have both have issue with chemical dependency -PRON- kick -PRON- out of -PRON- ho ...   \n",
              "\n",
              "                      groups  category_id  \n",
              "0  Friends and Family of BPD            0  \n",
              "1  Friends and Family of BPD            0  \n",
              "2  Friends and Family of BPD            0  \n",
              "3  Friends and Family of BPD            0  \n",
              "4  Friends and Family of BPD            0  "
            ]
          },
          "metadata": {
            "tags": []
          },
          "execution_count": 27
        }
      ]
    },
    {
      "cell_type": "code",
      "metadata": {
        "id": "e3NN5lha90q9",
        "colab_type": "code",
        "colab": {}
      },
      "source": [
        "from sklearn.model_selection import train_test_split\n",
        "X = df.post_txt\n",
        "y = df.category_id\n",
        "X_train, X_test, y_train, y_test = train_test_split(X, y, test_size=0.2, random_state=42)"
      ],
      "execution_count": 0,
      "outputs": []
    },
    {
      "cell_type": "code",
      "metadata": {
        "id": "PGzr6sRj-caP",
        "colab_type": "code",
        "colab": {
          "base_uri": "https://localhost:8080/",
          "height": 90
        },
        "outputId": "d60ec8ca-a08e-4c30-b971-89704860ad99"
      },
      "source": [
        "print(X_train.shape)\n",
        "print(X_test.shape)\n",
        "print(y_train.shape)\n",
        "print(y_test.shape)"
      ],
      "execution_count": 29,
      "outputs": [
        {
          "output_type": "stream",
          "text": [
            "(18759,)\n",
            "(4690,)\n",
            "(18759,)\n",
            "(4690,)\n"
          ],
          "name": "stdout"
        }
      ]
    },
    {
      "cell_type": "code",
      "metadata": {
        "id": "mA7g6v9--f2a",
        "colab_type": "code",
        "colab": {
          "base_uri": "https://localhost:8080/",
          "height": 35
        },
        "outputId": "a1dd1062-6faf-49d1-fb63-d1c153bc920e"
      },
      "source": [
        "from sklearn.feature_extraction.text import CountVectorizer\n",
        "count_vect = CountVectorizer()\n",
        "X_train_counts = count_vect.fit_transform(X_train)\n",
        "X_train_counts.shape"
      ],
      "execution_count": 30,
      "outputs": [
        {
          "output_type": "execute_result",
          "data": {
            "text/plain": [
              "(18759, 18816)"
            ]
          },
          "metadata": {
            "tags": []
          },
          "execution_count": 30
        }
      ]
    },
    {
      "cell_type": "code",
      "metadata": {
        "id": "gyOXw5zJ-qFj",
        "colab_type": "code",
        "colab": {
          "base_uri": "https://localhost:8080/",
          "height": 35
        },
        "outputId": "477a1e92-c0e4-4bb0-8be9-91fd1bcd01eb"
      },
      "source": [
        "# TF-IDF: term-frequency times inverse document frequency\n",
        "from sklearn.feature_extraction.text import TfidfTransformer\n",
        "tfidf_transformer = TfidfTransformer()\n",
        "X_train_tfidf = tfidf_transformer.fit_transform(X_train_counts)\n",
        "X_train_tfidf.shape"
      ],
      "execution_count": 31,
      "outputs": [
        {
          "output_type": "execute_result",
          "data": {
            "text/plain": [
              "(18759, 18816)"
            ]
          },
          "metadata": {
            "tags": []
          },
          "execution_count": 31
        }
      ]
    },
    {
      "cell_type": "code",
      "metadata": {
        "id": "ODxYlUch-zhW",
        "colab_type": "code",
        "colab": {}
      },
      "source": [
        "# Classifier using Naive Bayes\n",
        "from sklearn.naive_bayes import MultinomialNB\n",
        "clf = MultinomialNB().fit(X_train_tfidf, y_train)"
      ],
      "execution_count": 0,
      "outputs": []
    },
    {
      "cell_type": "code",
      "metadata": {
        "id": "3yX8o9eb-4-w",
        "colab_type": "code",
        "colab": {}
      },
      "source": [
        "from sklearn.pipeline import Pipeline\n",
        "text_clf = Pipeline([('vect', CountVectorizer()),\n",
        "                      ('tfidf', TfidfTransformer()),\n",
        "                      ('clf', MultinomialNB()),\n",
        "])\n",
        "\n",
        "text_clf = text_clf.fit(X_train, y_train)"
      ],
      "execution_count": 0,
      "outputs": []
    },
    {
      "cell_type": "code",
      "metadata": {
        "id": "klmwFxBD-8aR",
        "colab_type": "code",
        "colab": {
          "base_uri": "https://localhost:8080/",
          "height": 35
        },
        "outputId": "72ec4307-7521-4182-bb39-c062894f6efb"
      },
      "source": [
        "predicted = text_clf.predict(X_test)\n",
        "np.mean(predicted == y_test)"
      ],
      "execution_count": 34,
      "outputs": [
        {
          "output_type": "execute_result",
          "data": {
            "text/plain": [
              "0.19275053304904052"
            ]
          },
          "metadata": {
            "tags": []
          },
          "execution_count": 34
        }
      ]
    },
    {
      "cell_type": "markdown",
      "metadata": {
        "id": "N9SUlklm_ziz",
        "colab_type": "text"
      },
      "source": [
        "Bad, but an improvement over the same model on the same data cleaned differently."
      ]
    },
    {
      "cell_type": "code",
      "metadata": {
        "id": "aHNQ71jT_A8R",
        "colab_type": "code",
        "colab": {
          "base_uri": "https://localhost:8080/",
          "height": 92
        },
        "outputId": "f7763a14-1ad0-40c0-bb91-66861553206c"
      },
      "source": [
        "# support vector machine classifier\n",
        "from sklearn.linear_model import SGDClassifier\n",
        "\n",
        "text_clf_svm = Pipeline([('vect', CountVectorizer()),\n",
        "                      ('tfidf', TfidfTransformer()),\n",
        "                      ('clf-svm', SGDClassifier(loss='hinge', penalty='l2',\n",
        "                                            alpha=1e-3, max_iter=5, tol=None, random_state=42)),\n",
        "])\n",
        "\n",
        "_ = text_clf_svm.fit(X_train, y_train)\n",
        "\n",
        "predicted_svm = text_clf_svm.predict(X_test)\n",
        "np.mean(predicted_svm == y_test)"
      ],
      "execution_count": 35,
      "outputs": [
        {
          "output_type": "stream",
          "text": [
            "/usr/local/lib/python3.6/dist-packages/sklearn/linear_model/stochastic_gradient.py:183: FutureWarning: max_iter and tol parameters have been added in SGDClassifier in 0.19. If max_iter is set but tol is left unset, the default value for tol in 0.19 and 0.20 will be None (which is equivalent to -infinity, so it has no effect) but will change in 0.21 to 1e-3. Specify tol to silence this warning.\n",
            "  FutureWarning)\n"
          ],
          "name": "stderr"
        },
        {
          "output_type": "execute_result",
          "data": {
            "text/plain": [
              "0.514498933901919"
            ]
          },
          "metadata": {
            "tags": []
          },
          "execution_count": 35
        }
      ]
    },
    {
      "cell_type": "markdown",
      "metadata": {
        "id": "y45pVO1pA9r5",
        "colab_type": "text"
      },
      "source": [
        "Much better, and an improvement over the 41% from last time."
      ]
    },
    {
      "cell_type": "code",
      "metadata": {
        "id": "2zGKLOYlAxse",
        "colab_type": "code",
        "colab": {}
      },
      "source": [
        "# Tuning hyperparameters\n",
        "from sklearn.model_selection import GridSearchCV\n",
        "parameters = {'vect__ngram_range': [(1, 1), (1, 2)],\n",
        "               'tfidf__use_idf': (True, False),\n",
        "               'clf__alpha': (1e-2, 1e-3),\n",
        "}"
      ],
      "execution_count": 0,
      "outputs": []
    },
    {
      "cell_type": "code",
      "metadata": {
        "id": "3rzeTxzwBRev",
        "colab_type": "code",
        "colab": {
          "base_uri": "https://localhost:8080/",
          "height": 146
        },
        "outputId": "85168fc6-a01a-4ca6-8b27-2a2d9f6b83ad"
      },
      "source": [
        "# Grid search with Naive Bayes\n",
        "%%time\n",
        "gs_clf = GridSearchCV(text_clf, parameters, n_jobs=-1)\n",
        "gs_clf = gs_clf.fit(X_train, y_train)"
      ],
      "execution_count": 37,
      "outputs": [
        {
          "output_type": "stream",
          "text": [
            "/usr/local/lib/python3.6/dist-packages/sklearn/model_selection/_split.py:2053: FutureWarning: You should specify a value for 'cv' instead of relying on the default value. The default value will change from 3 to 5 in version 0.22.\n",
            "  warnings.warn(CV_WARNING, FutureWarning)\n",
            "/usr/local/lib/python3.6/dist-packages/sklearn/externals/joblib/externals/loky/process_executor.py:706: UserWarning: A worker stopped while some jobs were given to the executor. This can be caused by a too short worker timeout or by a memory leak.\n",
            "  \"timeout or by a memory leak.\", UserWarning\n"
          ],
          "name": "stderr"
        },
        {
          "output_type": "stream",
          "text": [
            "CPU times: user 1.72 s, sys: 299 ms, total: 2.02 s\n",
            "Wall time: 1min 6s\n"
          ],
          "name": "stdout"
        }
      ]
    },
    {
      "cell_type": "code",
      "metadata": {
        "id": "YtnaNGQuBW0g",
        "colab_type": "code",
        "colab": {
          "base_uri": "https://localhost:8080/",
          "height": 53
        },
        "outputId": "24a59cd5-a1ed-4cee-a723-be669495552b"
      },
      "source": [
        "print(gs_clf.best_score_)\n",
        "gs_clf.best_params_"
      ],
      "execution_count": 38,
      "outputs": [
        {
          "output_type": "stream",
          "text": [
            "0.34383495921957463\n"
          ],
          "name": "stdout"
        },
        {
          "output_type": "execute_result",
          "data": {
            "text/plain": [
              "{'clf__alpha': 0.01, 'tfidf__use_idf': True, 'vect__ngram_range': (1, 1)}"
            ]
          },
          "metadata": {
            "tags": []
          },
          "execution_count": 38
        }
      ]
    },
    {
      "cell_type": "markdown",
      "metadata": {
        "id": "D60B5HRiB8Qw",
        "colab_type": "text"
      },
      "source": [
        "Tuning hyperparameters significantly improved the Naive Bayes model, and the results improved from 27% to 34% over last time."
      ]
    },
    {
      "cell_type": "code",
      "metadata": {
        "id": "aaWGAXQrByR3",
        "colab_type": "code",
        "colab": {
          "base_uri": "https://localhost:8080/",
          "height": 146
        },
        "outputId": "1a572c1d-cb25-47a8-8f45-6f04e8fe0889"
      },
      "source": [
        "# Grid search with SVM classifier\n",
        "%%time\n",
        "parameters_svm = {'vect__ngram_range': [(1, 1), (1, 2)],\n",
        "               'tfidf__use_idf': (True, False),\n",
        "               'clf-svm__alpha': (1e-2, 1e-3),\n",
        "}\n",
        "gs_clf_svm = GridSearchCV(text_clf_svm, parameters_svm, n_jobs=-1)\n",
        "gs_clf_svm = gs_clf_svm.fit(X_train, y_train)"
      ],
      "execution_count": 39,
      "outputs": [
        {
          "output_type": "stream",
          "text": [
            "/usr/local/lib/python3.6/dist-packages/sklearn/model_selection/_split.py:2053: FutureWarning: You should specify a value for 'cv' instead of relying on the default value. The default value will change from 3 to 5 in version 0.22.\n",
            "  warnings.warn(CV_WARNING, FutureWarning)\n",
            "/usr/local/lib/python3.6/dist-packages/sklearn/linear_model/stochastic_gradient.py:183: FutureWarning: max_iter and tol parameters have been added in SGDClassifier in 0.19. If max_iter is set but tol is left unset, the default value for tol in 0.19 and 0.20 will be None (which is equivalent to -infinity, so it has no effect) but will change in 0.21 to 1e-3. Specify tol to silence this warning.\n",
            "  FutureWarning)\n"
          ],
          "name": "stderr"
        },
        {
          "output_type": "stream",
          "text": [
            "CPU times: user 10.7 s, sys: 305 ms, total: 11 s\n",
            "Wall time: 1min 52s\n"
          ],
          "name": "stdout"
        }
      ]
    },
    {
      "cell_type": "code",
      "metadata": {
        "id": "qauKWmQsCdji",
        "colab_type": "code",
        "colab": {
          "base_uri": "https://localhost:8080/",
          "height": 53
        },
        "outputId": "e1cd9784-40ba-4ae9-ac3f-155b06dbad57"
      },
      "source": [
        "print(gs_clf_svm.best_score_)\n",
        "gs_clf_svm.best_params_"
      ],
      "execution_count": 40,
      "outputs": [
        {
          "output_type": "stream",
          "text": [
            "0.49757449757449757\n"
          ],
          "name": "stdout"
        },
        {
          "output_type": "execute_result",
          "data": {
            "text/plain": [
              "{'clf-svm__alpha': 0.001, 'tfidf__use_idf': True, 'vect__ngram_range': (1, 2)}"
            ]
          },
          "metadata": {
            "tags": []
          },
          "execution_count": 40
        }
      ]
    },
    {
      "cell_type": "markdown",
      "metadata": {
        "id": "CvQchjpRDXKf",
        "colab_type": "text"
      },
      "source": [
        "Better than last time, but not as good as Naive Bayes with hyperparameter tuning."
      ]
    },
    {
      "cell_type": "code",
      "metadata": {
        "id": "cdAkYMVFDI9U",
        "colab_type": "code",
        "colab": {
          "base_uri": "https://localhost:8080/",
          "height": 90
        },
        "outputId": "dc6cc497-e793-462e-9de4-707641aa0056"
      },
      "source": [
        "%%time\n",
        "import nltk\n",
        "nltk.download('stopwords')\n",
        "\n",
        "from nltk.stem.snowball import SnowballStemmer\n",
        "stemmer = SnowballStemmer(\"english\", ignore_stopwords=True)\n",
        "\n",
        "class StemmedCountVectorizer(CountVectorizer):\n",
        "    def build_analyzer(self):\n",
        "        analyzer = super(StemmedCountVectorizer, self).build_analyzer()\n",
        "        return lambda doc: ([stemmer.stem(w) for w in analyzer(doc)])\n",
        "\n",
        "stemmed_count_vect = StemmedCountVectorizer(stop_words='english')\n",
        "\n",
        "text_mnb_stemmed = Pipeline([('vect', stemmed_count_vect),\n",
        "                      ('tfidf', TfidfTransformer()),\n",
        "                      ('mnb', MultinomialNB(fit_prior=False)),\n",
        "])\n",
        "\n",
        "text_mnb_stemmed = text_mnb_stemmed.fit(X_train, y_train)\n",
        "\n",
        "predicted_mnb_stemmed = text_mnb_stemmed.predict(X_test)"
      ],
      "execution_count": 41,
      "outputs": [
        {
          "output_type": "stream",
          "text": [
            "[nltk_data] Downloading package stopwords to /root/nltk_data...\n",
            "[nltk_data]   Unzipping corpora/stopwords.zip.\n",
            "CPU times: user 8.16 s, sys: 84.7 ms, total: 8.25 s\n",
            "Wall time: 8.64 s\n"
          ],
          "name": "stdout"
        }
      ]
    },
    {
      "cell_type": "code",
      "metadata": {
        "id": "PS_tmj8gDw77",
        "colab_type": "code",
        "colab": {
          "base_uri": "https://localhost:8080/",
          "height": 35
        },
        "outputId": "7399fce0-ba91-4ff4-8d7f-53a0f2798a9f"
      },
      "source": [
        "np.mean(predicted_mnb_stemmed == y_test)"
      ],
      "execution_count": 42,
      "outputs": [
        {
          "output_type": "execute_result",
          "data": {
            "text/plain": [
              "0.41940298507462687"
            ]
          },
          "metadata": {
            "tags": []
          },
          "execution_count": 42
        }
      ]
    },
    {
      "cell_type": "markdown",
      "metadata": {
        "id": "jlP6PP5wEEmr",
        "colab_type": "text"
      },
      "source": [
        "42% is way better than the 15% from stemming and removing stop words last time."
      ]
    },
    {
      "cell_type": "code",
      "metadata": {
        "id": "zwDgUbEBD5-R",
        "colab_type": "code",
        "colab": {}
      },
      "source": [
        "from sklearn.svm import LinearSVC\n",
        "from sklearn.linear_model import LogisticRegression\n",
        "from sklearn.ensemble import RandomForestClassifier\n",
        "from sklearn.neural_network import MLPClassifier\n",
        "from sklearn.model_selection import GridSearchCV\n",
        "from sklearn.model_selection import train_test_split\n",
        "import numpy as np\n",
        "from sklearn.feature_extraction.text import TfidfVectorizer\n",
        "from sklearn.pipeline import Pipeline"
      ],
      "execution_count": 0,
      "outputs": []
    },
    {
      "cell_type": "code",
      "metadata": {
        "id": "pxSSJyJDEj-2",
        "colab_type": "code",
        "colab": {}
      },
      "source": [
        "vectorizers = [\n",
        "    TfidfVectorizer(stop_words='english',\n",
        "                    max_features=None),\n",
        "    CountVectorizer(stop_words='english',\n",
        "                   max_features=None)\n",
        "]\n",
        "\n",
        "classifiers = [\n",
        "    MultinomialNB(),\n",
        "    LinearSVC(),\n",
        "    LogisticRegression(),\n",
        "    RandomForestClassifier(),\n",
        "    SGDClassifier()\n",
        "]\n",
        "\n",
        "clf_names = [\n",
        "         \"Naive Bayes\",\n",
        "         \"Linear SVC\",\n",
        "         \"Logistic Regression\",\n",
        "         \"Random Forest\",\n",
        "        ]\n",
        "\n",
        "vect_names = [\n",
        "    \"TfidfVectorizer\",\n",
        "    \"CountVectorizer\"\n",
        "]\n",
        "\n",
        "clf_params = [\n",
        "              {'vect__ngram_range': [(1, 1), (1, 2)],\n",
        "              'clf__alpha': (1e-2, 1e-3)},\n",
        "              {'vect__ngram_range': [(1, 1), (1, 2)],\n",
        "              'clf__C': (np.logspace(-5, 1, 5))},\n",
        "              {'vect__ngram_range': [(1, 1), (1, 2)],\n",
        "              'clf__C': (np.logspace(-5, 1, 5))},\n",
        "              {'vect__ngram_range': [(1, 1), (1, 2)],\n",
        "              'clf__max_depth': (1, 2)},\n",
        "             ]"
      ],
      "execution_count": 0,
      "outputs": []
    },
    {
      "cell_type": "code",
      "metadata": {
        "id": "dFdUnN5MEq31",
        "colab_type": "code",
        "colab": {
          "base_uri": "https://localhost:8080/",
          "height": 2762
        },
        "outputId": "73ff7f2e-f1e7-4b2f-fe5a-a14481c61f96"
      },
      "source": [
        "%%time\n",
        "models = []\n",
        "for classifier, clf_name, params in zip(classifiers, \n",
        "                                        clf_names, \n",
        "                                        clf_params):\n",
        "    for vectorizer, vect_name in zip(vectorizers, \n",
        "                                     vect_names):\n",
        "        pipe = Pipeline([\n",
        "            ('vect', vectorizer),\n",
        "            ('clf', classifier),\n",
        "        ])\n",
        "        gs = GridSearchCV(pipe, \n",
        "                          param_grid=params, \n",
        "                          n_jobs=-1,\n",
        "                          scoring='accuracy',\n",
        "                          cv=5,\n",
        "                          verbose=10)\n",
        "        \n",
        "        gs.fit(df.post_txt, df.category_id)\n",
        "        score = gs.best_score_\n",
        "        print(f'''\n",
        "Classifier: {clf_name}\n",
        "Vectorizer: {vect_name}\n",
        "Score: {gs.best_score_:.4f}\n",
        "Params: {gs.best_params_}\n",
        "------------------------------\n",
        "            ''')\n",
        "        models.append((clf_name, vect_name, gs.best_score_, gs.best_params_))"
      ],
      "execution_count": 45,
      "outputs": [
        {
          "output_type": "stream",
          "text": [
            "Fitting 5 folds for each of 4 candidates, totalling 20 fits\n"
          ],
          "name": "stdout"
        },
        {
          "output_type": "stream",
          "text": [
            "[Parallel(n_jobs=-1)]: Using backend LokyBackend with 2 concurrent workers.\n",
            "[Parallel(n_jobs=-1)]: Done   1 tasks      | elapsed:    3.7s\n",
            "[Parallel(n_jobs=-1)]: Done   4 tasks      | elapsed:    6.6s\n",
            "/usr/local/lib/python3.6/dist-packages/sklearn/externals/joblib/externals/loky/process_executor.py:706: UserWarning: A worker stopped while some jobs were given to the executor. This can be caused by a too short worker timeout or by a memory leak.\n",
            "  \"timeout or by a memory leak.\", UserWarning\n",
            "[Parallel(n_jobs=-1)]: Done   9 tasks      | elapsed:   27.0s\n",
            "[Parallel(n_jobs=-1)]: Done  14 tasks      | elapsed:   35.2s\n",
            "[Parallel(n_jobs=-1)]: Done  20 out of  20 | elapsed:   56.4s remaining:    0.0s\n",
            "[Parallel(n_jobs=-1)]: Done  20 out of  20 | elapsed:   56.4s finished\n"
          ],
          "name": "stderr"
        },
        {
          "output_type": "stream",
          "text": [
            "\n",
            "Classifier: Naive Bayes\n",
            "Vectorizer: TfidfVectorizer\n",
            "Score: 0.3562\n",
            "Params: {'clf__alpha': 0.01, 'vect__ngram_range': (1, 2)}\n",
            "------------------------------\n",
            "            \n",
            "Fitting 5 folds for each of 4 candidates, totalling 20 fits\n"
          ],
          "name": "stdout"
        },
        {
          "output_type": "stream",
          "text": [
            "[Parallel(n_jobs=-1)]: Using backend LokyBackend with 2 concurrent workers.\n",
            "[Parallel(n_jobs=-1)]: Done   1 tasks      | elapsed:    2.5s\n",
            "[Parallel(n_jobs=-1)]: Done   4 tasks      | elapsed:    5.1s\n",
            "[Parallel(n_jobs=-1)]: Done   9 tasks      | elapsed:   22.2s\n",
            "/usr/local/lib/python3.6/dist-packages/sklearn/externals/joblib/externals/loky/process_executor.py:706: UserWarning: A worker stopped while some jobs were given to the executor. This can be caused by a too short worker timeout or by a memory leak.\n",
            "  \"timeout or by a memory leak.\", UserWarning\n",
            "[Parallel(n_jobs=-1)]: Done  14 tasks      | elapsed:   32.0s\n",
            "[Parallel(n_jobs=-1)]: Done  20 out of  20 | elapsed:   54.7s finished\n",
            "[Parallel(n_jobs=-1)]: Done  20 out of  20 | elapsed:   54.7s remaining:    0.0s\n"
          ],
          "name": "stderr"
        },
        {
          "output_type": "stream",
          "text": [
            "\n",
            "Classifier: Naive Bayes\n",
            "Vectorizer: CountVectorizer\n",
            "Score: 0.3267\n",
            "Params: {'clf__alpha': 0.01, 'vect__ngram_range': (1, 2)}\n",
            "------------------------------\n",
            "            \n",
            "Fitting 5 folds for each of 10 candidates, totalling 50 fits\n"
          ],
          "name": "stdout"
        },
        {
          "output_type": "stream",
          "text": [
            "[Parallel(n_jobs=-1)]: Using backend LokyBackend with 2 concurrent workers.\n",
            "[Parallel(n_jobs=-1)]: Done   1 tasks      | elapsed:   10.0s\n",
            "[Parallel(n_jobs=-1)]: Done   4 tasks      | elapsed:   19.9s\n",
            "[Parallel(n_jobs=-1)]: Done   9 tasks      | elapsed:  1.2min\n",
            "[Parallel(n_jobs=-1)]: Done  14 tasks      | elapsed:  1.7min\n",
            "[Parallel(n_jobs=-1)]: Done  21 tasks      | elapsed:  2.8min\n",
            "[Parallel(n_jobs=-1)]: Done  28 tasks      | elapsed:  3.8min\n",
            "[Parallel(n_jobs=-1)]: Done  37 tasks      | elapsed:  5.0min\n",
            "[Parallel(n_jobs=-1)]: Done  46 tasks      | elapsed:  8.5min\n",
            "[Parallel(n_jobs=-1)]: Done  50 out of  50 | elapsed: 11.9min finished\n"
          ],
          "name": "stderr"
        },
        {
          "output_type": "stream",
          "text": [
            "\n",
            "Classifier: Linear SVC\n",
            "Vectorizer: TfidfVectorizer\n",
            "Score: 0.5097\n",
            "Params: {'clf__C': 0.31622776601683794, 'vect__ngram_range': (1, 1)}\n",
            "------------------------------\n",
            "            \n",
            "Fitting 5 folds for each of 10 candidates, totalling 50 fits\n"
          ],
          "name": "stdout"
        },
        {
          "output_type": "stream",
          "text": [
            "[Parallel(n_jobs=-1)]: Using backend LokyBackend with 2 concurrent workers.\n",
            "[Parallel(n_jobs=-1)]: Done   1 tasks      | elapsed:   12.9s\n",
            "[Parallel(n_jobs=-1)]: Done   4 tasks      | elapsed:   26.7s\n",
            "[Parallel(n_jobs=-1)]: Done   9 tasks      | elapsed:  1.6min\n",
            "[Parallel(n_jobs=-1)]: Done  14 tasks      | elapsed:  2.1min\n",
            "[Parallel(n_jobs=-1)]: Done  21 tasks      | elapsed:  3.2min\n",
            "[Parallel(n_jobs=-1)]: Done  28 tasks      | elapsed:  4.5min\n",
            "[Parallel(n_jobs=-1)]: Done  37 tasks      | elapsed:  7.4min\n",
            "[Parallel(n_jobs=-1)]: Done  46 tasks      | elapsed: 13.7min\n",
            "[Parallel(n_jobs=-1)]: Done  50 out of  50 | elapsed: 18.2min finished\n"
          ],
          "name": "stderr"
        },
        {
          "output_type": "stream",
          "text": [
            "\n",
            "Classifier: Linear SVC\n",
            "Vectorizer: CountVectorizer\n",
            "Score: 0.4976\n",
            "Params: {'clf__C': 0.01, 'vect__ngram_range': (1, 2)}\n",
            "------------------------------\n",
            "            \n",
            "Fitting 5 folds for each of 10 candidates, totalling 50 fits\n"
          ],
          "name": "stdout"
        },
        {
          "output_type": "stream",
          "text": [
            "[Parallel(n_jobs=-1)]: Using backend LokyBackend with 2 concurrent workers.\n",
            "[Parallel(n_jobs=-1)]: Done   1 tasks      | elapsed:   10.0s\n",
            "[Parallel(n_jobs=-1)]: Done   4 tasks      | elapsed:   19.8s\n",
            "[Parallel(n_jobs=-1)]: Done   9 tasks      | elapsed:  1.6min\n",
            "[Parallel(n_jobs=-1)]: Done  14 tasks      | elapsed:  2.3min\n",
            "[Parallel(n_jobs=-1)]: Done  21 tasks      | elapsed:  4.3min\n",
            "[Parallel(n_jobs=-1)]: Done  28 tasks      | elapsed:  6.9min\n",
            "[Parallel(n_jobs=-1)]: Done  37 tasks      | elapsed: 10.2min\n",
            "[Parallel(n_jobs=-1)]: Done  46 tasks      | elapsed: 16.6min\n",
            "[Parallel(n_jobs=-1)]: Done  50 out of  50 | elapsed: 21.1min finished\n",
            "/usr/local/lib/python3.6/dist-packages/sklearn/linear_model/logistic.py:433: FutureWarning: Default solver will be changed to 'lbfgs' in 0.22. Specify a solver to silence this warning.\n",
            "  FutureWarning)\n",
            "/usr/local/lib/python3.6/dist-packages/sklearn/linear_model/logistic.py:460: FutureWarning: Default multi_class will be changed to 'auto' in 0.22. Specify the multi_class option to silence this warning.\n",
            "  \"this warning.\", FutureWarning)\n"
          ],
          "name": "stderr"
        },
        {
          "output_type": "stream",
          "text": [
            "\n",
            "Classifier: Logistic Regression\n",
            "Vectorizer: TfidfVectorizer\n",
            "Score: 0.4916\n",
            "Params: {'clf__C': 10.0, 'vect__ngram_range': (1, 2)}\n",
            "------------------------------\n",
            "            \n",
            "Fitting 5 folds for each of 10 candidates, totalling 50 fits\n"
          ],
          "name": "stdout"
        },
        {
          "output_type": "stream",
          "text": [
            "[Parallel(n_jobs=-1)]: Using backend LokyBackend with 2 concurrent workers.\n",
            "[Parallel(n_jobs=-1)]: Done   1 tasks      | elapsed:   11.7s\n",
            "[Parallel(n_jobs=-1)]: Done   4 tasks      | elapsed:   22.9s\n",
            "[Parallel(n_jobs=-1)]: Done   9 tasks      | elapsed:  1.8min\n",
            "[Parallel(n_jobs=-1)]: Done  14 tasks      | elapsed:  2.9min\n",
            "[Parallel(n_jobs=-1)]: Done  21 tasks      | elapsed:  6.7min\n",
            "[Parallel(n_jobs=-1)]: Done  28 tasks      | elapsed: 11.4min\n",
            "[Parallel(n_jobs=-1)]: Done  37 tasks      | elapsed: 17.6min\n",
            "[Parallel(n_jobs=-1)]: Done  46 tasks      | elapsed: 29.4min\n",
            "[Parallel(n_jobs=-1)]: Done  50 out of  50 | elapsed: 37.3min finished\n",
            "/usr/local/lib/python3.6/dist-packages/sklearn/linear_model/logistic.py:433: FutureWarning: Default solver will be changed to 'lbfgs' in 0.22. Specify a solver to silence this warning.\n",
            "  FutureWarning)\n",
            "/usr/local/lib/python3.6/dist-packages/sklearn/linear_model/logistic.py:460: FutureWarning: Default multi_class will be changed to 'auto' in 0.22. Specify the multi_class option to silence this warning.\n",
            "  \"this warning.\", FutureWarning)\n"
          ],
          "name": "stderr"
        },
        {
          "output_type": "stream",
          "text": [
            "\n",
            "Classifier: Logistic Regression\n",
            "Vectorizer: CountVectorizer\n",
            "Score: 0.4667\n",
            "Params: {'clf__C': 0.31622776601683794, 'vect__ngram_range': (1, 1)}\n",
            "------------------------------\n",
            "            \n",
            "Fitting 5 folds for each of 4 candidates, totalling 20 fits\n"
          ],
          "name": "stdout"
        },
        {
          "output_type": "stream",
          "text": [
            "[Parallel(n_jobs=-1)]: Using backend LokyBackend with 2 concurrent workers.\n",
            "[Parallel(n_jobs=-1)]: Done   1 tasks      | elapsed:    2.6s\n",
            "[Parallel(n_jobs=-1)]: Done   4 tasks      | elapsed:    5.3s\n",
            "[Parallel(n_jobs=-1)]: Done   9 tasks      | elapsed:   17.4s\n",
            "[Parallel(n_jobs=-1)]: Done  14 tasks      | elapsed:   24.9s\n",
            "[Parallel(n_jobs=-1)]: Done  20 out of  20 | elapsed:   38.3s remaining:    0.0s\n",
            "[Parallel(n_jobs=-1)]: Done  20 out of  20 | elapsed:   38.3s finished\n",
            "/usr/local/lib/python3.6/dist-packages/sklearn/ensemble/forest.py:246: FutureWarning: The default value of n_estimators will change from 10 in version 0.20 to 100 in 0.22.\n",
            "  \"10 in version 0.20 to 100 in 0.22.\", FutureWarning)\n",
            "[Parallel(n_jobs=-1)]: Using backend LokyBackend with 2 concurrent workers.\n"
          ],
          "name": "stderr"
        },
        {
          "output_type": "stream",
          "text": [
            "\n",
            "Classifier: Random Forest\n",
            "Vectorizer: TfidfVectorizer\n",
            "Score: 0.0481\n",
            "Params: {'clf__max_depth': 2, 'vect__ngram_range': (1, 1)}\n",
            "------------------------------\n",
            "            \n",
            "Fitting 5 folds for each of 4 candidates, totalling 20 fits\n"
          ],
          "name": "stdout"
        },
        {
          "output_type": "stream",
          "text": [
            "[Parallel(n_jobs=-1)]: Done   1 tasks      | elapsed:    2.6s\n",
            "[Parallel(n_jobs=-1)]: Done   4 tasks      | elapsed:    5.2s\n",
            "[Parallel(n_jobs=-1)]: Done   9 tasks      | elapsed:   16.8s\n",
            "[Parallel(n_jobs=-1)]: Done  14 tasks      | elapsed:   24.1s\n",
            "[Parallel(n_jobs=-1)]: Done  20 out of  20 | elapsed:   36.9s remaining:    0.0s\n",
            "[Parallel(n_jobs=-1)]: Done  20 out of  20 | elapsed:   36.9s finished\n"
          ],
          "name": "stderr"
        },
        {
          "output_type": "stream",
          "text": [
            "\n",
            "Classifier: Random Forest\n",
            "Vectorizer: CountVectorizer\n",
            "Score: 0.0510\n",
            "Params: {'clf__max_depth': 2, 'vect__ngram_range': (1, 1)}\n",
            "------------------------------\n",
            "            \n",
            "CPU times: user 3min 29s, sys: 2.94 s, total: 3min 31s\n",
            "Wall time: 1h 34min 53s\n"
          ],
          "name": "stdout"
        },
        {
          "output_type": "stream",
          "text": [
            "/usr/local/lib/python3.6/dist-packages/sklearn/ensemble/forest.py:246: FutureWarning: The default value of n_estimators will change from 10 in version 0.20 to 100 in 0.22.\n",
            "  \"10 in version 0.20 to 100 in 0.22.\", FutureWarning)\n"
          ],
          "name": "stderr"
        }
      ]
    },
    {
      "cell_type": "code",
      "metadata": {
        "id": "6cjNKAHHFHpJ",
        "colab_type": "code",
        "colab": {
          "base_uri": "https://localhost:8080/",
          "height": 126
        },
        "outputId": "3c70c920-162f-4cc8-928a-786865464a94"
      },
      "source": [
        "models = sorted(models, key=lambda tup: tup[2])\n",
        "print('And the winner is...')\n",
        "print()\n",
        "print('Classifier:', models[-1][0])\n",
        "print('Vectorizer:', models[-1][1])\n",
        "print('Score:', models[-1][2])\n",
        "print('Params:', models[-1][3])"
      ],
      "execution_count": 46,
      "outputs": [
        {
          "output_type": "stream",
          "text": [
            "And the winner is...\n",
            "\n",
            "Classifier: Linear SVC\n",
            "Vectorizer: TfidfVectorizer\n",
            "Score: 0.5097445520064822\n",
            "Params: {'clf__C': 0.31622776601683794, 'vect__ngram_range': (1, 1)}\n"
          ],
          "name": "stdout"
        }
      ]
    },
    {
      "cell_type": "markdown",
      "metadata": {
        "id": "3s_XwgQsKFZB",
        "colab_type": "text"
      },
      "source": [
        "Even though I used the same models as last time, they are performing better this time. Part of the reason may be that this time during the cleaning, I dropped posts that were less than or equal to 22 characters long. Longer posts may lead to increases in model accuracy. If that is the case, then I expect model accuracy to improve even more with full posts instead of the first 50 or so words of each post that we have here. Another reason for the improved accuracy may be that I used spacy to lemmatize the texts in a way that allowed spacy to detect the part of speech of each word, which may affect model accuracy."
      ]
    },
    {
      "cell_type": "code",
      "metadata": {
        "id": "V-rshF6QFWNM",
        "colab_type": "code",
        "colab": {}
      },
      "source": [
        ""
      ],
      "execution_count": 0,
      "outputs": []
    }
  ]
}