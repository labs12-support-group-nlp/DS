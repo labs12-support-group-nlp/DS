{
 "cells": [
  {
   "cell_type": "code",
   "execution_count": 1,
   "metadata": {},
   "outputs": [
    {
     "data": {
      "text/html": [
       "<div>\n",
       "<style scoped>\n",
       "    .dataframe tbody tr th:only-of-type {\n",
       "        vertical-align: middle;\n",
       "    }\n",
       "\n",
       "    .dataframe tbody tr th {\n",
       "        vertical-align: top;\n",
       "    }\n",
       "\n",
       "    .dataframe thead th {\n",
       "        text-align: right;\n",
       "    }\n",
       "</style>\n",
       "<table border=\"1\" class=\"dataframe\">\n",
       "  <thead>\n",
       "    <tr style=\"text-align: right;\">\n",
       "      <th></th>\n",
       "      <th>title</th>\n",
       "      <th>selftext</th>\n",
       "      <th>subreddit</th>\n",
       "      <th>is_self</th>\n",
       "    </tr>\n",
       "  </thead>\n",
       "  <tbody>\n",
       "    <tr>\n",
       "      <th>0</th>\n",
       "      <td>Please be wary of people asking for donations. We have a scammer that makes their rounds every so often and she's duped a few of you.</td>\n",
       "      <td>A day or two ago a post popped up by a girl claiming she was incredibly ill, bedridden, and that her boyfriend had tampered with her birth control. She claimed she needed an abortion. \\n\\nYou wonderful, helpful people tried to direct her to abortion funds, hotlines, anything that could help. She...</td>\n",
       "      <td>offmychest</td>\n",
       "      <td>True</td>\n",
       "    </tr>\n",
       "    <tr>\n",
       "      <th>1</th>\n",
       "      <td>I'm finally okay with what I lost.</td>\n",
       "      <td>I had my daughter at sixteen. I'm now in college a year and a half later and a single dad.\\n\\nLosing freedom was the hardest part for me. I couldn't hang out with my friends, listen to shitty music, sleep a full night, study when I wanted. Shit, I still can't take a shower without Baby invading ...</td>\n",
       "      <td>offmychest</td>\n",
       "      <td>True</td>\n",
       "    </tr>\n",
       "    <tr>\n",
       "      <th>2</th>\n",
       "      <td>VACCINES ARE GOOD! THEY SAVE LIVES! PLEASE GET THEM FOR YOU AND YOUR CHILDREN!</td>\n",
       "      <td>That is all. Thank you for your time.</td>\n",
       "      <td>offmychest</td>\n",
       "      <td>True</td>\n",
       "    </tr>\n",
       "    <tr>\n",
       "      <th>3</th>\n",
       "      <td>I told my boss to fuck off and quit my job all before 8am.</td>\n",
       "      <td>I’ve been checking my hours religiously. I noticed some missing hours last pay cycle and had them fix it, but was still a little sketched and worried that they might mess up again. My fiancé and I are leaving for Portland in two days and I can’t afford for them to make another mistake. \\n\\nI che...</td>\n",
       "      <td>offmychest</td>\n",
       "      <td>True</td>\n",
       "    </tr>\n",
       "    <tr>\n",
       "      <th>4</th>\n",
       "      <td>FUCK YEA</td>\n",
       "      <td>ITS CURRENTLY 5:31 AM AND I JUST FINISHED MY 14 PAGE RESEARCH PAPER YAAAY AND IM NOT EVEN TIRED WAHOOOO!!!! THE DAY IS MINE!!</td>\n",
       "      <td>offmychest</td>\n",
       "      <td>True</td>\n",
       "    </tr>\n",
       "  </tbody>\n",
       "</table>\n",
       "</div>"
      ],
      "text/plain": [
       "                                                                                                                                   title  \\\n",
       "0  Please be wary of people asking for donations. We have a scammer that makes their rounds every so often and she's duped a few of you.   \n",
       "1                                                                                                     I'm finally okay with what I lost.   \n",
       "2                                                         VACCINES ARE GOOD! THEY SAVE LIVES! PLEASE GET THEM FOR YOU AND YOUR CHILDREN!   \n",
       "3                                                                             I told my boss to fuck off and quit my job all before 8am.   \n",
       "4                                                                                                                               FUCK YEA   \n",
       "\n",
       "                                                                                                                                                                                                                                                                                                      selftext  \\\n",
       "0  A day or two ago a post popped up by a girl claiming she was incredibly ill, bedridden, and that her boyfriend had tampered with her birth control. She claimed she needed an abortion. \\n\\nYou wonderful, helpful people tried to direct her to abortion funds, hotlines, anything that could help. She...   \n",
       "1  I had my daughter at sixteen. I'm now in college a year and a half later and a single dad.\\n\\nLosing freedom was the hardest part for me. I couldn't hang out with my friends, listen to shitty music, sleep a full night, study when I wanted. Shit, I still can't take a shower without Baby invading ...   \n",
       "2                                                                                                                                                                                                                                                                        That is all. Thank you for your time.   \n",
       "3  I’ve been checking my hours religiously. I noticed some missing hours last pay cycle and had them fix it, but was still a little sketched and worried that they might mess up again. My fiancé and I are leaving for Portland in two days and I can’t afford for them to make another mistake. \\n\\nI che...   \n",
       "4                                                                                                                                                                                ITS CURRENTLY 5:31 AM AND I JUST FINISHED MY 14 PAGE RESEARCH PAPER YAAAY AND IM NOT EVEN TIRED WAHOOOO!!!! THE DAY IS MINE!!   \n",
       "\n",
       "    subreddit  is_self  \n",
       "0  offmychest     True  \n",
       "1  offmychest     True  \n",
       "2  offmychest     True  \n",
       "3  offmychest     True  \n",
       "4  offmychest     True  "
      ]
     },
     "execution_count": 1,
     "metadata": {},
     "output_type": "execute_result"
    }
   ],
   "source": [
    "import pandas as pd\n",
    "pd.set_option('display.max_colwidth', 300)\n",
    "url = 'https://raw.githubusercontent.com/labs12-support-group-nlp/DS/master/subreddits_mental.csv'\n",
    "df = pd.read_csv(url)\n",
    "df.head()"
   ]
  },
  {
   "cell_type": "code",
   "execution_count": 2,
   "metadata": {},
   "outputs": [
    {
     "data": {
      "text/plain": [
       "15989"
      ]
     },
     "execution_count": 2,
     "metadata": {},
     "output_type": "execute_result"
    }
   ],
   "source": [
    "len(df)"
   ]
  },
  {
   "cell_type": "code",
   "execution_count": 3,
   "metadata": {},
   "outputs": [
    {
     "data": {
      "text/plain": [
       "\"I saw a sign about giving blood on the way home from work.\\n\\nHas anybody given, or heard of anybody giving, blood while buzzed or drunk?\\n\\nI won't judge. Just curious.\\n\\nThere could be some xx proof blood sitting out there in a blood bank.\\n\\nEdit: Not sure how we made the jump from seeing a sign about giving blood to ME planning on giving blood and people being worried about it.\""
      ]
     },
     "execution_count": 3,
     "metadata": {},
     "output_type": "execute_result"
    }
   ],
   "source": [
    "text = df.loc[1963, 'selftext']\n",
    "text"
   ]
  },
  {
   "cell_type": "code",
   "execution_count": 4,
   "metadata": {},
   "outputs": [
    {
     "data": {
      "text/plain": [
       "\"I saw a sign about giving blood on the way home from work. Has anybody given, or heard of anybody giving, blood while buzzed or drunk? I won't judge. Just curious. There could be some xx proof blood sitting out there in a blood bank. Edit: Not sure how we made the jump from seeing a sign about giving blood to ME planning on giving blood and people being worried about it.\""
      ]
     },
     "execution_count": 4,
     "metadata": {},
     "output_type": "execute_result"
    }
   ],
   "source": [
    "text = text.split()\n",
    "text = ' '.join(text)\n",
    "text"
   ]
  },
  {
   "cell_type": "code",
   "execution_count": 5,
   "metadata": {},
   "outputs": [
    {
     "data": {
      "text/plain": [
<<<<<<< HEAD
       "\"i saw a sign about giving blood on the way home from work. has anybody given, or heard of anybody giving, blood while buzzed or drunk? i won't judge. just curious. there could be some xx proof blood sitting out there in a blood bank. edit: not sure how we made the jump from seeing a sign about giving blood to me planning on giving blood and people being worried about it.\""
=======
       "I saw a sign about giving blood on the way home from work. Has anybody given, or heard of anybody giving, blood while buzzed or drunk? I won't judge. Just curious. There could be some xx proof blood sitting out there in a blood bank. Edit: Not sure how we made the jump from seeing a sign about giving blood to ME planning on giving blood and people being worried about it."
>>>>>>> 5cd7c48d65c31249b923ecf18cd32c9ee98dbcb6
      ]
     },
     "execution_count": 5,
     "metadata": {},
     "output_type": "execute_result"
    }
   ],
   "source": [
<<<<<<< HEAD
    "text = text.lower()\n",
    "text"
=======
    "import spacy\n",
    "# Load English tokenizer, tagger, parser, NER and word vectors\n",
    "nlp = spacy.load(\"en_vectors_web_lg\")\n",
    "doc = nlp(text)\n",
    "doc"
>>>>>>> 5cd7c48d65c31249b923ecf18cd32c9ee98dbcb6
   ]
  },
  {
   "cell_type": "code",
   "execution_count": 6,
   "metadata": {},
   "outputs": [
    {
     "data": {
      "text/plain": [
<<<<<<< HEAD
       "'i saw a sign about giving blood on the way home from work has anybody given or heard of anybody giving blood while buzzed or drunk i wont judge just curious there could be some xx proof blood sitting out there in a blood bank edit not sure how we made the jump from seeing a sign about giving blood to me planning on giving blood and people being worried about it'"
=======
       "'see sign about give blood on the way home from work Has anybody give or hear of anybody give blood while buzz or drink will not judge Just curious There can be some xx proof blood sit out there in blood bank Edit Not sure how we make the jump from see sign about give blood to ME plan on give blood and people be worry about it'"
>>>>>>> 5cd7c48d65c31249b923ecf18cd32c9ee98dbcb6
      ]
     },
     "execution_count": 6,
     "metadata": {},
     "output_type": "execute_result"
    }
   ],
   "source": [
<<<<<<< HEAD
    "import re\n",
    "text = re.sub('[^\\w\\s]', '', text)\n",
=======
    "text = ' '.join([token.lemma_ for token in doc if len(token.lemma_) > 1])\n",
>>>>>>> 5cd7c48d65c31249b923ecf18cd32c9ee98dbcb6
    "text"
   ]
  },
  {
   "cell_type": "code",
   "execution_count": 7,
   "metadata": {},
   "outputs": [
    {
     "data": {
      "text/plain": [
<<<<<<< HEAD
       "'saw sign giving blood way home work anybody given heard anybody giving blood buzzed drunk wont judge curious could xx proof blood sitting blood bank edit sure made jump seeing sign giving blood planning giving blood people worried'"
=======
       "'see sign about give blood on the way home from work has anybody give or hear of anybody give blood while buzz or drink will not judge just curious there can be some xx proof blood sit out there in blood bank edit not sure how we make the jump from see sign about give blood to me plan on give blood and people be worry about it'"
>>>>>>> 5cd7c48d65c31249b923ecf18cd32c9ee98dbcb6
      ]
     },
     "execution_count": 7,
     "metadata": {},
     "output_type": "execute_result"
    }
   ],
   "source": [
<<<<<<< HEAD
    "from nltk.corpus import stopwords\n",
    "stop = stopwords.words('english')\n",
    "text = [word for word in text.split() if word not in stop]\n",
    "text = ' '.join(text)\n",
=======
    "text = text.lower()\n",
>>>>>>> 5cd7c48d65c31249b923ecf18cd32c9ee98dbcb6
    "text"
   ]
  },
  {
   "cell_type": "code",
   "execution_count": 8,
   "metadata": {},
   "outputs": [],
   "source": [
<<<<<<< HEAD
    "import string\n",
    "def clean_doc(doc):\n",
    "    # split into tokens by white space\n",
    "    tokens = doc.split()\n",
    "    # lower case\n",
    "    tokens = [word.lower() for word in tokens]\n",
    "    # remove punctuation from each token\n",
    "    table = str.maketrans('', '', string.punctuation)\n",
    "    tokens = [w.translate(table) for w in tokens]\n",
    "    # remove remaining tokens that are not alphabetic\n",
    "    tokens = [word for word in tokens if word.isalpha()]\n",
    "    # remove stop words\n",
    "    stop = stopwords.words('english')\n",
    "    tokens = [word for word in tokens if word not in stop]\n",
    "    tokens = [word for word in tokens if len(word) > 1]\n",
    "    return ' '.join(tokens)"
=======
    "def clean(text):\n",
    "    # split text by white space\n",
    "    text = text.split()\n",
    "    text = ' '.join(text)\n",
    "    # lower case\n",
    "    text = text.lower()\n",
    "    # lemmatize\n",
    "    nlp = spacy.load(\"en_vectors_web_lg\")\n",
    "    text = nlp(text)\n",
    "    text = [token.lemma_ for token in text if len(token.lemma_) > 1]\n",
    "    return ' '.join(text)"
>>>>>>> 5cd7c48d65c31249b923ecf18cd32c9ee98dbcb6
   ]
  },
  {
   "cell_type": "code",
<<<<<<< HEAD
   "execution_count": 9,
   "metadata": {},
   "outputs": [
    {
     "data": {
      "text/html": [
       "<div>\n",
       "<style scoped>\n",
       "    .dataframe tbody tr th:only-of-type {\n",
       "        vertical-align: middle;\n",
       "    }\n",
       "\n",
       "    .dataframe tbody tr th {\n",
       "        vertical-align: top;\n",
       "    }\n",
       "\n",
       "    .dataframe thead th {\n",
       "        text-align: right;\n",
       "    }\n",
       "</style>\n",
       "<table border=\"1\" class=\"dataframe\">\n",
       "  <thead>\n",
       "    <tr style=\"text-align: right;\">\n",
       "      <th></th>\n",
       "      <th>title</th>\n",
       "      <th>selftext</th>\n",
       "      <th>subreddit</th>\n",
       "      <th>is_self</th>\n",
       "    </tr>\n",
       "  </thead>\n",
       "  <tbody>\n",
       "    <tr>\n",
       "      <th>0</th>\n",
       "      <td>Please be wary of people asking for donations. We have a scammer that makes their rounds every so often and she's duped a few of you.</td>\n",
       "      <td>day two ago post popped girl claiming incredibly ill bedridden boyfriend tampered birth control claimed needed abortion wonderful helpful people tried direct abortion funds hotlines anything could help said wasnt eligible people started offering money asked set gofundme sweet gave money got scam...</td>\n",
       "      <td>offmychest</td>\n",
       "      <td>True</td>\n",
       "    </tr>\n",
       "    <tr>\n",
       "      <th>1</th>\n",
       "      <td>I'm finally okay with what I lost.</td>\n",
       "      <td>daughter sixteen im college year half later single dad losing freedom hardest part couldnt hang friends listen shitty music sleep full night study wanted shit still cant take shower without baby invading tub sleeps bed every night personal space anymore cant even take bite without trying snatch ...</td>\n",
       "      <td>offmychest</td>\n",
       "      <td>True</td>\n",
       "    </tr>\n",
       "    <tr>\n",
       "      <th>2</th>\n",
       "      <td>VACCINES ARE GOOD! THEY SAVE LIVES! PLEASE GET THEM FOR YOU AND YOUR CHILDREN!</td>\n",
       "      <td>thank time</td>\n",
       "      <td>offmychest</td>\n",
       "      <td>True</td>\n",
       "    </tr>\n",
       "    <tr>\n",
       "      <th>3</th>\n",
       "      <td>I told my boss to fuck off and quit my job all before 8am.</td>\n",
       "      <td>checking hours religiously noticed missing hours last pay cycle fix still little sketched worried might mess fiancé leaving portland two days afford make another mistake checked hours thursday pay cycle ended everything looked okay really felt like worked many hours saw tired working much intern...</td>\n",
       "      <td>offmychest</td>\n",
       "      <td>True</td>\n",
       "    </tr>\n",
       "    <tr>\n",
       "      <th>4</th>\n",
       "      <td>FUCK YEA</td>\n",
       "      <td>currently finished page research paper yaaay im even tired wahoooo day mine</td>\n",
       "      <td>offmychest</td>\n",
       "      <td>True</td>\n",
       "    </tr>\n",
       "  </tbody>\n",
       "</table>\n",
       "</div>"
      ],
      "text/plain": [
       "                                                                                                                                   title  \\\n",
       "0  Please be wary of people asking for donations. We have a scammer that makes their rounds every so often and she's duped a few of you.   \n",
       "1                                                                                                     I'm finally okay with what I lost.   \n",
       "2                                                         VACCINES ARE GOOD! THEY SAVE LIVES! PLEASE GET THEM FOR YOU AND YOUR CHILDREN!   \n",
       "3                                                                             I told my boss to fuck off and quit my job all before 8am.   \n",
       "4                                                                                                                               FUCK YEA   \n",
       "\n",
       "                                                                                                                                                                                                                                                                                                      selftext  \\\n",
       "0  day two ago post popped girl claiming incredibly ill bedridden boyfriend tampered birth control claimed needed abortion wonderful helpful people tried direct abortion funds hotlines anything could help said wasnt eligible people started offering money asked set gofundme sweet gave money got scam...   \n",
       "1  daughter sixteen im college year half later single dad losing freedom hardest part couldnt hang friends listen shitty music sleep full night study wanted shit still cant take shower without baby invading tub sleeps bed every night personal space anymore cant even take bite without trying snatch ...   \n",
       "2                                                                                                                                                                                                                                                                                                   thank time   \n",
       "3  checking hours religiously noticed missing hours last pay cycle fix still little sketched worried might mess fiancé leaving portland two days afford make another mistake checked hours thursday pay cycle ended everything looked okay really felt like worked many hours saw tired working much intern...   \n",
       "4                                                                                                                                                                                                                                  currently finished page research paper yaaay im even tired wahoooo day mine   \n",
       "\n",
       "    subreddit  is_self  \n",
       "0  offmychest     True  \n",
       "1  offmychest     True  \n",
       "2  offmychest     True  \n",
       "3  offmychest     True  \n",
       "4  offmychest     True  "
      ]
     },
     "execution_count": 9,
     "metadata": {},
     "output_type": "execute_result"
    }
   ],
   "source": [
    "df.selftext = df.selftext.astype(str).apply(clean_doc)\n",
    "df.head()"
=======
   "execution_count": null,
   "metadata": {},
   "outputs": [],
   "source": [
    "# Used the code below to create a csv with cleaned text\n",
    "# df.selftext = df.selftext.astype(str).apply(clean)\n",
    "# df.head()"
>>>>>>> 5cd7c48d65c31249b923ecf18cd32c9ee98dbcb6
   ]
  },
  {
   "cell_type": "code",
   "execution_count": 10,
   "metadata": {},
   "outputs": [
    {
     "data": {
      "text/plain": [
       "Anxiety                1000\n",
       "alcoholism              999\n",
       "leaves                  999\n",
       "AlAnon                  999\n",
       "Anger                   998\n",
       "alcoholicsanonymous     998\n",
       "Antipsychiatry          995\n",
       "addiction               992\n",
       "Anxietyhelp             992\n",
       "Agoraphobia             987\n",
       "Advice                  951\n",
       "ADHD                    950\n",
       "offmychest              942\n",
       "rapecounseling          923\n",
       "cripplingalcoholism     796\n",
       "ADD                     336\n",
       "MenGetRapedToo          277\n",
       "affirmations            247\n",
       "anxietysuccess          241\n",
       "afterthesilence         207\n",
       "Health                   64\n",
       "Disorder                 60\n",
       "anxietysupporters        36\n",
       "Name: subreddit, dtype: int64"
      ]
     },
     "execution_count": 10,
     "metadata": {},
     "output_type": "execute_result"
    }
   ],
   "source": [
    "df.subreddit.value_counts()"
   ]
  },
  {
   "cell_type": "code",
<<<<<<< HEAD
   "execution_count": 11,
   "metadata": {},
   "outputs": [
    {
     "data": {
      "text/plain": [
       "'seriously'"
      ]
     },
     "execution_count": 11,
     "metadata": {},
     "output_type": "execute_result"
    }
   ],
   "source": [
    "from nltk.stem.wordnet import WordNetLemmatizer\n",
    "lemmatizer = WordNetLemmatizer()\n",
    "lemmatizer.lemmatize('seriously')"
   ]
  },
  {
   "cell_type": "code",
=======
>>>>>>> 5cd7c48d65c31249b923ecf18cd32c9ee98dbcb6
   "execution_count": null,
   "metadata": {},
   "outputs": [],
   "source": []
  }
 ],
 "metadata": {
  "kernelspec": {
   "display_name": "Python 3",
   "language": "python",
   "name": "python3"
  },
  "language_info": {
   "codemirror_mode": {
    "name": "ipython",
    "version": 3
   },
   "file_extension": ".py",
   "mimetype": "text/x-python",
   "name": "python",
   "nbconvert_exporter": "python",
   "pygments_lexer": "ipython3",
   "version": "3.6.7"
  }
 },
 "nbformat": 4,
 "nbformat_minor": 2
}
