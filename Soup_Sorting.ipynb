{
 "cells": [
  {
   "cell_type": "code",
   "execution_count": 1,
   "metadata": {},
   "outputs": [],
   "source": [
    "import pickle\n",
    "import pandas as pd\n",
    "from bs4 import BeautifulSoup\n",
    "from urllib.request import Request, urlopen\n",
    "import re\n",
    "import time\n",
    "import itertools"
   ]
  },
  {
   "cell_type": "code",
   "execution_count": 95,
   "metadata": {},
   "outputs": [
    {
     "data": {
      "text/plain": [
       "1653"
      ]
     },
     "execution_count": 95,
     "metadata": {},
     "output_type": "execute_result"
    }
   ],
   "source": [
    "group_soup = pickle.load(open('group_soup.pkl', 'br'))\n",
    "str(group_soup[20]).count('/')"
   ]
  },
  {
   "cell_type": "code",
   "execution_count": 85,
   "metadata": {},
   "outputs": [
    {
     "data": {
      "text/plain": [
       "<html><body><p>{\"activity_nids\":[],\"themed_output\":[],\"interval\":180}</p></body></html>"
      ]
     },
     "execution_count": 85,
     "metadata": {},
     "output_type": "execute_result"
    }
   ],
   "source": [
    "group_soup[1000]"
   ]
  },
  {
   "cell_type": "code",
   "execution_count": 20,
   "metadata": {},
   "outputs": [
    {
     "data": {
      "text/plain": [
       "['621322',\n",
       " '620965',\n",
       " '618672',\n",
       " '603678',\n",
       " '613714',\n",
       " '617143',\n",
       " '612651',\n",
       " '610080',\n",
       " '611585',\n",
       " '605914',\n",
       " '609940',\n",
       " '608109',\n",
       " '609819',\n",
       " '608933',\n",
       " '606938',\n",
       " '603591',\n",
       " '607847',\n",
       " '607418',\n",
       " '604211',\n",
       " '600145',\n",
       " '604976',\n",
       " '604664',\n",
       " '603858',\n",
       " '596943',\n",
       " '602568',\n",
       " '592049',\n",
       " '601434',\n",
       " '602225',\n",
       " '601966',\n",
       " '597562',\n",
       " '601404',\n",
       " '598587',\n",
       " '598585',\n",
       " '598520',\n",
       " '598505',\n",
       " '597554',\n",
       " '591781',\n",
       " '597352',\n",
       " '596219',\n",
       " '595102',\n",
       " '594520',\n",
       " '594634',\n",
       " '594296',\n",
       " '594172',\n",
       " '593261',\n",
       " '591542',\n",
       " '591472',\n",
       " '591278',\n",
       " '590775',\n",
       " '591177',\n",
       " '590849',\n",
       " '590716',\n",
       " '588869',\n",
       " '588218',\n",
       " '587284',\n",
       " '586885',\n",
       " '587313',\n",
       " '584926',\n",
       " '578404',\n",
       " '584229']"
      ]
     },
     "execution_count": 20,
     "metadata": {},
     "output_type": "execute_result"
    }
   ],
   "source": [
    "post_num = re.split(r'^(.+?)}', str(group_soup[0]))\n",
    "gnum = re.findall(r\"\\d+\", str(post_num[1]))\n",
    "grp_num = gnum[1::2]\n",
    "grp_num\n"
   ]
  },
  {
   "cell_type": "code",
   "execution_count": 31,
   "metadata": {},
   "outputs": [
    {
     "data": {
      "text/plain": [
       "['\":[\"\\\\u003Cdiv id=\\\\u0027activity-item-621322\\\\u0027 nid=\\\\u0027621322\\\\u0027 time=\\\\u00271555941807\\\\u0027  class=\\\\u0027activity-item-wrapper\\\\u0027 \\\\u003E\\\\n  \\\\u003Ca href=\\\\u0027https:\\\\/\\\\/www.supportgroups.com\\\\/friends-and-family-of-bpd\\\\/my-15-year-old-revealed-to-me-10-weeks-ago\\\\u0027\\\\u003E\\\\n\\\\t\\\\u003C!-- user image, name, points, date --\\\\u003E\\\\n\\\\t\\\\u003Cdiv class=\\\\u0027activity-item-userinfo\\\\u0027\\\\u003E\\\\n    \\\\t\\\\u003Cimg src=\\\\u0022https:\\\\/\\\\/www.supportgroups.com\\\\/sites\\\\/all\\\\/themes\\\\/skeletonsub\\\\/images\\\\/plus-SG-50.png\\\\u0022\\\\/\\\\u003E\\\\t    \\\\u003Ch5\\\\u003E\\\\n\\\\t\\\\t\\\\t\\\\u003Cspan id=\\\\u0027user-profile-container-621322\\\\u0027 nid=\\\\u0027621322\\\\u0027 class=\\\\u0027user-profile-container\\\\u0027\\\\u003E\\\\n  \\\\t        \\\\u003Cspan class=\\\\u0022username\\\\u0022\\\\u003Emomincrisis \\\\u003C\\\\/span\\\\u003E\\\\n          \\\\u003C\\\\/span\\\\u003E\\\\n\\\\t    \\\\u003C\\\\/h5\\\\u003E\\\\n    \\\\t\\\\u003Cdiv class=\\\\u0027when-where\\\\u0027\\\\u003E\\\\n      \\\\t\\\\tApr 19\\\\u003Cspan class=\\\\u0027in-group\\\\u0027\\\\u003E in Friends and Family of BPD\\\\u003C\\\\/span\\\\u003E\\\\n\\\\t    \\\\u003C\\\\/div\\\\u003E\\\\n\\\\t\\\\u003C\\\\/div\\\\u003E\\\\n\\\\t\\\\u003Cdiv id=\\\\u0027activity-item-body-621322\\\\u0027 class=\\\\u0027activity-item-body\\\\u0027\\\\u003E\\\\n        \\\\u003Cspan id=\\\\u0027activity-item-body-text-621322\\\\u0027 class=\\\\u0027activity-item-body-text normaltextlength\\\\u0027\\\\u003E\\\\n  my 15 year old revealed to me 10 weeks ago that her dad (my loving wonderful husband of 22 years) has been sexually abusing her! my world has fallen apart but after many weeks of therapy and intensive investigations it has become very clear that my d...\\\\u003C\\\\/span\\\\u003E\\\\n\\\\t\\\\u003C\\\\/div\\\\u003E\\\\n\\\\t\\\\u003Cdiv id=\\\\u0027activity-item-info-621322\\\\u0027 class=\\\\u0027activity-item-info\\\\u0027\\\\u003E\\\\n        \\\\u003Cspan class=\\\\u0022heart\\\\u0022\\\\u003E \\\\u0026hearts; \\\\u003C\\\\/span\\\\u003E\\\\n\\\\t    \\\\u003Cspan id=\\\\u0027activity-item-info-comments621322\\\\u0027 class=\\\\u0027activity-item-info-comments comments\\\\u0027 title=\\\\u0022Number of comments\\\\u0022\\\\u003E\\\\u0026nbsp;4\\\\u003C\\\\/span\\\\u003E\\\\n\\\\t\\\\u003C\\\\/div\\\\u003E\\\\n\\\\n  \\\\u003C\\\\/a\\\\u003E\\\\n\\\\u003C\\\\/div\\\\u003E\"],\"nid_']"
      ]
     },
     "execution_count": 31,
     "metadata": {},
     "output_type": "execute_result"
    }
   ],
   "source": [
    "a = '621322'\n",
    "b = '620965'\n",
    "result = re.findall(a + r'(.*?)' + b, str(post_num[2]))\n",
    "result"
   ]
  },
  {
   "cell_type": "code",
   "execution_count": 52,
   "metadata": {},
   "outputs": [],
   "source": [
    "def post2df(soup = group_soup[1]):\n",
    "    post_num = re.split(r'^(.+?)}', str(soup))\n",
    "    gnum = re.findall(r\"\\d+\", str(post_num[1]))\n",
    "    grp_num = gnum[1::2]\n",
    "    post_number = []\n",
    "    post_soup = []\n",
    "    for i in range (0,(len(grp_num)-1)):\n",
    "        post_number.append (grp_num[i])\n",
    "        post = re.findall (grp_num[i] + r'(.*?)' + grp_num[i+1], str(post_num[2]))\n",
    "        post_soup.append (post)\n",
    "    return pd.DataFrame({'post_number': post_number, 'post_soup' : post_soup})\n"
   ]
  },
  {
   "cell_type": "code",
   "execution_count": 81,
   "metadata": {},
   "outputs": [
    {
     "data": {
      "text/html": [
       "<div>\n",
       "<style scoped>\n",
       "    .dataframe tbody tr th:only-of-type {\n",
       "        vertical-align: middle;\n",
       "    }\n",
       "\n",
       "    .dataframe tbody tr th {\n",
       "        vertical-align: top;\n",
       "    }\n",
       "\n",
       "    .dataframe thead th {\n",
       "        text-align: right;\n",
       "    }\n",
       "</style>\n",
       "<table border=\"1\" class=\"dataframe\">\n",
       "  <thead>\n",
       "    <tr style=\"text-align: right;\">\n",
       "      <th></th>\n",
       "      <th>post_number</th>\n",
       "      <th>post_soup</th>\n",
       "    </tr>\n",
       "  </thead>\n",
       "  <tbody>\n",
       "  </tbody>\n",
       "</table>\n",
       "</div>"
      ],
      "text/plain": [
       "Empty DataFrame\n",
       "Columns: [post_number, post_soup]\n",
       "Index: []"
      ]
     },
     "execution_count": 81,
     "metadata": {},
     "output_type": "execute_result"
    }
   ],
   "source": [
    "post2df(soup = group_soup[2222])"
   ]
  },
  {
   "cell_type": "code",
   "execution_count": 70,
   "metadata": {},
   "outputs": [],
   "source": [
    "def all_post_soup(all_soup = group_soup):\n",
    "    posts_df = []\n",
    "    for i in range (0, 60):\n",
    "        posts_df.append(post2df(soup = group_soup[i]))\n",
    "    return posts_df\n",
    "        \n",
    "    "
   ]
  },
  {
   "cell_type": "code",
   "execution_count": 71,
   "metadata": {},
   "outputs": [
    {
     "ename": "IndexError",
     "evalue": "list index out of range",
     "output_type": "error",
     "traceback": [
      "\u001b[0;31m---------------------------------------------------------------------------\u001b[0m",
      "\u001b[0;31mIndexError\u001b[0m                                Traceback (most recent call last)",
      "\u001b[0;32m<ipython-input-71-f5f0d74eaa4d>\u001b[0m in \u001b[0;36m<module>\u001b[0;34m()\u001b[0m\n\u001b[0;32m----> 1\u001b[0;31m \u001b[0mposts_df\u001b[0m \u001b[0;34m=\u001b[0m \u001b[0mall_post_soup\u001b[0m\u001b[0;34m(\u001b[0m\u001b[0mall_soup\u001b[0m \u001b[0;34m=\u001b[0m \u001b[0mgroup_soup\u001b[0m\u001b[0;34m)\u001b[0m\u001b[0;34m\u001b[0m\u001b[0m\n\u001b[0m",
      "\u001b[0;32m<ipython-input-70-a0bf4a55915c>\u001b[0m in \u001b[0;36mall_post_soup\u001b[0;34m(all_soup)\u001b[0m\n\u001b[1;32m      2\u001b[0m     \u001b[0mposts_df\u001b[0m \u001b[0;34m=\u001b[0m \u001b[0;34m[\u001b[0m\u001b[0;34m]\u001b[0m\u001b[0;34m\u001b[0m\u001b[0m\n\u001b[1;32m      3\u001b[0m     \u001b[0;32mfor\u001b[0m \u001b[0mi\u001b[0m \u001b[0;32min\u001b[0m \u001b[0mrange\u001b[0m \u001b[0;34m(\u001b[0m\u001b[0;36m0\u001b[0m\u001b[0;34m,\u001b[0m \u001b[0;36m60\u001b[0m\u001b[0;34m)\u001b[0m\u001b[0;34m:\u001b[0m\u001b[0;34m\u001b[0m\u001b[0m\n\u001b[0;32m----> 4\u001b[0;31m         \u001b[0mposts_df\u001b[0m\u001b[0;34m.\u001b[0m\u001b[0mappend\u001b[0m\u001b[0;34m(\u001b[0m\u001b[0mpost2df\u001b[0m\u001b[0;34m(\u001b[0m\u001b[0msoup\u001b[0m \u001b[0;34m=\u001b[0m \u001b[0mgroup_soup\u001b[0m\u001b[0;34m[\u001b[0m\u001b[0mi\u001b[0m\u001b[0;34m]\u001b[0m\u001b[0;34m)\u001b[0m\u001b[0;34m)\u001b[0m\u001b[0;34m\u001b[0m\u001b[0m\n\u001b[0m\u001b[1;32m      5\u001b[0m     \u001b[0;32mreturn\u001b[0m \u001b[0mposts_df\u001b[0m\u001b[0;34m\u001b[0m\u001b[0m\n\u001b[1;32m      6\u001b[0m \u001b[0;34m\u001b[0m\u001b[0m\n",
      "\u001b[0;32m<ipython-input-52-b124febfe2d2>\u001b[0m in \u001b[0;36mpost2df\u001b[0;34m(soup)\u001b[0m\n\u001b[1;32m      1\u001b[0m \u001b[0;32mdef\u001b[0m \u001b[0mpost2df\u001b[0m\u001b[0;34m(\u001b[0m\u001b[0msoup\u001b[0m \u001b[0;34m=\u001b[0m \u001b[0mgroup_soup\u001b[0m\u001b[0;34m[\u001b[0m\u001b[0;36m1\u001b[0m\u001b[0;34m]\u001b[0m\u001b[0;34m)\u001b[0m\u001b[0;34m:\u001b[0m\u001b[0;34m\u001b[0m\u001b[0m\n\u001b[1;32m      2\u001b[0m     \u001b[0mpost_num\u001b[0m \u001b[0;34m=\u001b[0m \u001b[0mre\u001b[0m\u001b[0;34m.\u001b[0m\u001b[0msplit\u001b[0m\u001b[0;34m(\u001b[0m\u001b[0;34mr'^(.+?)}'\u001b[0m\u001b[0;34m,\u001b[0m \u001b[0mstr\u001b[0m\u001b[0;34m(\u001b[0m\u001b[0msoup\u001b[0m\u001b[0;34m)\u001b[0m\u001b[0;34m)\u001b[0m\u001b[0;34m\u001b[0m\u001b[0m\n\u001b[0;32m----> 3\u001b[0;31m     \u001b[0mgnum\u001b[0m \u001b[0;34m=\u001b[0m \u001b[0mre\u001b[0m\u001b[0;34m.\u001b[0m\u001b[0mfindall\u001b[0m\u001b[0;34m(\u001b[0m\u001b[0;34mr\"\\d+\"\u001b[0m\u001b[0;34m,\u001b[0m \u001b[0mstr\u001b[0m\u001b[0;34m(\u001b[0m\u001b[0mpost_num\u001b[0m\u001b[0;34m[\u001b[0m\u001b[0;36m1\u001b[0m\u001b[0;34m]\u001b[0m\u001b[0;34m)\u001b[0m\u001b[0;34m)\u001b[0m\u001b[0;34m\u001b[0m\u001b[0m\n\u001b[0m\u001b[1;32m      4\u001b[0m     \u001b[0mgrp_num\u001b[0m \u001b[0;34m=\u001b[0m \u001b[0mgnum\u001b[0m\u001b[0;34m[\u001b[0m\u001b[0;36m1\u001b[0m\u001b[0;34m:\u001b[0m\u001b[0;34m:\u001b[0m\u001b[0;36m2\u001b[0m\u001b[0;34m]\u001b[0m\u001b[0;34m\u001b[0m\u001b[0m\n\u001b[1;32m      5\u001b[0m     \u001b[0mpost_number\u001b[0m \u001b[0;34m=\u001b[0m \u001b[0;34m[\u001b[0m\u001b[0;34m]\u001b[0m\u001b[0;34m\u001b[0m\u001b[0m\n",
      "\u001b[0;31mIndexError\u001b[0m: list index out of range"
     ]
    }
   ],
   "source": [
    "posts_df = all_post_soup(all_soup = group_soup)"
   ]
  },
  {
   "cell_type": "code",
   "execution_count": 67,
   "metadata": {},
   "outputs": [
    {
     "data": {
      "text/plain": [
       "[   post_number                                          post_soup\n",
       " 0       621322  [\":[\"\\u003Cdiv id=\\u0027activity-item-621322\\u...\n",
       " 1       620965  [\":[\"\\u003Cdiv id=\\u0027activity-item-620965\\u...\n",
       " 2       618672  [\":[\"\\u003Cdiv id=\\u0027activity-item-618672\\u...\n",
       " 3       603678  [\":[\"\\u003Cdiv id=\\u0027activity-item-603678\\u...\n",
       " 4       613714  [\":[\"\\u003Cdiv id=\\u0027activity-item-613714\\u...\n",
       " 5       617143  [\":[\"\\u003Cdiv id=\\u0027activity-item-617143\\u...\n",
       " 6       612651  [\":[\"\\u003Cdiv id=\\u0027activity-item-612651\\u...\n",
       " 7       610080  [\":[\"\\u003Cdiv id=\\u0027activity-item-610080\\u...\n",
       " 8       611585  [\":[\"\\u003Cdiv id=\\u0027activity-item-611585\\u...\n",
       " 9       605914  [\":[\"\\u003Cdiv id=\\u0027activity-item-605914\\u...\n",
       " 10      609940  [\":[\"\\u003Cdiv id=\\u0027activity-item-609940\\u...\n",
       " 11      608109  [\":[\"\\u003Cdiv id=\\u0027activity-item-608109\\u...\n",
       " 12      609819  [\":[\"\\u003Cdiv id=\\u0027activity-item-609819\\u...\n",
       " 13      608933  [\":[\"\\u003Cdiv id=\\u0027activity-item-608933\\u...\n",
       " 14      606938  [\":[\"\\u003Cdiv id=\\u0027activity-item-606938\\u...\n",
       " 15      603591  [\":[\"\\u003Cdiv id=\\u0027activity-item-603591\\u...\n",
       " 16      607847  [\":[\"\\u003Cdiv id=\\u0027activity-item-607847\\u...\n",
       " 17      607418  [\":[\"\\u003Cdiv id=\\u0027activity-item-607418\\u...\n",
       " 18      604211  [\":[\"\\u003Cdiv id=\\u0027activity-item-604211\\u...\n",
       " 19      600145  [\":[\"\\u003Cdiv id=\\u0027activity-item-600145\\u...\n",
       " 20      604976  [\":[\"\\u003Cdiv id=\\u0027activity-item-604976\\u...\n",
       " 21      604664  [\":[\"\\u003Cdiv id=\\u0027activity-item-604664\\u...\n",
       " 22      603858  [\":[\"\\u003Cdiv id=\\u0027activity-item-603858\\u...\n",
       " 23      596943  [\":[\"\\u003Cdiv id=\\u0027activity-item-596943\\u...\n",
       " 24      602568  [\":[\"\\u003Cdiv id=\\u0027activity-item-602568\\u...\n",
       " 25      592049  [\":[\"\\u003Cdiv id=\\u0027activity-item-592049\\u...\n",
       " 26      601434  [\":[\"\\u003Cdiv id=\\u0027activity-item-601434\\u...\n",
       " 27      602225  [\":[\"\\u003Cdiv id=\\u0027activity-item-602225\\u...\n",
       " 28      601966  [\":[\"\\u003Cdiv id=\\u0027activity-item-601966\\u...\n",
       " 29      597562  [\":[\"\\u003Cdiv id=\\u0027activity-item-597562\\u...\n",
       " 30      601404  [\":[\"\\u003Cdiv id=\\u0027activity-item-601404\\u...\n",
       " 31      598587  [\":[\"\\u003Cdiv id=\\u0027activity-item-598587\\u...\n",
       " 32      598585  [\":[\"\\u003Cdiv id=\\u0027activity-item-598585\\u...\n",
       " 33      598520  [\":[\"\\u003Cdiv id=\\u0027activity-item-598520\\u...\n",
       " 34      598505  [\":[\"\\u003Cdiv id=\\u0027activity-item-598505\\u...\n",
       " 35      597554  [\":[\"\\u003Cdiv id=\\u0027activity-item-597554\\u...\n",
       " 36      591781  [\":[\"\\u003Cdiv id=\\u0027activity-item-591781\\u...\n",
       " 37      597352  [\":[\"\\u003Cdiv id=\\u0027activity-item-597352\\u...\n",
       " 38      596219  [\":[\"\\u003Cdiv id=\\u0027activity-item-596219\\u...\n",
       " 39      595102  [\":[\"\\u003Cdiv id=\\u0027activity-item-595102\\u...\n",
       " 40      594520  [\":[\"\\u003Cdiv id=\\u0027activity-item-594520\\u...\n",
       " 41      594634  [\":[\"\\u003Cdiv id=\\u0027activity-item-594634\\u...\n",
       " 42      594296  [\":[\"\\u003Cdiv id=\\u0027activity-item-594296\\u...\n",
       " 43      594172  [\":[\"\\u003Cdiv id=\\u0027activity-item-594172\\u...\n",
       " 44      593261  [\":[\"\\u003Cdiv id=\\u0027activity-item-593261\\u...\n",
       " 45      591542  [\":[\"\\u003Cdiv id=\\u0027activity-item-591542\\u...\n",
       " 46      591472  [\":[\"\\u003Cdiv id=\\u0027activity-item-591472\\u...\n",
       " 47      591278  [\":[\"\\u003Cdiv id=\\u0027activity-item-591278\\u...\n",
       " 48      590775  [\":[\"\\u003Cdiv id=\\u0027activity-item-590775\\u...\n",
       " 49      591177  [\":[\"\\u003Cdiv id=\\u0027activity-item-591177\\u...\n",
       " 50      590849  [\":[\"\\u003Cdiv id=\\u0027activity-item-590849\\u...\n",
       " 51      590716  [\":[\"\\u003Cdiv id=\\u0027activity-item-590716\\u...\n",
       " 52      588869  [\":[\"\\u003Cdiv id=\\u0027activity-item-588869\\u...\n",
       " 53      588218  [\":[\"\\u003Cdiv id=\\u0027activity-item-588218\\u...\n",
       " 54      587284  [\":[\"\\u003Cdiv id=\\u0027activity-item-587284\\u...\n",
       " 55      586885  [\":[\"\\u003Cdiv id=\\u0027activity-item-586885\\u...\n",
       " 56      587313  [\":[\"\\u003Cdiv id=\\u0027activity-item-587313\\u...\n",
       " 57      584926  [\":[\"\\u003Cdiv id=\\u0027activity-item-584926\\u...\n",
       " 58      578404  [\":[\"\\u003Cdiv id=\\u0027activity-item-578404\\u...,\n",
       "    post_number                                          post_soup\n",
       " 0       621059  [\":[\"\\u003Cdiv id=\\u0027activity-item-621059\\u...\n",
       " 1       620807  [\":[\"\\u003Cdiv id=\\u0027activity-item-620807\\u...\n",
       " 2       620425  [\":[\"\\u003Cdiv id=\\u0027activity-item-620425\\u...\n",
       " 3       619438  [\":[\"\\u003Cdiv id=\\u0027activity-item-619438\\u...\n",
       " 4       619437  [\":[\"\\u003Cdiv id=\\u0027activity-item-619437\\u...\n",
       " 5       619289  [\":[\"\\u003Cdiv id=\\u0027activity-item-619289\\u...\n",
       " 6       615778  [\":[\"\\u003Cdiv id=\\u0027activity-item-615778\\u...\n",
       " 7       615392  [\":[\"\\u003Cdiv id=\\u0027activity-item-615392\\u...\n",
       " 8       612685  [\":[\"\\u003Cdiv id=\\u0027activity-item-612685\\u...\n",
       " 9       611828  [\":[\"\\u003Cdiv id=\\u0027activity-item-611828\\u...\n",
       " 10      610934  [\":[\"\\u003Cdiv id=\\u0027activity-item-610934\\u...\n",
       " 11      607083  [\":[\"\\u003Cdiv id=\\u0027activity-item-607083\\u...\n",
       " 12      603595  [\":[\"\\u003Cdiv id=\\u0027activity-item-603595\\u...\n",
       " 13      602606  [\":[\"\\u003Cdiv id=\\u0027activity-item-602606\\u...\n",
       " 14      597056  [\":[\"\\u003Cdiv id=\\u0027activity-item-597056\\u...\n",
       " 15      599310  [\":[\"\\u003Cdiv id=\\u0027activity-item-599310\\u...\n",
       " 16      598405  [\":[\"\\u003Cdiv id=\\u0027activity-item-598405\\u...\n",
       " 17      596901  [\":[\"\\u003Cdiv id=\\u0027activity-item-596901\\u...\n",
       " 18      595141  [\":[\"\\u003Cdiv id=\\u0027activity-item-595141\\u...\n",
       " 19      595751  [\":[\"\\u003Cdiv id=\\u0027activity-item-595751\\u...\n",
       " 20      595053  [\":[\"\\u003Cdiv id=\\u0027activity-item-595053\\u...\n",
       " 21      593320  [\":[\"\\u003Cdiv id=\\u0027activity-item-593320\\u...\n",
       " 22      592845  [\":[\"\\u003Cdiv id=\\u0027activity-item-592845\\u...\n",
       " 23      591104  [\":[\"\\u003Cdiv id=\\u0027activity-item-591104\\u...\n",
       " 24      589159  [\":[\"\\u003Cdiv id=\\u0027activity-item-589159\\u...\n",
       " 25      586802  [\":[\"\\u003Cdiv id=\\u0027activity-item-586802\\u...\n",
       " 26      576220  [\":[\"\\u003Cdiv id=\\u0027activity-item-576220\\u...\n",
       " 27      546219  [\":[\"\\u003Cdiv id=\\u0027activity-item-546219\\u...\n",
       " 28      582747  [\":[\"\\u003Cdiv id=\\u0027activity-item-582747\\u...\n",
       " 29      576978  [\":[\"\\u003Cdiv id=\\u0027activity-item-576978\\u...\n",
       " 30      578461  [\":[\"\\u003Cdiv id=\\u0027activity-item-578461\\u...\n",
       " 31      568495  [\":[\"\\u003Cdiv id=\\u0027activity-item-568495\\u...\n",
       " 32      553667  [\":[\"\\u003Cdiv id=\\u0027activity-item-553667\\u...\n",
       " 33      560607  [\":[\"\\u003Cdiv id=\\u0027activity-item-560607\\u...\n",
       " 34      566853  [\":[\"\\u003Cdiv id=\\u0027activity-item-566853\\u...\n",
       " 35      562958  [\":[\"\\u003Cdiv id=\\u0027activity-item-562958\\u...\n",
       " 36      565187  [\":[\"\\u003Cdiv id=\\u0027activity-item-565187\\u...\n",
       " 37      565096  [\":[\"\\u003Cdiv id=\\u0027activity-item-565096\\u...\n",
       " 38      560501  [\":[\"\\u003Cdiv id=\\u0027activity-item-560501\\u...\n",
       " 39      559634  [\":[\"\\u003Cdiv id=\\u0027activity-item-559634\\u...\n",
       " 40      558879  [\":[\"\\u003Cdiv id=\\u0027activity-item-558879\\u...\n",
       " 41      557027  [\":[\"\\u003Cdiv id=\\u0027activity-item-557027\\u...\n",
       " 42      555739  [\":[\"\\u003Cdiv id=\\u0027activity-item-555739\\u...\n",
       " 43      553649  [\":[\"\\u003Cdiv id=\\u0027activity-item-553649\\u...\n",
       " 44      552914  [\":[\"\\u003Cdiv id=\\u0027activity-item-552914\\u...\n",
       " 45      552251  [195\\u0027  class=\\u0027activity-item-wrapper\\...\n",
       " 46      548807  [\":[\"\\u003Cdiv id=\\u0027activity-item-548807\\u...\n",
       " 47      551924  [\":[\"\\u003Cdiv id=\\u0027activity-item-551924\\u...\n",
       " 48      551247  [\":[\"\\u003Cdiv id=\\u0027activity-item-551247\\u...\n",
       " 49      550725  [\":[\"\\u003Cdiv id=\\u0027activity-item-550725\\u...\n",
       " 50      547046  [\":[\"\\u003Cdiv id=\\u0027activity-item-547046\\u...\n",
       " 51      547643  [\":[\"\\u003Cdiv id=\\u0027activity-item-547643\\u...\n",
       " 52      536383  [\":[\"\\u003Cdiv id=\\u0027activity-item-536383\\u...\n",
       " 53      540452  [\":[\"\\u003Cdiv id=\\u0027activity-item-540452\\u...\n",
       " 54      533592  [\":[\"\\u003Cdiv id=\\u0027activity-item-533592\\u...\n",
       " 55      536111  [\":[\"\\u003Cdiv id=\\u0027activity-item-536111\\u...\n",
       " 56      535970  [\":[\"\\u003Cdiv id=\\u0027activity-item-535970\\u...\n",
       " 57      546224  [\":[\"\\u003Cdiv id=\\u0027activity-item-546224\\u...\n",
       " 58      543531  [\":[\"\\u003Cdiv id=\\u0027activity-item-543531\\u...]"
      ]
     },
     "execution_count": 67,
     "metadata": {},
     "output_type": "execute_result"
    }
   ],
   "source": [
    "posts_df"
   ]
  },
  {
   "cell_type": "code",
   "execution_count": null,
   "metadata": {},
   "outputs": [],
   "source": []
  }
 ],
 "metadata": {
  "kernelspec": {
   "display_name": "Python 3",
   "language": "python",
   "name": "python3"
  },
  "language_info": {
   "codemirror_mode": {
    "name": "ipython",
    "version": 3
   },
   "file_extension": ".py",
   "mimetype": "text/x-python",
   "name": "python",
   "nbconvert_exporter": "python",
   "pygments_lexer": "ipython3",
   "version": "3.6.5"
  }
 },
 "nbformat": 4,
 "nbformat_minor": 2
}
