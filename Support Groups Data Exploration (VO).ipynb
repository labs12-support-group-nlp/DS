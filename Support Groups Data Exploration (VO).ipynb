{
 "cells": [
  {
   "cell_type": "code",
   "execution_count": 30,
   "metadata": {},
   "outputs": [
    {
     "data": {
      "text/html": [
       "<div>\n",
       "<style scoped>\n",
       "    .dataframe tbody tr th:only-of-type {\n",
       "        vertical-align: middle;\n",
       "    }\n",
       "\n",
       "    .dataframe tbody tr th {\n",
       "        vertical-align: top;\n",
       "    }\n",
       "\n",
       "    .dataframe thead th {\n",
       "        text-align: right;\n",
       "    }\n",
       "</style>\n",
       "<table border=\"1\" class=\"dataframe\">\n",
       "  <thead>\n",
       "    <tr style=\"text-align: right;\">\n",
       "      <th></th>\n",
       "      <th>post_number</th>\n",
       "      <th>post_txt</th>\n",
       "      <th>groups</th>\n",
       "    </tr>\n",
       "  </thead>\n",
       "  <tbody>\n",
       "    <tr>\n",
       "      <th>44677</th>\n",
       "      <td>54991</td>\n",
       "      <td>n  Hello everyone I am new to this support group.  I have been pulling for probably 14 years.  I also consumed the hair for about 5-6 years and had to have stomach surgery to remove a bezore.  I donu0027t consume anymore, but I still pull my hair and i real...', '',</td>\n",
       "      <td>[ Trichotillomania]</td>\n",
       "    </tr>\n",
       "    <tr>\n",
       "      <th>11109</th>\n",
       "      <td>570111</td>\n",
       "      <td>n  Iu0027m a mostly gay 52 yo male whou0027s been in and out of the closet for 30 years and I suffer from iermitte serious depression and self-harm (slapping my head). I am facing the challenge of figuring out how to separate from a female partner of severa...', '',</td>\n",
       "      <td>[ Coming Out]</td>\n",
       "    </tr>\n",
       "    <tr>\n",
       "      <th>26936</th>\n",
       "      <td>156668</td>\n",
       "      <td>n  ', 'i just wa to find that one special woman :(', 'n', '',</td>\n",
       "      <td>[ Gay and Lesbian]</td>\n",
       "    </tr>\n",
       "    <tr>\n",
       "      <th>3310</th>\n",
       "      <td>619577</td>\n",
       "      <td>n  ', 'There are so many negative stereotypes about menopause and I feel like Iu0027m falling victim to a lot of them, even though I u0022know betteru0022. Which stereotypes have affected you and how have you dealt with them? TIA. u0026lt;3', 'n', '',</td>\n",
       "      <td>[ Menopause]</td>\n",
       "    </tr>\n",
       "    <tr>\n",
       "      <th>41270</th>\n",
       "      <td>50039</td>\n",
       "      <td>n  Greetings:nIu0027m new to the support group site, and Iu0027m hoping to meet many that are ierested in positive feedback, and ideas or suggestions of improvemes in oneu0027s condition.nToday, Iu0027m feeling so great.  My mind is functioning, and Iu0027m briefly ack...', '',</td>\n",
       "      <td>[ Depression,  Migraine]</td>\n",
       "    </tr>\n",
       "  </tbody>\n",
       "</table>\n",
       "</div>"
      ],
      "text/plain": [
       "       post_number  \\\n",
       "44677        54991   \n",
       "11109       570111   \n",
       "26936       156668   \n",
       "3310        619577   \n",
       "41270        50039   \n",
       "\n",
       "                                                                                                                                                                                                                                                                                      post_txt  \\\n",
       "44677              n  Hello everyone I am new to this support group.  I have been pulling for probably 14 years.  I also consumed the hair for about 5-6 years and had to have stomach surgery to remove a bezore.  I donu0027t consume anymore, but I still pull my hair and i real...', '',    \n",
       "11109              n  Iu0027m a mostly gay 52 yo male whou0027s been in and out of the closet for 30 years and I suffer from iermitte serious depression and self-harm (slapping my head). I am facing the challenge of figuring out how to separate from a female partner of severa...', '',    \n",
       "26936                                                                                                                                                                                                                           n  ', 'i just wa to find that one special woman :(', 'n', '',    \n",
       "3310                              n  ', 'There are so many negative stereotypes about menopause and I feel like Iu0027m falling victim to a lot of them, even though I u0022know betteru0022. Which stereotypes have affected you and how have you dealt with them? TIA. u0026lt;3', 'n', '',    \n",
       "41270  n  Greetings:nIu0027m new to the support group site, and Iu0027m hoping to meet many that are ierested in positive feedback, and ideas or suggestions of improvemes in oneu0027s condition.nToday, Iu0027m feeling so great.  My mind is functioning, and Iu0027m briefly ack...', '',    \n",
       "\n",
       "                         groups  \n",
       "44677       [ Trichotillomania]  \n",
       "11109             [ Coming Out]  \n",
       "26936        [ Gay and Lesbian]  \n",
       "3310               [ Menopause]  \n",
       "41270  [ Depression,  Migraine]  "
      ]
     },
     "execution_count": 30,
     "metadata": {},
     "output_type": "execute_result"
    }
   ],
   "source": [
    "import pandas as pd\n",
    "pd.set_option('display.max_colwidth', 300)\n",
    "df = pd.read_pickle('sg_post_dfv2.pkl')\n",
    "df.sample(5)"
   ]
  },
  {
   "cell_type": "code",
   "execution_count": 28,
   "metadata": {},
   "outputs": [
    {
     "data": {
      "text/plain": [
       "\"n  Hello Everyone:nJust waed to take the time to WELCOME our new members to our group. I am Marlene1105, the Moderator for this group and I am very happy you decided to join us. If you have any questions and/or commes, just let me know. Once again, ...', '', \""
      ]
     },
     "execution_count": 28,
     "metadata": {},
     "output_type": "execute_result"
    }
   ],
   "source": [
    "text = df.loc[11887, 'post_txt']\n",
    "text"
   ]
  },
  {
   "cell_type": "code",
   "execution_count": 3,
   "metadata": {},
   "outputs": [
    {
     "data": {
      "text/plain": [
       "'n'"
      ]
     },
     "execution_count": 3,
     "metadata": {},
     "output_type": "execute_result"
    }
   ],
   "source": [
    "text[0]"
   ]
  },
  {
   "cell_type": "code",
   "execution_count": 4,
   "metadata": {},
   "outputs": [
    {
     "data": {
      "text/plain": [
       "259"
      ]
     },
     "execution_count": 4,
     "metadata": {},
     "output_type": "execute_result"
    }
   ],
   "source": [
    "len(text)"
   ]
  },
  {
   "cell_type": "code",
   "execution_count": 5,
   "metadata": {},
   "outputs": [
    {
     "data": {
      "text/plain": [
       "249"
      ]
     },
     "execution_count": 5,
     "metadata": {},
     "output_type": "execute_result"
    }
   ],
   "source": [
    "text.find('...')"
   ]
  },
  {
   "cell_type": "code",
   "execution_count": 6,
   "metadata": {},
   "outputs": [
    {
     "data": {
      "text/plain": [
       "'n  Hello Everyone:nJust waed to take the time to WELCOME our new members to our group. I am Marlene1105, the Moderator for this group and I am very happy you decided to join us. If you have any questions and/or commes, just let me know. Once again, '"
      ]
     },
     "execution_count": 6,
     "metadata": {},
     "output_type": "execute_result"
    }
   ],
   "source": [
    "text[:249]"
   ]
  },
  {
   "cell_type": "code",
   "execution_count": 7,
   "metadata": {},
   "outputs": [
    {
     "data": {
      "text/plain": [
       "'n  Hello Everyone:nJust waed to take the time to WELCOME our new members to our group. I am Marlene1105, the Moderator for this group and I am very happy you decided to join us. If you have any questions and/or commes, just let me know. Once again,'"
      ]
     },
     "execution_count": 7,
     "metadata": {},
     "output_type": "execute_result"
    }
   ],
   "source": [
    "text[:248]"
   ]
  },
  {
   "cell_type": "code",
   "execution_count": 8,
   "metadata": {},
   "outputs": [
    {
     "data": {
      "text/plain": [
       "' Hello Everyone:nJust '"
      ]
     },
     "execution_count": 8,
     "metadata": {},
     "output_type": "execute_result"
    }
   ],
   "source": [
    "text[2:24]"
   ]
  },
  {
   "cell_type": "code",
   "execution_count": 9,
   "metadata": {},
   "outputs": [
    {
     "data": {
      "text/plain": [
       "'Hello Everyone:nJust waed to take the time to WELCOME our new members to our group. I am Marlene1105, the Moderator for this group and I am very happy you decided to join us. If you have any questions and/or commes, just let me know. Once again,'"
      ]
     },
     "execution_count": 9,
     "metadata": {},
     "output_type": "execute_result"
    }
   ],
   "source": [
    "text[3:248]"
   ]
  },
  {
   "cell_type": "code",
   "execution_count": 10,
   "metadata": {},
   "outputs": [
    {
     "data": {
      "text/plain": [
       "\"n  My mom quit smoking over 15 years ago. Last year she had double pneumonia. She was placed io a medically induced coma and put on life support. Twice. She decided sheu0027s an adult and can smoke.nMy little sister is in so far over her head. Itu0027s like s...', '', \""
      ]
     },
     "execution_count": 10,
     "metadata": {},
     "output_type": "execute_result"
    }
   ],
   "source": [
    "text2 = df.loc[1258, 'post_txt']\n",
    "text2"
   ]
  },
  {
   "cell_type": "code",
   "execution_count": 11,
   "metadata": {},
   "outputs": [
    {
     "data": {
      "text/plain": [
       "259"
      ]
     },
     "execution_count": 11,
     "metadata": {},
     "output_type": "execute_result"
    }
   ],
   "source": [
    "text2.find('...')"
   ]
  },
  {
   "cell_type": "code",
   "execution_count": 12,
   "metadata": {},
   "outputs": [
    {
     "data": {
      "text/plain": [
       "'My mom quit smoking over 15 years ago. Last year she had double pneumonia. She was placed io a medically induced coma and put on life support. Twice. She decided sheu0027s an adult and can smoke.nMy little sister is in so far over her head. Itu0027s like s'"
      ]
     },
     "execution_count": 12,
     "metadata": {},
     "output_type": "execute_result"
    }
   ],
   "source": [
    "text2[3:259]"
   ]
  },
  {
   "cell_type": "code",
   "execution_count": 13,
   "metadata": {},
   "outputs": [
    {
     "data": {
      "text/plain": [
       "'My mom quit smoking over 15 years ago. Last year she had double pneumonia. She was placed io a medically induced coma and put on life support. Twice. She decided sheu0027s an adult and can smoke.nMy little sister is in so far over her head. Itu0027s like s...'"
      ]
     },
     "execution_count": 13,
     "metadata": {},
     "output_type": "execute_result"
    }
   ],
   "source": [
    "text2[3:262]"
   ]
  },
  {
   "cell_type": "code",
   "execution_count": 14,
   "metadata": {},
   "outputs": [
    {
     "data": {
      "text/plain": [
       "\"n  Joy Bauer, Today Show nutritionist, dealt with Alzheimeru0027s in her family and discusses a few ways to preve it; nu0022When it comes to fighting Alzheimeru0027s disease, Today Show nutritionist Joy Bauer says itu0027s personal.nu0022My grandmother had the disease, a...', '', \""
      ]
     },
     "execution_count": 14,
     "metadata": {},
     "output_type": "execute_result"
    }
   ],
   "source": [
    "text3 = df.loc[41991, 'post_txt']\n",
    "text3"
   ]
  },
  {
   "cell_type": "code",
   "execution_count": 19,
   "metadata": {},
   "outputs": [
    {
     "data": {
      "text/plain": [
       "\"n  Joy Bauer, Today Show nutritionist, dealt with Alzheimer's in her family and discusses a few ways to preve it; nu0022When it comes to fighting Alzheimer's disease, Today Show nutritionist Joy Bauer says it's personal.nu0022My grandmother had the disease, a...', '', \""
      ]
     },
     "execution_count": 19,
     "metadata": {},
     "output_type": "execute_result"
    }
   ],
   "source": [
    "text3.replace('u0027', \"'\")"
   ]
  },
  {
   "cell_type": "code",
   "execution_count": 22,
   "metadata": {},
   "outputs": [
    {
     "data": {
      "text/plain": [
       "\"n  Joy Bauer, Today Show nutritionist, dealt with Alzheimeru0027s in her family and discusses a few ways to preve it;  When it comes to fighting Alzheimeru0027s disease, Today Show nutritionist Joy Bauer says itu0027s personal. My grandmother had the disease, a...', '', \""
      ]
     },
     "execution_count": 22,
     "metadata": {},
     "output_type": "execute_result"
    }
   ],
   "source": [
    "text3 = ' '.join(text3.split('nu0022'))\n",
    "text3"
   ]
  },
  {
   "cell_type": "code",
   "execution_count": 23,
   "metadata": {},
   "outputs": [
    {
     "data": {
      "text/plain": [
       "\"n  Joy Bauer, Today Show nutritionist, dealt with Alzheimer's in her family and discusses a few ways to preve it;  When it comes to fighting Alzheimer's disease, Today Show nutritionist Joy Bauer says it's personal. My grandmother had the disease, a...', '', \""
      ]
     },
     "execution_count": 23,
     "metadata": {},
     "output_type": "execute_result"
    }
   ],
   "source": [
    "text3 = text3.replace('u0027', \"'\")\n",
    "text3"
   ]
  },
  {
   "cell_type": "code",
   "execution_count": 24,
   "metadata": {},
   "outputs": [
    {
     "data": {
      "text/plain": [
       "\"n  Iu2019m trying to find out if anyone else has had this experience. Iu2019m 31 and was diagnoses with stage 3 endo at 26 and now with stage 4. Since then Iu2019ve had 2 laps.nLast two years I was on pain pills, because of pains  on my left + back pain+ left...', '', \""
      ]
     },
     "execution_count": 24,
     "metadata": {},
     "output_type": "execute_result"
    }
   ],
   "source": [
    "text4 = df.loc[4165, 'post_txt']\n",
    "text4"
   ]
  },
  {
   "cell_type": "code",
   "execution_count": 25,
   "metadata": {},
   "outputs": [
    {
     "data": {
      "text/plain": [
       "\"n  I'm trying to find out if anyone else has had this experience. I'm 31 and was diagnoses with stage 3 endo at 26 and now with stage 4. Since then I've had 2 laps.nLast two years I was on pain pills, because of pains  on my left + back pain+ left...', '', \""
      ]
     },
     "execution_count": 25,
     "metadata": {},
     "output_type": "execute_result"
    }
   ],
   "source": [
    "text4.replace('u2019', \"'\")"
   ]
  },
  {
   "cell_type": "code",
   "execution_count": 31,
   "metadata": {},
   "outputs": [
    {
     "data": {
      "text/plain": [
       "\"n  ', 'There are so many negative stereotypes about menopause and I feel like Iu0027m falling victim to a lot of them, even though I u0022know betteru0022. Which stereotypes have affected you and how have you dealt with them? TIA. u0026lt;3', 'n', '', \""
      ]
     },
     "execution_count": 31,
     "metadata": {},
     "output_type": "execute_result"
    }
   ],
   "source": [
    "text5 = df.loc[3310, 'post_txt']\n",
    "text5"
   ]
  },
  {
   "cell_type": "code",
   "execution_count": 32,
   "metadata": {},
   "outputs": [
    {
     "data": {
      "text/plain": [
       "[\"n  ', 'There are so many negative stereotypes about menopause and I feel like Iu0027m falling victim to a lot of them, even though I \",\n",
       " 'know better',\n",
       " \". Which stereotypes have affected you and how have you dealt with them? TIA. u0026lt;3', 'n', '', \"]"
      ]
     },
     "execution_count": 32,
     "metadata": {},
     "output_type": "execute_result"
    }
   ],
   "source": [
    "text5.split('u0022')"
   ]
  },
  {
   "cell_type": "code",
   "execution_count": 34,
   "metadata": {},
   "outputs": [
    {
     "data": {
      "text/plain": [
       "\"n  ', 'There are so many negative stereotypes about menopause and I feel like Iu0027m falling victim to a lot of them, even though I u0022know betteru0022. Which stereotypes have affected you and how have you dealt with them? TIA.  lt;3', 'n', '', \""
      ]
     },
     "execution_count": 34,
     "metadata": {},
     "output_type": "execute_result"
    }
   ],
   "source": [
    "' '.join(text5.split('u0026'))"
   ]
  },
  {
   "cell_type": "code",
   "execution_count": 35,
   "metadata": {},
   "outputs": [
    {
     "name": "stdout",
     "output_type": "stream",
     "text": [
      "Help on function unidecode_expect_ascii in module unidecode:\n",
      "\n",
      "unidecode_expect_ascii(string)\n",
      "    Transliterate an Unicode object into an ASCII string\n",
      "    \n",
      "    >>> unidecode(u\"北亰\")\n",
      "    \"Bei Jing \"\n",
      "    \n",
      "    This function first tries to convert the string using ASCII codec.\n",
      "    If it fails (because of non-ASCII characters), it falls back to\n",
      "    transliteration using the character tables.\n",
      "    \n",
      "    This is approx. five times faster if the string only contains ASCII\n",
      "    characters, but slightly slower than using unidecode directly if non-ASCII\n",
      "    chars are present.\n",
      "\n"
     ]
    }
   ],
   "source": [
    "from unidecode import unidecode\n",
    "help(unidecode)"
   ]
  },
  {
   "cell_type": "code",
   "execution_count": 57,
   "metadata": {},
   "outputs": [],
   "source": [
    "import re\n",
    "def remove(list): \n",
    "    pattern = 'u[0-9]{4}'\n",
    "    list = [re.sub(pattern, '', i) for i in list] \n",
    "    return ' '.join(list)"
   ]
  },
  {
   "cell_type": "code",
   "execution_count": 73,
   "metadata": {},
   "outputs": [
    {
     "data": {
      "text/plain": [
       "['n  ',\n",
       " ', ',\n",
       " 'There are so many negative stereotypes about menopause and I feel like Iu0027m falling victim to a lot of them, even though I u0022know betteru0022. Which stereotypes have affected you and how have you dealt with them? TIA. u0026lt;3',\n",
       " ', ',\n",
       " 'n',\n",
       " ', ',\n",
       " '',\n",
       " ', ']"
      ]
     },
     "execution_count": 73,
     "metadata": {},
     "output_type": "execute_result"
    }
   ],
   "source": [
    "t5split = text5.split(\"'\")\n",
    "t5split"
   ]
  },
  {
   "cell_type": "code",
   "execution_count": 74,
   "metadata": {},
   "outputs": [
    {
     "data": {
      "text/plain": [
       "['',\n",
       " '',\n",
       " 'There are so many negative stereotypes about menopause and I feel like Iu0027m falling victim to a lot of them, even though I u0022know betteru0022. Which stereotypes have affected you and how have you dealt with them? TIA. u0026lt;3',\n",
       " '',\n",
       " '',\n",
       " '',\n",
       " '',\n",
       " '']"
      ]
     },
     "execution_count": 74,
     "metadata": {},
     "output_type": "execute_result"
    }
   ],
   "source": [
    "for i in range(len(t5split)):\n",
    "    if len(t5split[i]) <= 3:\n",
    "        t5split[i] = ''\n",
    "t5split"
   ]
  },
  {
   "cell_type": "code",
   "execution_count": 76,
   "metadata": {},
   "outputs": [
    {
     "data": {
      "text/plain": [
       "'There are so many negative stereotypes about menopause and I feel like Iu0027m falling victim to a lot of them, even though I u0022know betteru0022. Which stereotypes have affected you and how have you dealt with them? TIA. u0026lt;3'"
      ]
     },
     "execution_count": 76,
     "metadata": {},
     "output_type": "execute_result"
    }
   ],
   "source": [
    "for i in range(len(t5split)):\n",
    "    if not t5split[i]:\n",
    "        continue\n",
    "    else:\n",
    "        t5 = t5split[i]\n",
    "        break\n",
    "t5"
   ]
  },
  {
   "cell_type": "code",
   "execution_count": 77,
   "metadata": {},
   "outputs": [
    {
     "data": {
      "text/plain": [
       "\"n  Iu2019m trying to find out if anyone else has had this experience. Iu2019m 31 and was diagnoses with stage 3 endo at 26 and now with stage 4. Since then Iu2019ve had 2 laps.nLast two years I was on pain pills, because of pains  on my left + back pain+ left...', '', \""
      ]
     },
     "execution_count": 77,
     "metadata": {},
     "output_type": "execute_result"
    }
   ],
   "source": [
    "text4"
   ]
  },
  {
   "cell_type": "code",
   "execution_count": 78,
   "metadata": {},
   "outputs": [
    {
     "data": {
      "text/plain": [
       "['n  Iu2019m trying to find out if anyone else has had this experience. Iu2019m 31 and was diagnoses with stage 3 endo at 26 and now with stage 4. Since then Iu2019ve had 2 laps.nLast two years I was on pain pills, because of pains  on my left + back pain+ left...',\n",
       " ', ',\n",
       " '',\n",
       " ', ']"
      ]
     },
     "execution_count": 78,
     "metadata": {},
     "output_type": "execute_result"
    }
   ],
   "source": [
    "text4.split(\"'\")"
   ]
  },
  {
   "cell_type": "code",
   "execution_count": 81,
   "metadata": {},
   "outputs": [
    {
     "data": {
      "text/plain": [
       "\"n Im trying to find out if anyone else has had this experience. Im 31 and was diagnoses with stage 3 endo at 26 and now with stage 4. Since then Ive had 2 laps.nLast two years I was on pain pills, because of pains on my left + back pain+ left...', '',\""
      ]
     },
     "execution_count": 81,
     "metadata": {},
     "output_type": "execute_result"
    }
   ],
   "source": [
    "remove(text4.split())"
   ]
  },
  {
   "cell_type": "code",
   "execution_count": 82,
   "metadata": {},
   "outputs": [
    {
     "data": {
      "text/plain": [
       "\"n ', 'There are so many negative stereotypes about menopause and I feel like Im falling victim to a lot of them, even though I know better. Which stereotypes have affected you and how have you dealt with them? TIA. lt;3', 'n', '',\""
      ]
     },
     "execution_count": 82,
     "metadata": {},
     "output_type": "execute_result"
    }
   ],
   "source": [
    "remove(text5.split())"
   ]
  },
  {
   "cell_type": "code",
   "execution_count": 85,
   "metadata": {},
   "outputs": [
    {
     "data": {
      "text/plain": [
       "['.nL']"
      ]
     },
     "execution_count": 85,
     "metadata": {},
     "output_type": "execute_result"
    }
   ],
   "source": [
    "import re\n",
    "re.findall(r'.n[A-Z]', text4)"
   ]
  },
  {
   "cell_type": "code",
   "execution_count": 86,
   "metadata": {},
   "outputs": [
    {
     "data": {
      "text/plain": [
       "\"n  Hello Everyone:nJust waed to take the time to WELCOME our new members to our group. I am Marlene1105, the Moderator for this group and I am very happy you decided to join us. If you have any questions and/or commes, just let me know. Once again, ...', '', \""
      ]
     },
     "execution_count": 86,
     "metadata": {},
     "output_type": "execute_result"
    }
   ],
   "source": [
    "text"
   ]
  },
  {
   "cell_type": "code",
   "execution_count": 87,
   "metadata": {},
   "outputs": [
    {
     "data": {
      "text/plain": [
       "[':nJ']"
      ]
     },
     "execution_count": 87,
     "metadata": {},
     "output_type": "execute_result"
    }
   ],
   "source": [
    "re.findall(r'.n[A-Z]', text)"
   ]
  },
  {
   "cell_type": "code",
   "execution_count": 97,
   "metadata": {},
   "outputs": [
    {
     "data": {
      "text/plain": [
       "\"n  Hello Everyone: Just waed to take the time to WELCOME our new members to our group. I am Marlene1105, the Moderator for this group and I am very happy you decided to join us. If you have any questions and/or commes, just let me know. Once again, ...', '', \""
      ]
     },
     "execution_count": 97,
     "metadata": {},
     "output_type": "execute_result"
    }
   ],
   "source": [
    "re.sub(r'n(?=[A-Z])', ' ', text)"
   ]
  },
  {
   "cell_type": "code",
   "execution_count": 114,
   "metadata": {},
   "outputs": [],
   "source": [
    "def clean(text):\n",
    "    text = text.split(\"'\")\n",
    "    for i in range(len(text)):\n",
    "        if len(text[i]) <= 3:\n",
    "            text[i] = ''\n",
    "    for i in range(len(text)):\n",
    "        if not text[i]:\n",
    "            continue\n",
    "        else:\n",
    "            text = text[i]\n",
    "            break\n",
    "    text = text.split()\n",
    "    if text[0] == 'n':\n",
    "        del text[0]\n",
    "    text = remove(text)\n",
    "    text = ''.join(text)\n",
    "    text = re.sub(r'n(?=[A-Z])', ' ', text)\n",
    "    return text"
   ]
  },
  {
   "cell_type": "code",
   "execution_count": 108,
   "metadata": {},
   "outputs": [
    {
     "data": {
      "text/plain": [
       "\"n  Iu2019m trying to find out if anyone else has had this experience. Iu2019m 31 and was diagnoses with stage 3 endo at 26 and now with stage 4. Since then Iu2019ve had 2 laps.nLast two years I was on pain pills, because of pains  on my left + back pain+ left...', '', \""
      ]
     },
     "execution_count": 108,
     "metadata": {},
     "output_type": "execute_result"
    }
   ],
   "source": [
    "text4"
   ]
  },
  {
   "cell_type": "code",
   "execution_count": 115,
   "metadata": {},
   "outputs": [
    {
     "data": {
      "text/plain": [
       "'Im trying to find out if anyone else has had this experience. Im 31 and was diagnoses with stage 3 endo at 26 and now with stage 4. Since then Ive had 2 laps. Last two years I was on pain pills, because of pains on my left + back pain+ left...'"
      ]
     },
     "execution_count": 115,
     "metadata": {},
     "output_type": "execute_result"
    }
   ],
   "source": [
    "clean(text4)"
   ]
  },
  {
   "cell_type": "code",
   "execution_count": 116,
   "metadata": {},
   "outputs": [
    {
     "data": {
      "text/plain": [
       "\"n  Hello Everyone:nJust waed to take the time to WELCOME our new members to our group. I am Marlene1105, the Moderator for this group and I am very happy you decided to join us. If you have any questions and/or commes, just let me know. Once again, ...', '', \""
      ]
     },
     "execution_count": 116,
     "metadata": {},
     "output_type": "execute_result"
    }
   ],
   "source": [
    "text"
   ]
  },
  {
   "cell_type": "code",
   "execution_count": 117,
   "metadata": {},
   "outputs": [
    {
     "data": {
      "text/plain": [
       "'Hello Everyone: Just waed to take the time to WELCOME our new members to our group. I am Marlene1105, the Moderator for this group and I am very happy you decided to join us. If you have any questions and/or commes, just let me know. Once again, ...'"
      ]
     },
     "execution_count": 117,
     "metadata": {},
     "output_type": "execute_result"
    }
   ],
   "source": [
    "clean(text)"
   ]
  },
  {
   "cell_type": "code",
   "execution_count": 118,
   "metadata": {},
   "outputs": [
    {
     "data": {
      "text/plain": [
       "\"n  My mom quit smoking over 15 years ago. Last year she had double pneumonia. She was placed io a medically induced coma and put on life support. Twice. She decided sheu0027s an adult and can smoke.nMy little sister is in so far over her head. Itu0027s like s...', '', \""
      ]
     },
     "execution_count": 118,
     "metadata": {},
     "output_type": "execute_result"
    }
   ],
   "source": [
    "text2"
   ]
  },
  {
   "cell_type": "code",
   "execution_count": 119,
   "metadata": {},
   "outputs": [
    {
     "data": {
      "text/plain": [
       "'My mom quit smoking over 15 years ago. Last year she had double pneumonia. She was placed io a medically induced coma and put on life support. Twice. She decided shes an adult and can smoke. My little sister is in so far over her head. Its like s...'"
      ]
     },
     "execution_count": 119,
     "metadata": {},
     "output_type": "execute_result"
    }
   ],
   "source": [
    "clean(text2)"
   ]
  },
  {
   "cell_type": "code",
   "execution_count": 122,
   "metadata": {},
   "outputs": [
    {
     "data": {
      "text/plain": [
       "\"n  Joy Bauer, Today Show nutritionist, dealt with Alzheimeru0027s in her family and discusses a few ways to preve it; nu0022When it comes to fighting Alzheimeru0027s disease, Today Show nutritionist Joy Bauer says itu0027s personal.nu0022My grandmother had the disease, a...', '', \""
      ]
     },
     "execution_count": 122,
     "metadata": {},
     "output_type": "execute_result"
    }
   ],
   "source": [
    "text3 = df.loc[41991, 'post_txt']\n",
    "text3"
   ]
  },
  {
   "cell_type": "code",
   "execution_count": 123,
   "metadata": {},
   "outputs": [
    {
     "data": {
      "text/plain": [
       "'Joy Bauer, Today Show nutritionist, dealt with Alzheimers in her family and discusses a few ways to preve it;  When it comes to fighting Alzheimers disease, Today Show nutritionist Joy Bauer says its personal. My grandmother had the disease, a...'"
      ]
     },
     "execution_count": 123,
     "metadata": {},
     "output_type": "execute_result"
    }
   ],
   "source": [
    "clean(text3)"
   ]
  },
  {
   "cell_type": "code",
   "execution_count": 124,
   "metadata": {},
   "outputs": [
    {
     "data": {
      "text/plain": [
       "\"n  ', 'There are so many negative stereotypes about menopause and I feel like Iu0027m falling victim to a lot of them, even though I u0022know betteru0022. Which stereotypes have affected you and how have you dealt with them? TIA. u0026lt;3', 'n', '', \""
      ]
     },
     "execution_count": 124,
     "metadata": {},
     "output_type": "execute_result"
    }
   ],
   "source": [
    "text5"
   ]
  },
  {
   "cell_type": "code",
   "execution_count": 125,
   "metadata": {},
   "outputs": [
    {
     "data": {
      "text/plain": [
       "'There are so many negative stereotypes about menopause and I feel like Im falling victim to a lot of them, even though I know better. Which stereotypes have affected you and how have you dealt with them? TIA. lt;3'"
      ]
     },
     "execution_count": 125,
     "metadata": {},
     "output_type": "execute_result"
    }
   ],
   "source": [
    "clean(text5)"
   ]
  },
  {
   "cell_type": "code",
   "execution_count": null,
   "metadata": {},
   "outputs": [],
   "source": []
  }
 ],
 "metadata": {
  "kernelspec": {
   "display_name": "Python 3",
   "language": "python",
   "name": "python3"
  },
  "language_info": {
   "codemirror_mode": {
    "name": "ipython",
    "version": 3
   },
   "file_extension": ".py",
   "mimetype": "text/x-python",
   "name": "python",
   "nbconvert_exporter": "python",
   "pygments_lexer": "ipython3",
   "version": "3.6.7"
  }
 },
 "nbformat": 4,
 "nbformat_minor": 2
}
