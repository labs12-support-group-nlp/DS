{
 "cells": [
  {
   "cell_type": "code",
   "execution_count": 1,
   "metadata": {},
   "outputs": [
    {
     "data": {
      "text/html": [
       "<div>\n",
       "<style scoped>\n",
       "    .dataframe tbody tr th:only-of-type {\n",
       "        vertical-align: middle;\n",
       "    }\n",
       "\n",
       "    .dataframe tbody tr th {\n",
       "        vertical-align: top;\n",
       "    }\n",
       "\n",
       "    .dataframe thead th {\n",
       "        text-align: right;\n",
       "    }\n",
       "</style>\n",
       "<table border=\"1\" class=\"dataframe\">\n",
       "  <thead>\n",
       "    <tr style=\"text-align: right;\">\n",
       "      <th></th>\n",
       "      <th>group</th>\n",
       "      <th>long_post</th>\n",
       "      <th>post_number</th>\n",
       "    </tr>\n",
       "  </thead>\n",
       "  <tbody>\n",
       "    <tr>\n",
       "      <th>32394</th>\n",
       "      <td>Non Hodgkins Lymphoma</td>\n",
       "      <td>happens pot covers symptoms well dont even kno...</td>\n",
       "      <td>383011</td>\n",
       "    </tr>\n",
       "    <tr>\n",
       "      <th>12485</th>\n",
       "      <td>Smoking</td>\n",
       "      <td>sooo close cigarette brnno one cares brn refer...</td>\n",
       "      <td>151573</td>\n",
       "    </tr>\n",
       "    <tr>\n",
       "      <th>14120</th>\n",
       "      <td>Psoriasis</td>\n",
       "      <td>doctors want mstart using biologics im sure an...</td>\n",
       "      <td>103717</td>\n",
       "    </tr>\n",
       "    <tr>\n",
       "      <th>25327</th>\n",
       "      <td>Non Hodgkins Lymphoma</td>\n",
       "      <td>short note let everyone know lump abdomen hern...</td>\n",
       "      <td>60104</td>\n",
       "    </tr>\n",
       "    <tr>\n",
       "      <th>27650</th>\n",
       "      <td>Bipolar</td>\n",
       "      <td>told im addict guess true dont change things l...</td>\n",
       "      <td>397203</td>\n",
       "    </tr>\n",
       "  </tbody>\n",
       "</table>\n",
       "</div>"
      ],
      "text/plain": [
       "                        group  \\\n",
       "32394  Non Hodgkins Lymphoma    \n",
       "12485                 Smoking   \n",
       "14120               Psoriasis   \n",
       "25327  Non Hodgkins Lymphoma    \n",
       "27650                 Bipolar   \n",
       "\n",
       "                                               long_post post_number  \n",
       "32394  happens pot covers symptoms well dont even kno...      383011  \n",
       "12485  sooo close cigarette brnno one cares brn refer...      151573  \n",
       "14120  doctors want mstart using biologics im sure an...      103717  \n",
       "25327  short note let everyone know lump abdomen hern...       60104  \n",
       "27650  told im addict guess true dont change things l...      397203  "
      ]
     },
     "execution_count": 1,
     "metadata": {},
     "output_type": "execute_result"
    }
   ],
   "source": [
    "import pickle\n",
    "df = pickle.load(open('Clayton_SG_df_first.pkl', 'br'))\n",
    "df['long_post'] = df['long_post'].apply(', '.join)\n",
    "df['long_post'] = df['long_post'].str.replace(',', '')\n",
    "df.sample(5)"
   ]
  },
  {
   "cell_type": "code",
   "execution_count": 2,
   "metadata": {},
   "outputs": [],
   "source": [
    "from sklearn.model_selection import train_test_split\n",
    "X = df.long_post\n",
    "y = df.group\n",
    "X_train, X_test, y_train, y_test = train_test_split(X, y, test_size=0.2, random_state=42)"
   ]
  },
  {
   "cell_type": "code",
   "execution_count": 3,
   "metadata": {},
   "outputs": [
    {
     "name": "stdout",
     "output_type": "stream",
     "text": [
      "(27204,)\n",
      "(6801,)\n",
      "(27204,)\n",
      "(6801,)\n"
     ]
    }
   ],
   "source": [
    "print(X_train.shape)\n",
    "print(X_test.shape)\n",
    "print(y_train.shape)\n",
    "print(y_test.shape)"
   ]
  },
  {
   "cell_type": "code",
   "execution_count": 4,
   "metadata": {},
   "outputs": [
    {
     "data": {
      "text/plain": [
       "(27204, 45472)"
      ]
     },
     "execution_count": 4,
     "metadata": {},
     "output_type": "execute_result"
    }
   ],
   "source": [
    "from sklearn.feature_extraction.text import CountVectorizer\n",
    "count_vect = CountVectorizer()\n",
    "X_train_counts = count_vect.fit_transform(X_train)\n",
    "X_train_counts.shape"
   ]
  },
  {
   "cell_type": "code",
   "execution_count": 5,
   "metadata": {},
   "outputs": [
    {
     "data": {
      "text/plain": [
       "(27204, 45472)"
      ]
     },
     "execution_count": 5,
     "metadata": {},
     "output_type": "execute_result"
    }
   ],
   "source": [
    "# TF-IDF: term-frequency times inverse document frequency\n",
    "from sklearn.feature_extraction.text import TfidfTransformer\n",
    "tfidf_transformer = TfidfTransformer()\n",
    "X_train_tfidf = tfidf_transformer.fit_transform(X_train_counts)\n",
    "X_train_tfidf.shape"
   ]
  },
  {
   "cell_type": "code",
   "execution_count": 6,
   "metadata": {},
   "outputs": [],
   "source": [
    "# Classifier using Naive Bayes\n",
    "from sklearn.naive_bayes import MultinomialNB\n",
    "clf = MultinomialNB().fit(X_train_tfidf, y_train)"
   ]
  },
  {
   "cell_type": "code",
   "execution_count": 7,
   "metadata": {},
   "outputs": [],
   "source": [
    "from sklearn.pipeline import Pipeline\n",
    "text_clf = Pipeline([('vect', CountVectorizer()),\n",
    "                      ('tfidf', TfidfTransformer()),\n",
    "                      ('clf', MultinomialNB()),\n",
    "])\n",
    "\n",
    "text_clf = text_clf.fit(X_train, y_train)"
   ]
  },
  {
   "cell_type": "code",
   "execution_count": 8,
   "metadata": {},
   "outputs": [
    {
     "data": {
      "text/plain": [
       "0.06557859138362006"
      ]
     },
     "execution_count": 8,
     "metadata": {},
     "output_type": "execute_result"
    }
   ],
   "source": [
    "import numpy as np\n",
    "predicted = text_clf.predict(X_test)\n",
    "np.mean(predicted == y_test)"
   ]
  },
  {
   "cell_type": "code",
   "execution_count": 9,
   "metadata": {},
   "outputs": [
    {
     "data": {
      "text/plain": [
       "0.5544772827525364"
      ]
     },
     "execution_count": 9,
     "metadata": {},
     "output_type": "execute_result"
    }
   ],
   "source": [
    "# support vector machine classifier\n",
    "from sklearn.linear_model import SGDClassifier\n",
    "\n",
    "text_clf_svm = Pipeline([('vect', CountVectorizer()),\n",
    "                      ('tfidf', TfidfTransformer()),\n",
    "                      ('clf-svm', SGDClassifier(loss='hinge', penalty='l2',\n",
    "                                            alpha=1e-3, max_iter=5, tol=None, random_state=42)),\n",
    "])\n",
    "\n",
    "_ = text_clf_svm.fit(X_train, y_train)\n",
    "\n",
    "predicted_svm = text_clf_svm.predict(X_test)\n",
    "np.mean(predicted_svm == y_test)"
   ]
  },
  {
   "cell_type": "code",
   "execution_count": 10,
   "metadata": {},
   "outputs": [],
   "source": [
    "# Tuning hyperparameters\n",
    "from sklearn.model_selection import GridSearchCV\n",
    "parameters = {'vect__ngram_range': [(1, 1), (1, 2)],\n",
    "               'tfidf__use_idf': (True, False),\n",
    "               'clf__alpha': (1e-2, 1e-3),\n",
    "}"
   ]
  },
  {
   "cell_type": "code",
   "execution_count": 11,
   "metadata": {},
   "outputs": [],
   "source": [
    "# Grid search with Naive Bayes\n",
    "gs_clf = GridSearchCV(text_clf, parameters, n_jobs=-1)"
   ]
  },
  {
   "cell_type": "code",
   "execution_count": 12,
   "metadata": {},
   "outputs": [
    {
     "name": "stdout",
     "output_type": "stream",
     "text": [
      "0.4042420232318777\n",
      "CPU times: user 13.9 s, sys: 2.82 s, total: 16.7 s\n",
      "Wall time: 43.8 s\n"
     ]
    }
   ],
   "source": [
    "%%time\n",
    "gs_clf = gs_clf.fit(X_train, y_train)\n",
    "print(gs_clf.best_score_)\n",
    "gs_clf.best_params_"
   ]
  },
  {
   "cell_type": "code",
   "execution_count": 13,
   "metadata": {},
   "outputs": [],
   "source": [
    "# Grid search with SVM classifier\n",
    "parameters_svm = {'vect__ngram_range': [(1, 1), (1, 2)],\n",
    "               'tfidf__use_idf': (True, False),\n",
    "               'clf-svm__alpha': (1e-2, 1e-3),\n",
    "}\n",
    "gs_clf_svm = GridSearchCV(text_clf_svm, parameters_svm, n_jobs=-1)"
   ]
  },
  {
   "cell_type": "code",
   "execution_count": 14,
   "metadata": {},
   "outputs": [
    {
     "name": "stdout",
     "output_type": "stream",
     "text": [
      "0.5244081752683429\n",
      "CPU times: user 2min 14s, sys: 13.2 s, total: 2min 27s\n",
      "Wall time: 2min 47s\n"
     ]
    }
   ],
   "source": [
    "%%time\n",
    "gs_clf_svm = gs_clf_svm.fit(X_train, y_train)\n",
    "print(gs_clf_svm.best_score_)\n",
    "gs_clf_svm.best_params_"
   ]
  },
  {
   "cell_type": "code",
   "execution_count": 15,
   "metadata": {},
   "outputs": [
    {
     "name": "stdout",
     "output_type": "stream",
     "text": [
      "[nltk_data] Downloading package stopwords to\n",
      "[nltk_data]     /home/ec2-user/nltk_data...\n",
      "[nltk_data]   Package stopwords is already up-to-date!\n"
     ]
    }
   ],
   "source": [
    "import nltk\n",
    "nltk.download('stopwords')\n",
    "\n",
    "from nltk.stem.snowball import SnowballStemmer\n",
    "stemmer = SnowballStemmer(\"english\", ignore_stopwords=True)\n",
    "\n",
    "class StemmedCountVectorizer(CountVectorizer):\n",
    "    def build_analyzer(self):\n",
    "        analyzer = super(StemmedCountVectorizer, self).build_analyzer()\n",
    "        return lambda doc: ([stemmer.stem(w) for w in analyzer(doc)])\n",
    "\n",
    "stemmed_count_vect = StemmedCountVectorizer(stop_words='english')\n",
    "\n",
    "text_mnb_stemmed = Pipeline([('vect', stemmed_count_vect),\n",
    "                      ('tfidf', TfidfTransformer()),\n",
    "                      ('mnb', MultinomialNB(fit_prior=False)),\n",
    "])"
   ]
  },
  {
   "cell_type": "code",
   "execution_count": 16,
   "metadata": {},
   "outputs": [
    {
     "name": "stdout",
     "output_type": "stream",
     "text": [
      "CPU times: user 16.2 s, sys: 210 ms, total: 16.4 s\n",
      "Wall time: 16.4 s\n"
     ]
    }
   ],
   "source": [
    "%%time\n",
    "text_mnb_stemmed = text_mnb_stemmed.fit(X_train, y_train)"
   ]
  },
  {
   "cell_type": "code",
   "execution_count": 17,
   "metadata": {},
   "outputs": [
    {
     "data": {
      "text/plain": [
       "0.12924569916188797"
      ]
     },
     "execution_count": 17,
     "metadata": {},
     "output_type": "execute_result"
    }
   ],
   "source": [
    "predicted_mnb_stemmed = text_mnb_stemmed.predict(X_test)\n",
    "np.mean(predicted_mnb_stemmed == y_test)"
   ]
  },
  {
   "cell_type": "code",
   "execution_count": 18,
   "metadata": {},
   "outputs": [
    {
     "name": "stderr",
     "output_type": "stream",
     "text": [
      "/home/ec2-user/anaconda3/envs/python3/lib/python3.6/site-packages/sklearn/ensemble/weight_boosting.py:29: DeprecationWarning: numpy.core.umath_tests is an internal NumPy module and should not be imported. It will be removed in a future NumPy release.\n",
      "  from numpy.core.umath_tests import inner1d\n"
     ]
    }
   ],
   "source": [
    "from sklearn.svm import LinearSVC\n",
    "from sklearn.linear_model import LogisticRegression\n",
    "from sklearn.ensemble import RandomForestClassifier\n",
    "from sklearn.neural_network import MLPClassifier\n",
    "from sklearn.model_selection import GridSearchCV\n",
    "from sklearn.model_selection import train_test_split\n",
    "import numpy as np\n",
    "from sklearn.feature_extraction.text import TfidfVectorizer\n",
    "from sklearn.pipeline import Pipeline"
   ]
  },
  {
   "cell_type": "code",
   "execution_count": 19,
   "metadata": {},
   "outputs": [],
   "source": [
    "vectorizers = [\n",
    "    TfidfVectorizer(stop_words='english',\n",
    "                    max_features=None),\n",
    "    CountVectorizer(stop_words='english',\n",
    "                   max_features=None)\n",
    "]\n",
    "\n",
    "classifiers = [\n",
    "    MultinomialNB(),\n",
    "    LinearSVC(),\n",
    "    LogisticRegression(),\n",
    "    RandomForestClassifier()\n",
    "]\n",
    "\n",
    "clf_names = [\n",
    "         \"Naive Bayes\",\n",
    "         \"Linear SVC\",\n",
    "         \"Logistic Regression\",\n",
    "         \"Random Forest\",\n",
    "        ]\n",
    "\n",
    "vect_names = [\n",
    "    \"TfidfVectorizer\",\n",
    "    \"CountVectorizer\"\n",
    "]\n",
    "\n",
    "clf_params = [\n",
    "              {'vect__ngram_range': [(1, 1), (1, 2)],\n",
    "              'clf__alpha': (1e-2, 1e-3)},\n",
    "              {'vect__ngram_range': [(1, 1), (1, 2)],\n",
    "              'clf__C': (np.logspace(-5, 1, 5))},\n",
    "              {'vect__ngram_range': [(1, 1), (1, 2)],\n",
    "              'clf__C': (np.logspace(-5, 1, 5))},\n",
    "              {'vect__ngram_range': [(1, 1), (1, 2)],\n",
    "              'clf__max_depth': (1, 2)},\n",
    "             ]"
   ]
  },
  {
   "cell_type": "code",
   "execution_count": 20,
   "metadata": {},
   "outputs": [
    {
     "name": "stderr",
     "output_type": "stream",
     "text": [
      "/home/ec2-user/anaconda3/envs/python3/lib/python3.6/site-packages/sklearn/model_selection/_split.py:605: Warning: The least populated class in y has only 1 members, which is too few. The minimum number of members in any class cannot be less than n_splits=5.\n",
      "  % (min_groups, self.n_splits)), Warning)\n"
     ]
    },
    {
     "name": "stdout",
     "output_type": "stream",
     "text": [
      "Fitting 5 folds for each of 4 candidates, totalling 20 fits\n",
      "[CV] clf__alpha=0.01, vect__ngram_range=(1, 1) .......................\n",
      "[CV] clf__alpha=0.01, vect__ngram_range=(1, 1) .......................\n",
      "[CV] clf__alpha=0.01, vect__ngram_range=(1, 1) .......................\n",
      "[CV] clf__alpha=0.01, vect__ngram_range=(1, 1) .......................\n",
      "[CV] clf__alpha=0.01, vect__ngram_range=(1, 1) .......................\n",
      "[CV] clf__alpha=0.01, vect__ngram_range=(1, 2) .......................\n",
      "[CV] clf__alpha=0.01, vect__ngram_range=(1, 2) .......................\n",
      "[CV] clf__alpha=0.01, vect__ngram_range=(1, 2) .......................\n",
      "[CV] clf__alpha=0.01, vect__ngram_range=(1, 2) .......................\n",
      "[CV] clf__alpha=0.01, vect__ngram_range=(1, 2) .......................\n",
      "[CV] clf__alpha=0.001, vect__ngram_range=(1, 1) ......................\n",
      "[CV] clf__alpha=0.001, vect__ngram_range=(1, 1) ......................\n",
      "[CV] clf__alpha=0.001, vect__ngram_range=(1, 1) ......................\n",
      "[CV] clf__alpha=0.001, vect__ngram_range=(1, 1) ......................\n",
      "[CV] clf__alpha=0.001, vect__ngram_range=(1, 1) ......................\n",
      "[CV] clf__alpha=0.001, vect__ngram_range=(1, 2) ......................\n",
      "[CV]  clf__alpha=0.01, vect__ngram_range=(1, 1), score=0.6965917331399565, total=   4.1s\n",
      "[CV] clf__alpha=0.001, vect__ngram_range=(1, 2) ......................\n",
      "[CV]  clf__alpha=0.01, vect__ngram_range=(1, 1), score=0.40343915343915343, total=   4.4s\n",
      "[CV]  clf__alpha=0.01, vect__ngram_range=(1, 1), score=0.4321798802744926, total=   4.4s\n",
      "[CV] clf__alpha=0.001, vect__ngram_range=(1, 2) ......................\n",
      "[CV] clf__alpha=0.001, vect__ngram_range=(1, 2) ......................\n",
      "[CV]  clf__alpha=0.01, vect__ngram_range=(1, 1), score=0.40554156171284633, total=   4.3s\n",
      "[CV] clf__alpha=0.001, vect__ngram_range=(1, 2) ......................\n",
      "[CV]  clf__alpha=0.01, vect__ngram_range=(1, 1), score=0.4127906976744186, total=   4.4s\n"
     ]
    },
    {
     "name": "stderr",
     "output_type": "stream",
     "text": [
      "[Parallel(n_jobs=-1)]: Done   4 out of  20 | elapsed:    7.3s remaining:   29.3s\n"
     ]
    },
    {
     "name": "stdout",
     "output_type": "stream",
     "text": [
      "[CV]  clf__alpha=0.001, vect__ngram_range=(1, 1), score=0.7409717186366933, total=   4.7s\n",
      "[CV]  clf__alpha=0.001, vect__ngram_range=(1, 1), score=0.43321407274895646, total=   4.6s\n",
      "[CV]  clf__alpha=0.001, vect__ngram_range=(1, 1), score=0.4216921025337087, total=   4.6s\n",
      "[CV]  clf__alpha=0.001, vect__ngram_range=(1, 1), score=0.42210464432686656, total=   4.7s\n"
     ]
    },
    {
     "name": "stderr",
     "output_type": "stream",
     "text": [
      "[Parallel(n_jobs=-1)]: Done   7 out of  20 | elapsed:    7.9s remaining:   14.7s\n"
     ]
    },
    {
     "name": "stdout",
     "output_type": "stream",
     "text": [
      "[CV]  clf__alpha=0.001, vect__ngram_range=(1, 1), score=0.4533508541392904, total=   4.8s\n"
     ]
    },
    {
     "name": "stderr",
     "output_type": "stream",
     "text": [
      "[Parallel(n_jobs=-1)]: Done  10 out of  20 | elapsed:    8.2s remaining:    8.2s\n"
     ]
    },
    {
     "name": "stdout",
     "output_type": "stream",
     "text": [
      "[CV]  clf__alpha=0.01, vect__ngram_range=(1, 2), score=0.41159293327493063, total=  19.5s\n",
      "[CV]  clf__alpha=0.01, vect__ngram_range=(1, 2), score=0.3875968992248062, total=  19.3s\n",
      "[CV]  clf__alpha=0.01, vect__ngram_range=(1, 2), score=0.7505438723712835, total=  20.6s\n"
     ]
    },
    {
     "name": "stderr",
     "output_type": "stream",
     "text": [
      "[Parallel(n_jobs=-1)]: Done  13 out of  20 | elapsed:   25.7s remaining:   13.9s\n"
     ]
    },
    {
     "name": "stdout",
     "output_type": "stream",
     "text": [
      "[CV]  clf__alpha=0.001, vect__ngram_range=(1, 2), score=0.7907179115300943, total=  20.7s\n",
      "[CV]  clf__alpha=0.01, vect__ngram_range=(1, 2), score=0.38509408801303896, total=  23.6s\n",
      "[CV]  clf__alpha=0.01, vect__ngram_range=(1, 2), score=0.37904174015285125, total=  23.9s\n"
     ]
    },
    {
     "name": "stderr",
     "output_type": "stream",
     "text": [
      "[Parallel(n_jobs=-1)]: Done  16 out of  20 | elapsed:   28.9s remaining:    7.2s\n"
     ]
    },
    {
     "name": "stdout",
     "output_type": "stream",
     "text": [
      "[CV]  clf__alpha=0.001, vect__ngram_range=(1, 2), score=0.47883124627310675, total=  17.4s\n",
      "[CV]  clf__alpha=0.001, vect__ngram_range=(1, 2), score=0.49481676157103227, total=  17.9s\n",
      "[CV]  clf__alpha=0.001, vect__ngram_range=(1, 2), score=0.4655504519188028, total=  21.6s\n",
      "[CV]  clf__alpha=0.001, vect__ngram_range=(1, 2), score=0.4692827748383304, total=  21.8s\n"
     ]
    },
    {
     "name": "stderr",
     "output_type": "stream",
     "text": [
      "[Parallel(n_jobs=-1)]: Done  20 out of  20 | elapsed:   32.9s finished\n"
     ]
    },
    {
     "name": "stdout",
     "output_type": "stream",
     "text": [
      "\n",
      "Classifier: Naive Bayes\n",
      "Vectorizer: TfidfVectorizer\n",
      "Score: 0.5407\n",
      "Params: {'clf__alpha': 0.001, 'vect__ngram_range': (1, 2)}\n",
      "------------------------------\n",
      "            \n",
      "Fitting 5 folds for each of 4 candidates, totalling 20 fits\n"
     ]
    },
    {
     "name": "stderr",
     "output_type": "stream",
     "text": [
      "/home/ec2-user/anaconda3/envs/python3/lib/python3.6/site-packages/sklearn/model_selection/_split.py:605: Warning: The least populated class in y has only 1 members, which is too few. The minimum number of members in any class cannot be less than n_splits=5.\n",
      "  % (min_groups, self.n_splits)), Warning)\n"
     ]
    },
    {
     "name": "stdout",
     "output_type": "stream",
     "text": [
      "[CV] clf__alpha=0.01, vect__ngram_range=(1, 1) .......................\n",
      "[CV] clf__alpha=0.01, vect__ngram_range=(1, 1) .......................\n",
      "[CV] clf__alpha=0.01, vect__ngram_range=(1, 1) .......................\n",
      "[CV] clf__alpha=0.01, vect__ngram_range=(1, 1) .......................\n",
      "[CV] clf__alpha=0.01, vect__ngram_range=(1, 1) .......................\n",
      "[CV] clf__alpha=0.01, vect__ngram_range=(1, 2) .......................\n",
      "[CV] clf__alpha=0.01, vect__ngram_range=(1, 2) .......................\n",
      "[CV] clf__alpha=0.01, vect__ngram_range=(1, 2) .......................\n",
      "[CV] clf__alpha=0.01, vect__ngram_range=(1, 2) .......................\n",
      "[CV] clf__alpha=0.01, vect__ngram_range=(1, 2) .......................\n",
      "[CV] clf__alpha=0.001, vect__ngram_range=(1, 1) ......................\n",
      "[CV] clf__alpha=0.001, vect__ngram_range=(1, 1) ......................\n",
      "[CV] clf__alpha=0.001, vect__ngram_range=(1, 1) ......................\n",
      "[CV] clf__alpha=0.001, vect__ngram_range=(1, 1) ......................\n",
      "[CV] clf__alpha=0.001, vect__ngram_range=(1, 1) ......................\n",
      "[CV] clf__alpha=0.001, vect__ngram_range=(1, 2) ......................\n",
      "[CV]  clf__alpha=0.01, vect__ngram_range=(1, 1), score=0.7145757795503989, total=   4.0s\n",
      "[CV]  clf__alpha=0.01, vect__ngram_range=(1, 1), score=0.4513067601109651, total=   4.2s\n",
      "[CV] clf__alpha=0.001, vect__ngram_range=(1, 2) ......................\n",
      "[CV] clf__alpha=0.001, vect__ngram_range=(1, 2) ......................\n",
      "[CV]  clf__alpha=0.01, vect__ngram_range=(1, 1), score=0.42139576233516074, total=   4.1s\n",
      "[CV] clf__alpha=0.001, vect__ngram_range=(1, 2) ......................\n",
      "[CV]  clf__alpha=0.01, vect__ngram_range=(1, 1), score=0.4213697824808936, total=   4.3s\n",
      "[CV]  clf__alpha=0.01, vect__ngram_range=(1, 1), score=0.43231961836613, total=   4.2s\n",
      "[CV] clf__alpha=0.001, vect__ngram_range=(1, 2) ......................\n"
     ]
    },
    {
     "name": "stderr",
     "output_type": "stream",
     "text": [
      "[Parallel(n_jobs=-1)]: Done   4 out of  20 | elapsed:    7.1s remaining:   28.5s\n"
     ]
    },
    {
     "name": "stdout",
     "output_type": "stream",
     "text": [
      "[CV]  clf__alpha=0.001, vect__ngram_range=(1, 1), score=0.7112400290065265, total=   4.7s\n",
      "[CV]  clf__alpha=0.001, vect__ngram_range=(1, 1), score=0.42940575266462255, total=   4.7s\n"
     ]
    },
    {
     "name": "stderr",
     "output_type": "stream",
     "text": [
      "[Parallel(n_jobs=-1)]: Done   7 out of  20 | elapsed:    7.7s remaining:   14.4s\n"
     ]
    },
    {
     "name": "stdout",
     "output_type": "stream",
     "text": [
      "[CV]  clf__alpha=0.001, vect__ngram_range=(1, 1), score=0.4009406231628454, total=   4.6s\n",
      "[CV]  clf__alpha=0.001, vect__ngram_range=(1, 1), score=0.41308884913536076, total=   4.5s\n",
      "[CV]  clf__alpha=0.001, vect__ngram_range=(1, 1), score=0.3965031856571344, total=   4.6s\n"
     ]
    },
    {
     "name": "stderr",
     "output_type": "stream",
     "text": [
      "[Parallel(n_jobs=-1)]: Done  10 out of  20 | elapsed:    8.2s remaining:    8.2s\n"
     ]
    },
    {
     "name": "stdout",
     "output_type": "stream",
     "text": [
      "[CV]  clf__alpha=0.01, vect__ngram_range=(1, 2), score=0.4640727489564699, total=  18.7s\n",
      "[CV]  clf__alpha=0.01, vect__ngram_range=(1, 2), score=0.4532627865961199, total=  19.0s\n",
      "[CV]  clf__alpha=0.01, vect__ngram_range=(1, 2), score=0.7763596809282088, total=  20.1s\n"
     ]
    },
    {
     "name": "stderr",
     "output_type": "stream",
     "text": [
      "[Parallel(n_jobs=-1)]: Done  13 out of  20 | elapsed:   24.5s remaining:   13.2s\n"
     ]
    },
    {
     "name": "stdout",
     "output_type": "stream",
     "text": [
      "[CV]  clf__alpha=0.01, vect__ngram_range=(1, 2), score=0.4532523336790636, total=  22.5s\n",
      "[CV]  clf__alpha=0.01, vect__ngram_range=(1, 2), score=0.4835742444152431, total=  23.3s\n",
      "[CV]  clf__alpha=0.001, vect__ngram_range=(1, 2), score=0.4472369194591417, total=  16.9s\n",
      "[CV]  clf__alpha=0.001, vect__ngram_range=(1, 2), score=0.44806638020447476, total=  16.9s\n"
     ]
    },
    {
     "name": "stderr",
     "output_type": "stream",
     "text": [
      "[Parallel(n_jobs=-1)]: Done  16 out of  20 | elapsed:   27.7s remaining:    6.9s\n"
     ]
    },
    {
     "name": "stdout",
     "output_type": "stream",
     "text": [
      "[CV]  clf__alpha=0.001, vect__ngram_range=(1, 2), score=0.4594514013118664, total=  17.0s\n",
      "[CV]  clf__alpha=0.001, vect__ngram_range=(1, 2), score=0.7798404641044235, total=  24.1s\n",
      "[CV]  clf__alpha=0.001, vect__ngram_range=(1, 2), score=0.4789020294933567, total=  21.1s\n"
     ]
    },
    {
     "name": "stderr",
     "output_type": "stream",
     "text": [
      "[Parallel(n_jobs=-1)]: Done  20 out of  20 | elapsed:   31.6s finished\n"
     ]
    },
    {
     "name": "stdout",
     "output_type": "stream",
     "text": [
      "\n",
      "Classifier: Naive Bayes\n",
      "Vectorizer: CountVectorizer\n",
      "Score: 0.5270\n",
      "Params: {'clf__alpha': 0.01, 'vect__ngram_range': (1, 2)}\n",
      "------------------------------\n",
      "            \n",
      "Fitting 5 folds for each of 10 candidates, totalling 50 fits\n"
     ]
    },
    {
     "name": "stderr",
     "output_type": "stream",
     "text": [
      "/home/ec2-user/anaconda3/envs/python3/lib/python3.6/site-packages/sklearn/model_selection/_split.py:605: Warning: The least populated class in y has only 1 members, which is too few. The minimum number of members in any class cannot be less than n_splits=5.\n",
      "  % (min_groups, self.n_splits)), Warning)\n"
     ]
    },
    {
     "name": "stdout",
     "output_type": "stream",
     "text": [
      "[CV] clf__C=1e-05, vect__ngram_range=(1, 1) ..........................\n",
      "[CV] clf__C=1e-05, vect__ngram_range=(1, 1) ..........................\n",
      "[CV] clf__C=1e-05, vect__ngram_range=(1, 1) ..........................\n",
      "[CV] clf__C=1e-05, vect__ngram_range=(1, 1) ..........................\n",
      "[CV] clf__C=1e-05, vect__ngram_range=(1, 1) ..........................\n",
      "[CV] clf__C=1e-05, vect__ngram_range=(1, 2) ..........................\n",
      "[CV] clf__C=1e-05, vect__ngram_range=(1, 2) ..........................\n",
      "[CV] clf__C=1e-05, vect__ngram_range=(1, 2) ..........................\n",
      "[CV] clf__C=1e-05, vect__ngram_range=(1, 2) ..........................\n",
      "[CV] clf__C=1e-05, vect__ngram_range=(1, 2) ..........................\n",
      "[CV] clf__C=0.00031622776601683794, vect__ngram_range=(1, 1) .........\n",
      "[CV] clf__C=0.00031622776601683794, vect__ngram_range=(1, 1) .........\n",
      "[CV] clf__C=0.00031622776601683794, vect__ngram_range=(1, 1) .........\n",
      "[CV] clf__C=0.00031622776601683794, vect__ngram_range=(1, 1) .........\n",
      "[CV] clf__C=0.00031622776601683794, vect__ngram_range=(1, 1) .........\n",
      "[CV] clf__C=0.00031622776601683794, vect__ngram_range=(1, 2) .........\n",
      "[CV]  clf__C=0.00031622776601683794, vect__ngram_range=(1, 1), score=0.04952968841857731, total=  29.7s\n",
      "[CV] clf__C=0.00031622776601683794, vect__ngram_range=(1, 2) .........\n",
      "[CV]  clf__C=0.00031622776601683794, vect__ngram_range=(1, 1), score=0.05192168237853517, total=  30.1s\n",
      "[CV] clf__C=0.00031622776601683794, vect__ngram_range=(1, 2) .........\n",
      "[CV]  clf__C=0.00031622776601683794, vect__ngram_range=(1, 1), score=0.049058256679807274, total=  31.0s\n",
      "[CV] clf__C=0.00031622776601683794, vect__ngram_range=(1, 2) .........\n",
      "[CV]  clf__C=0.00031622776601683794, vect__ngram_range=(1, 1), score=0.05023852116875373, total=  31.0s\n",
      "[CV] clf__C=0.00031622776601683794, vect__ngram_range=(1, 2) .........\n",
      "[CV]  clf__C=0.00031622776601683794, vect__ngram_range=(1, 1), score=0.05082234405097051, total=  31.3s\n",
      "[CV] clf__C=0.01, vect__ngram_range=(1, 1) ...........................\n",
      "[CV]  clf__C=1e-05, vect__ngram_range=(1, 1), score=0.04526208205577457, total=  36.4s\n",
      "[CV] clf__C=0.01, vect__ngram_range=(1, 1) ...........................\n",
      "[CV]  clf__C=1e-05, vect__ngram_range=(1, 1), score=0.04606440071556351, total=  37.3s\n",
      "[CV] clf__C=0.01, vect__ngram_range=(1, 1) ...........................\n",
      "[CV]  clf__C=1e-05, vect__ngram_range=(1, 1), score=0.044960116026105876, total=  37.7s\n",
      "[CV] clf__C=0.01, vect__ngram_range=(1, 1) ...........................\n",
      "[CV]  clf__C=1e-05, vect__ngram_range=(1, 1), score=0.04556143445032334, total=  38.8s\n",
      "[CV]  clf__C=1e-05, vect__ngram_range=(1, 1), score=0.04593273077492962, total=  38.9s\n",
      "[CV] clf__C=0.01, vect__ngram_range=(1, 1) ...........................\n",
      "[CV] clf__C=0.01, vect__ngram_range=(1, 2) ...........................\n"
     ]
    },
    {
     "name": "stderr",
     "output_type": "stream",
     "text": [
      "[Parallel(n_jobs=-1)]: Done   9 tasks      | elapsed:   41.9s\n"
     ]
    },
    {
     "name": "stdout",
     "output_type": "stream",
     "text": [
      "[CV]  clf__C=0.01, vect__ngram_range=(1, 1), score=0.42248005801305294, total=  44.2s\n",
      "[CV] clf__C=0.01, vect__ngram_range=(1, 2) ...........................\n",
      "[CV]  clf__C=0.01, vect__ngram_range=(1, 1), score=0.3800554825521974, total=  43.2s\n",
      "[CV] clf__C=0.01, vect__ngram_range=(1, 2) ...........................\n",
      "[CV]  clf__C=0.01, vect__ngram_range=(1, 1), score=0.36728395061728397, total=  43.4s\n",
      "[CV] clf__C=0.01, vect__ngram_range=(1, 2) ...........................\n",
      "[CV]  clf__C=0.01, vect__ngram_range=(1, 1), score=0.36879537709290267, total=  44.0s\n",
      "[CV] clf__C=0.01, vect__ngram_range=(1, 2) ...........................\n",
      "[CV]  clf__C=0.00031622776601683794, vect__ngram_range=(1, 2), score=0.044960116026105876, total= 1.4min\n",
      "[CV] clf__C=0.31622776601683794, vect__ngram_range=(1, 1) ............\n",
      "[CV]  clf__C=0.01, vect__ngram_range=(1, 1), score=0.37298747763864043, total=  45.2s\n",
      "[CV] clf__C=0.31622776601683794, vect__ngram_range=(1, 1) ............\n",
      "[CV]  clf__C=1e-05, vect__ngram_range=(1, 2), score=0.04556143445032334, total= 1.5min\n",
      "[CV] clf__C=0.31622776601683794, vect__ngram_range=(1, 1) ............\n",
      "[CV]  clf__C=1e-05, vect__ngram_range=(1, 2), score=0.04606440071556351, total= 1.5min\n"
     ]
    },
    {
     "name": "stderr",
     "output_type": "stream",
     "text": [
      "[Parallel(n_jobs=-1)]: Done  18 tasks      | elapsed:  1.7min\n"
     ]
    },
    {
     "name": "stdout",
     "output_type": "stream",
     "text": [
      "[CV] clf__C=0.31622776601683794, vect__ngram_range=(1, 1) ............\n",
      "[CV]  clf__C=1e-05, vect__ngram_range=(1, 2), score=0.04593273077492962, total= 1.6min\n",
      "[CV] clf__C=0.31622776601683794, vect__ngram_range=(1, 1) ............\n",
      "[CV]  clf__C=1e-05, vect__ngram_range=(1, 2), score=0.04526208205577457, total= 1.6min\n",
      "[CV] clf__C=0.31622776601683794, vect__ngram_range=(1, 2) ............\n",
      "[CV]  clf__C=1e-05, vect__ngram_range=(1, 2), score=0.044960116026105876, total= 1.6min\n",
      "[CV] clf__C=0.31622776601683794, vect__ngram_range=(1, 2) ............\n",
      "[CV]  clf__C=0.00031622776601683794, vect__ngram_range=(1, 2), score=0.04570840681951793, total= 1.2min\n",
      "[CV] clf__C=0.31622776601683794, vect__ngram_range=(1, 2) ............\n",
      "[CV]  clf__C=0.00031622776601683794, vect__ngram_range=(1, 2), score=0.04555409548839247, total= 1.2min\n",
      "[CV] clf__C=0.31622776601683794, vect__ngram_range=(1, 2) ............\n",
      "[CV]  clf__C=0.00031622776601683794, vect__ngram_range=(1, 2), score=0.046511627906976744, total= 1.2min\n",
      "[CV] clf__C=0.31622776601683794, vect__ngram_range=(1, 2) ............\n",
      "[CV]  clf__C=0.00031622776601683794, vect__ngram_range=(1, 2), score=0.04622907097347755, total= 1.3min\n"
     ]
    },
    {
     "name": "stderr",
     "output_type": "stream",
     "text": [
      "[Parallel(n_jobs=-1)]: Done  25 out of  50 | elapsed:  2.0min remaining:  2.0min\n"
     ]
    },
    {
     "name": "stdout",
     "output_type": "stream",
     "text": [
      "[CV] clf__C=10.0, vect__ngram_range=(1, 1) ...........................\n",
      "[CV]  clf__C=0.31622776601683794, vect__ngram_range=(1, 1), score=0.5758504891224996, total=  31.9s\n",
      "[CV] clf__C=10.0, vect__ngram_range=(1, 1) ...........................\n",
      "[CV]  clf__C=0.31622776601683794, vect__ngram_range=(1, 1), score=0.7836113125453227, total=  33.6s\n",
      "[CV] clf__C=10.0, vect__ngram_range=(1, 1) ...........................\n",
      "[CV]  clf__C=0.31622776601683794, vect__ngram_range=(1, 1), score=0.5564373897707231, total=  31.7s\n",
      "[CV] clf__C=10.0, vect__ngram_range=(1, 1) ...........................\n",
      "[CV]  clf__C=0.31622776601683794, vect__ngram_range=(1, 1), score=0.552822640391169, total=  32.5s\n",
      "[CV] clf__C=10.0, vect__ngram_range=(1, 1) ...........................\n",
      "[CV]  clf__C=0.31622776601683794, vect__ngram_range=(1, 1), score=0.5575432319618366, total=  36.0s\n",
      "[CV] clf__C=10.0, vect__ngram_range=(1, 2) ...........................\n",
      "[CV]  clf__C=0.01, vect__ngram_range=(1, 2), score=0.34677302393038434, total= 1.6min\n"
     ]
    },
    {
     "name": "stderr",
     "output_type": "stream",
     "text": [
      "[Parallel(n_jobs=-1)]: Done  31 out of  50 | elapsed:  2.5min remaining:  1.5min\n"
     ]
    },
    {
     "name": "stdout",
     "output_type": "stream",
     "text": [
      "[CV] clf__C=10.0, vect__ngram_range=(1, 2) ...........................\n",
      "[CV]  clf__C=0.01, vect__ngram_range=(1, 2), score=0.2943495400788436, total= 1.6min\n",
      "[CV] clf__C=10.0, vect__ngram_range=(1, 2) ...........................\n",
      "[CV]  clf__C=0.01, vect__ngram_range=(1, 2), score=0.2907097347755223, total= 1.6min\n",
      "[CV] clf__C=10.0, vect__ngram_range=(1, 2) ...........................\n",
      "[CV]  clf__C=0.01, vect__ngram_range=(1, 2), score=0.2893559928443649, total= 1.6min\n",
      "[CV] clf__C=10.0, vect__ngram_range=(1, 2) ...........................\n",
      "[CV]  clf__C=0.01, vect__ngram_range=(1, 2), score=0.2839506172839506, total= 1.7min\n",
      "[CV]  clf__C=0.31622776601683794, vect__ngram_range=(1, 2), score=0.601401664476566, total= 1.8min\n",
      "[CV]  clf__C=0.31622776601683794, vect__ngram_range=(1, 2), score=0.8269760696156635, total= 2.0min\n"
     ]
    },
    {
     "name": "stderr",
     "output_type": "stream",
     "text": [
      "[Parallel(n_jobs=-1)]: Done  37 out of  50 | elapsed:  3.8min remaining:  1.3min\n"
     ]
    },
    {
     "name": "stdout",
     "output_type": "stream",
     "text": [
      "[CV]  clf__C=0.31622776601683794, vect__ngram_range=(1, 2), score=0.569077013521458, total= 1.9min\n",
      "[CV]  clf__C=0.31622776601683794, vect__ngram_range=(1, 2), score=0.5744554748851681, total= 1.9min\n",
      "[CV]  clf__C=0.31622776601683794, vect__ngram_range=(1, 2), score=0.5733452593917711, total= 1.8min\n",
      "[CV]  clf__C=10.0, vect__ngram_range=(1, 1), score=0.5232216343327455, total= 1.9min\n",
      "[CV]  clf__C=10.0, vect__ngram_range=(1, 1), score=0.8134880348078317, total= 2.0min\n",
      "[CV]  clf__C=10.0, vect__ngram_range=(1, 1), score=0.5609578040589868, total= 2.0min\n"
     ]
    },
    {
     "name": "stderr",
     "output_type": "stream",
     "text": [
      "[Parallel(n_jobs=-1)]: Done  43 out of  50 | elapsed:  4.1min remaining:   39.9s\n"
     ]
    },
    {
     "name": "stdout",
     "output_type": "stream",
     "text": [
      "[CV]  clf__C=10.0, vect__ngram_range=(1, 1), score=0.5249666617276634, total= 1.9min\n",
      "[CV]  clf__C=10.0, vect__ngram_range=(1, 1), score=0.5313059033989267, total= 1.9min\n",
      "[CV]  clf__C=10.0, vect__ngram_range=(1, 2), score=0.8279912980420595, total= 7.2min\n",
      "[CV]  clf__C=10.0, vect__ngram_range=(1, 2), score=0.5946853555263543, total= 7.3min\n",
      "[CV]  clf__C=10.0, vect__ngram_range=(1, 2), score=0.5659905937683716, total= 6.9min\n",
      "[CV]  clf__C=10.0, vect__ngram_range=(1, 2), score=0.5669350029815146, total= 6.8min\n",
      "[CV]  clf__C=10.0, vect__ngram_range=(1, 2), score=0.570751222403319, total= 7.0min\n"
     ]
    },
    {
     "name": "stderr",
     "output_type": "stream",
     "text": [
      "[Parallel(n_jobs=-1)]: Done  50 out of  50 | elapsed: 10.2min finished\n"
     ]
    },
    {
     "name": "stdout",
     "output_type": "stream",
     "text": [
      "\n",
      "Classifier: Linear SVC\n",
      "Vectorizer: TfidfVectorizer\n",
      "Score: 0.6298\n",
      "Params: {'clf__C': 0.31622776601683794, 'vect__ngram_range': (1, 2)}\n",
      "------------------------------\n",
      "            \n",
      "Fitting 5 folds for each of 10 candidates, totalling 50 fits\n"
     ]
    },
    {
     "name": "stderr",
     "output_type": "stream",
     "text": [
      "/home/ec2-user/anaconda3/envs/python3/lib/python3.6/site-packages/sklearn/model_selection/_split.py:605: Warning: The least populated class in y has only 1 members, which is too few. The minimum number of members in any class cannot be less than n_splits=5.\n",
      "  % (min_groups, self.n_splits)), Warning)\n"
     ]
    },
    {
     "name": "stdout",
     "output_type": "stream",
     "text": [
      "[CV] clf__C=1e-05, vect__ngram_range=(1, 1) ..........................\n",
      "[CV] clf__C=1e-05, vect__ngram_range=(1, 1) ..........................\n",
      "[CV] clf__C=1e-05, vect__ngram_range=(1, 1) ..........................\n",
      "[CV] clf__C=1e-05, vect__ngram_range=(1, 1) ..........................\n",
      "[CV] clf__C=1e-05, vect__ngram_range=(1, 1) ..........................\n",
      "[CV] clf__C=1e-05, vect__ngram_range=(1, 2) ..........................\n",
      "[CV] clf__C=1e-05, vect__ngram_range=(1, 2) ..........................\n",
      "[CV] clf__C=1e-05, vect__ngram_range=(1, 2) ..........................\n",
      "[CV] clf__C=1e-05, vect__ngram_range=(1, 2) ..........................\n",
      "[CV] clf__C=1e-05, vect__ngram_range=(1, 2) ..........................\n",
      "[CV] clf__C=0.00031622776601683794, vect__ngram_range=(1, 1) .........\n",
      "[CV] clf__C=0.00031622776601683794, vect__ngram_range=(1, 1) .........\n",
      "[CV] clf__C=0.00031622776601683794, vect__ngram_range=(1, 1) .........\n",
      "[CV] clf__C=0.00031622776601683794, vect__ngram_range=(1, 1) .........\n",
      "[CV] clf__C=0.00031622776601683794, vect__ngram_range=(1, 1) .........\n",
      "[CV] clf__C=0.00031622776601683794, vect__ngram_range=(1, 2) .........\n",
      "[CV]  clf__C=0.00031622776601683794, vect__ngram_range=(1, 1), score=0.2807172251616696, total=  34.6s\n",
      "[CV] clf__C=0.00031622776601683794, vect__ngram_range=(1, 2) .........\n",
      "[CV]  clf__C=0.00031622776601683794, vect__ngram_range=(1, 1), score=0.3003358154475106, total=  34.7s\n",
      "[CV] clf__C=0.00031622776601683794, vect__ngram_range=(1, 2) .........\n",
      "[CV]  clf__C=0.00031622776601683794, vect__ngram_range=(1, 1), score=0.29546809779367916, total=  35.3s\n",
      "[CV] clf__C=0.00031622776601683794, vect__ngram_range=(1, 2) .........\n",
      "[CV]  clf__C=0.00031622776601683794, vect__ngram_range=(1, 1), score=0.336620739666425, total=  35.8s\n",
      "[CV] clf__C=0.00031622776601683794, vect__ngram_range=(1, 2) .........\n",
      "[CV]  clf__C=0.00031622776601683794, vect__ngram_range=(1, 1), score=0.2930804563639058, total=  36.0s\n",
      "[CV] clf__C=0.01, vect__ngram_range=(1, 1) ...........................\n",
      "[CV]  clf__C=1e-05, vect__ngram_range=(1, 1), score=0.057638168617572975, total=  46.3s\n",
      "[CV] clf__C=0.01, vect__ngram_range=(1, 1) ...........................\n",
      "[CV]  clf__C=1e-05, vect__ngram_range=(1, 1), score=0.05805408583186361, total=  47.1s\n",
      "[CV] clf__C=0.01, vect__ngram_range=(1, 1) ...........................\n",
      "[CV]  clf__C=1e-05, vect__ngram_range=(1, 1), score=0.05635859249525478, total=  48.6s\n",
      "[CV] clf__C=0.01, vect__ngram_range=(1, 1) ...........................\n",
      "[CV]  clf__C=1e-05, vect__ngram_range=(1, 1), score=0.05670775924583031, total=  50.0s\n",
      "[CV] clf__C=0.01, vect__ngram_range=(1, 1) ...........................\n"
     ]
    },
    {
     "name": "stderr",
     "output_type": "stream",
     "text": [
      "[Parallel(n_jobs=-1)]: Done   9 tasks      | elapsed:   52.8s\n"
     ]
    },
    {
     "name": "stdout",
     "output_type": "stream",
     "text": [
      "[CV]  clf__C=1e-05, vect__ngram_range=(1, 1), score=0.05828861061419201, total=  50.9s\n",
      "[CV] clf__C=0.01, vect__ngram_range=(1, 2) ...........................\n",
      "[CV]  clf__C=0.00031622776601683794, vect__ngram_range=(1, 2), score=0.42741116751269037, total= 1.4min\n",
      "[CV] clf__C=0.01, vect__ngram_range=(1, 2) ...........................\n",
      "[CV]  clf__C=0.01, vect__ngram_range=(1, 1), score=0.696881798404641, total= 1.1min\n",
      "[CV] clf__C=0.01, vect__ngram_range=(1, 2) ...........................\n",
      "[CV]  clf__C=1e-05, vect__ngram_range=(1, 2), score=0.060453400503778336, total= 1.9min\n",
      "[CV] clf__C=0.01, vect__ngram_range=(1, 2) ...........................\n",
      "[CV]  clf__C=1e-05, vect__ngram_range=(1, 2), score=0.06163886874546773, total= 1.9min\n",
      "[CV]  clf__C=1e-05, vect__ngram_range=(1, 2), score=0.05963029218843172, total= 1.9min\n",
      "[CV] clf__C=0.01, vect__ngram_range=(1, 2) ...........................\n",
      "[CV] clf__C=0.31622776601683794, vect__ngram_range=(1, 1) ............\n",
      "[CV]  clf__C=0.01, vect__ngram_range=(1, 1), score=0.512198706643151, total= 1.2min\n",
      "[CV] clf__C=0.31622776601683794, vect__ngram_range=(1, 1) ............\n",
      "[CV]  clf__C=0.01, vect__ngram_range=(1, 1), score=0.5073344199140614, total= 1.2min\n",
      "[CV]  clf__C=1e-05, vect__ngram_range=(1, 2), score=0.061875367430922985, total= 2.0min\n",
      "[CV] clf__C=0.31622776601683794, vect__ngram_range=(1, 1) ............\n"
     ]
    },
    {
     "name": "stderr",
     "output_type": "stream",
     "text": [
      "[Parallel(n_jobs=-1)]: Done  18 tasks      | elapsed:  2.1min\n"
     ]
    },
    {
     "name": "stdout",
     "output_type": "stream",
     "text": [
      "[CV] clf__C=0.31622776601683794, vect__ngram_range=(1, 1) ............\n",
      "[CV]  clf__C=0.01, vect__ngram_range=(1, 1), score=0.5327785078113593, total= 1.2min\n",
      "[CV] clf__C=0.31622776601683794, vect__ngram_range=(1, 1) ............\n",
      "[CV]  clf__C=1e-05, vect__ngram_range=(1, 2), score=0.057672652942035336, total= 2.0min\n",
      "[CV]  clf__C=0.01, vect__ngram_range=(1, 1), score=0.5158020274299344, total= 1.2min\n",
      "[CV] clf__C=0.31622776601683794, vect__ngram_range=(1, 2) ............\n",
      "[CV] clf__C=0.31622776601683794, vect__ngram_range=(1, 2) ............\n",
      "[CV]  clf__C=0.00031622776601683794, vect__ngram_range=(1, 2), score=0.31819517930629043, total= 1.4min\n",
      "[CV] clf__C=0.31622776601683794, vect__ngram_range=(1, 2) ............\n",
      "[CV]  clf__C=0.00031622776601683794, vect__ngram_range=(1, 2), score=0.32804859979256185, total= 1.4min\n",
      "[CV] clf__C=0.31622776601683794, vect__ngram_range=(1, 2) ............\n",
      "[CV]  clf__C=0.00031622776601683794, vect__ngram_range=(1, 2), score=0.33902759526938236, total= 1.5min\n",
      "[CV] clf__C=0.31622776601683794, vect__ngram_range=(1, 2) ............\n",
      "[CV]  clf__C=0.00031622776601683794, vect__ngram_range=(1, 2), score=0.33482409063804414, total= 1.5min\n"
     ]
    },
    {
     "name": "stderr",
     "output_type": "stream",
     "text": [
      "[Parallel(n_jobs=-1)]: Done  25 out of  50 | elapsed:  2.3min remaining:  2.3min\n"
     ]
    },
    {
     "name": "stdout",
     "output_type": "stream",
     "text": [
      "[CV] clf__C=10.0, vect__ngram_range=(1, 1) ...........................\n",
      "[CV]  clf__C=0.01, vect__ngram_range=(1, 2), score=0.8002900652646846, total= 2.8min\n",
      "[CV] clf__C=10.0, vect__ngram_range=(1, 1) ...........................\n",
      "[CV]  clf__C=0.31622776601683794, vect__ngram_range=(1, 1), score=0.8011602610587382, total= 1.9min\n",
      "[CV] clf__C=10.0, vect__ngram_range=(1, 1) ...........................\n",
      "[CV]  clf__C=0.31622776601683794, vect__ngram_range=(1, 1), score=0.5406628704920426, total= 1.9min\n",
      "[CV] clf__C=10.0, vect__ngram_range=(1, 1) ...........................\n",
      "[CV]  clf__C=0.31622776601683794, vect__ngram_range=(1, 1), score=0.5193798449612403, total= 1.9min\n",
      "[CV] clf__C=10.0, vect__ngram_range=(1, 1) ...........................\n",
      "[CV]  clf__C=0.31622776601683794, vect__ngram_range=(1, 1), score=0.5091122868900647, total= 2.0min\n",
      "[CV] clf__C=10.0, vect__ngram_range=(1, 2) ...........................\n",
      "[CV]  clf__C=0.31622776601683794, vect__ngram_range=(1, 1), score=0.5119276929915543, total= 2.0min\n",
      "[CV] clf__C=10.0, vect__ngram_range=(1, 2) ...........................\n"
     ]
    },
    {
     "name": "stderr",
     "output_type": "stream",
     "text": [
      "[Parallel(n_jobs=-1)]: Done  31 out of  50 | elapsed:  4.1min remaining:  2.5min\n"
     ]
    },
    {
     "name": "stdout",
     "output_type": "stream",
     "text": [
      "[CV]  clf__C=10.0, vect__ngram_range=(1, 1), score=0.7904278462654097, total= 2.1min\n",
      "[CV] clf__C=10.0, vect__ngram_range=(1, 2) ...........................\n",
      "[CV]  clf__C=0.01, vect__ngram_range=(1, 2), score=0.5789166301649876, total= 3.1min\n",
      "[CV] clf__C=10.0, vect__ngram_range=(1, 2) ...........................\n",
      "[CV]  clf__C=0.01, vect__ngram_range=(1, 2), score=0.5518812463256908, total= 3.1min\n",
      "[CV] clf__C=10.0, vect__ngram_range=(1, 2) ...........................\n",
      "[CV]  clf__C=0.01, vect__ngram_range=(1, 2), score=0.5511927692991554, total= 3.1min\n",
      "[CV]  clf__C=0.01, vect__ngram_range=(1, 2), score=0.5562015503875969, total= 3.1min\n",
      "[CV]  clf__C=10.0, vect__ngram_range=(1, 1), score=0.48488830486202367, total= 2.2min\n"
     ]
    },
    {
     "name": "stderr",
     "output_type": "stream",
     "text": [
      "[Parallel(n_jobs=-1)]: Done  37 out of  50 | elapsed:  6.1min remaining:  2.1min\n"
     ]
    },
    {
     "name": "stdout",
     "output_type": "stream",
     "text": [
      "[CV]  clf__C=10.0, vect__ngram_range=(1, 1), score=0.45960047704233753, total= 2.2min\n",
      "[CV]  clf__C=10.0, vect__ngram_range=(1, 1), score=0.4421395762335161, total= 2.2min\n",
      "[CV]  clf__C=10.0, vect__ngram_range=(1, 1), score=0.43797766019988243, total= 2.3min\n",
      "[CV]  clf__C=0.31622776601683794, vect__ngram_range=(1, 2), score=0.5332438878950507, total= 5.2min\n",
      "[CV]  clf__C=0.31622776601683794, vect__ngram_range=(1, 2), score=0.531041635797896, total= 5.8min\n",
      "[CV]  clf__C=0.31622776601683794, vect__ngram_range=(1, 2), score=0.522633744855967, total= 6.2min\n"
     ]
    },
    {
     "name": "stderr",
     "output_type": "stream",
     "text": [
      "[Parallel(n_jobs=-1)]: Done  43 out of  50 | elapsed:  8.4min remaining:  1.4min\n"
     ]
    },
    {
     "name": "stdout",
     "output_type": "stream",
     "text": [
      "[CV]  clf__C=0.31622776601683794, vect__ngram_range=(1, 2), score=0.8184191443074692, total= 6.5min\n",
      "[CV]  clf__C=0.31622776601683794, vect__ngram_range=(1, 2), score=0.5584756898817346, total= 6.6min\n",
      "[CV]  clf__C=10.0, vect__ngram_range=(1, 2), score=0.7897026831036983, total= 5.2min\n",
      "[CV]  clf__C=10.0, vect__ngram_range=(1, 2), score=0.4882464593371295, total= 5.5min\n",
      "[CV]  clf__C=10.0, vect__ngram_range=(1, 2), score=0.4434156378600823, total= 5.2min\n",
      "[CV]  clf__C=10.0, vect__ngram_range=(1, 2), score=0.4627310673822302, total= 5.1min\n",
      "[CV]  clf__C=10.0, vect__ngram_range=(1, 2), score=0.45028893169358425, total= 5.5min\n"
     ]
    },
    {
     "name": "stderr",
     "output_type": "stream",
     "text": [
      "[Parallel(n_jobs=-1)]: Done  50 out of  50 | elapsed: 10.3min finished\n"
     ]
    },
    {
     "name": "stdout",
     "output_type": "stream",
     "text": [
      "\n",
      "Classifier: Linear SVC\n",
      "Vectorizer: CountVectorizer\n",
      "Score: 0.6084\n",
      "Params: {'clf__C': 0.01, 'vect__ngram_range': (1, 2)}\n",
      "------------------------------\n",
      "            \n",
      "Fitting 5 folds for each of 10 candidates, totalling 50 fits\n"
     ]
    },
    {
     "name": "stderr",
     "output_type": "stream",
     "text": [
      "/home/ec2-user/anaconda3/envs/python3/lib/python3.6/site-packages/sklearn/model_selection/_split.py:605: Warning: The least populated class in y has only 1 members, which is too few. The minimum number of members in any class cannot be less than n_splits=5.\n",
      "  % (min_groups, self.n_splits)), Warning)\n"
     ]
    },
    {
     "name": "stdout",
     "output_type": "stream",
     "text": [
      "[CV] clf__C=1e-05, vect__ngram_range=(1, 1) ..........................\n",
      "[CV] clf__C=1e-05, vect__ngram_range=(1, 1) ..........................\n",
      "[CV] clf__C=1e-05, vect__ngram_range=(1, 1) ..........................\n",
      "[CV] clf__C=1e-05, vect__ngram_range=(1, 1) ..........................\n",
      "[CV] clf__C=1e-05, vect__ngram_range=(1, 1) ..........................\n",
      "[CV] clf__C=1e-05, vect__ngram_range=(1, 2) ..........................\n",
      "[CV] clf__C=1e-05, vect__ngram_range=(1, 2) ..........................\n",
      "[CV] clf__C=1e-05, vect__ngram_range=(1, 2) ..........................\n",
      "[CV] clf__C=1e-05, vect__ngram_range=(1, 2) ..........................\n",
      "[CV] clf__C=1e-05, vect__ngram_range=(1, 2) ..........................\n",
      "[CV] clf__C=0.00031622776601683794, vect__ngram_range=(1, 1) .........\n",
      "[CV] clf__C=0.00031622776601683794, vect__ngram_range=(1, 1) .........\n",
      "[CV] clf__C=0.00031622776601683794, vect__ngram_range=(1, 1) .........\n",
      "[CV] clf__C=0.00031622776601683794, vect__ngram_range=(1, 1) .........\n",
      "[CV] clf__C=0.00031622776601683794, vect__ngram_range=(1, 1) .........\n",
      "[CV] clf__C=0.00031622776601683794, vect__ngram_range=(1, 2) .........\n",
      "[CV]  clf__C=1e-05, vect__ngram_range=(1, 1), score=0.04593273077492962, total= 4.1min\n",
      "[CV] clf__C=0.00031622776601683794, vect__ngram_range=(1, 2) .........\n",
      "[CV]  clf__C=1e-05, vect__ngram_range=(1, 1), score=0.04526208205577457, total= 4.2min\n",
      "[CV] clf__C=0.00031622776601683794, vect__ngram_range=(1, 2) .........\n",
      "[CV]  clf__C=1e-05, vect__ngram_range=(1, 1), score=0.044960116026105876, total= 4.2min\n",
      "[CV] clf__C=0.00031622776601683794, vect__ngram_range=(1, 2) .........\n",
      "[CV]  clf__C=1e-05, vect__ngram_range=(1, 1), score=0.04556143445032334, total= 4.3min\n",
      "[CV]  clf__C=1e-05, vect__ngram_range=(1, 1), score=0.04606440071556351, total= 4.3min\n",
      "[CV] clf__C=0.00031622776601683794, vect__ngram_range=(1, 2) .........\n",
      "[CV] clf__C=0.01, vect__ngram_range=(1, 1) ...........................\n",
      "[CV]  clf__C=0.00031622776601683794, vect__ngram_range=(1, 1), score=0.04606440071556351, total= 6.5min\n",
      "[CV] clf__C=0.01, vect__ngram_range=(1, 1) ...........................\n",
      "[CV]  clf__C=0.00031622776601683794, vect__ngram_range=(1, 1), score=0.04556143445032334, total= 6.5min\n",
      "[CV] clf__C=0.01, vect__ngram_range=(1, 1) ...........................\n",
      "[CV]  clf__C=0.00031622776601683794, vect__ngram_range=(1, 1), score=0.04526208205577457, total= 6.5min\n",
      "[CV] clf__C=0.01, vect__ngram_range=(1, 1) ...........................\n",
      "[CV]  clf__C=0.00031622776601683794, vect__ngram_range=(1, 1), score=0.044960116026105876, total= 6.5min\n"
     ]
    },
    {
     "name": "stderr",
     "output_type": "stream",
     "text": [
      "[Parallel(n_jobs=-1)]: Done   9 tasks      | elapsed:  6.8min\n"
     ]
    },
    {
     "name": "stdout",
     "output_type": "stream",
     "text": [
      "[CV] clf__C=0.01, vect__ngram_range=(1, 1) ...........................\n",
      "[CV]  clf__C=0.00031622776601683794, vect__ngram_range=(1, 1), score=0.04593273077492962, total= 6.6min\n",
      "[CV] clf__C=0.01, vect__ngram_range=(1, 2) ...........................\n",
      "[CV]  clf__C=1e-05, vect__ngram_range=(1, 2), score=0.04526208205577457, total= 9.9min\n",
      "[CV] clf__C=0.01, vect__ngram_range=(1, 2) ...........................\n",
      "[CV]  clf__C=1e-05, vect__ngram_range=(1, 2), score=0.04556143445032334, total= 9.9min\n",
      "[CV] clf__C=0.01, vect__ngram_range=(1, 2) ...........................\n",
      "[CV]  clf__C=1e-05, vect__ngram_range=(1, 2), score=0.04606440071556351, total=10.0min\n",
      "[CV]  clf__C=1e-05, vect__ngram_range=(1, 2), score=0.04593273077492962, total=10.0min\n",
      "[CV] clf__C=0.01, vect__ngram_range=(1, 2) ...........................\n",
      "[CV] clf__C=0.01, vect__ngram_range=(1, 2) ...........................\n",
      "[CV]  clf__C=1e-05, vect__ngram_range=(1, 2), score=0.044960116026105876, total=10.2min\n",
      "[CV] clf__C=0.31622776601683794, vect__ngram_range=(1, 1) ............\n",
      "[CV]  clf__C=0.01, vect__ngram_range=(1, 1), score=0.04945612762871646, total= 9.1min\n",
      "[CV] clf__C=0.31622776601683794, vect__ngram_range=(1, 1) ............\n",
      "[CV]  clf__C=0.00031622776601683794, vect__ngram_range=(1, 2), score=0.044960116026105876, total=14.3min\n",
      "[CV] clf__C=0.31622776601683794, vect__ngram_range=(1, 1) ............\n",
      "[CV]  clf__C=0.01, vect__ngram_range=(1, 1), score=0.04776601998824221, total= 9.3min\n"
     ]
    },
    {
     "name": "stderr",
     "output_type": "stream",
     "text": [
      "[Parallel(n_jobs=-1)]: Done  18 tasks      | elapsed: 16.3min\n"
     ]
    },
    {
     "name": "stdout",
     "output_type": "stream",
     "text": [
      "[CV] clf__C=0.31622776601683794, vect__ngram_range=(1, 1) ............\n",
      "[CV]  clf__C=0.01, vect__ngram_range=(1, 1), score=0.04818221638195357, total= 9.3min\n",
      "[CV] clf__C=0.31622776601683794, vect__ngram_range=(1, 1) ............\n",
      "[CV]  clf__C=0.01, vect__ngram_range=(1, 1), score=0.04889683959451401, total= 9.3min\n",
      "[CV] clf__C=0.31622776601683794, vect__ngram_range=(1, 2) ............\n",
      "[CV]  clf__C=0.01, vect__ngram_range=(1, 1), score=0.048747962661134986, total= 9.6min\n",
      "[CV] clf__C=0.31622776601683794, vect__ngram_range=(1, 2) ............\n",
      "[CV]  clf__C=0.00031622776601683794, vect__ngram_range=(1, 2), score=0.04556143445032334, total=14.1min\n",
      "[CV] clf__C=0.31622776601683794, vect__ngram_range=(1, 2) ............\n",
      "[CV]  clf__C=0.00031622776601683794, vect__ngram_range=(1, 2), score=0.04526208205577457, total=14.2min\n",
      "[CV] clf__C=0.31622776601683794, vect__ngram_range=(1, 2) ............\n",
      "[CV]  clf__C=0.00031622776601683794, vect__ngram_range=(1, 2), score=0.04593273077492962, total=14.1min\n",
      "[CV] clf__C=0.31622776601683794, vect__ngram_range=(1, 2) ............\n",
      "[CV]  clf__C=0.00031622776601683794, vect__ngram_range=(1, 2), score=0.04606440071556351, total=14.2min\n"
     ]
    },
    {
     "name": "stderr",
     "output_type": "stream",
     "text": [
      "[Parallel(n_jobs=-1)]: Done  25 out of  50 | elapsed: 19.3min remaining: 19.3min\n"
     ]
    },
    {
     "name": "stdout",
     "output_type": "stream",
     "text": [
      "[CV] clf__C=10.0, vect__ngram_range=(1, 1) ...........................\n",
      "[CV]  clf__C=0.31622776601683794, vect__ngram_range=(1, 1), score=0.21029731689630166, total=13.3min\n",
      "[CV] clf__C=10.0, vect__ngram_range=(1, 1) ...........................\n",
      "[CV]  clf__C=0.31622776601683794, vect__ngram_range=(1, 1), score=0.19491896627244854, total=13.6min\n",
      "[CV] clf__C=10.0, vect__ngram_range=(1, 1) ...........................\n",
      "[CV]  clf__C=0.31622776601683794, vect__ngram_range=(1, 1), score=0.1853321575543798, total=13.3min\n",
      "[CV] clf__C=10.0, vect__ngram_range=(1, 1) ...........................\n",
      "[CV]  clf__C=0.01, vect__ngram_range=(1, 2), score=0.044960116026105876, total=23.2min\n",
      "[CV] clf__C=10.0, vect__ngram_range=(1, 1) ...........................\n",
      "[CV]  clf__C=0.31622776601683794, vect__ngram_range=(1, 1), score=0.19173210846051267, total=14.2min\n",
      "[CV] clf__C=10.0, vect__ngram_range=(1, 2) ...........................\n",
      "[CV]  clf__C=0.31622776601683794, vect__ngram_range=(1, 1), score=0.1972271914132379, total=14.2min\n"
     ]
    },
    {
     "name": "stderr",
     "output_type": "stream",
     "text": [
      "[Parallel(n_jobs=-1)]: Done  31 out of  50 | elapsed: 30.8min remaining: 18.9min\n"
     ]
    },
    {
     "name": "stdout",
     "output_type": "stream",
     "text": [
      "[CV] clf__C=10.0, vect__ngram_range=(1, 2) ...........................\n",
      "[CV]  clf__C=0.01, vect__ngram_range=(1, 2), score=0.04526208205577457, total=22.3min\n",
      "[CV] clf__C=10.0, vect__ngram_range=(1, 2) ...........................\n",
      "[CV]  clf__C=0.01, vect__ngram_range=(1, 2), score=0.04593273077492962, total=22.4min\n",
      "[CV] clf__C=10.0, vect__ngram_range=(1, 2) ...........................\n",
      "[CV]  clf__C=0.01, vect__ngram_range=(1, 2), score=0.04606440071556351, total=22.5min\n",
      "[CV] clf__C=10.0, vect__ngram_range=(1, 2) ...........................\n",
      "[CV]  clf__C=0.01, vect__ngram_range=(1, 2), score=0.04570840681951793, total=22.6min\n",
      "[CV]  clf__C=0.31622776601683794, vect__ngram_range=(1, 2), score=0.08293181486348372, total=28.3min\n",
      "[CV]  clf__C=0.31622776601683794, vect__ngram_range=(1, 2), score=0.09064539521392313, total=28.8min\n"
     ]
    },
    {
     "name": "stderr",
     "output_type": "stream",
     "text": [
      "[Parallel(n_jobs=-1)]: Done  37 out of  50 | elapsed: 45.8min remaining: 16.1min\n"
     ]
    },
    {
     "name": "stdout",
     "output_type": "stream",
     "text": [
      "[CV]  clf__C=10.0, vect__ngram_range=(1, 1), score=0.8001450326323423, total=27.9min\n",
      "[CV]  clf__C=0.31622776601683794, vect__ngram_range=(1, 2), score=0.0805408583186361, total=28.1min\n",
      "[CV]  clf__C=0.31622776601683794, vect__ngram_range=(1, 2), score=0.08164172469995555, total=28.3min\n",
      "[CV]  clf__C=0.31622776601683794, vect__ngram_range=(1, 2), score=0.08348240906380441, total=28.3min\n",
      "[CV]  clf__C=10.0, vect__ngram_range=(1, 1), score=0.5625638779383851, total=25.8min\n",
      "[CV]  clf__C=10.0, vect__ngram_range=(1, 1), score=0.5358612580834803, total=23.7min\n"
     ]
    },
    {
     "name": "stderr",
     "output_type": "stream",
     "text": [
      "[Parallel(n_jobs=-1)]: Done  43 out of  50 | elapsed: 51.8min remaining:  8.4min\n"
     ]
    },
    {
     "name": "stdout",
     "output_type": "stream",
     "text": [
      "[CV]  clf__C=10.0, vect__ngram_range=(1, 1), score=0.5387464809601422, total=23.6min\n",
      "[CV]  clf__C=10.0, vect__ngram_range=(1, 1), score=0.541293977340489, total=22.1min\n",
      "[CV]  clf__C=10.0, vect__ngram_range=(1, 2), score=0.8178390137781001, total=32.2min\n",
      "[CV]  clf__C=10.0, vect__ngram_range=(1, 2), score=0.5691341801722879, total=32.3min\n",
      "[CV]  clf__C=10.0, vect__ngram_range=(1, 2), score=0.5433397540376352, total=29.7min\n",
      "[CV]  clf__C=10.0, vect__ngram_range=(1, 2), score=0.5393885949441505, total=30.1min\n",
      "[CV]  clf__C=10.0, vect__ngram_range=(1, 2), score=0.5496422182468694, total=29.9min\n"
     ]
    },
    {
     "name": "stderr",
     "output_type": "stream",
     "text": [
      "[Parallel(n_jobs=-1)]: Done  50 out of  50 | elapsed: 63.6min finished\n"
     ]
    },
    {
     "name": "stdout",
     "output_type": "stream",
     "text": [
      "\n",
      "Classifier: Logistic Regression\n",
      "Vectorizer: TfidfVectorizer\n",
      "Score: 0.6046\n",
      "Params: {'clf__C': 10.0, 'vect__ngram_range': (1, 2)}\n",
      "------------------------------\n",
      "            \n",
      "Fitting 5 folds for each of 10 candidates, totalling 50 fits\n"
     ]
    },
    {
     "name": "stderr",
     "output_type": "stream",
     "text": [
      "/home/ec2-user/anaconda3/envs/python3/lib/python3.6/site-packages/sklearn/model_selection/_split.py:605: Warning: The least populated class in y has only 1 members, which is too few. The minimum number of members in any class cannot be less than n_splits=5.\n",
      "  % (min_groups, self.n_splits)), Warning)\n"
     ]
    },
    {
     "name": "stdout",
     "output_type": "stream",
     "text": [
      "[CV] clf__C=1e-05, vect__ngram_range=(1, 1) ..........................\n",
      "[CV] clf__C=1e-05, vect__ngram_range=(1, 1) ..........................\n",
      "[CV] clf__C=1e-05, vect__ngram_range=(1, 1) ..........................\n",
      "[CV] clf__C=1e-05, vect__ngram_range=(1, 1) ..........................\n",
      "[CV] clf__C=1e-05, vect__ngram_range=(1, 1) ..........................\n",
      "[CV] clf__C=1e-05, vect__ngram_range=(1, 2) ..........................\n",
      "[CV] clf__C=1e-05, vect__ngram_range=(1, 2) ..........................\n",
      "[CV] clf__C=1e-05, vect__ngram_range=(1, 2) ..........................\n",
      "[CV] clf__C=1e-05, vect__ngram_range=(1, 2) ..........................\n",
      "[CV] clf__C=1e-05, vect__ngram_range=(1, 2) ..........................\n",
      "[CV] clf__C=0.00031622776601683794, vect__ngram_range=(1, 1) .........\n",
      "[CV] clf__C=0.00031622776601683794, vect__ngram_range=(1, 1) .........\n",
      "[CV] clf__C=0.00031622776601683794, vect__ngram_range=(1, 1) .........\n",
      "[CV] clf__C=0.00031622776601683794, vect__ngram_range=(1, 1) .........\n",
      "[CV] clf__C=0.00031622776601683794, vect__ngram_range=(1, 1) .........\n",
      "[CV] clf__C=0.00031622776601683794, vect__ngram_range=(1, 2) .........\n",
      "[CV]  clf__C=1e-05, vect__ngram_range=(1, 1), score=0.05261610817166373, total= 8.0min\n",
      "[CV] clf__C=0.00031622776601683794, vect__ngram_range=(1, 2) .........\n",
      "[CV]  clf__C=1e-05, vect__ngram_range=(1, 1), score=0.05575432319618366, total= 8.0min\n",
      "[CV] clf__C=0.00031622776601683794, vect__ngram_range=(1, 2) .........\n",
      "[CV]  clf__C=1e-05, vect__ngram_range=(1, 1), score=0.05431449846692948, total= 8.0min\n",
      "[CV]  clf__C=1e-05, vect__ngram_range=(1, 1), score=0.05540246555474982, total= 8.0min\n",
      "[CV] clf__C=0.00031622776601683794, vect__ngram_range=(1, 2) .........\n",
      "[CV] clf__C=0.00031622776601683794, vect__ngram_range=(1, 2) .........\n",
      "[CV]  clf__C=1e-05, vect__ngram_range=(1, 1), score=0.053341235738627944, total= 8.1min\n",
      "[CV] clf__C=0.01, vect__ngram_range=(1, 1) ...........................\n",
      "[CV]  clf__C=0.00031622776601683794, vect__ngram_range=(1, 1), score=0.06323422770123278, total=12.3min\n",
      "[CV] clf__C=0.01, vect__ngram_range=(1, 1) ...........................\n",
      "[CV]  clf__C=0.00031622776601683794, vect__ngram_range=(1, 1), score=0.06290417401528513, total=12.6min\n",
      "[CV] clf__C=0.01, vect__ngram_range=(1, 1) ...........................\n",
      "[CV]  clf__C=0.00031622776601683794, vect__ngram_range=(1, 1), score=0.060453400503778336, total=12.6min\n",
      "[CV] clf__C=0.01, vect__ngram_range=(1, 1) ...........................\n",
      "[CV]  clf__C=0.00031622776601683794, vect__ngram_range=(1, 1), score=0.06469886702444842, total=12.6min\n"
     ]
    },
    {
     "name": "stderr",
     "output_type": "stream",
     "text": [
      "[Parallel(n_jobs=-1)]: Done   9 tasks      | elapsed: 12.9min\n"
     ]
    },
    {
     "name": "stdout",
     "output_type": "stream",
     "text": [
      "[CV] clf__C=0.01, vect__ngram_range=(1, 1) ...........................\n",
      "[CV]  clf__C=0.00031622776601683794, vect__ngram_range=(1, 1), score=0.06161483428237699, total=12.7min\n",
      "[CV] clf__C=0.01, vect__ngram_range=(1, 2) ...........................\n",
      "[CV]  clf__C=1e-05, vect__ngram_range=(1, 2), score=0.053203997648442095, total=18.8min\n",
      "[CV] clf__C=0.01, vect__ngram_range=(1, 2) ...........................\n",
      "[CV]  clf__C=1e-05, vect__ngram_range=(1, 2), score=0.053785746036449845, total=18.9min\n",
      "[CV] clf__C=0.01, vect__ngram_range=(1, 2) ...........................\n",
      "[CV]  clf__C=1e-05, vect__ngram_range=(1, 2), score=0.05577456563001898, total=19.0min\n",
      "[CV] clf__C=0.01, vect__ngram_range=(1, 2) ...........................\n",
      "[CV]  clf__C=1e-05, vect__ngram_range=(1, 2), score=0.05754323196183661, total=19.0min\n",
      "[CV] clf__C=0.01, vect__ngram_range=(1, 2) ...........................\n",
      "[CV]  clf__C=1e-05, vect__ngram_range=(1, 2), score=0.05786802030456853, total=19.3min\n",
      "[CV] clf__C=0.31622776601683794, vect__ngram_range=(1, 1) ............\n",
      "[CV]  clf__C=0.01, vect__ngram_range=(1, 1), score=0.28165337200870194, total=19.5min\n",
      "[CV] clf__C=0.31622776601683794, vect__ngram_range=(1, 1) ............\n",
      "[CV]  clf__C=0.00031622776601683794, vect__ngram_range=(1, 2), score=0.06889050036258158, total=30.3min\n",
      "[CV] clf__C=0.31622776601683794, vect__ngram_range=(1, 1) ............\n",
      "[CV]  clf__C=0.01, vect__ngram_range=(1, 1), score=0.23515579071134626, total=19.9min\n"
     ]
    },
    {
     "name": "stderr",
     "output_type": "stream",
     "text": [
      "[Parallel(n_jobs=-1)]: Done  18 tasks      | elapsed: 33.0min\n"
     ]
    },
    {
     "name": "stdout",
     "output_type": "stream",
     "text": [
      "[CV] clf__C=0.31622776601683794, vect__ngram_range=(1, 1) ............\n",
      "[CV]  clf__C=0.01, vect__ngram_range=(1, 1), score=0.2457293035479632, total=20.6min\n",
      "[CV] clf__C=0.31622776601683794, vect__ngram_range=(1, 1) ............\n",
      "[CV]  clf__C=0.01, vect__ngram_range=(1, 1), score=0.24299896280930508, total=20.4min\n",
      "[CV] clf__C=0.31622776601683794, vect__ngram_range=(1, 2) ............\n",
      "[CV]  clf__C=0.01, vect__ngram_range=(1, 1), score=0.24806201550387597, total=20.5min\n",
      "[CV] clf__C=0.31622776601683794, vect__ngram_range=(1, 2) ............\n",
      "[CV]  clf__C=0.00031622776601683794, vect__ngram_range=(1, 2), score=0.06775426219870664, total=29.2min\n",
      "[CV] clf__C=0.31622776601683794, vect__ngram_range=(1, 2) ............\n",
      "[CV]  clf__C=0.00031622776601683794, vect__ngram_range=(1, 2), score=0.06857483601669648, total=29.4min\n",
      "[CV] clf__C=0.31622776601683794, vect__ngram_range=(1, 2) ............\n",
      "[CV]  clf__C=0.00031622776601683794, vect__ngram_range=(1, 2), score=0.06599503577164549, total=29.4min\n",
      "[CV] clf__C=0.31622776601683794, vect__ngram_range=(1, 2) ............\n",
      "[CV]  clf__C=0.00031622776601683794, vect__ngram_range=(1, 2), score=0.06608386427618906, total=29.8min\n"
     ]
    },
    {
     "name": "stderr",
     "output_type": "stream",
     "text": [
      "[Parallel(n_jobs=-1)]: Done  25 out of  50 | elapsed: 38.6min remaining: 38.6min\n"
     ]
    },
    {
     "name": "stdout",
     "output_type": "stream",
     "text": [
      "[CV] clf__C=10.0, vect__ngram_range=(1, 1) ...........................\n",
      "[CV]  clf__C=0.01, vect__ngram_range=(1, 2), score=0.36185641769398114, total=49.4min\n",
      "[CV] clf__C=10.0, vect__ngram_range=(1, 1) ...........................\n",
      "[CV]  clf__C=0.31622776601683794, vect__ngram_range=(1, 1), score=0.6841189267585207, total=45.0min\n",
      "[CV] clf__C=10.0, vect__ngram_range=(1, 1) ...........................\n",
      "[CV]  clf__C=0.01, vect__ngram_range=(1, 2), score=0.270870076425632, total=47.7min\n",
      "[CV] clf__C=10.0, vect__ngram_range=(1, 1) ...........................\n",
      "[CV]  clf__C=0.01, vect__ngram_range=(1, 2), score=0.27678174544376943, total=49.0min\n",
      "[CV] clf__C=10.0, vect__ngram_range=(1, 1) ...........................\n",
      "[CV]  clf__C=0.01, vect__ngram_range=(1, 2), score=0.2826690027741276, total=49.8min\n",
      "[CV] clf__C=10.0, vect__ngram_range=(1, 2) ...........................\n",
      "[CV]  clf__C=0.01, vect__ngram_range=(1, 2), score=0.281902206320811, total=49.7min\n"
     ]
    },
    {
     "name": "stderr",
     "output_type": "stream",
     "text": [
      "[Parallel(n_jobs=-1)]: Done  31 out of  50 | elapsed: 69.8min remaining: 42.8min\n"
     ]
    },
    {
     "name": "stdout",
     "output_type": "stream",
     "text": [
      "[CV] clf__C=10.0, vect__ngram_range=(1, 2) ...........................\n",
      "[CV]  clf__C=0.31622776601683794, vect__ngram_range=(1, 1), score=0.49467075485472334, total=44.7min\n",
      "[CV] clf__C=10.0, vect__ngram_range=(1, 2) ...........................\n",
      "[CV]  clf__C=0.31622776601683794, vect__ngram_range=(1, 1), score=0.4691358024691358, total=43.7min\n",
      "[CV] clf__C=10.0, vect__ngram_range=(1, 2) ...........................\n",
      "[CV]  clf__C=0.31622776601683794, vect__ngram_range=(1, 1), score=0.4713290857904875, total=43.4min\n",
      "[CV] clf__C=10.0, vect__ngram_range=(1, 2) ...........................\n",
      "[CV]  clf__C=0.31622776601683794, vect__ngram_range=(1, 1), score=0.47883124627310675, total=44.2min\n",
      "[CV]  clf__C=10.0, vect__ngram_range=(1, 1), score=0.7984046410442349, total=91.1min\n",
      "[CV]  clf__C=0.31622776601683794, vect__ngram_range=(1, 2), score=0.5329245145276683, total=99.3min\n"
     ]
    },
    {
     "name": "stderr",
     "output_type": "stream",
     "text": [
      "[Parallel(n_jobs=-1)]: Done  37 out of  50 | elapsed: 133.6min remaining: 46.9min\n"
     ]
    },
    {
     "name": "stdout",
     "output_type": "stream",
     "text": [
      "[CV]  clf__C=0.31622776601683794, vect__ngram_range=(1, 2), score=0.5014697236919459, total=97.4min\n",
      "[CV]  clf__C=0.31622776601683794, vect__ngram_range=(1, 2), score=0.7696881798404641, total=104.1min\n",
      "[CV]  clf__C=0.31622776601683794, vect__ngram_range=(1, 2), score=0.5012594458438288, total=99.6min\n",
      "[CV]  clf__C=0.31622776601683794, vect__ngram_range=(1, 2), score=0.5120751341681574, total=100.0min\n",
      "[CV]  clf__C=10.0, vect__ngram_range=(1, 1), score=0.5298583734851803, total=80.7min\n",
      "[CV]  clf__C=10.0, vect__ngram_range=(1, 1), score=0.48927101704879483, total=79.1min\n"
     ]
    },
    {
     "name": "stderr",
     "output_type": "stream",
     "text": [
      "[Parallel(n_jobs=-1)]: Done  43 out of  50 | elapsed: 144.4min remaining: 23.5min\n"
     ]
    },
    {
     "name": "stdout",
     "output_type": "stream",
     "text": [
      "[CV]  clf__C=10.0, vect__ngram_range=(1, 1), score=0.4907393687953771, total=77.5min\n",
      "[CV]  clf__C=10.0, vect__ngram_range=(1, 1), score=0.5014907573047108, total=76.8min\n",
      "[CV]  clf__C=10.0, vect__ngram_range=(1, 2), score=0.49382716049382713, total=104.0min\n",
      "[CV]  clf__C=10.0, vect__ngram_range=(1, 2), score=0.5384727697474084, total=107.9min\n",
      "[CV]  clf__C=10.0, vect__ngram_range=(1, 2), score=0.4985923840568973, total=103.2min\n",
      "[CV]  clf__C=10.0, vect__ngram_range=(1, 2), score=0.5125223613595706, total=102.1min\n",
      "[CV]  clf__C=10.0, vect__ngram_range=(1, 2), score=0.8105873821609862, total=109.3min\n"
     ]
    },
    {
     "name": "stderr",
     "output_type": "stream",
     "text": [
      "[Parallel(n_jobs=-1)]: Done  50 out of  50 | elapsed: 179.1min finished\n"
     ]
    },
    {
     "name": "stdout",
     "output_type": "stream",
     "text": [
      "\n",
      "Classifier: Logistic Regression\n",
      "Vectorizer: CountVectorizer\n",
      "Score: 0.5717\n",
      "Params: {'clf__C': 10.0, 'vect__ngram_range': (1, 2)}\n",
      "------------------------------\n",
      "            \n",
      "Fitting 5 folds for each of 4 candidates, totalling 20 fits\n"
     ]
    },
    {
     "name": "stderr",
     "output_type": "stream",
     "text": [
      "/home/ec2-user/anaconda3/envs/python3/lib/python3.6/site-packages/sklearn/model_selection/_split.py:605: Warning: The least populated class in y has only 1 members, which is too few. The minimum number of members in any class cannot be less than n_splits=5.\n",
      "  % (min_groups, self.n_splits)), Warning)\n"
     ]
    },
    {
     "name": "stdout",
     "output_type": "stream",
     "text": [
      "[CV] clf__max_depth=1, vect__ngram_range=(1, 1) ......................\n",
      "[CV] clf__max_depth=1, vect__ngram_range=(1, 1) ......................\n",
      "[CV] clf__max_depth=1, vect__ngram_range=(1, 1) ......................\n",
      "[CV] clf__max_depth=1, vect__ngram_range=(1, 1) ......................\n",
      "[CV] clf__max_depth=1, vect__ngram_range=(1, 1) ......................\n",
      "[CV] clf__max_depth=1, vect__ngram_range=(1, 2) ......................\n",
      "[CV] clf__max_depth=1, vect__ngram_range=(1, 2) ......................\n",
      "[CV] clf__max_depth=1, vect__ngram_range=(1, 2) ......................\n",
      "[CV] clf__max_depth=1, vect__ngram_range=(1, 2) ......................\n",
      "[CV] clf__max_depth=1, vect__ngram_range=(1, 2) ......................\n",
      "[CV] clf__max_depth=2, vect__ngram_range=(1, 1) ......................\n",
      "[CV] clf__max_depth=2, vect__ngram_range=(1, 1) ......................\n",
      "[CV] clf__max_depth=2, vect__ngram_range=(1, 1) ......................\n",
      "[CV] clf__max_depth=2, vect__ngram_range=(1, 1) ......................\n",
      "[CV] clf__max_depth=2, vect__ngram_range=(1, 1) ......................\n",
      "[CV] clf__max_depth=2, vect__ngram_range=(1, 2) ......................\n",
      "[CV]  clf__max_depth=1, vect__ngram_range=(1, 1), score=0.05723463279310848, total=   2.7s\n",
      "[CV]  clf__max_depth=1, vect__ngram_range=(1, 1), score=0.05250181290790428, total=   2.9s\n",
      "[CV] clf__max_depth=2, vect__ngram_range=(1, 2) ......................\n",
      "[CV] clf__max_depth=2, vect__ngram_range=(1, 2) ......................\n",
      "[CV]  clf__max_depth=1, vect__ngram_range=(1, 1), score=0.0569469290399523, total=   2.7s\n",
      "[CV]  clf__max_depth=1, vect__ngram_range=(1, 1), score=0.059376837154614934, total=   2.9s\n",
      "[CV] clf__max_depth=2, vect__ngram_range=(1, 2) ......................\n",
      "[CV] clf__max_depth=2, vect__ngram_range=(1, 2) ......................\n",
      "[CV]  clf__max_depth=1, vect__ngram_range=(1, 1), score=0.05348940583790191, total=   2.9s\n"
     ]
    },
    {
     "name": "stderr",
     "output_type": "stream",
     "text": [
      "[Parallel(n_jobs=-1)]: Done   4 out of  20 | elapsed:    6.2s remaining:   24.8s\n"
     ]
    },
    {
     "name": "stdout",
     "output_type": "stream",
     "text": [
      "[CV]  clf__max_depth=2, vect__ngram_range=(1, 1), score=0.06178390137781001, total=   3.2s\n",
      "[CV]  clf__max_depth=2, vect__ngram_range=(1, 1), score=0.07128159905937684, total=   3.2s\n",
      "[CV]  clf__max_depth=2, vect__ngram_range=(1, 1), score=0.0700832238282961, total=   3.2s\n",
      "[CV]  clf__max_depth=2, vect__ngram_range=(1, 1), score=0.06559332140727489, total=   3.2s\n"
     ]
    },
    {
     "name": "stderr",
     "output_type": "stream",
     "text": [
      "[Parallel(n_jobs=-1)]: Done   7 out of  20 | elapsed:    6.9s remaining:   12.8s\n"
     ]
    },
    {
     "name": "stdout",
     "output_type": "stream",
     "text": [
      "[CV]  clf__max_depth=2, vect__ngram_range=(1, 1), score=0.06267595199288784, total=   3.2s\n"
     ]
    },
    {
     "name": "stderr",
     "output_type": "stream",
     "text": [
      "[Parallel(n_jobs=-1)]: Done  10 out of  20 | elapsed:    7.2s remaining:    7.2s\n"
     ]
    },
    {
     "name": "stdout",
     "output_type": "stream",
     "text": [
      "[CV]  clf__max_depth=1, vect__ngram_range=(1, 2), score=0.051832384289677326, total=   8.9s\n",
      "[CV]  clf__max_depth=1, vect__ngram_range=(1, 2), score=0.05085243974132863, total=   8.9s\n",
      "[CV]  clf__max_depth=1, vect__ngram_range=(1, 2), score=0.04904591532498509, total=   8.8s\n"
     ]
    },
    {
     "name": "stderr",
     "output_type": "stream",
     "text": [
      "[Parallel(n_jobs=-1)]: Done  13 out of  20 | elapsed:   13.2s remaining:    7.1s\n"
     ]
    },
    {
     "name": "stdout",
     "output_type": "stream",
     "text": [
      "[CV]  clf__max_depth=1, vect__ngram_range=(1, 2), score=0.048440899202320524, total=  10.1s\n",
      "[CV]  clf__max_depth=1, vect__ngram_range=(1, 2), score=0.05482293673136761, total=  10.0s\n",
      "[CV]  clf__max_depth=2, vect__ngram_range=(1, 2), score=0.05221174764321972, total=  10.4s\n"
     ]
    },
    {
     "name": "stderr",
     "output_type": "stream",
     "text": [
      "[Parallel(n_jobs=-1)]: Done  16 out of  20 | elapsed:   15.7s remaining:    3.9s\n"
     ]
    },
    {
     "name": "stdout",
     "output_type": "stream",
     "text": [
      "[CV]  clf__max_depth=2, vect__ngram_range=(1, 2), score=0.04997060552616108, total=   6.5s\n",
      "[CV]  clf__max_depth=2, vect__ngram_range=(1, 2), score=0.057193658319751074, total=   6.7s\n",
      "[CV]  clf__max_depth=2, vect__ngram_range=(1, 2), score=0.05232558139534884, total=   6.7s\n",
      "[CV]  clf__max_depth=2, vect__ngram_range=(1, 2), score=0.056212585778945834, total=   8.5s\n"
     ]
    },
    {
     "name": "stderr",
     "output_type": "stream",
     "text": [
      "[Parallel(n_jobs=-1)]: Done  20 out of  20 | elapsed:   17.8s finished\n"
     ]
    },
    {
     "name": "stdout",
     "output_type": "stream",
     "text": [
      "\n",
      "Classifier: Random Forest\n",
      "Vectorizer: TfidfVectorizer\n",
      "Score: 0.0663\n",
      "Params: {'clf__max_depth': 2, 'vect__ngram_range': (1, 1)}\n",
      "------------------------------\n",
      "            \n",
      "Fitting 5 folds for each of 4 candidates, totalling 20 fits\n"
     ]
    },
    {
     "name": "stderr",
     "output_type": "stream",
     "text": [
      "/home/ec2-user/anaconda3/envs/python3/lib/python3.6/site-packages/sklearn/model_selection/_split.py:605: Warning: The least populated class in y has only 1 members, which is too few. The minimum number of members in any class cannot be less than n_splits=5.\n",
      "  % (min_groups, self.n_splits)), Warning)\n"
     ]
    },
    {
     "name": "stdout",
     "output_type": "stream",
     "text": [
      "[CV] clf__max_depth=1, vect__ngram_range=(1, 1) ......................\n",
      "[CV] clf__max_depth=1, vect__ngram_range=(1, 1) ......................\n",
      "[CV] clf__max_depth=1, vect__ngram_range=(1, 1) ......................\n",
      "[CV] clf__max_depth=1, vect__ngram_range=(1, 1) ......................\n",
      "[CV] clf__max_depth=1, vect__ngram_range=(1, 1) ......................\n",
      "[CV] clf__max_depth=1, vect__ngram_range=(1, 2) ......................\n",
      "[CV] clf__max_depth=1, vect__ngram_range=(1, 2) ......................\n",
      "[CV] clf__max_depth=1, vect__ngram_range=(1, 2) ......................\n",
      "[CV] clf__max_depth=1, vect__ngram_range=(1, 2) ......................\n",
      "[CV] clf__max_depth=1, vect__ngram_range=(1, 2) ......................\n",
      "[CV] clf__max_depth=2, vect__ngram_range=(1, 1) ......................\n",
      "[CV] clf__max_depth=2, vect__ngram_range=(1, 1) ......................\n",
      "[CV] clf__max_depth=2, vect__ngram_range=(1, 1) ......................\n",
      "[CV] clf__max_depth=2, vect__ngram_range=(1, 1) ......................\n",
      "[CV] clf__max_depth=2, vect__ngram_range=(1, 1) ......................\n",
      "[CV] clf__max_depth=2, vect__ngram_range=(1, 2) ......................\n",
      "[CV]  clf__max_depth=1, vect__ngram_range=(1, 1), score=0.05230404504371018, total=   2.6s\n",
      "[CV]  clf__max_depth=1, vect__ngram_range=(1, 1), score=0.05453226976069615, total=   2.7s\n",
      "[CV] clf__max_depth=2, vect__ngram_range=(1, 2) ......................\n",
      "[CV] clf__max_depth=2, vect__ngram_range=(1, 2) ......................\n",
      "[CV]  clf__max_depth=1, vect__ngram_range=(1, 1), score=0.056290417401528514, total=   2.8s\n",
      "[CV]  clf__max_depth=1, vect__ngram_range=(1, 1), score=0.05051832384289677, total=   2.8s\n",
      "[CV] clf__max_depth=2, vect__ngram_range=(1, 2) ......................\n",
      "[CV] clf__max_depth=2, vect__ngram_range=(1, 2) ......................\n",
      "[CV]  clf__max_depth=1, vect__ngram_range=(1, 1), score=0.04800238521168754, total=   2.8s\n"
     ]
    },
    {
     "name": "stderr",
     "output_type": "stream",
     "text": [
      "[Parallel(n_jobs=-1)]: Done   4 out of  20 | elapsed:    6.0s remaining:   24.2s\n"
     ]
    },
    {
     "name": "stdout",
     "output_type": "stream",
     "text": [
      "[CV]  clf__max_depth=2, vect__ngram_range=(1, 1), score=0.058402686523580084, total=   3.1s\n",
      "[CV]  clf__max_depth=2, vect__ngram_range=(1, 1), score=0.06250906453952139, total=   3.1s\n",
      "[CV]  clf__max_depth=2, vect__ngram_range=(1, 1), score=0.06819517930629042, total=   3.1s\n",
      "[CV]  clf__max_depth=2, vect__ngram_range=(1, 1), score=0.0646021632834494, total=   3.1s\n"
     ]
    },
    {
     "name": "stderr",
     "output_type": "stream",
     "text": [
      "[Parallel(n_jobs=-1)]: Done   7 out of  20 | elapsed:    6.7s remaining:   12.5s\n"
     ]
    },
    {
     "name": "stdout",
     "output_type": "stream",
     "text": [
      "[CV]  clf__max_depth=2, vect__ngram_range=(1, 1), score=0.058884913536076326, total=   3.1s\n"
     ]
    },
    {
     "name": "stderr",
     "output_type": "stream",
     "text": [
      "[Parallel(n_jobs=-1)]: Done  10 out of  20 | elapsed:    7.1s remaining:    7.1s\n"
     ]
    },
    {
     "name": "stdout",
     "output_type": "stream",
     "text": [
      "[CV]  clf__max_depth=1, vect__ngram_range=(1, 2), score=0.05110235070813257, total=   8.1s\n",
      "[CV]  clf__max_depth=1, vect__ngram_range=(1, 2), score=0.04614932392710171, total=   8.1s\n",
      "[CV]  clf__max_depth=1, vect__ngram_range=(1, 2), score=0.048598688133571856, total=   8.2s\n",
      "[CV]  clf__max_depth=1, vect__ngram_range=(1, 2), score=0.04902102973168963, total=   8.6s\n"
     ]
    },
    {
     "name": "stderr",
     "output_type": "stream",
     "text": [
      "[Parallel(n_jobs=-1)]: Done  13 out of  20 | elapsed:   12.1s remaining:    6.5s\n"
     ]
    },
    {
     "name": "stdout",
     "output_type": "stream",
     "text": [
      "[CV]  clf__max_depth=1, vect__ngram_range=(1, 2), score=0.05008149355460068, total=   9.3s\n",
      "[CV]  clf__max_depth=2, vect__ngram_range=(1, 2), score=0.05395213923132705, total=   9.7s\n"
     ]
    },
    {
     "name": "stderr",
     "output_type": "stream",
     "text": [
      "[Parallel(n_jobs=-1)]: Done  16 out of  20 | elapsed:   14.4s remaining:    3.6s\n"
     ]
    },
    {
     "name": "stdout",
     "output_type": "stream",
     "text": [
      "[CV]  clf__max_depth=2, vect__ngram_range=(1, 2), score=0.05055849500293945, total=   6.3s\n",
      "[CV]  clf__max_depth=2, vect__ngram_range=(1, 2), score=0.05689731812120314, total=   6.4s\n",
      "[CV]  clf__max_depth=2, vect__ngram_range=(1, 2), score=0.05358446488538473, total=   7.9s\n",
      "[CV]  clf__max_depth=2, vect__ngram_range=(1, 2), score=0.057692307692307696, total=   7.9s\n"
     ]
    },
    {
     "name": "stderr",
     "output_type": "stream",
     "text": [
      "[Parallel(n_jobs=-1)]: Done  20 out of  20 | elapsed:   17.1s finished\n"
     ]
    },
    {
     "name": "stdout",
     "output_type": "stream",
     "text": [
      "\n",
      "Classifier: Random Forest\n",
      "Vectorizer: CountVectorizer\n",
      "Score: 0.0625\n",
      "Params: {'clf__max_depth': 2, 'vect__ngram_range': (1, 1)}\n",
      "------------------------------\n",
      "            \n",
      "CPU times: user 2h 59min 19s, sys: 9min 56s, total: 3h 9min 15s\n",
      "Wall time: 4h 51min 15s\n"
     ]
    }
   ],
   "source": [
    "%%time\n",
    "models = []\n",
    "for classifier, clf_name, params in zip(classifiers, \n",
    "                                        clf_names, \n",
    "                                        clf_params):\n",
    "    for vectorizer, vect_name in zip(vectorizers, \n",
    "                                     vect_names):\n",
    "        pipe = Pipeline([\n",
    "            ('vect', vectorizer),\n",
    "            ('clf', classifier),\n",
    "        ])\n",
    "        gs = GridSearchCV(pipe, \n",
    "                          param_grid=params, \n",
    "                          n_jobs=-1,\n",
    "                          scoring='accuracy',\n",
    "                          cv=5,\n",
    "                          verbose=10)\n",
    "        \n",
    "        gs.fit(df.long_post, df.group)\n",
    "        score = gs.best_score_\n",
    "        print(f'''\n",
    "Classifier: {clf_name}\n",
    "Vectorizer: {vect_name}\n",
    "Score: {gs.best_score_:.4f}\n",
    "Params: {gs.best_params_}\n",
    "------------------------------\n",
    "            ''')\n",
    "        models.append((clf_name, vect_name, gs.best_score_, gs.best_params_))"
   ]
  },
  {
   "cell_type": "code",
   "execution_count": 21,
   "metadata": {},
   "outputs": [
    {
     "name": "stdout",
     "output_type": "stream",
     "text": [
      "And the winner is...\n",
      "\n",
      "Classifier: Linear SVC\n",
      "Vectorizer: TfidfVectorizer\n",
      "Score: 0.6297897368034112\n",
      "Params: {'clf__C': 0.31622776601683794, 'vect__ngram_range': (1, 2)}\n"
     ]
    }
   ],
   "source": [
    "models = sorted(models, key=lambda tup: tup[2])\n",
    "print('And the winner is...')\n",
    "print()\n",
    "print('Classifier:', models[-1][0])\n",
    "print('Vectorizer:', models[-1][1])\n",
    "print('Score:', models[-1][2])\n",
    "print('Params:', models[-1][3])"
   ]
  },
  {
   "cell_type": "code",
   "execution_count": null,
   "metadata": {},
   "outputs": [],
   "source": []
  }
 ],
 "metadata": {
  "kernelspec": {
   "display_name": "conda_python3",
   "language": "python",
   "name": "conda_python3"
  },
  "language_info": {
   "codemirror_mode": {
    "name": "ipython",
    "version": 3
   },
   "file_extension": ".py",
   "mimetype": "text/x-python",
   "name": "python",
   "nbconvert_exporter": "python",
   "pygments_lexer": "ipython3",
   "version": "3.6.5"
  }
 },
 "nbformat": 4,
 "nbformat_minor": 2
}
